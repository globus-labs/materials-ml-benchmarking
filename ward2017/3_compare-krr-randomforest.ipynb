{
 "cells": [
  {
   "cell_type": "markdown",
   "metadata": {},
   "source": [
    "# Comparing performance of two ML algorithms\n",
    "\n",
    "In this notebook, performances of two different machine learning algorithms, Kernel Ridge Regression (KRR) and Random Forest Regression (RF), in predicting formation enthalpy of compounds using different crystal structure representations are compared. We also study how size of training set affect performance."
   ]
  },
  {
   "cell_type": "code",
   "execution_count": 1,
   "metadata": {},
   "outputs": [
    {
     "name": "stderr",
     "output_type": "stream",
     "text": [
      "/home/amoffet2/anaconda3/lib/python3.6/importlib/_bootstrap.py:219: RuntimeWarning: numpy.dtype size changed, may indicate binary incompatibility. Expected 96, got 88\n",
      "  return f(*args, **kwds)\n",
      "/home/amoffet2/anaconda3/lib/python3.6/importlib/_bootstrap.py:219: RuntimeWarning: numpy.dtype size changed, may indicate binary incompatibility. Expected 96, got 88\n",
      "  return f(*args, **kwds)\n",
      "/home/amoffet2/anaconda3/lib/python3.6/importlib/_bootstrap.py:219: RuntimeWarning: numpy.dtype size changed, may indicate binary incompatibility. Expected 96, got 88\n",
      "  return f(*args, **kwds)\n",
      "/home/amoffet2/anaconda3/lib/python3.6/site-packages/sklearn/ensemble/weight_boosting.py:29: DeprecationWarning: numpy.core.umath_tests is an internal NumPy module and should not be imported. It will be removed in a future NumPy release.\n",
      "  from numpy.core.umath_tests import inner1d\n"
     ]
    }
   ],
   "source": [
    "import numpy as np\n",
    "import pandas as pd\n",
    "import os\n",
    "import pickle\n",
    "import time\n",
    "import matplotlib.pyplot as plt\n",
    "\n",
    "from tqdm import tqdm_notebook as tqdm\n",
    "\n",
    "from sklearn.utils import shuffle\n",
    "from sklearn.kernel_ridge import KernelRidge\n",
    "from sklearn.ensemble import RandomForestRegressor\n",
    "from sklearn.metrics import mean_absolute_error"
   ]
  },
  {
   "cell_type": "markdown",
   "metadata": {},
   "source": [
    "Load data"
   ]
  },
  {
   "cell_type": "code",
   "execution_count": 2,
   "metadata": {},
   "outputs": [
    {
     "name": "stdout",
     "output_type": "stream",
     "text": [
      "CPU times: user 1.5 s, sys: 5.31 s, total: 6.81 s\n",
      "Wall time: 17.7 s\n"
     ]
    }
   ],
   "source": [
    "%%time\n",
    "X_ward = pickle.load(open('./X_ward.pkl', 'rb'))\n",
    "X_cm = pickle.load(open('./X_cm.pkl', 'rb'))\n",
    "X_prdf = pickle.load(open('./X_prdf.pkl', 'rb'))\n",
    "\n",
    "y = pickle.load(open('./y.pkl', 'rb'))"
   ]
  },
  {
   "cell_type": "code",
   "execution_count": 3,
   "metadata": {},
   "outputs": [
    {
     "name": "stdout",
     "output_type": "stream",
     "text": [
      "Shape of X_ward: (31163, 273)\n",
      "Shape of X_cm: (31163, 272)\n",
      "Shape of X_prdf: (31163, 24030)\n",
      "Shape of y: (31163,)\n"
     ]
    }
   ],
   "source": [
    "print (\"Shape of X_ward:\", X_ward.shape)\n",
    "print (\"Shape of X_cm:\", X_cm.shape)\n",
    "print (\"Shape of X_prdf:\", X_prdf.shape)\n",
    "print (\"Shape of y:\", y.shape)"
   ]
  },
  {
   "cell_type": "markdown",
   "metadata": {},
   "source": [
    "Specify training set size"
   ]
  },
  {
   "cell_type": "code",
   "execution_count": 4,
   "metadata": {},
   "outputs": [],
   "source": [
    "size = [10, 100, 1000, 10000, 20000, 30000]"
   ]
  },
  {
   "cell_type": "code",
   "execution_count": 5,
   "metadata": {},
   "outputs": [],
   "source": [
    "X = {\"ward\": X_ward, \"cm\": X_cm, \"prdf\": X_prdf}"
   ]
  },
  {
   "cell_type": "markdown",
   "metadata": {},
   "source": [
    "### Build ML models "
   ]
  },
  {
   "cell_type": "code",
   "execution_count": 6,
   "metadata": {},
   "outputs": [],
   "source": [
    "ft = ['ward', 'cm', 'prdf']"
   ]
  },
  {
   "cell_type": "markdown",
   "metadata": {},
   "source": [
    "Initialize dictionaries to store MAE and time used"
   ]
  },
  {
   "cell_type": "code",
   "execution_count": 7,
   "metadata": {},
   "outputs": [],
   "source": [
    "mae_krr, mae_rfr, time_krr, time_rfr = dict.fromkeys(ft), dict.fromkeys(ft), dict.fromkeys(ft), dict.fromkeys(ft)\n",
    "for i in ft:\n",
    "    mae_krr[i], mae_rfr[i], time_krr[i], time_rfr[i] = [], [], [], []"
   ]
  },
  {
   "cell_type": "markdown",
   "metadata": {},
   "source": [
    "Train model with increasing training set size"
   ]
  },
  {
   "cell_type": "code",
   "execution_count": 8,
   "metadata": {},
   "outputs": [
    {
     "name": "stderr",
     "output_type": "stream",
     "text": [
      "/home/amoffet2/anaconda3/lib/python3.6/site-packages/sklearn/utils/validation.py:433: ComplexWarning: Casting complex values to real discards the imaginary part\n",
      "  array = np.array(array, dtype=dtype, order=order, copy=copy)\n",
      "/home/amoffet2/anaconda3/lib/python3.6/site-packages/sklearn/utils/validation.py:433: ComplexWarning: Casting complex values to real discards the imaginary part\n",
      "  array = np.array(array, dtype=dtype, order=order, copy=copy)\n",
      "/home/amoffet2/anaconda3/lib/python3.6/site-packages/sklearn/utils/validation.py:433: ComplexWarning: Casting complex values to real discards the imaginary part\n",
      "  array = np.array(array, dtype=dtype, order=order, copy=copy)\n",
      "/home/amoffet2/anaconda3/lib/python3.6/site-packages/sklearn/utils/validation.py:433: ComplexWarning: Casting complex values to real discards the imaginary part\n",
      "  array = np.array(array, dtype=dtype, order=order, copy=copy)\n",
      "/home/amoffet2/anaconda3/lib/python3.6/site-packages/sklearn/utils/validation.py:433: ComplexWarning: Casting complex values to real discards the imaginary part\n",
      "  array = np.array(array, dtype=dtype, order=order, copy=copy)\n",
      "/home/amoffet2/anaconda3/lib/python3.6/site-packages/sklearn/utils/validation.py:433: ComplexWarning: Casting complex values to real discards the imaginary part\n",
      "  array = np.array(array, dtype=dtype, order=order, copy=copy)\n",
      "/home/amoffet2/anaconda3/lib/python3.6/site-packages/sklearn/utils/validation.py:433: ComplexWarning: Casting complex values to real discards the imaginary part\n",
      "  array = np.array(array, dtype=dtype, order=order, copy=copy)\n"
     ]
    }
   ],
   "source": [
    "for ft in X:\n",
    "    for s in size:\n",
    "        # Shuffle data\n",
    "        X['ward'], X['cm'], X['prdf'], y = shuffle(X['ward'], X['cm'], X['prdf'], y)\n",
    "        \n",
    "        # Split data into training and testing set\n",
    "        x_train, x_test = X[ft][:s], X[ft][-1000:]\n",
    "        y_train, y_test = y[:s], y[-1000:]\n",
    "        \n",
    "# RANDOMFOREST: compute time used to train rfr\n",
    "        start = time.perf_counter()\n",
    "        \n",
    "        # train rfr model\n",
    "        rfr = RandomForestRegressor(n_estimators=100, n_jobs=-1)\n",
    "        rfr.fit(x_train, y_train)\n",
    "        \n",
    "        # run rfr model\n",
    "        y_pred = rfr.predict(x_test)\n",
    "        \n",
    "        finish = time.perf_counter()\n",
    "        \n",
    "        # compute mae and time for rfr model\n",
    "        mae_rfr[ft].append(mean_absolute_error(y_pred, y_test))\n",
    "        time_rfr[ft].append(finish-start)\n",
    "        \n",
    "# KERNELRIDGE: compute time used to train krr\n",
    "        start = time.perf_counter()\n",
    "        \n",
    "        # train krr model\n",
    "        krr = KernelRidge(kernel='laplacian', alpha=0.01, gamma=1.25e-05)\n",
    "        krr.fit(x_train, y_train)\n",
    "        \n",
    "        # run rfr model\n",
    "        y_pred = krr.predict(x_test)\n",
    "        \n",
    "        finish = time.perf_counter()\n",
    "        \n",
    "        # compute mae and time for krr model\n",
    "        mae_krr[ft].append(mean_absolute_error(y_pred, y_test))\n",
    "        time_krr[ft].append(finish-start)\n",
    "        "
   ]
  },
  {
   "cell_type": "markdown",
   "metadata": {},
   "source": [
    "Plot MAE of two ML algorithms using different crystal representations."
   ]
  },
  {
   "cell_type": "code",
   "execution_count": 9,
   "metadata": {},
   "outputs": [
    {
     "data": {
      "image/png": "[encoded data removed]",
      "text/plain": [
       "<matplotlib.figure.Figure at 0x2ae4e8af6080>"
      ]
     },
     "metadata": {},
     "output_type": "display_data"
    }
   ],
   "source": [
    "fig, (ax1, ax2) = plt.subplots(1, 2, sharey=True)\n",
    "\n",
    "ax1.set_title(\"KRR\")\n",
    "ax2.set_title(\"RandomForest\")\n",
    "\n",
    "ax1.set_xlabel(\"Training set size\")\n",
    "ax1.set_ylabel(\"MAE (meV/atom)\")\n",
    "\n",
    "ax2.set_xlabel(\"Training set size\")\n",
    "\n",
    "ax1.set_xscale(\"log\")\n",
    "ax1.set_yscale(\"log\")\n",
    "ax2.set_xscale(\"log\")\n",
    "ax2.set_yscale(\"log\")\n",
    "\n",
    "ax1.plot(size, [i*1e3 for i in mae_krr['ward']] , color='r', marker='o', label=\"Voronoi\")\n",
    "ax1.plot(size, [i*1e3 for i in mae_krr['cm']], color='g', marker='o', label=\"Coulomb Matrix\")\n",
    "ax1.plot(size, [i*1e3 for i in mae_krr['prdf']], color='b', marker='o', label=\"PRDF\")\n",
    "\n",
    "ax2.plot(size, [i*1e3 for i in mae_rfr['ward']], color='r', marker='o')\n",
    "ax2.plot(size, [i*1e3 for i in mae_rfr['cm']], color='g', marker='o')\n",
    "ax2.plot(size, [i*1e3 for i in mae_rfr['prdf']], color='b', marker='o')\n",
    "\n",
    "fig.legend(bbox_to_anchor=(1.25, 0.9))\n",
    "fig.tight_layout()"
   ]
  },
  {
   "cell_type": "markdown",
   "metadata": {},
   "source": [
    "Finding: RandomForest generally has a lower prediction MAE than KRR. Voronoi tessellation representation generally yields a lower error than the other two representations (large MAE in KRR Voronoi representation may be due to outlier)."
   ]
  },
  {
   "cell_type": "markdown",
   "metadata": {},
   "source": [
    "Plot time used of two ML algorithms using different crystal representations"
   ]
  },
  {
   "cell_type": "code",
   "execution_count": 10,
   "metadata": {},
   "outputs": [
    {
     "data": {
      "image/png": "[encoded data removed]",
      "text/plain": [
       "<matplotlib.figure.Figure at 0x2ae862b1ff98>"
      ]
     },
     "metadata": {},
     "output_type": "display_data"
    }
   ],
   "source": [
    "fig, (ax1, ax2) = plt.subplots(1, 2, sharey=True)\n",
    "\n",
    "ax1.set_title(\"KRR\")\n",
    "ax2.set_title(\"RandomForest\")\n",
    "\n",
    "ax1.set_xlabel(\"Training set size\")\n",
    "ax1.set_ylabel(\"Time (s)\")\n",
    "\n",
    "ax2.set_xlabel(\"Training set size\")\n",
    "\n",
    "ax1.set_xscale(\"log\")\n",
    "ax1.set_yscale(\"log\")\n",
    "ax2.set_xscale(\"log\")\n",
    "ax2.set_yscale(\"log\")\n",
    "\n",
    "ax1.plot(size, time_krr['ward'], color='r', marker='o', label=\"Voronoi\")\n",
    "ax1.plot(size, time_krr['cm'], color='g', marker='o', label=\"Coulomb Matrix\")\n",
    "ax1.plot(size, time_krr['prdf'], color='b', marker='o', label=\"PRDF\")\n",
    "\n",
    "ax2.plot(size, time_rfr['ward'], color='r', marker='o')\n",
    "ax2.plot(size, time_rfr['cm'], color='g', marker='o')\n",
    "ax2.plot(size, time_rfr['prdf'], color='b', marker='o')\n",
    "\n",
    "fig.legend(bbox_to_anchor=(1.25, 0.9))\n",
    "fig.tight_layout()"
   ]
  },
  {
   "cell_type": "markdown",
   "metadata": {},
   "source": [
    "Finding: RandomForest takes a longer time for small dataset, but as size of training dataset increases, trainign time is shorter than KernelRidge."
   ]
  },
  {
   "cell_type": "code",
   "execution_count": 11,
   "metadata": {},
   "outputs": [],
   "source": []
  }
 ],
 "metadata": {
  "kernelspec": {
   "display_name": "Python 3",
   "language": "python",
   "name": "python3"
  },
  "language_info": {
   "codemirror_mode": {
    "name": "ipython",
    "version": 3
   },
   "file_extension": ".py",
   "mimetype": "text/x-python",
   "name": "python",
   "nbconvert_exporter": "python",
   "pygments_lexer": "ipython3",
   "version": "3.6.4"
  }
 },
 "nbformat": 4,
 "nbformat_minor": 2
}
