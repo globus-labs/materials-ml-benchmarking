{
 "cells": [
  {
   "cell_type": "markdown",
   "metadata": {},
   "source": [
    "## Import Packages"
   ]
  },
  {
   "cell_type": "code",
   "execution_count": 1,
   "metadata": {},
   "outputs": [],
   "source": [
    "import numpy as np\n",
    "import pandas as pd\n",
    "import pymatgen as pmg\n",
    "import time"
   ]
  },
  {
   "cell_type": "markdown",
   "metadata": {},
   "source": [
    "## Load training datasets from elastic_tensor.csv "
   ]
  },
  {
   "cell_type": "code",
   "execution_count": 2,
   "metadata": {},
   "outputs": [
    {
     "data": {
      "text/html": [
       "<div>\n",
       "<style scoped>\n",
       "    .dataframe tbody tr th:only-of-type {\n",
       "        vertical-align: middle;\n",
       "    }\n",
       "\n",
       "    .dataframe tbody tr th {\n",
       "        vertical-align: top;\n",
       "    }\n",
       "\n",
       "    .dataframe thead th {\n",
       "        text-align: right;\n",
       "    }\n",
       "</style>\n",
       "<table border=\"1\" class=\"dataframe\">\n",
       "  <thead>\n",
       "    <tr style=\"text-align: right;\">\n",
       "      <th></th>\n",
       "      <th>material_id</th>\n",
       "      <th>volume</th>\n",
       "      <th>structure</th>\n",
       "      <th>elastic_anisotropy</th>\n",
       "      <th>G_VRH</th>\n",
       "      <th>K_VRH</th>\n",
       "      <th>poisson_ratio</th>\n",
       "      <th>composition</th>\n",
       "    </tr>\n",
       "  </thead>\n",
       "  <tbody>\n",
       "    <tr>\n",
       "      <th>0</th>\n",
       "      <td>mp-10003</td>\n",
       "      <td>194.419802</td>\n",
       "      <td>[[0.94814328 2.07280467 2.5112    ] Nb, [5.273...</td>\n",
       "      <td>0.030688</td>\n",
       "      <td>97.141604</td>\n",
       "      <td>194.268884</td>\n",
       "      <td>0.285701</td>\n",
       "      <td>(Nb, Co, Si)</td>\n",
       "    </tr>\n",
       "  </tbody>\n",
       "</table>\n",
       "</div>"
      ],
      "text/plain": [
       "  material_id      volume                                          structure  \\\n",
       "0    mp-10003  194.419802  [[0.94814328 2.07280467 2.5112    ] Nb, [5.273...   \n",
       "\n",
       "   elastic_anisotropy      G_VRH       K_VRH  poisson_ratio   composition  \n",
       "0            0.030688  97.141604  194.268884       0.285701  (Nb, Co, Si)  "
      ]
     },
     "execution_count": 2,
     "metadata": {},
     "output_type": "execute_result"
    }
   ],
   "source": [
    "from matminer.datasets.dataframe_loader import load_elastic_tensor\n",
    "from matminer.utils.conversions import str_to_composition\n",
    "\n",
    "data = load_elastic_tensor() \n",
    "\n",
    "# Compute composition\n",
    "data['composition'] = str_to_composition(data['formula'])\n",
    "\n",
    "del_columns = ['formula', 'nsites', 'space_group', \n",
    "               'G_Reuss', 'G_Voigt', 'K_Reuss', 'K_Voigt',\n",
    "               'compliance_tensor', 'elastic_tensor', 'elastic_tensor_original'\n",
    "                ]\n",
    "\n",
    "data = data.drop(del_columns, 1)\n",
    "\n",
    "data.head(1)"
   ]
  },
  {
   "cell_type": "markdown",
   "metadata": {},
   "source": [
    "## Build ML models"
   ]
  },
  {
   "cell_type": "markdown",
   "metadata": {},
   "source": [
    "### Part 1: Compute Representation (Featurization) "
   ]
  },
  {
   "cell_type": "code",
   "execution_count": 3,
   "metadata": {},
   "outputs": [],
   "source": [
    "from matminer.featurizers import composition as cf\n",
    "from matminer.featurizers import structure as struc\n",
    "from matminer.featurizers.base import MultipleFeaturizer\n",
    "from pymatgen import MPRester\n",
    "\n",
    "key = 'ubX07DfzKy3mZAlw'"
   ]
  },
  {
   "cell_type": "markdown",
   "metadata": {},
   "source": [
    "#### Holder Means of first 8 properties in Table 1 of De Jong et al. paper \n",
    "'group_number', 'atomic_mass', 'atomic_radius', 'row_number', 'boiling_temp', 'melting_temp', 'electronegativity', 'atomic_number'"
   ]
  },
  {
   "cell_type": "markdown",
   "metadata": {},
   "source": [
    "$$\\mu_p(x) = [\\frac{(\\Sigma^n_{i=1}w_ix_i^p)}{(\\Sigma^n_{i=1}w_i)}]^\\frac{1}{p}$$"
   ]
  },
  {
   "cell_type": "code",
   "execution_count": 4,
   "metadata": {},
   "outputs": [],
   "source": [
    "def holder_means(comp, prop, p):\n",
    "    '''Input:\n",
    "            - comp = (Series) containing Pymatgen.Composition datatype\n",
    "            - prop = (string) consists of one of the following input:\n",
    "                     {'group number', 'atomic_mass', 'atomic_radius', 'row_number', 'boiling_temp', 'melting_temp', 'electronegativity', 'atomic_number'}\n",
    "            - p = (int) power of Holder means between -4 and 4\n",
    "        Output:\n",
    "            - pandas.Series \n",
    "    '''\n",
    "    n = comp.shape[0]\n",
    "    output = np.zeros((n,))\n",
    "    for i in range(n):\n",
    "        total_weight = comp[i].weight\n",
    "        if (p == 0):\n",
    "            for j in comp[i].get_el_amt_dict():\n",
    "                el = pmg.Element(j)\n",
    "                wt = el.atomic_mass\n",
    "                d = {'group_number': el.group, 'atomic_mass': el.atomic_mass, \n",
    "                     'atomic_radius': el.atomic_radius, 'row_number': el.row, \n",
    "                     'boiling_temp': el.boiling_point, 'melting_temp': el.melting_point, \n",
    "                     'electronegativity': el.X, 'atomic_number': el.Z}\n",
    "                \n",
    "                output[i] += wt*np.log(d[prop])\n",
    "            output[i] = output[i]/total_weight\n",
    "        else:\n",
    "            for j in comp[i].get_el_amt_dict():\n",
    "                el = pmg.Element(j)\n",
    "                wt = el.atomic_mass\n",
    "                d = {'group_number': el.group, 'atomic_mass': el.atomic_mass, \n",
    "                     'atomic_radius': el.atomic_radius, 'row_number': el.row, \n",
    "                     'boiling_temp': el.boiling_point, 'melting_temp': el.melting_point, \n",
    "                     'electronegativity': el.X, 'atomic_number': el.Z}\n",
    "                output[i] += wt*d[prop]**p\n",
    "            output[i] = (output[i]/total_weight)**(1.0/p)\n",
    "    output = pd.Series(output)\n",
    "    output.name = prop + '_%s' %p\n",
    "    return output"
   ]
  },
  {
   "cell_type": "code",
   "execution_count": 5,
   "metadata": {},
   "outputs": [
    {
     "data": {
      "text/html": [
       "<div>\n",
       "<style scoped>\n",
       "    .dataframe tbody tr th:only-of-type {\n",
       "        vertical-align: middle;\n",
       "    }\n",
       "\n",
       "    .dataframe tbody tr th {\n",
       "        vertical-align: top;\n",
       "    }\n",
       "\n",
       "    .dataframe thead th {\n",
       "        text-align: right;\n",
       "    }\n",
       "</style>\n",
       "<table border=\"1\" class=\"dataframe\">\n",
       "  <thead>\n",
       "    <tr style=\"text-align: right;\">\n",
       "      <th></th>\n",
       "      <th>material_id</th>\n",
       "      <th>volume</th>\n",
       "      <th>structure</th>\n",
       "      <th>elastic_anisotropy</th>\n",
       "      <th>G_VRH</th>\n",
       "      <th>K_VRH</th>\n",
       "      <th>poisson_ratio</th>\n",
       "      <th>composition</th>\n",
       "      <th>group_number_-4</th>\n",
       "      <th>atomic_mass_-4</th>\n",
       "      <th>...</th>\n",
       "      <th>electronegativity_3</th>\n",
       "      <th>atomic_number_3</th>\n",
       "      <th>group_number_4</th>\n",
       "      <th>atomic_mass_4</th>\n",
       "      <th>atomic_radius_4</th>\n",
       "      <th>row_number_4</th>\n",
       "      <th>boiling_temp_4</th>\n",
       "      <th>melting_temp_4</th>\n",
       "      <th>electronegativity_4</th>\n",
       "      <th>atomic_number_4</th>\n",
       "    </tr>\n",
       "  </thead>\n",
       "  <tbody>\n",
       "    <tr>\n",
       "      <th>0</th>\n",
       "      <td>mp-10003</td>\n",
       "      <td>194.419802</td>\n",
       "      <td>[[0.94814328 2.07280467 2.5112    ] Nb, [5.273...</td>\n",
       "      <td>0.030688</td>\n",
       "      <td>97.141604</td>\n",
       "      <td>194.268884</td>\n",
       "      <td>0.285701</td>\n",
       "      <td>(Nb, Co, Si)</td>\n",
       "      <td>7.335929</td>\n",
       "      <td>54.688924</td>\n",
       "      <td>...</td>\n",
       "      <td>1.281298</td>\n",
       "      <td>25.539391</td>\n",
       "      <td>7.591944</td>\n",
       "      <td>63.907321</td>\n",
       "      <td>1.090062</td>\n",
       "      <td>3.581085</td>\n",
       "      <td>3488.005226</td>\n",
       "      <td>1911.002204</td>\n",
       "      <td>1.389787</td>\n",
       "      <td>28.317874</td>\n",
       "    </tr>\n",
       "  </tbody>\n",
       "</table>\n",
       "<p>1 rows × 80 columns</p>\n",
       "</div>"
      ],
      "text/plain": [
       "  material_id      volume                                          structure  \\\n",
       "0    mp-10003  194.419802  [[0.94814328 2.07280467 2.5112    ] Nb, [5.273...   \n",
       "\n",
       "   elastic_anisotropy      G_VRH       K_VRH  poisson_ratio   composition  \\\n",
       "0            0.030688  97.141604  194.268884       0.285701  (Nb, Co, Si)   \n",
       "\n",
       "   group_number_-4  atomic_mass_-4       ...         electronegativity_3  \\\n",
       "0         7.335929       54.688924       ...                    1.281298   \n",
       "\n",
       "   atomic_number_3  group_number_4  atomic_mass_4  atomic_radius_4  \\\n",
       "0        25.539391        7.591944      63.907321         1.090062   \n",
       "\n",
       "   row_number_4  boiling_temp_4  melting_temp_4  electronegativity_4  \\\n",
       "0      3.581085     3488.005226     1911.002204             1.389787   \n",
       "\n",
       "   atomic_number_4  \n",
       "0        28.317874  \n",
       "\n",
       "[1 rows x 80 columns]"
      ]
     },
     "execution_count": 5,
     "metadata": {},
     "output_type": "execute_result"
    }
   ],
   "source": [
    "p = [-4, -3, -2, -1, 0, 1, 2, 3, 4]\n",
    "prop = ['group_number', 'atomic_mass', 'atomic_radius', 'row_number', 'boiling_temp', 'melting_temp', 'electronegativity', 'atomic_number']\n",
    "\n",
    "for i in p:\n",
    "    for j in prop:\n",
    "        series = holder_means(data['composition'], j, i)\n",
    "        data[series.name] = series\n",
    "\n",
    "data.head(1)"
   ]
  },
  {
   "cell_type": "markdown",
   "metadata": {},
   "source": [
    "#### Cohesive Energy"
   ]
  },
  {
   "cell_type": "code",
   "execution_count": 6,
   "metadata": {
    "scrolled": false
   },
   "outputs": [],
   "source": [
    "ft = cf.CohesiveEnergy(mapi_key=key)\n",
    "\n",
    "data = ft.featurize_dataframe(data, col_id='composition', ignore_errors=True)"
   ]
  },
  {
   "cell_type": "markdown",
   "metadata": {},
   "source": [
    "#### Formation energy per atom, Energy above hull, band gap, density"
   ]
  },
  {
   "cell_type": "code",
   "execution_count": 7,
   "metadata": {
    "scrolled": true
   },
   "outputs": [],
   "source": [
    "# Formation energy per atom, Energy above hull, band gap, density\n",
    "property_list = ['formation_energy_per_atom', 'e_above_hull', 'band_gap', 'density']\n",
    "\n",
    "mp = MPRester(api_key=key)\n",
    "\n",
    "n = data.shape[0]\n",
    "E_f, E_hull, E_g, rho = pd.Series(index=np.arange(n)), pd.Series(index=np.arange(n)), pd.Series(index=np.arange(n)), pd.Series(index=np.arange(n))\n",
    "\n",
    "for i in range(n):\n",
    "    ls = mp.get_data(data['material_id'][i])\n",
    "    if (ls==[]):\n",
    "        E_f[i], E_hull[i], E_g[i], rho[i] = 0.0, 0.0, 0.0, 0.0\n",
    "    else:\n",
    "        E_f[i] = ls[0]['formation_energy_per_atom']\n",
    "        E_hull[i] = ls[0]['e_above_hull']\n",
    "        E_g[i] = ls[0]['band_gap']\n",
    "        rho[i] = ls[0]['density']\n",
    "\n",
    "data['formation energy per atom'] = E_f\n",
    "data['energy above hull'] = E_hull\n",
    "data['band gap'] = E_g\n",
    "data['density'] = rho"
   ]
  },
  {
   "cell_type": "markdown",
   "metadata": {},
   "source": [
    "#### Volume (V) => log (V) per atom"
   ]
  },
  {
   "cell_type": "code",
   "execution_count": 8,
   "metadata": {},
   "outputs": [],
   "source": [
    "data['log volume per atom'] = pd.Series(index=np.arange(n))\n",
    "for i in range(len(data['volume'])):\n",
    "    data['log volume per atom'][i] = np.log(data['volume'][i]/data['composition'][i].num_atoms)"
   ]
  },
  {
   "cell_type": "markdown",
   "metadata": {},
   "source": [
    "#### Voronoi based site coordination, bond lengths and bond angles"
   ]
  },
  {
   "cell_type": "code",
   "execution_count": 9,
   "metadata": {
    "scrolled": true
   },
   "outputs": [],
   "source": [
    "ft = MultipleFeaturizer([\n",
    "    struc.SiteStatsFingerprint.from_preset(\"CoordinationNumber_ward-prb-2017\"),\n",
    "    struc.StructuralHeterogeneity()\n",
    "])\n",
    "\n",
    "data = ft.featurize_dataframe(data, col_id='structure')"
   ]
  },
  {
   "cell_type": "code",
   "execution_count": 10,
   "metadata": {},
   "outputs": [
    {
     "data": {
      "text/html": [
       "<div>\n",
       "<style scoped>\n",
       "    .dataframe tbody tr th:only-of-type {\n",
       "        vertical-align: middle;\n",
       "    }\n",
       "\n",
       "    .dataframe tbody tr th {\n",
       "        vertical-align: top;\n",
       "    }\n",
       "\n",
       "    .dataframe thead th {\n",
       "        text-align: right;\n",
       "    }\n",
       "</style>\n",
       "<table border=\"1\" class=\"dataframe\">\n",
       "  <thead>\n",
       "    <tr style=\"text-align: right;\">\n",
       "      <th></th>\n",
       "      <th>material_id</th>\n",
       "      <th>volume</th>\n",
       "      <th>structure</th>\n",
       "      <th>elastic_anisotropy</th>\n",
       "      <th>G_VRH</th>\n",
       "      <th>K_VRH</th>\n",
       "      <th>poisson_ratio</th>\n",
       "      <th>composition</th>\n",
       "      <th>group_number_-4</th>\n",
       "      <th>atomic_mass_-4</th>\n",
       "      <th>...</th>\n",
       "      <th>avg_dev CN_VoronoiNN</th>\n",
       "      <th>mean absolute deviation in relative bond length</th>\n",
       "      <th>max relative bond length</th>\n",
       "      <th>min relative bond length</th>\n",
       "      <th>minimum neighbor distance variation</th>\n",
       "      <th>maximum neighbor distance variation</th>\n",
       "      <th>range neighbor distance variation</th>\n",
       "      <th>mean neighbor distance variation</th>\n",
       "      <th>avg_dev neighbor distance variation</th>\n",
       "      <th>mean absolute deviation in relative cell size</th>\n",
       "    </tr>\n",
       "  </thead>\n",
       "  <tbody>\n",
       "    <tr>\n",
       "      <th>0</th>\n",
       "      <td>mp-10003</td>\n",
       "      <td>194.419802</td>\n",
       "      <td>[[0.94814328 2.07280467 2.5112    ] Nb, [5.273...</td>\n",
       "      <td>0.030688</td>\n",
       "      <td>97.141604</td>\n",
       "      <td>194.268884</td>\n",
       "      <td>0.285701</td>\n",
       "      <td>(Nb, Co, Si)</td>\n",
       "      <td>7.335929</td>\n",
       "      <td>54.688924</td>\n",
       "      <td>...</td>\n",
       "      <td>1.451453</td>\n",
       "      <td>0.048863</td>\n",
       "      <td>1.036647</td>\n",
       "      <td>0.911985</td>\n",
       "      <td>0.009816</td>\n",
       "      <td>0.080081</td>\n",
       "      <td>0.070264</td>\n",
       "      <td>0.058781</td>\n",
       "      <td>0.028399</td>\n",
       "      <td>0.105329</td>\n",
       "    </tr>\n",
       "  </tbody>\n",
       "</table>\n",
       "<p>1 rows × 100 columns</p>\n",
       "</div>"
      ],
      "text/plain": [
       "  material_id      volume                                          structure  \\\n",
       "0    mp-10003  194.419802  [[0.94814328 2.07280467 2.5112    ] Nb, [5.273...   \n",
       "\n",
       "   elastic_anisotropy      G_VRH       K_VRH  poisson_ratio   composition  \\\n",
       "0            0.030688  97.141604  194.268884       0.285701  (Nb, Co, Si)   \n",
       "\n",
       "   group_number_-4  atomic_mass_-4  \\\n",
       "0         7.335929       54.688924   \n",
       "\n",
       "                       ...                        avg_dev CN_VoronoiNN  \\\n",
       "0                      ...                                    1.451453   \n",
       "\n",
       "   mean absolute deviation in relative bond length  max relative bond length  \\\n",
       "0                                         0.048863                  1.036647   \n",
       "\n",
       "   min relative bond length  minimum neighbor distance variation  \\\n",
       "0                  0.911985                             0.009816   \n",
       "\n",
       "   maximum neighbor distance variation  range neighbor distance variation  \\\n",
       "0                             0.080081                           0.070264   \n",
       "\n",
       "   mean neighbor distance variation  avg_dev neighbor distance variation  \\\n",
       "0                          0.058781                             0.028399   \n",
       "\n",
       "   mean absolute deviation in relative cell size  \n",
       "0                                       0.105329  \n",
       "\n",
       "[1 rows x 100 columns]"
      ]
     },
     "execution_count": 10,
     "metadata": {},
     "output_type": "execute_result"
    }
   ],
   "source": [
    "data.head(1)"
   ]
  },
  {
   "cell_type": "markdown",
   "metadata": {},
   "source": [
    "##### Data input"
   ]
  },
  {
   "cell_type": "code",
   "execution_count": 20,
   "metadata": {},
   "outputs": [
    {
     "data": {
      "text/plain": [
       "5"
      ]
     },
     "execution_count": 20,
     "metadata": {},
     "output_type": "execute_result"
    }
   ],
   "source": [
    "size = [10, 50, 100, 500, data.shape[0]]\n",
    "\n",
    "from sklearn.utils import shuffle\n",
    "\n",
    "variable_data = []\n",
    "for i in range(len(size)):\n",
    "    variable_data.append(shuffle(data)[:size[i]])"
   ]
  },
  {
   "cell_type": "code",
   "execution_count": 12,
   "metadata": {},
   "outputs": [],
   "source": [
    "learned_feature = 'G_VRH'"
   ]
  },
  {
   "cell_type": "code",
   "execution_count": 30,
   "metadata": {},
   "outputs": [],
   "source": [
    "from sklearn.preprocessing import Imputer\n",
    "\n",
    "original_columns = ['material_id', 'volume', 'elastic_anisotropy', 'G_VRH', \n",
    "                    'K_VRH', 'poisson_ratio', 'structure', 'composition']\n",
    "\n",
    "X = []\n",
    "y = []\n",
    "I = Imputer()\n",
    "for i in range(len(variable_data)):\n",
    "    x = variable_data[i].drop(original_columns, 1)\n",
    "    X.append(I.fit_transform(x))\n",
    "    y.append(np.log(variable_data[i][learned_feature]).as_matrix())"
   ]
  },
  {
   "cell_type": "markdown",
   "metadata": {},
   "source": [
    "### Part 2: Choosing different ML models"
   ]
  },
  {
   "cell_type": "markdown",
   "metadata": {},
   "source": [
    "ML model is built using scikit-learn package"
   ]
  },
  {
   "cell_type": "markdown",
   "metadata": {},
   "source": [
    "<b>Split dataset into training and testing set...</b>"
   ]
  },
  {
   "cell_type": "code",
   "execution_count": 31,
   "metadata": {},
   "outputs": [],
   "source": [
    "from sklearn.model_selection import KFold\n",
    "\n",
    "num_splits = 5\n",
    "kfold = KFold(num_splits, shuffle=False, random_state=0)"
   ]
  },
  {
   "cell_type": "markdown",
   "metadata": {},
   "source": [
    "#### 1) Generalized Linear Models: Linear Regression, Lasso Regression and Ridge Regression"
   ]
  },
  {
   "cell_type": "code",
   "execution_count": 37,
   "metadata": {},
   "outputs": [
    {
     "name": "stdout",
     "output_type": "stream",
     "text": [
      "Linear Regression: \n",
      "-- Size of dataset: 10\n",
      "Time: 0.005813 seconds\n",
      "MAE = 0.502930, RMSE = 3.174306, R-SQUARED = -11.371699\n",
      "-- Size of dataset: 50\n",
      "Time: 0.006713 seconds\n",
      "MAE = 0.904638, RMSE = 6.241861, R-SQUARED = -3.370256\n",
      "-- Size of dataset: 100\n",
      "Time: 0.012256 seconds\n",
      "MAE = 1.222421, RMSE = 9.209267, R-SQUARED = -5.820533\n",
      "-- Size of dataset: 500\n",
      "Time: 0.020380 seconds\n",
      "MAE = 0.301047, RMSE = 2.197514, R-SQUARED = 0.622448\n",
      "-- Size of dataset: 1181\n",
      "Time: 0.038983 seconds\n",
      "MAE = 0.261445, RMSE = 1.807864, R-SQUARED = 0.754232\n",
      "\n",
      "Ridge Regression: \n",
      "-- Size of dataset: 10\n",
      "Time: 0.006682 seconds\n",
      "MAE = 0.503858, RMSE = 3.205577, R-SQUARED = -10.843776\n",
      "-- Size of dataset: 50\n",
      "Time: 0.006892 seconds\n",
      "MAE = 0.619749, RMSE = 3.813704, R-SQUARED = -0.315331\n",
      "-- Size of dataset: 100\n",
      "Time: 0.012232 seconds\n",
      "MAE = 0.391303, RMSE = 2.639771, R-SQUARED = 0.481391\n",
      "-- Size of dataset: 500\n",
      "Time: 0.031387 seconds\n",
      "MAE = 0.279345, RMSE = 1.935637, R-SQUARED = 0.714639\n",
      "-- Size of dataset: 1181\n",
      "Time: 0.071810 seconds\n",
      "MAE = 0.265494, RMSE = 1.844950, R-SQUARED = 0.747239\n",
      "\n"
     ]
    }
   ],
   "source": [
    "#Trying Cross Validation Prediction for linear models\n",
    "from sklearn.model_selection import cross_val_predict, cross_val_score\n",
    "from sklearn import linear_model\n",
    "from sklearn.metrics import mean_squared_error, mean_absolute_error, r2_score\n",
    "\n",
    "m = len(size)\n",
    "\n",
    "mae_lr, rmse_lr, r2_lr = np.zeros((m,)), np.zeros((m,)), np.zeros((m,))\n",
    "mae_ridge, rmse_ridge, r2_ridge = np.zeros((m,)), np.zeros((m,)), np.zeros((m,))\n",
    "\n",
    "\n",
    "time_lr = np.zeros((m,))\n",
    "time_ridge = np.zeros((m,))\n",
    "\n",
    "\n",
    "print (\"Linear Regression: \")\n",
    "start_lr = time.monotonic()\n",
    "for i in range(m):\n",
    "    start_lr = time.monotonic()\n",
    "    for train_index, test_index in kfold.split(X[i]):\n",
    "        lr = linear_model.LinearRegression()\n",
    "        x_train, x_test = X[i][train_index], X[i][test_index]\n",
    "        y_train, y_test = y[i][train_index], y[i][test_index]\n",
    "        lr.fit(x_train, y_train)\n",
    "        y_pred = lr.predict(x_test)\n",
    "\n",
    "        mae_lr[i] += mean_absolute_error(y_true=y_test, y_pred=y_pred)/num_splits\n",
    "        rmse_lr[i] += np.sqrt(mean_squared_error(y_true=y_test, y_pred=y_pred))\n",
    "        r2_lr[i] += r2_score(y_test, y_pred) / num_splits\n",
    "\n",
    "    finish_lr = time.monotonic()\n",
    "    time_lr[i] = finish_lr - start_lr\n",
    "    print (\"-- Size of dataset: %i\" %size[i])\n",
    "    print (\"Time: %f seconds\" %time_lr[i])\n",
    "    print (\"MAE = %f, RMSE = %f, R-SQUARED = %f\" %(mae_lr[i], rmse_lr[i], r2_lr[i]))\n",
    "print ()\n",
    "\n",
    "\n",
    "print (\"Ridge Regression: \")\n",
    "for i in range(m):\n",
    "    start_ridge = time.monotonic()\n",
    "    for train_index, test_index in kfold.split(X[i]):\n",
    "        ridge = linear_model.RidgeCV()\n",
    "        x_train, x_test = X[i][train_index], X[i][test_index]\n",
    "        y_train, y_test = y[i][train_index], y[i][test_index]\n",
    "        ridge.fit(x_train, y_train)\n",
    "        y_pred = ridge.predict(x_test)\n",
    "\n",
    "        mae_ridge[i] += mean_absolute_error(y_true=y_test, y_pred=y_pred)/num_splits\n",
    "        rmse_ridge[i] += np.sqrt(mean_squared_error(y_true=y_test, y_pred=y_pred))\n",
    "        r2_ridge[i] += r2_score(y_test, y_pred) / num_splits\n",
    "    finish_ridge = time.monotonic()\n",
    "    time_ridge[i] = finish_ridge - start_ridge\n",
    "    print (\"-- Size of dataset: %i\" %size[i])\n",
    "    print (\"Time: %f seconds\" %time_ridge[i])\n",
    "    print (\"MAE = %f, RMSE = %f, R-SQUARED = %f\" %(mae_ridge[i], rmse_ridge[i], r2_ridge[i]))\n",
    "print ()"
   ]
  },
  {
   "cell_type": "markdown",
   "metadata": {},
   "source": [
    "#### 2) Support Vector Machines"
   ]
  },
  {
   "cell_type": "code",
   "execution_count": null,
   "metadata": {},
   "outputs": [],
   "source": [
    "from sklearn import svm"
   ]
  },
  {
   "cell_type": "code",
   "execution_count": null,
   "metadata": {},
   "outputs": [],
   "source": [
    "# %%time\n",
    "# lin = svm.SVR(kernel='linear')\n",
    "# lin = lin.fit(X, y)\n",
    "\n",
    "# print (\"linear kernel: \", lin.score(X, y))\n",
    "# # No output because took too long or has error"
   ]
  },
  {
   "cell_type": "code",
   "execution_count": null,
   "metadata": {},
   "outputs": [],
   "source": [
    "# %%time\n",
    "# rbf = svm.SVR(kernel='rbf', gamma=0.1)\n",
    "# rbf = rbf.fit(X, y)\n",
    "\n",
    "# print (\"rbf kernel: \", rbf.score(X, y))\n",
    "# # No output because took too long or has error"
   ]
  },
  {
   "cell_type": "markdown",
   "metadata": {},
   "source": [
    "#### 3) Ensemble method: RandomforestRegressor and ExtraTreesRegressor"
   ]
  },
  {
   "cell_type": "code",
   "execution_count": 39,
   "metadata": {},
   "outputs": [
    {
     "name": "stdout",
     "output_type": "stream",
     "text": [
      "Random Forest Regression: \n",
      "-- Size of dataset: 10\n",
      "Time: 0.501721 seconds\n",
      "MAE = 0.316840, RMSE = 1.713789, R-SQUARED = -6.006060\n",
      "-- Size of dataset: 50\n",
      "Time: 0.736303 seconds\n",
      "MAE = 0.413235, RMSE = 2.533487, R-SQUARED = 0.467663\n",
      "-- Size of dataset: 100\n",
      "Time: 1.112026 seconds\n",
      "MAE = 0.352317, RMSE = 2.515012, R-SQUARED = 0.507977\n",
      "-- Size of dataset: 500\n",
      "Time: 6.317094 seconds\n",
      "MAE = 0.288100, RMSE = 1.973371, R-SQUARED = 0.708009\n",
      "-- Size of dataset: 1181\n",
      "Time: 18.123168 seconds\n",
      "MAE = 0.259842, RMSE = 1.787621, R-SQUARED = 0.763887\n",
      "\n",
      "Extra Trees Regression: \n",
      "-- Size of dataset: 10\n",
      "Time: 0.442012 seconds\n",
      "MAE = 0.216591, RMSE = 1.273896, R-SQUARED = 0.049860\n",
      "-- Size of dataset: 50\n",
      "Time: 0.631853 seconds\n",
      "MAE = 0.410640, RMSE = 2.495174, R-SQUARED = 0.525267\n",
      "-- Size of dataset: 100\n",
      "Time: 0.919650 seconds\n",
      "MAE = 0.328951, RMSE = 2.343690, R-SQUARED = 0.581885\n",
      "-- Size of dataset: 500\n",
      "Time: 3.244215 seconds\n",
      "MAE = 0.278709, RMSE = 1.906190, R-SQUARED = 0.728790\n",
      "-- Size of dataset: 1181\n",
      "Time: 7.756928 seconds\n",
      "MAE = 0.248865, RMSE = 1.742091, R-SQUARED = 0.775607\n",
      "\n"
     ]
    }
   ],
   "source": [
    "from sklearn.ensemble import RandomForestRegressor, ExtraTreesRegressor\n",
    "from sklearn.model_selection import cross_val_score\n",
    "\n",
    "\n",
    "mae_rfr, rmse_rfr, r2_rfr = np.zeros((m,)), np.zeros((m,)), np.zeros((m,))\n",
    "mae_efr, rmse_efr, r2_efr = np.zeros((m,)), np.zeros((m,)), np.zeros((m,))\n",
    "\n",
    "time_rfr = np.zeros((m,))\n",
    "time_efr = np.zeros((m,))\n",
    "\n",
    "n = 100\n",
    "\n",
    "print (\"Random Forest Regression: \")\n",
    "for i in range(m):\n",
    "    start_rfr = time.monotonic()\n",
    "    for train_index, test_index in kfold.split(X[i]):\n",
    "        rfr = RandomForestRegressor(n_estimators=n)\n",
    "        x_train, x_test = X[i][train_index], X[i][test_index]\n",
    "        y_train, y_test = y[i][train_index], y[i][test_index]\n",
    "        rfr.fit(x_train, y_train)\n",
    "        y_pred = rfr.predict(x_test)\n",
    "\n",
    "        mae_rfr[i] += mean_absolute_error(y_true=y_test, y_pred=y_pred)/num_splits\n",
    "        rmse_rfr[i] += np.sqrt(mean_squared_error(y_true=y_test, y_pred=y_pred))\n",
    "        r2_rfr[i] += r2_score(y_test, y_pred) / num_splits\n",
    "    finish_rfr = time.monotonic()\n",
    "    time_rfr[i] = finish_rfr - start_rfr\n",
    "    print (\"-- Size of dataset: %i\" %size[i])\n",
    "    print (\"Time: %f seconds\" %time_rfr[i])\n",
    "    print (\"MAE = %f, RMSE = %f, R-SQUARED = %f\" %(mae_rfr[i], rmse_rfr[i], r2_rfr[i]))\n",
    "print ()\n",
    "\n",
    "print (\"Extra Trees Regression: \")\n",
    "for i in range(m):\n",
    "    start_efr = time.monotonic()\n",
    "    for train_index, test_index in kfold.split(X[i]):\n",
    "        x_train, x_test = X[i][train_index], X[i][test_index]\n",
    "        y_train, y_test = y[i][train_index], y[i][test_index]\n",
    "        efr.fit(x_train, y_train)\n",
    "        y_pred = efr.predict(x_test)\n",
    "\n",
    "        mae_efr[i] += mean_absolute_error(y_true=y_test, y_pred=y_pred)/num_splits\n",
    "        rmse_efr[i] += np.sqrt(mean_squared_error(y_true=y_test, y_pred=y_pred))\n",
    "        r2_efr[i] += r2_score(y_test, y_pred) / num_splits\n",
    "    finish_efr = time.monotonic()\n",
    "    time_efr[i] = finish_efr - start_efr\n",
    "    print (\"-- Size of dataset: %i\" %size[i])\n",
    "    print (\"Time: %f seconds\" %time_efr[i])\n",
    "    print (\"MAE = %f, RMSE = %f, R-SQUARED = %f\" %(mae_efr[i], rmse_efr[i], r2_efr[i]))\n",
    "print ()"
   ]
  },
  {
   "cell_type": "markdown",
   "metadata": {},
   "source": [
    "#### 4) Ensemble method: GradientBoosting "
   ]
  },
  {
   "cell_type": "code",
   "execution_count": 40,
   "metadata": {},
   "outputs": [
    {
     "name": "stdout",
     "output_type": "stream",
     "text": [
      "Gradient Boosting Regression: \n",
      "-- Size of dataset: 10\n",
      "Time: 0.176761 seconds\n",
      "MAE = 0.210809, RMSE = 1.256698, R-SQUARED = 0.002615\n",
      "-- Size of dataset: 50\n",
      "Time: 0.380994 seconds\n",
      "MAE = 0.452964, RMSE = 2.775612, R-SQUARED = 0.437345\n",
      "-- Size of dataset: 100\n",
      "Time: 0.857590 seconds\n",
      "MAE = 0.352041, RMSE = 2.438903, R-SQUARED = 0.543969\n",
      "-- Size of dataset: 500\n",
      "Time: 3.508292 seconds\n",
      "MAE = 0.269244, RMSE = 1.882791, R-SQUARED = 0.733874\n",
      "-- Size of dataset: 1181\n",
      "Time: 7.656289 seconds\n",
      "MAE = 0.248085, RMSE = 1.729659, R-SQUARED = 0.777940\n",
      "\n"
     ]
    }
   ],
   "source": [
    "from sklearn.ensemble import GradientBoostingRegressor\n",
    "from sklearn.metrics import mean_squared_error, mean_absolute_error, r2_score\n",
    "\n",
    "mae_gradient, rmse_gradient, r2_gradient = np.zeros((m,)), np.zeros((m,)), np.zeros((m,))\n",
    "time_gradient = np.zeros((m,))\n",
    "\n",
    "\n",
    "\n",
    "print (\"Gradient Boosting Regression: \")\n",
    "for i in range(m):\n",
    "    start_gradient = time.monotonic()\n",
    "    for train_index, test_index in kfold.split(X[i]):\n",
    "        gradient = GradientBoostingRegressor(n_estimators=250, max_depth=3)\n",
    "        x_train, x_test = X[i][train_index], X[i][test_index]\n",
    "        y_train, y_test = y[i][train_index], y[i][test_index]\n",
    "        gradient.fit(x_train, y_train)\n",
    "        y_pred = gradient.predict(x_test)\n",
    "\n",
    "        mae_gradient[i] += mean_absolute_error(y_true=y_test, y_pred=y_pred)/num_splits\n",
    "        rmse_gradient[i] += np.sqrt(mean_squared_error(y_true=y_test, y_pred=y_pred))\n",
    "        r2_gradient[i] += r2_score(y_test, y_pred) / num_splits\n",
    "    finish_gradient = time.monotonic()\n",
    "    time_gradient[i] = finish_gradient - start_gradient\n",
    "    print (\"-- Size of dataset: %i\" %size[i])\n",
    "    print (\"Time: %f seconds\" %time_gradient[i])\n",
    "    print (\"MAE = %f, RMSE = %f, R-SQUARED = %f\" %(mae_gradient[i], rmse_gradient[i], r2_gradient[i]))\n",
    "print ()"
   ]
  },
  {
   "cell_type": "code",
   "execution_count": 60,
   "metadata": {},
   "outputs": [
    {
     "data": {
      "image/png": "[encoded data removed]",
      "text/plain": [
       "<matplotlib.figure.Figure at 0x113f5c278>"
      ]
     },
     "metadata": {},
     "output_type": "display_data"
    }
   ],
   "source": [
    "import matplotlib.pyplot as plt\n",
    "\n",
    "fig, ax1 = plt.subplots()\n",
    "ax1.set_xlabel('size of dataset')\n",
    "ax1.set_ylabel('MAE (Log(GPa))')\n",
    "ax1.loglog(size, mae_lr, color='r', marker='x', label='LinReg MAE')\n",
    "ax1.loglog(size, mae_ridge, color='b', marker='x', label='Ridge MAE')\n",
    "ax1.loglog(size, mae_rfr, color='m', marker='x', label='RandomForest MAE')\n",
    "ax1.loglog(size, mae_efr, color='y', marker='x', label='ExtraTrees MAE')\n",
    "ax1.loglog(size, mae_gradient, color='c', marker='x', label='GradientBoosting MAE')\n",
    "ax1.legend(bbox_to_anchor=(1.7, 1))\n",
    "\n",
    "ax2 = ax1.twinx()\n",
    "\n",
    "ax2.set_ylabel('time (s)')\n",
    "ax2.loglog(size, time_lr, color='r', marker='o', label='LinReg time')\n",
    "ax2.loglog(size, mae_ridge, color='b', marker='o', label='Ridge time')\n",
    "ax2.loglog(size, mae_rfr, color='m', marker='o', label='RandomForest time')\n",
    "ax2.loglog(size, mae_efr, color='y', marker='o', label='ExtraTrees time')\n",
    "ax2.loglog(size, mae_gradient, color='c', marker='o', label='GradientBoosting time')\n",
    "ax2.legend(bbox_to_anchor=(1.7, 0.5))\n",
    "\n",
    "fig.tight_layout()\n",
    "plt.show()"
   ]
  },
  {
   "cell_type": "code",
   "execution_count": null,
   "metadata": {},
   "outputs": [],
   "source": []
  }
 ],
 "metadata": {
  "kernelspec": {
   "display_name": "Python 3",
   "language": "python",
   "name": "python3"
  },
  "language_info": {
   "codemirror_mode": {
    "name": "ipython",
    "version": 3
   },
   "file_extension": ".py",
   "mimetype": "text/x-python",
   "name": "python",
   "nbconvert_exporter": "python",
   "pygments_lexer": "ipython3",
   "version": "3.6.4"
  }
 },
 "nbformat": 4,
 "nbformat_minor": 2
}
