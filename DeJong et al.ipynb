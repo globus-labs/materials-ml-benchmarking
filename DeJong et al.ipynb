{
 "cells": [
  {
   "cell_type": "markdown",
   "metadata": {},
   "source": [
    "## Import Packages"
   ]
  },
  {
   "cell_type": "code",
   "execution_count": 21,
   "metadata": {},
   "outputs": [],
   "source": [
    "import numpy as np\n",
    "import pandas as pd\n",
    "import pymatgen as pmg\n",
    "import time\n",
    "import matplotlib.pyplot as plt\n",
    "\n",
    "from matminer.datasets.dataframe_loader import load_elastic_tensor\n",
    "from matminer.utils.conversions import str_to_composition\n",
    "from matminer.featurizers import composition as cf\n",
    "from matminer.featurizers import structure as struc\n",
    "from matminer.featurizers.base import MultipleFeaturizer\n",
    "\n",
    "from pymatgen import MPRester\n",
    "\n",
    "from sklearn.utils import shuffle\n",
    "from sklearn.preprocessing import Imputer\n",
    "from sklearn import linear_model\n",
    "from sklearn.model_selection import KFold, cross_val_predict, cross_val_score\n",
    "from sklearn.metrics import mean_squared_error, mean_absolute_error, r2_score\n",
    "from sklearn.ensemble import RandomForestRegressor, ExtraTreesRegressor, GradientBoostingRegressor"
   ]
  },
  {
   "cell_type": "markdown",
   "metadata": {},
   "source": [
    "## Load training datasets from elastic_tensor.csv "
   ]
  },
  {
   "cell_type": "code",
   "execution_count": 2,
   "metadata": {},
   "outputs": [],
   "source": [
    "data = load_elastic_tensor() "
   ]
  },
  {
   "cell_type": "markdown",
   "metadata": {},
   "source": [
    "Compute composition from formula of compound"
   ]
  },
  {
   "cell_type": "code",
   "execution_count": 3,
   "metadata": {},
   "outputs": [],
   "source": [
    "data['composition'] = str_to_composition(data['formula'])"
   ]
  },
  {
   "cell_type": "markdown",
   "metadata": {},
   "source": [
    "Unnecessary columns are dropped."
   ]
  },
  {
   "cell_type": "code",
   "execution_count": 4,
   "metadata": {},
   "outputs": [],
   "source": [
    "del_columns = ['formula', 'nsites', 'space_group', \n",
    "               'G_Reuss', 'G_Voigt', 'K_Reuss', 'K_Voigt',\n",
    "               'compliance_tensor', 'elastic_tensor', 'elastic_tensor_original'\n",
    "                ]\n",
    "\n",
    "data = data.drop(del_columns, 1)"
   ]
  },
  {
   "cell_type": "markdown",
   "metadata": {},
   "source": [
    "## Build ML models"
   ]
  },
  {
   "cell_type": "markdown",
   "metadata": {},
   "source": [
    "### Part 1: Compute Representation (Featurization) "
   ]
  },
  {
   "cell_type": "code",
   "execution_count": 5,
   "metadata": {},
   "outputs": [],
   "source": [
    "key = 'ubX07DfzKy3mZAlw'"
   ]
  },
  {
   "cell_type": "markdown",
   "metadata": {},
   "source": [
    "#### 1) Holder Means of first 8 properties in Table 1 of De Jong et al. paper \n",
    "'group_number', 'atomic_mass', 'atomic_radius', 'row_number', 'boiling_temp', 'melting_temp', 'electronegativity', 'atomic_number'\n",
    "\n",
    "$$\\mu_p(x) = [\\frac{(\\Sigma^n_{i=1}w_ix_i^p)}{(\\Sigma^n_{i=1}w_i)}]^\\frac{1}{p}$$"
   ]
  },
  {
   "cell_type": "code",
   "execution_count": 6,
   "metadata": {},
   "outputs": [],
   "source": [
    "def holder_means(comp, prop, p):\n",
    "    '''Input:\n",
    "            - comp = (Series) containing Pymatgen.Composition datatype\n",
    "            - prop = (string) consists of one of the following input:\n",
    "                     {'group number', 'atomic_mass', 'atomic_radius', 'row_number', 'boiling_temp', 'melting_temp', 'electronegativity', 'atomic_number'}\n",
    "            - p = (int) power of Holder means between -4 and 4\n",
    "        Output:\n",
    "            - pandas.Series \n",
    "    '''\n",
    "    n = comp.shape[0]\n",
    "    output = np.zeros((n,))\n",
    "    for i in range(n):\n",
    "        total_weight = comp[i].weight\n",
    "        if (p == 0):\n",
    "            for j in comp[i].get_el_amt_dict():\n",
    "                el = pmg.Element(j)\n",
    "                wt = el.atomic_mass\n",
    "                d = {'group_number': el.group, 'atomic_mass': el.atomic_mass, \n",
    "                     'atomic_radius': el.atomic_radius, 'row_number': el.row, \n",
    "                     'boiling_temp': el.boiling_point, 'melting_temp': el.melting_point, \n",
    "                     'electronegativity': el.X, 'atomic_number': el.Z}\n",
    "                \n",
    "                output[i] += wt*np.log(d[prop])\n",
    "            output[i] = output[i]/total_weight\n",
    "        else:\n",
    "            for j in comp[i].get_el_amt_dict():\n",
    "                el = pmg.Element(j)\n",
    "                wt = el.atomic_mass\n",
    "                d = {'group_number': el.group, 'atomic_mass': el.atomic_mass, \n",
    "                     'atomic_radius': el.atomic_radius, 'row_number': el.row, \n",
    "                     'boiling_temp': el.boiling_point, 'melting_temp': el.melting_point, \n",
    "                     'electronegativity': el.X, 'atomic_number': el.Z}\n",
    "                output[i] += wt*d[prop]**p\n",
    "            output[i] = (output[i]/total_weight)**(1.0/p)\n",
    "    output = pd.Series(output)\n",
    "    output.name = prop + '_%s' %p\n",
    "    return output"
   ]
  },
  {
   "cell_type": "code",
   "execution_count": 7,
   "metadata": {},
   "outputs": [],
   "source": [
    "p = [-4, -3, -2, -1, 0, 1, 2, 3, 4]\n",
    "prop = ['group_number', 'atomic_mass', 'atomic_radius', 'row_number', 'boiling_temp', 'melting_temp', 'electronegativity', 'atomic_number']\n",
    "\n",
    "for i in p:\n",
    "    for j in prop:\n",
    "        series = holder_means(data['composition'], j, i)\n",
    "        data[series.name] = series"
   ]
  },
  {
   "cell_type": "markdown",
   "metadata": {},
   "source": [
    "#### 2) Cohesive Energy"
   ]
  },
  {
   "cell_type": "code",
   "execution_count": 8,
   "metadata": {
    "scrolled": false
   },
   "outputs": [],
   "source": [
    "ft = cf.CohesiveEnergy(mapi_key=key)\n",
    "\n",
    "data = ft.featurize_dataframe(data, col_id='composition', ignore_errors=True)"
   ]
  },
  {
   "cell_type": "markdown",
   "metadata": {},
   "source": [
    "#### 3) Formation energy per atom, Energy above hull, band gap, density"
   ]
  },
  {
   "cell_type": "code",
   "execution_count": 9,
   "metadata": {
    "scrolled": true
   },
   "outputs": [],
   "source": [
    "# Formation energy per atom, Energy above hull, band gap, density\n",
    "property_list = ['formation_energy_per_atom', 'e_above_hull', 'band_gap', 'density']\n",
    "\n",
    "mp = MPRester(api_key=key)\n",
    "\n",
    "n = data.shape[0]\n",
    "E_f, E_hull, E_g, rho = pd.Series(index=np.arange(n)), pd.Series(index=np.arange(n)), pd.Series(index=np.arange(n)), pd.Series(index=np.arange(n))\n",
    "\n",
    "for i in range(n):\n",
    "    ls = mp.get_data(data['material_id'][i])\n",
    "    if (ls==[]):\n",
    "        E_f[i], E_hull[i], E_g[i], rho[i] = 0.0, 0.0, 0.0, 0.0\n",
    "    else:\n",
    "        E_f[i] = ls[0]['formation_energy_per_atom']\n",
    "        E_hull[i] = ls[0]['e_above_hull']\n",
    "        E_g[i] = ls[0]['band_gap']\n",
    "        rho[i] = ls[0]['density']\n",
    "\n",
    "data['formation energy per atom'] = E_f\n",
    "data['energy above hull'] = E_hull\n",
    "data['band gap'] = E_g\n",
    "data['density'] = rho"
   ]
  },
  {
   "cell_type": "markdown",
   "metadata": {},
   "source": [
    "#### 4) Volume (V) => log (V) per atom"
   ]
  },
  {
   "cell_type": "code",
   "execution_count": 10,
   "metadata": {},
   "outputs": [],
   "source": [
    "data['log volume per atom'] = pd.Series(index=np.arange(n))\n",
    "for i in range(len(data['volume'])):\n",
    "    data['log volume per atom'][i] = np.log(data['volume'][i]/data['composition'][i].num_atoms)"
   ]
  },
  {
   "cell_type": "markdown",
   "metadata": {},
   "source": [
    "#### 5) Voronoi based site coordination, bond lengths and bond angles"
   ]
  },
  {
   "cell_type": "code",
   "execution_count": 11,
   "metadata": {
    "scrolled": true
   },
   "outputs": [],
   "source": [
    "ft = MultipleFeaturizer([\n",
    "    struc.SiteStatsFingerprint.from_preset(\"CoordinationNumber_ward-prb-2017\"),\n",
    "    struc.StructuralHeterogeneity()\n",
    "])\n",
    "\n",
    "data = ft.featurize_dataframe(data, col_id='structure')"
   ]
  },
  {
   "cell_type": "code",
   "execution_count": 12,
   "metadata": {},
   "outputs": [
    {
     "data": {
      "text/html": [
       "<div>\n",
       "<style scoped>\n",
       "    .dataframe tbody tr th:only-of-type {\n",
       "        vertical-align: middle;\n",
       "    }\n",
       "\n",
       "    .dataframe tbody tr th {\n",
       "        vertical-align: top;\n",
       "    }\n",
       "\n",
       "    .dataframe thead th {\n",
       "        text-align: right;\n",
       "    }\n",
       "</style>\n",
       "<table border=\"1\" class=\"dataframe\">\n",
       "  <thead>\n",
       "    <tr style=\"text-align: right;\">\n",
       "      <th></th>\n",
       "      <th>material_id</th>\n",
       "      <th>volume</th>\n",
       "      <th>structure</th>\n",
       "      <th>elastic_anisotropy</th>\n",
       "      <th>G_VRH</th>\n",
       "      <th>K_VRH</th>\n",
       "      <th>poisson_ratio</th>\n",
       "      <th>composition</th>\n",
       "      <th>group_number_-4</th>\n",
       "      <th>atomic_mass_-4</th>\n",
       "      <th>...</th>\n",
       "      <th>avg_dev CN_VoronoiNN</th>\n",
       "      <th>mean absolute deviation in relative bond length</th>\n",
       "      <th>max relative bond length</th>\n",
       "      <th>min relative bond length</th>\n",
       "      <th>minimum neighbor distance variation</th>\n",
       "      <th>maximum neighbor distance variation</th>\n",
       "      <th>range neighbor distance variation</th>\n",
       "      <th>mean neighbor distance variation</th>\n",
       "      <th>avg_dev neighbor distance variation</th>\n",
       "      <th>mean absolute deviation in relative cell size</th>\n",
       "    </tr>\n",
       "  </thead>\n",
       "  <tbody>\n",
       "    <tr>\n",
       "      <th>0</th>\n",
       "      <td>mp-10003</td>\n",
       "      <td>194.419802</td>\n",
       "      <td>[[0.94814328 2.07280467 2.5112    ] Nb, [5.273...</td>\n",
       "      <td>0.030688</td>\n",
       "      <td>97.141604</td>\n",
       "      <td>194.268884</td>\n",
       "      <td>0.285701</td>\n",
       "      <td>(Nb, Co, Si)</td>\n",
       "      <td>7.335929</td>\n",
       "      <td>54.688924</td>\n",
       "      <td>...</td>\n",
       "      <td>1.451453</td>\n",
       "      <td>0.048863</td>\n",
       "      <td>1.036647</td>\n",
       "      <td>0.911985</td>\n",
       "      <td>0.009816</td>\n",
       "      <td>0.080081</td>\n",
       "      <td>0.070264</td>\n",
       "      <td>0.058781</td>\n",
       "      <td>0.028399</td>\n",
       "      <td>0.105329</td>\n",
       "    </tr>\n",
       "  </tbody>\n",
       "</table>\n",
       "<p>1 rows × 100 columns</p>\n",
       "</div>"
      ],
      "text/plain": [
       "  material_id      volume                                          structure  \\\n",
       "0    mp-10003  194.419802  [[0.94814328 2.07280467 2.5112    ] Nb, [5.273...   \n",
       "\n",
       "   elastic_anisotropy      G_VRH       K_VRH  poisson_ratio   composition  \\\n",
       "0            0.030688  97.141604  194.268884       0.285701  (Nb, Co, Si)   \n",
       "\n",
       "   group_number_-4  atomic_mass_-4  \\\n",
       "0         7.335929       54.688924   \n",
       "\n",
       "                       ...                        avg_dev CN_VoronoiNN  \\\n",
       "0                      ...                                    1.451453   \n",
       "\n",
       "   mean absolute deviation in relative bond length  max relative bond length  \\\n",
       "0                                         0.048863                  1.036647   \n",
       "\n",
       "   min relative bond length  minimum neighbor distance variation  \\\n",
       "0                  0.911985                             0.009816   \n",
       "\n",
       "   maximum neighbor distance variation  range neighbor distance variation  \\\n",
       "0                             0.080081                           0.070264   \n",
       "\n",
       "   mean neighbor distance variation  avg_dev neighbor distance variation  \\\n",
       "0                          0.058781                             0.028399   \n",
       "\n",
       "   mean absolute deviation in relative cell size  \n",
       "0                                       0.105329  \n",
       "\n",
       "[1 rows x 100 columns]"
      ]
     },
     "execution_count": 12,
     "metadata": {},
     "output_type": "execute_result"
    }
   ],
   "source": [
    "data.head(1)"
   ]
  },
  {
   "cell_type": "markdown",
   "metadata": {},
   "source": [
    "##### Data input\n",
    "\n",
    "Here, we specify several different data sizes so that we can quantify performance of some machine learning algorithms with respect to the data input size. "
   ]
  },
  {
   "cell_type": "code",
   "execution_count": 13,
   "metadata": {},
   "outputs": [],
   "source": [
    "size = [10, 50, 100, 500, data.shape[0]]\n",
    "\n",
    "variable_data = []\n",
    "for i in range(len(size)):\n",
    "    variable_data.append(shuffle(data)[:size[i]])"
   ]
  },
  {
   "cell_type": "markdown",
   "metadata": {},
   "source": [
    "Elastic moduli value that we wish to predict. Choose from: \"K_VRH\" or \"G_VRH\""
   ]
  },
  {
   "cell_type": "code",
   "execution_count": 14,
   "metadata": {},
   "outputs": [],
   "source": [
    "learned_feature = 'G_VRH'"
   ]
  },
  {
   "cell_type": "markdown",
   "metadata": {},
   "source": [
    "Input X and y "
   ]
  },
  {
   "cell_type": "code",
   "execution_count": 15,
   "metadata": {},
   "outputs": [],
   "source": [
    "original_columns = ['material_id', 'volume', 'elastic_anisotropy', 'G_VRH', \n",
    "                    'K_VRH', 'poisson_ratio', 'structure', 'composition']\n",
    "\n",
    "X = []\n",
    "y = []\n",
    "I = Imputer()\n",
    "for i in range(len(variable_data)):\n",
    "    x = variable_data[i].drop(original_columns, 1)\n",
    "    X.append(I.fit_transform(x))\n",
    "    y.append(np.log(variable_data[i][learned_feature]).as_matrix())"
   ]
  },
  {
   "cell_type": "markdown",
   "metadata": {},
   "source": [
    "### Part 2: Choosing different ML models\n",
    "\n",
    "We use several different ML algorithms to train the training set. Time performance and accuracy of the predictions of the respective models are printed. \n",
    "\n",
    "##### 5-fold cross-validation"
   ]
  },
  {
   "cell_type": "code",
   "execution_count": 16,
   "metadata": {},
   "outputs": [],
   "source": [
    "num_splits = 5\n",
    "kfold = KFold(num_splits, shuffle=False, random_state=0)"
   ]
  },
  {
   "cell_type": "code",
   "execution_count": 17,
   "metadata": {},
   "outputs": [],
   "source": [
    "m = len(size)"
   ]
  },
  {
   "cell_type": "markdown",
   "metadata": {},
   "source": [
    "#### 1) Generalized Linear Models: Linear Regression"
   ]
  },
  {
   "cell_type": "code",
   "execution_count": 18,
   "metadata": {},
   "outputs": [],
   "source": [
    "mae_lr, rmse_lr, r2_lr = np.zeros((m,)), np.zeros((m,)), np.zeros((m,))"
   ]
  },
  {
   "cell_type": "code",
   "execution_count": 19,
   "metadata": {},
   "outputs": [],
   "source": [
    "time_lr = np.zeros((m,))"
   ]
  },
  {
   "cell_type": "code",
   "execution_count": 22,
   "metadata": {},
   "outputs": [
    {
     "name": "stdout",
     "output_type": "stream",
     "text": [
      "Linear Regression: \n",
      "-- Size of dataset: 10\n",
      "Time: 0.011877 seconds\n",
      "MAE = 0.459466, RMSE = 2.433196, R-SQUARED = -2.366173\n",
      "-- Size of dataset: 50\n",
      "Time: 0.008497 seconds\n",
      "MAE = 1.189735, RMSE = 8.425721, R-SQUARED = -14.082289\n",
      "-- Size of dataset: 100\n",
      "Time: 0.012896 seconds\n",
      "MAE = 1.289291, RMSE = 11.188604, R-SQUARED = -44.762935\n",
      "-- Size of dataset: 500\n",
      "Time: 0.022239 seconds\n",
      "MAE = 0.291928, RMSE = 2.130505, R-SQUARED = 0.628392\n",
      "-- Size of dataset: 1181\n",
      "Time: 0.044076 seconds\n",
      "MAE = 0.255918, RMSE = 1.762886, R-SQUARED = 0.771587\n",
      "\n"
     ]
    },
    {
     "name": "stderr",
     "output_type": "stream",
     "text": [
      "/Users/AikRui/anaconda3/lib/python3.6/site-packages/sklearn/linear_model/base.py:509: RuntimeWarning:\n",
      "\n",
      "internal gelsd driver lwork query error, required iwork dimension not returned. This is likely the result of LAPACK bug 0038, fixed in LAPACK 3.2.2 (released July 21, 2010). Falling back to 'gelss' driver.\n",
      "\n"
     ]
    }
   ],
   "source": [
    "print (\"Linear Regression: \")\n",
    "start_lr = time.monotonic()\n",
    "for i in range(m):\n",
    "    start_lr = time.monotonic()\n",
    "    for train_index, test_index in kfold.split(X[i]):\n",
    "        lr = linear_model.LinearRegression()\n",
    "        x_train, x_test = X[i][train_index], X[i][test_index]\n",
    "        y_train, y_test = y[i][train_index], y[i][test_index]\n",
    "        lr.fit(x_train, y_train)\n",
    "        y_pred = lr.predict(x_test)\n",
    "\n",
    "        mae_lr[i] += mean_absolute_error(y_true=y_test, y_pred=y_pred)/num_splits\n",
    "        rmse_lr[i] += np.sqrt(mean_squared_error(y_true=y_test, y_pred=y_pred))\n",
    "        r2_lr[i] += r2_score(y_test, y_pred) / num_splits\n",
    "\n",
    "    finish_lr = time.monotonic()\n",
    "    time_lr[i] = finish_lr - start_lr\n",
    "    print (\"-- Size of dataset: %i\" %size[i])\n",
    "    print (\"Time: %f seconds\" %time_lr[i])\n",
    "    print (\"MAE = %f, RMSE = %f, R-SQUARED = %f\" %(mae_lr[i], rmse_lr[i], r2_lr[i]))\n",
    "print ()"
   ]
  },
  {
   "cell_type": "markdown",
   "metadata": {},
   "source": [
    "#### 2) Generalized Linear Model:  Ridge Regression"
   ]
  },
  {
   "cell_type": "code",
   "execution_count": 23,
   "metadata": {},
   "outputs": [],
   "source": [
    "mae_ridge, rmse_ridge, r2_ridge = np.zeros((m,)), np.zeros((m,)), np.zeros((m,))"
   ]
  },
  {
   "cell_type": "code",
   "execution_count": 24,
   "metadata": {},
   "outputs": [],
   "source": [
    "time_ridge = np.zeros((m,))"
   ]
  },
  {
   "cell_type": "code",
   "execution_count": 25,
   "metadata": {},
   "outputs": [
    {
     "name": "stdout",
     "output_type": "stream",
     "text": [
      "Ridge Regression: \n",
      "-- Size of dataset: 10\n",
      "Time: 0.013512 seconds\n",
      "MAE = 0.485153, RMSE = 2.538676, R-SQUARED = -2.922306\n",
      "-- Size of dataset: 50\n",
      "Time: 0.012089 seconds\n",
      "MAE = 0.600805, RMSE = 3.725521, R-SQUARED = -0.464448\n",
      "-- Size of dataset: 100\n",
      "Time: 0.011416 seconds\n",
      "MAE = 0.385979, RMSE = 2.554032, R-SQUARED = -0.032168\n",
      "-- Size of dataset: 500\n",
      "Time: 0.034197 seconds\n",
      "MAE = 0.271448, RMSE = 1.858291, R-SQUARED = 0.709187\n",
      "-- Size of dataset: 1181\n",
      "Time: 0.072119 seconds\n",
      "MAE = 0.261553, RMSE = 1.805698, R-SQUARED = 0.759827\n",
      "\n"
     ]
    }
   ],
   "source": [
    "print (\"Ridge Regression: \")\n",
    "for i in range(m):\n",
    "    start_ridge = time.monotonic()\n",
    "    for train_index, test_index in kfold.split(X[i]):\n",
    "        ridge = linear_model.RidgeCV()\n",
    "        x_train, x_test = X[i][train_index], X[i][test_index]\n",
    "        y_train, y_test = y[i][train_index], y[i][test_index]\n",
    "        ridge.fit(x_train, y_train)\n",
    "        y_pred = ridge.predict(x_test)\n",
    "\n",
    "        mae_ridge[i] += mean_absolute_error(y_true=y_test, y_pred=y_pred)/num_splits\n",
    "        rmse_ridge[i] += np.sqrt(mean_squared_error(y_true=y_test, y_pred=y_pred))\n",
    "        r2_ridge[i] += r2_score(y_test, y_pred) / num_splits\n",
    "    finish_ridge = time.monotonic()\n",
    "    time_ridge[i] = finish_ridge - start_ridge\n",
    "    print (\"-- Size of dataset: %i\" %size[i])\n",
    "    print (\"Time: %f seconds\" %time_ridge[i])\n",
    "    print (\"MAE = %f, RMSE = %f, R-SQUARED = %f\" %(mae_ridge[i], rmse_ridge[i], r2_ridge[i]))\n",
    "print ()"
   ]
  },
  {
   "cell_type": "markdown",
   "metadata": {},
   "source": [
    "#### 3) Ensemble method: RandomForestRegressor "
   ]
  },
  {
   "cell_type": "markdown",
   "metadata": {},
   "source": [
    "100 estimators are used"
   ]
  },
  {
   "cell_type": "code",
   "execution_count": 26,
   "metadata": {},
   "outputs": [],
   "source": [
    "num_trees = 100"
   ]
  },
  {
   "cell_type": "code",
   "execution_count": 27,
   "metadata": {},
   "outputs": [],
   "source": [
    "mae_rfr, rmse_rfr, r2_rfr = np.zeros((m,)), np.zeros((m,)), np.zeros((m,))"
   ]
  },
  {
   "cell_type": "code",
   "execution_count": 28,
   "metadata": {},
   "outputs": [],
   "source": [
    "time_rfr = np.zeros((m,))"
   ]
  },
  {
   "cell_type": "code",
   "execution_count": 29,
   "metadata": {},
   "outputs": [
    {
     "name": "stdout",
     "output_type": "stream",
     "text": [
      "Random Forest Regression: \n",
      "-- Size of dataset: 10\n",
      "Time: 0.453045 seconds\n",
      "MAE = 0.505396, RMSE = 2.987255, R-SQUARED = -3.750499\n",
      "-- Size of dataset: 50\n",
      "Time: 0.722829 seconds\n",
      "MAE = 0.476546, RMSE = 3.077555, R-SQUARED = -0.002878\n",
      "-- Size of dataset: 100\n",
      "Time: 1.258319 seconds\n",
      "MAE = 0.381386, RMSE = 2.345168, R-SQUARED = 0.349156\n",
      "-- Size of dataset: 500\n",
      "Time: 6.143850 seconds\n",
      "MAE = 0.276018, RMSE = 1.891307, R-SQUARED = 0.699966\n",
      "-- Size of dataset: 1181\n",
      "Time: 17.284821 seconds\n",
      "MAE = 0.256678, RMSE = 1.798980, R-SQUARED = 0.759869\n",
      "\n"
     ]
    }
   ],
   "source": [
    "print (\"Random Forest Regression: \")\n",
    "for i in range(m):\n",
    "    start_rfr = time.monotonic()\n",
    "    for train_index, test_index in kfold.split(X[i]):\n",
    "        rfr = RandomForestRegressor(n_estimators=num_trees)\n",
    "        x_train, x_test = X[i][train_index], X[i][test_index]\n",
    "        y_train, y_test = y[i][train_index], y[i][test_index]\n",
    "        rfr.fit(x_train, y_train)\n",
    "        y_pred = rfr.predict(x_test)\n",
    "\n",
    "        mae_rfr[i] += mean_absolute_error(y_true=y_test, y_pred=y_pred)/num_splits\n",
    "        rmse_rfr[i] += np.sqrt(mean_squared_error(y_true=y_test, y_pred=y_pred))\n",
    "        r2_rfr[i] += r2_score(y_test, y_pred) / num_splits\n",
    "    finish_rfr = time.monotonic()\n",
    "    time_rfr[i] = finish_rfr - start_rfr\n",
    "    print (\"-- Size of dataset: %i\" %size[i])\n",
    "    print (\"Time: %f seconds\" %time_rfr[i])\n",
    "    print (\"MAE = %f, RMSE = %f, R-SQUARED = %f\" %(mae_rfr[i], rmse_rfr[i], r2_rfr[i]))\n",
    "print ()"
   ]
  },
  {
   "cell_type": "markdown",
   "metadata": {},
   "source": [
    "#### 4) Ensemble method: ExtraTreesRegressor"
   ]
  },
  {
   "cell_type": "code",
   "execution_count": 30,
   "metadata": {},
   "outputs": [],
   "source": [
    "mae_efr, rmse_efr, r2_efr = np.zeros((m,)), np.zeros((m,)), np.zeros((m,))"
   ]
  },
  {
   "cell_type": "code",
   "execution_count": 31,
   "metadata": {},
   "outputs": [],
   "source": [
    "time_efr = np.zeros((m,))"
   ]
  },
  {
   "cell_type": "code",
   "execution_count": 32,
   "metadata": {},
   "outputs": [
    {
     "name": "stdout",
     "output_type": "stream",
     "text": [
      "Extra Trees Regression: \n",
      "-- Size of dataset: 10\n",
      "Time: 0.420811 seconds\n",
      "MAE = 0.537640, RMSE = 3.158748, R-SQUARED = -4.785933\n",
      "-- Size of dataset: 50\n",
      "Time: 0.650106 seconds\n",
      "MAE = 0.463735, RMSE = 2.932742, R-SQUARED = 0.050981\n",
      "-- Size of dataset: 100\n",
      "Time: 0.943562 seconds\n",
      "MAE = 0.390171, RMSE = 2.361513, R-SQUARED = 0.288704\n",
      "-- Size of dataset: 500\n",
      "Time: 3.473581 seconds\n",
      "MAE = 0.273513, RMSE = 1.860963, R-SQUARED = 0.711756\n",
      "-- Size of dataset: 1181\n",
      "Time: 7.959894 seconds\n",
      "MAE = 0.246406, RMSE = 1.743380, R-SQUARED = 0.774512\n",
      "\n"
     ]
    }
   ],
   "source": [
    "print (\"Extra Trees Regression: \")\n",
    "for i in range(m):\n",
    "    start_efr = time.monotonic()\n",
    "    for train_index, test_index in kfold.split(X[i]):\n",
    "        efr = ExtraTreesRegressor(n_estimators=num_trees)\n",
    "        x_train, x_test = X[i][train_index], X[i][test_index]\n",
    "        y_train, y_test = y[i][train_index], y[i][test_index]\n",
    "        efr.fit(x_train, y_train)\n",
    "        y_pred = efr.predict(x_test)\n",
    "\n",
    "        mae_efr[i] += mean_absolute_error(y_true=y_test, y_pred=y_pred)/num_splits\n",
    "        rmse_efr[i] += np.sqrt(mean_squared_error(y_true=y_test, y_pred=y_pred))\n",
    "        r2_efr[i] += r2_score(y_test, y_pred) / num_splits\n",
    "    finish_efr = time.monotonic()\n",
    "    time_efr[i] = finish_efr - start_efr\n",
    "    print (\"-- Size of dataset: %i\" %size[i])\n",
    "    print (\"Time: %f seconds\" %time_efr[i])\n",
    "    print (\"MAE = %f, RMSE = %f, R-SQUARED = %f\" %(mae_efr[i], rmse_efr[i], r2_efr[i]))\n",
    "print ()"
   ]
  },
  {
   "cell_type": "markdown",
   "metadata": {},
   "source": [
    "#### 5) Ensemble method: GradientBoosting "
   ]
  },
  {
   "cell_type": "code",
   "execution_count": 33,
   "metadata": {},
   "outputs": [],
   "source": [
    "mae_gradient, rmse_gradient, r2_gradient = np.zeros((m,)), np.zeros((m,)), np.zeros((m,))"
   ]
  },
  {
   "cell_type": "code",
   "execution_count": 34,
   "metadata": {},
   "outputs": [],
   "source": [
    "time_gradient = np.zeros((m,))"
   ]
  },
  {
   "cell_type": "code",
   "execution_count": 35,
   "metadata": {},
   "outputs": [
    {
     "name": "stdout",
     "output_type": "stream",
     "text": [
      "Gradient Boosting Regression: \n",
      "-- Size of dataset: 10\n",
      "Time: 0.195547 seconds\n",
      "MAE = 0.551854, RMSE = 3.188122, R-SQUARED = -4.718524\n",
      "-- Size of dataset: 50\n",
      "Time: 0.406360 seconds\n",
      "MAE = 0.498376, RMSE = 3.119780, R-SQUARED = -0.050016\n",
      "-- Size of dataset: 100\n",
      "Time: 0.997919 seconds\n",
      "MAE = 0.368693, RMSE = 2.273011, R-SQUARED = 0.343916\n",
      "-- Size of dataset: 500\n",
      "Time: 3.876895 seconds\n",
      "MAE = 0.260668, RMSE = 1.787734, R-SQUARED = 0.727664\n",
      "-- Size of dataset: 1181\n",
      "Time: 8.425930 seconds\n",
      "MAE = 0.239608, RMSE = 1.718009, R-SQUARED = 0.782069\n",
      "\n"
     ]
    }
   ],
   "source": [
    "print (\"Gradient Boosting Regression: \")\n",
    "for i in range(m):\n",
    "    start_gradient = time.monotonic()\n",
    "    for train_index, test_index in kfold.split(X[i]):\n",
    "        gradient = GradientBoostingRegressor(n_estimators=250, max_depth=3)\n",
    "        x_train, x_test = X[i][train_index], X[i][test_index]\n",
    "        y_train, y_test = y[i][train_index], y[i][test_index]\n",
    "        gradient.fit(x_train, y_train)\n",
    "        y_pred = gradient.predict(x_test)\n",
    "\n",
    "        mae_gradient[i] += mean_absolute_error(y_true=y_test, y_pred=y_pred)/num_splits\n",
    "        rmse_gradient[i] += np.sqrt(mean_squared_error(y_true=y_test, y_pred=y_pred))\n",
    "        r2_gradient[i] += r2_score(y_test, y_pred) / num_splits\n",
    "    finish_gradient = time.monotonic()\n",
    "    time_gradient[i] = finish_gradient - start_gradient\n",
    "    print (\"-- Size of dataset: %i\" %size[i])\n",
    "    print (\"Time: %f seconds\" %time_gradient[i])\n",
    "    print (\"MAE = %f, RMSE = %f, R-SQUARED = %f\" %(mae_gradient[i], rmse_gradient[i], r2_gradient[i]))\n",
    "print ()"
   ]
  },
  {
   "cell_type": "markdown",
   "metadata": {},
   "source": [
    "#### Quantifying trade off of time performance and accuracy of model with respect to size of data "
   ]
  },
  {
   "cell_type": "code",
   "execution_count": 36,
   "metadata": {},
   "outputs": [
    {
     "data": {
      "image/png": "[encoded data removed]",
      "text/plain": [
       "<matplotlib.figure.Figure at 0x11a3951d0>"
      ]
     },
     "metadata": {},
     "output_type": "display_data"
    }
   ],
   "source": [
    "import matplotlib.pyplot as plt\n",
    "\n",
    "fig, ax1 = plt.subplots()\n",
    "ax1.set_xlabel('size of dataset')\n",
    "ax1.set_ylabel('MAE (Log(GPa))')\n",
    "ax1.loglog(size, mae_lr, color='r', marker='x', label='LinReg MAE')\n",
    "ax1.loglog(size, mae_ridge, color='b', marker='x', label='Ridge MAE')\n",
    "ax1.loglog(size, mae_rfr, color='m', marker='x', label='RandomForest MAE')\n",
    "ax1.loglog(size, mae_efr, color='y', marker='x', label='ExtraTrees MAE')\n",
    "ax1.loglog(size, mae_gradient, color='c', marker='x', label='GradientBoosting MAE')\n",
    "ax1.legend(bbox_to_anchor=(1.7, 1))\n",
    "\n",
    "ax2 = ax1.twinx()\n",
    "\n",
    "ax2.set_ylabel('time (s)')\n",
    "ax2.loglog(size, time_lr, color='r', marker='o', label='LinReg time')\n",
    "ax2.loglog(size, mae_ridge, color='b', marker='o', label='Ridge time')\n",
    "ax2.loglog(size, mae_rfr, color='m', marker='o', label='RandomForest time')\n",
    "ax2.loglog(size, mae_efr, color='y', marker='o', label='ExtraTrees time')\n",
    "ax2.loglog(size, mae_gradient, color='c', marker='o', label='GradientBoosting time')\n",
    "ax2.legend(bbox_to_anchor=(1.7, 0.5))\n",
    "\n",
    "fig.tight_layout()\n",
    "plt.show()"
   ]
  },
  {
   "cell_type": "code",
   "execution_count": null,
   "metadata": {},
   "outputs": [],
   "source": []
  }
 ],
 "metadata": {
  "kernelspec": {
   "display_name": "Python 3",
   "language": "python",
   "name": "python3"
  },
  "language_info": {
   "codemirror_mode": {
    "name": "ipython",
    "version": 3
   },
   "file_extension": ".py",
   "mimetype": "text/x-python",
   "name": "python",
   "nbconvert_exporter": "python",
   "pygments_lexer": "ipython3",
   "version": "3.6.4"
  }
 },
 "nbformat": 4,
 "nbformat_minor": 2
}
