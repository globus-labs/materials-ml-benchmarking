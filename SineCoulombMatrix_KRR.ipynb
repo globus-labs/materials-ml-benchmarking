{
 "cells": [
  {
   "cell_type": "markdown",
   "metadata": {},
   "source": [
    "# Sine Coulomb Matrix - Kernel Ridge Regression (Faber et al)\n",
    "\n",
    "To predict Formation Energy of Solids using Sine Coulomb Matrix Featurization"
   ]
  },
  {
   "cell_type": "code",
   "execution_count": 108,
   "metadata": {},
   "outputs": [],
   "source": [
    "## Mostly copied from https://github.com/hackingmaterials/matminer_examples/blob/master/scripts/kernel_ridge_SCM_OFM.py (By Kyle Bystrom)\n",
    "\n",
    "import numpy as np\n",
    "import pandas as pd\n",
    "\n",
    "from pymatgen.core.structure import Structure\n",
    "\n",
    "from sklearn.kernel_ridge import KernelRidge\n",
    "from sklearn.model_selection import KFold, GridSearchCV, cross_val_predict, train_test_split\n",
    "from sklearn.metrics import mean_absolute_error, mean_squared_error, r2_score\n",
    "from sklearn.utils import shuffle\n",
    "\n",
    "from matminer.featurizers.structure import SineCoulombMatrix, OrbitalFieldMatrix\n",
    "from matminer.datasets.dataframe_loader import load_flla\n",
    "\n",
    "import argparse\n",
    "import time"
   ]
  },
  {
   "cell_type": "markdown",
   "metadata": {},
   "source": [
    "Loading flla datasets"
   ]
  },
  {
   "cell_type": "code",
   "execution_count": 98,
   "metadata": {},
   "outputs": [
    {
     "name": "stdout",
     "output_type": "stream",
     "text": [
      "SHAPE OF DATASET: (3938, 7)\n",
      "CPU times: user 7.08 s, sys: 253 ms, total: 7.33 s\n",
      "Wall time: 7.5 s\n"
     ]
    }
   ],
   "source": [
    "%%time\n",
    "df = load_flla()\n",
    "print (\"SHAPE OF DATASET:\" , df.shape)"
   ]
  },
  {
   "cell_type": "markdown",
   "metadata": {},
   "source": [
    "##### Data input\n",
    "\n",
    "Here, we specify several different data sizes so that we can quantify performance of Kernel Ridge Regression algorithms with respect to the data input size. "
   ]
  },
  {
   "cell_type": "code",
   "execution_count": 8,
   "metadata": {
    "scrolled": false
   },
   "outputs": [
    {
     "name": "stdout",
     "output_type": "stream",
     "text": [
      "DF SHAPE: \n",
      "(10, 7)\n",
      "(100, 7)\n",
      "(500, 7)\n",
      "(1000, 7)\n",
      "(3938, 7)\n"
     ]
    },
    {
     "data": {
      "text/html": [
       "<div>\n",
       "<style scoped>\n",
       "    .dataframe tbody tr th:only-of-type {\n",
       "        vertical-align: middle;\n",
       "    }\n",
       "\n",
       "    .dataframe tbody tr th {\n",
       "        vertical-align: top;\n",
       "    }\n",
       "\n",
       "    .dataframe thead th {\n",
       "        text-align: right;\n",
       "    }\n",
       "</style>\n",
       "<table border=\"1\" class=\"dataframe\">\n",
       "  <thead>\n",
       "    <tr style=\"text-align: right;\">\n",
       "      <th></th>\n",
       "      <th>material_id</th>\n",
       "      <th>e_above_hull</th>\n",
       "      <th>formula</th>\n",
       "      <th>nsites</th>\n",
       "      <th>structure</th>\n",
       "      <th>formation_energy</th>\n",
       "      <th>formation_energy_per_atom</th>\n",
       "    </tr>\n",
       "  </thead>\n",
       "  <tbody>\n",
       "    <tr>\n",
       "      <th>0</th>\n",
       "      <td>mp-10</td>\n",
       "      <td>0.107405</td>\n",
       "      <td>{'As': 1.0}</td>\n",
       "      <td>2</td>\n",
       "      <td>[[1.11758409 0.79025129 1.93571242] As, [3.352...</td>\n",
       "      <td>0.21481</td>\n",
       "      <td>0.107405</td>\n",
       "    </tr>\n",
       "  </tbody>\n",
       "</table>\n",
       "</div>"
      ],
      "text/plain": [
       "  material_id  e_above_hull      formula  nsites  \\\n",
       "0       mp-10      0.107405  {'As': 1.0}       2   \n",
       "\n",
       "                                           structure  formation_energy  \\\n",
       "0  [[1.11758409 0.79025129 1.93571242] As, [3.352...           0.21481   \n",
       "\n",
       "   formation_energy_per_atom  \n",
       "0                   0.107405  "
      ]
     },
     "execution_count": 8,
     "metadata": {},
     "output_type": "execute_result"
    }
   ],
   "source": [
    "size = [10, 100, 500, 1000, df.shape[0]]\n",
    "\n",
    "print (\"DF SHAPE: \")\n",
    "variable_df = []\n",
    "for i in range(len(size)):\n",
    "    variable_df.append(shuffle(df)[:size[i]])\n",
    "    print (variable_df[i].shape)\n",
    "\n",
    "df.head(1)"
   ]
  },
  {
   "cell_type": "markdown",
   "metadata": {},
   "source": [
    "Sine Coulomb Matrix"
   ]
  },
  {
   "cell_type": "code",
   "execution_count": 9,
   "metadata": {},
   "outputs": [
    {
     "name": "stdout",
     "output_type": "stream",
     "text": [
      "Time to featurize 10 datasets: 0.156276 seconds\n",
      "Time to featurize 100 datasets: 0.253318 seconds\n",
      "Time to featurize 500 datasets: 0.801311 seconds\n",
      "Time to featurize 1000 datasets: 1.559588 seconds\n",
      "Time to featurize 3938 datasets: 5.462367 seconds\n"
     ]
    }
   ],
   "source": [
    "scm = SineCoulombMatrix()\n",
    "\n",
    "m = len(size)\n",
    "\n",
    "for i in range(m):\n",
    "    start = time.monotonic()\n",
    "    variable_df[i] = scm.featurize_dataframe(variable_df[i], col_id='structure')\n",
    "    # Take the eigenvalues of the SCMs to form vector descriptors\n",
    "    variable_df[i]['sine coulomb matrix'] = pd.Series([np.sort(np.linalg.eigvals(s))[::-1] \\\n",
    "                                                              for s in variable_df[i]['sine coulomb matrix']], variable_df[i].index)\n",
    "    finish = time.monotonic()\n",
    "    print (\"Time to featurize %i datasets: %f seconds\" %(size[i], (finish-start)))"
   ]
  },
  {
   "cell_type": "markdown",
   "metadata": {},
   "source": [
    "Set up KernelRidgeRegression Model"
   ]
  },
  {
   "cell_type": "code",
   "execution_count": 10,
   "metadata": {},
   "outputs": [],
   "source": [
    "class KrrScm(KernelRidge):\n",
    "    \"\"\"\n",
    "    Custom SCM KernelRidge estimator\n",
    "\n",
    "    This estimator ensures that scores are based on formation\n",
    "    energy per atom by dividing predicted and actual y values\n",
    "    by the number of nonzero items in each row of the X matrix.\n",
    "    This is equivalent to dividing by the number of sites in\n",
    "    the corresponding structure because each vector descriptor\n",
    "    is a list of eigenvalues of the SCM.  The SCM is positive\n",
    "    definite, so its eigenvalues are positive.  This class only\n",
    "    changes the results slightly, however, so the script can\n",
    "    be simplified by replacing the SCM estimator below with a\n",
    "    plain KernelRidge() instance.\n",
    "    \"\"\"\n",
    "\n",
    "    def __init__(self, alpha=1, kernel='linear', gamma=None,\n",
    "                 degree=3, coef0=1, kernel_params=None):\n",
    "        super(KrrScm, self).__init__(alpha, kernel, gamma,\n",
    "                                     degree, coef0, kernel_params)\n",
    "\n",
    "    def score(self, X, y):\n",
    "        sizes = np.array([self.length(row) for row in X])\n",
    "        y_pred = self.predict(X) / sizes\n",
    "        y_true = y / sizes\n",
    "        return sklearn.metrics.r2_score(y_true, y_pred)\n",
    "\n",
    "    def length(self, vec):\n",
    "        return vec[vec != 0].shape[0]"
   ]
  },
  {
   "cell_type": "code",
   "execution_count": 11,
   "metadata": {},
   "outputs": [
    {
     "name": "stdout",
     "output_type": "stream",
     "text": [
      "dict_keys(['alpha', 'coef0', 'degree', 'gamma', 'kernel', 'kernel_params'])\n"
     ]
    }
   ],
   "source": [
    "krr = KrrScm()\n",
    "print (krr.get_params().keys())"
   ]
  },
  {
   "cell_type": "markdown",
   "metadata": {},
   "source": [
    "Performing GridSearchCV for hyperparameter searching"
   ]
  },
  {
   "cell_type": "code",
   "execution_count": 12,
   "metadata": {},
   "outputs": [
    {
     "data": {
      "text/plain": [
       "GridSearchCV(cv=KFold(n_splits=4, random_state=0, shuffle=False),\n",
       "       error_score='raise',\n",
       "       estimator=KrrScm(alpha=1, coef0=1, degree=3, gamma=None, kernel='linear',\n",
       "    kernel_params=None),\n",
       "       fit_params=None, iid=True, n_jobs=1,\n",
       "       param_grid=[{'kernel': ['rbf'], 'alpha': [0.01, 0.001, 0.0001, 1e-05], 'gamma': [1.25e-09, 3.125e-10, 7.8125e-11, 1.953125e-11, 4.8828125e-12]}, {'kernel': ['laplacian'], 'alpha': [0.01, 0.001, 0.0001, 1e-05], 'gamma': [5e-05, 2.5e-05, 1.25e-05, 6.25e-06, 3.125e-06]}],\n",
       "       pre_dispatch='2*n_jobs', refit=True, return_train_score='warn',\n",
       "       scoring=None, verbose=0)"
      ]
     },
     "execution_count": 12,
     "metadata": {},
     "output_type": "execute_result"
    }
   ],
   "source": [
    "NUM_SPLITS=5\n",
    "inner_cv = KFold(n_splits=NUM_SPLITS-1, shuffle=False, random_state=0)\n",
    "kf = KFold(NUM_SPLITS, False)\n",
    "\n",
    "params = {}\n",
    "params['scm'] = [{'kernel' : ['rbf'], 'alpha' : [10**(-a) for a in range(2,6)],\n",
    "    'gamma': [1/2.0/s/s for s in (20000,40000,80000,160000,320000)]},\n",
    "    {'kernel' : ['laplacian'], 'alpha' : [10**(-a) for a in range(2,6)],\n",
    "    'gamma' : [1.0/s for s in (20000,40000,80000,160000,320000)]}]\n",
    "\n",
    "model = GridSearchCV(krr, params['scm'], cv=inner_cv, refit=True)\n",
    "model"
   ]
  },
  {
   "cell_type": "markdown",
   "metadata": {},
   "source": [
    "Input X and y"
   ]
  },
  {
   "cell_type": "code",
   "execution_count": 13,
   "metadata": {},
   "outputs": [],
   "source": [
    "X = []\n",
    "Y = []\n",
    "N = []\n",
    "nt = []\n",
    "\n",
    "for i in range(m):\n",
    "    X.append(variable_df[i]['sine coulomb matrix'].as_matrix())\n",
    "    Y.append(variable_df[i]['formation_energy'].as_matrix())\n",
    "    N.append(variable_df[i]['nsites'].as_matrix())\n",
    "    nt.append(max(N[i]))"
   ]
  },
  {
   "cell_type": "markdown",
   "metadata": {},
   "source": [
    "Append each vector descriptor with zeroes to make them all the same size."
   ]
  },
  {
   "cell_type": "code",
   "execution_count": 14,
   "metadata": {},
   "outputs": [
    {
     "name": "stdout",
     "output_type": "stream",
     "text": [
      "(10, 22)\n",
      "(100, 24)\n",
      "(500, 24)\n",
      "(1000, 24)\n",
      "(3938, 25)\n"
     ]
    }
   ],
   "source": [
    "# Append each vector descriptor with zeroes to make them all the same size.\n",
    "for i in range(m):\n",
    "    XLIST = []\n",
    "    for j in range(len(X[i])):\n",
    "        XLIST.append(np.append(X[i][j], np.zeros(nt[i] - X[i][j].shape[0])))\n",
    "    X[i] = np.array(XLIST)\n",
    "    print (X[i].shape)"
   ]
  },
  {
   "cell_type": "markdown",
   "metadata": {},
   "source": [
    "Evaluate accuracy of KRR model for varying data sizes using SCM featurization and time it"
   ]
  },
  {
   "cell_type": "code",
   "execution_count": 15,
   "metadata": {},
   "outputs": [],
   "source": [
    "mae, rmse, r2 = np.zeros((m,)), np.zeros((m,)), np.zeros((m,))"
   ]
  },
  {
   "cell_type": "code",
   "execution_count": 16,
   "metadata": {
    "scrolled": true
   },
   "outputs": [
    {
     "name": "stdout",
     "output_type": "stream",
     "text": [
      "--- SCM PARAM OPT\n",
      "--- {'alpha': 1e-05, 'gamma': 5e-05, 'kernel': 'laplacian'}\n",
      "--- SCM PARAM OPT\n",
      "--- {'alpha': 1e-05, 'gamma': 5e-05, 'kernel': 'laplacian'}\n",
      "--- SCM PARAM OPT\n",
      "--- {'alpha': 0.01, 'gamma': 4.8828125e-12, 'kernel': 'rbf'}\n",
      "--- SCM PARAM OPT\n",
      "--- {'alpha': 0.01, 'gamma': 4.8828125e-12, 'kernel': 'rbf'}\n",
      "--- SCM PARAM OPT\n",
      "--- {'alpha': 0.01, 'gamma': 4.8828125e-12, 'kernel': 'rbf'}\n",
      "--Size of dataset: 10\n",
      "SCM RESULTS MAE = 19.130900, RMSE = 21.782249, R-SQUARED = -31.796348\n",
      "TIME TO TEST SCM 1.297928 SECONDS\n",
      "\n",
      "--- SCM PARAM OPT\n",
      "--- {'alpha': 0.01, 'gamma': 3.125e-06, 'kernel': 'laplacian'}\n",
      "--- SCM PARAM OPT\n",
      "--- {'alpha': 1e-05, 'gamma': 5e-05, 'kernel': 'laplacian'}\n",
      "--- SCM PARAM OPT\n",
      "--- {'alpha': 0.001, 'gamma': 3.125e-06, 'kernel': 'laplacian'}\n",
      "--- SCM PARAM OPT\n",
      "--- {'alpha': 1e-05, 'gamma': 3.125e-06, 'kernel': 'laplacian'}\n",
      "--- SCM PARAM OPT\n",
      "--- {'alpha': 1e-05, 'gamma': 1.25e-05, 'kernel': 'laplacian'}\n",
      "--Size of dataset: 100\n",
      "SCM RESULTS MAE = 9.452885, RMSE = 13.112739, R-SQUARED = 0.297378\n",
      "TIME TO TEST SCM 1.834750 SECONDS\n",
      "\n",
      "--- SCM PARAM OPT\n",
      "--- {'alpha': 0.001, 'gamma': 3.125e-06, 'kernel': 'laplacian'}\n",
      "--- SCM PARAM OPT\n",
      "--- {'alpha': 0.01, 'gamma': 6.25e-06, 'kernel': 'laplacian'}\n",
      "--- SCM PARAM OPT\n",
      "--- {'alpha': 0.01, 'gamma': 6.25e-06, 'kernel': 'laplacian'}\n",
      "--- SCM PARAM OPT\n",
      "--- {'alpha': 0.01, 'gamma': 3.125e-06, 'kernel': 'laplacian'}\n",
      "--- SCM PARAM OPT\n",
      "--- {'alpha': 0.01, 'gamma': 3.125e-06, 'kernel': 'laplacian'}\n",
      "--Size of dataset: 500\n",
      "SCM RESULTS MAE = 6.298381, RMSE = 8.768859, R-SQUARED = 0.780768\n",
      "TIME TO TEST SCM 9.498278 SECONDS\n",
      "\n",
      "--- SCM PARAM OPT\n",
      "--- {'alpha': 0.001, 'gamma': 3.125e-06, 'kernel': 'laplacian'}\n",
      "--- SCM PARAM OPT\n",
      "--- {'alpha': 0.01, 'gamma': 6.25e-06, 'kernel': 'laplacian'}\n",
      "--- SCM PARAM OPT\n",
      "--- {'alpha': 0.01, 'gamma': 3.125e-06, 'kernel': 'laplacian'}\n",
      "--- SCM PARAM OPT\n",
      "--- {'alpha': 0.01, 'gamma': 3.125e-06, 'kernel': 'laplacian'}\n",
      "--- SCM PARAM OPT\n",
      "--- {'alpha': 0.01, 'gamma': 3.125e-06, 'kernel': 'laplacian'}\n",
      "--Size of dataset: 1000\n",
      "SCM RESULTS MAE = 5.578121, RMSE = 7.960536, R-SQUARED = 0.813620\n",
      "TIME TO TEST SCM 30.370833 SECONDS\n",
      "\n",
      "--- SCM PARAM OPT\n",
      "--- {'alpha': 0.001, 'gamma': 1.25e-05, 'kernel': 'laplacian'}\n",
      "--- SCM PARAM OPT\n",
      "--- {'alpha': 0.001, 'gamma': 1.25e-05, 'kernel': 'laplacian'}\n",
      "--- SCM PARAM OPT\n",
      "--- {'alpha': 0.001, 'gamma': 1.25e-05, 'kernel': 'laplacian'}\n",
      "--- SCM PARAM OPT\n",
      "--- {'alpha': 0.001, 'gamma': 1.25e-05, 'kernel': 'laplacian'}\n",
      "--- SCM PARAM OPT\n",
      "--- {'alpha': 0.001, 'gamma': 1.25e-05, 'kernel': 'laplacian'}\n",
      "--Size of dataset: 3938\n",
      "SCM RESULTS MAE = 3.822470, RMSE = 5.801477, R-SQUARED = 0.907183\n",
      "TIME TO TEST SCM 504.939699 SECONDS\n",
      "\n"
     ]
    }
   ],
   "source": [
    "import time\n",
    "import warnings\n",
    "\n",
    "time_used = np.zeros((m,))\n",
    "\n",
    "with warnings.catch_warnings():\n",
    "    warnings.simplefilter(\"ignore\")\n",
    "    for i in range(m):\n",
    "        start = time.monotonic()\n",
    "        for train_index, test_index in kf.split(X[i]):\n",
    "            X_train, X_test = X[i][train_index], X[i][test_index]\n",
    "            Y_train, Y_test = Y[i][train_index], Y[i][test_index]\n",
    "            N_train, N_test = N[i][train_index], N[i][test_index]\n",
    "            model.fit(X_train, Y_train)\n",
    "            print(\"--- SCM PARAM OPT\")\n",
    "            print(\"---\", model.best_params_)\n",
    "            Y_pred = model.predict(X_test)\n",
    "            mae[i] += np.mean(np.abs(Y_pred - Y_test)) / NUM_SPLITS\n",
    "            rmse[i] += np.mean(((Y_pred - Y_test))**2)**0.5 / NUM_SPLITS\n",
    "            r2[i] += sklearn.metrics.r2_score(Y_test, Y_pred) / NUM_SPLITS\n",
    "        finish = time.monotonic()\n",
    "        time_used[i] = finish - start\n",
    "        print (\"--Size of dataset: %i\" %size[i])\n",
    "        print (\"SCM RESULTS MAE = %f, RMSE = %f, R-SQUARED = %f\" % (mae[i], rmse[i], r2[i]))\n",
    "        print (\"TIME TO TEST SCM %f SECONDS\" % (time_used[i]))\n",
    "        print ()"
   ]
  },
  {
   "cell_type": "markdown",
   "metadata": {},
   "source": [
    "#### Plot of time performance and accuracy of KRR model "
   ]
  },
  {
   "cell_type": "code",
   "execution_count": 28,
   "metadata": {},
   "outputs": [
    {
     "data": {
      "image/png": "[encoded data removed]",
      "text/plain": [
       "<matplotlib.figure.Figure at 0x118580550>"
      ]
     },
     "metadata": {},
     "output_type": "display_data"
    }
   ],
   "source": [
    "import matplotlib.pyplot as plt\n",
    "\n",
    "fig, ax1 = plt.subplots()\n",
    "ax1.set_xlabel('size of dataset')\n",
    "ax1.set_ylabel('MAE (meV/atom)')\n",
    "ax1.loglog(size, mae*1e3, color='r', marker='x', label='MAE')\n",
    "\n",
    "ax2 = ax1.twinx()\n",
    "\n",
    "ax2.set_ylabel('time (s)')\n",
    "ax2.loglog(size, time_used, color='b', marker='.', label='time')\n",
    "\n",
    "fig.legend(loc=(0.5, 0.8))\n",
    "\n",
    "fig.tight_layout()\n",
    "plt.show()"
   ]
  },
  {
   "cell_type": "markdown",
   "metadata": {},
   "source": [
    "*Finding*: MAE is almost one order of magnitude larger than in the paper."
   ]
  },
  {
   "cell_type": "markdown",
   "metadata": {},
   "source": [
    "### Visualization of prediction"
   ]
  },
  {
   "cell_type": "markdown",
   "metadata": {},
   "source": [
    "Add sine coulomb matrix featurizer"
   ]
  },
  {
   "cell_type": "code",
   "execution_count": 99,
   "metadata": {},
   "outputs": [
    {
     "name": "stdout",
     "output_type": "stream",
     "text": [
      "CPU times: user 1.04 s, sys: 156 ms, total: 1.2 s\n",
      "Wall time: 5.13 s\n"
     ]
    }
   ],
   "source": [
    "%%time\n",
    "scm = SineCoulombMatrix()\n",
    "df = scm.featurize_dataframe(df, col_id='structure')"
   ]
  },
  {
   "cell_type": "markdown",
   "metadata": {},
   "source": [
    "Form vector descriptors using eigenvalues of the SCMs"
   ]
  },
  {
   "cell_type": "code",
   "execution_count": 100,
   "metadata": {},
   "outputs": [],
   "source": [
    "df['sine coulomb matrix'] = pd.Series([np.sort(np.linalg.eigvals(s))[::-1] \\\n",
    "    for s in df['sine coulomb matrix']], df.index)"
   ]
  },
  {
   "cell_type": "markdown",
   "metadata": {},
   "source": [
    "Input x and y"
   ]
  },
  {
   "cell_type": "code",
   "execution_count": 132,
   "metadata": {},
   "outputs": [],
   "source": [
    "x = df['sine coulomb matrix'].as_matrix()\n",
    "y = df['formation_energy_per_atom'].as_matrix()"
   ]
  },
  {
   "cell_type": "markdown",
   "metadata": {},
   "source": [
    "Append each vector descriptor with zeros to make them all the same size"
   ]
  },
  {
   "cell_type": "code",
   "execution_count": 133,
   "metadata": {},
   "outputs": [],
   "source": [
    "nt = max(df['nsites'])\n",
    "XLIST = []\n",
    "for i in range(len(x)):\n",
    "    XLIST.append(np.append(x[i], np.zeros(nt - x[i].shape[0])))\n",
    "x = np.array(XLIST)"
   ]
  },
  {
   "cell_type": "markdown",
   "metadata": {},
   "source": [
    "Partition into training and testing set (80% training and 20% testing)"
   ]
  },
  {
   "cell_type": "code",
   "execution_count": 134,
   "metadata": {},
   "outputs": [],
   "source": [
    "x_train, x_test, y_train, y_test = train_test_split(x, y, test_size=0.2, shuffle=True)"
   ]
  },
  {
   "cell_type": "markdown",
   "metadata": {},
   "source": [
    "Kernel Ridge Regression model (Using GridSearchCV to find best hyperparameter)"
   ]
  },
  {
   "cell_type": "code",
   "execution_count": 135,
   "metadata": {},
   "outputs": [],
   "source": [
    "krr = KrrScm()\n",
    "params = {}\n",
    "params['scm'] = [{'kernel' : ['rbf'], 'alpha' : [10**(-a) for a in range(2,6)],\n",
    "    'gamma': [1/2.0/s/s for s in (20000,40000,80000,160000,320000)]},\n",
    "    {'kernel' : ['laplacian'], 'alpha' : [10**(-a) for a in range(2,6)],\n",
    "    'gamma' : [1.0/s for s in (20000,40000,80000,160000,320000)]}]"
   ]
  },
  {
   "cell_type": "code",
   "execution_count": 136,
   "metadata": {},
   "outputs": [],
   "source": [
    "hpsel = GridSearchCV(krr, params['scm'], cv=inner_cv, refit=True)"
   ]
  },
  {
   "cell_type": "markdown",
   "metadata": {},
   "source": [
    "Train KRR model using training set data"
   ]
  },
  {
   "cell_type": "code",
   "execution_count": 137,
   "metadata": {
    "scrolled": false
   },
   "outputs": [],
   "source": [
    "import warnings\n",
    "with warnings.catch_warnings():\n",
    "    warnings.simplefilter(\"ignore\")\n",
    "    hpsel.fit(x_train, y_train)"
   ]
  },
  {
   "cell_type": "markdown",
   "metadata": {},
   "source": [
    "Assign best hyperparameters to model"
   ]
  },
  {
   "cell_type": "code",
   "execution_count": 138,
   "metadata": {},
   "outputs": [],
   "source": [
    "model = hpsel.best_estimator_"
   ]
  },
  {
   "cell_type": "markdown",
   "metadata": {},
   "source": [
    "Prediction of data"
   ]
  },
  {
   "cell_type": "code",
   "execution_count": 139,
   "metadata": {},
   "outputs": [],
   "source": [
    "import warnings\n",
    "with warnings.catch_warnings():\n",
    "    warnings.simplefilter(\"ignore\")\n",
    "    cv_train = cross_val_predict(model, x_train, y_train, cv=KFold(n_splits=5))\n",
    "    cv_test = cross_val_predict(model, x_test, y_test, cv=KFold(n_splits=5))"
   ]
  },
  {
   "cell_type": "code",
   "execution_count": 140,
   "metadata": {},
   "outputs": [],
   "source": [
    "mae_train, mae_test = mean_absolute_error(y_train, cv_train), mean_absolute_error(y_test, cv_test)\n",
    "rmse_train, rmse_test = np.sqrt(mean_squared_error(y_train, cv_train)), np.sqrt(mean_squared_error(y_test, cv_test))\n",
    "r2_train, r2_test = r2_score(y_train, cv_train), r2_score(y_test, cv_test)"
   ]
  },
  {
   "cell_type": "markdown",
   "metadata": {},
   "source": [
    "Plot predictions"
   ]
  },
  {
   "cell_type": "code",
   "execution_count": 141,
   "metadata": {},
   "outputs": [
    {
     "data": {
      "image/png": "[encoded data removed]",
      "text/plain": [
       "<matplotlib.figure.Figure at 0x129acd080>"
      ]
     },
     "metadata": {},
     "output_type": "display_data"
    }
   ],
   "source": [
    "fig, (ax1, ax2) = plt.subplots(1, 2)\n",
    "\n",
    "fig.suptitle(\"Formation energy prediction\")\n",
    "\n",
    "ax1.scatter(y_train, cv_train, c='grey', marker='.')\n",
    "ax1.plot(ax1.get_xlim(), ax1.get_xlim(), 'k--')\n",
    "ax1.text(0.49, 0.026, 'Training:\\nMAE: {:.0f} meV/atom\\nRMSE:{:.0f} meV/atom\\n$R^2$:  {:.3f}'.format(mae_train*1e3, rmse_train*1e3, r2_train),\n",
    "         transform=ax1.transAxes, fontsize=8,\n",
    "         bbox={'facecolor': 'w', 'edgecolor': 'k'})\n",
    "ax1.set_title('Training')\n",
    "ax1.set_xlabel('DFT Formation_Energy (eV/atom)')\n",
    "ax1.set_ylabel('KRR Formation_energy (eV/atom)')\n",
    "\n",
    "ax2.scatter(y_test, cv_test, c='b', marker='^')\n",
    "ax2.plot(ax2.get_xlim(), ax2.get_xlim(), 'k--')\n",
    "ax2.text(1.69, 0.026, 'Testing:\\nMAE: {:.0f} meV/atom\\nRMSE:{:.0f} meV/atom\\n$R^2$:  {:.3f}'.format(mae_test*1e3, rmse_test*1e3, r2_test),\n",
    "         transform=ax1.transAxes, fontsize=8,\n",
    "         bbox={'facecolor': 'w', 'edgecolor': 'k'})\n",
    "ax2.set_title('Testing')\n",
    "ax2.set_xlabel('DFT Formation_Energy (eV/atom)')\n",
    "\n",
    "fig.set_size_inches(7, 5)"
   ]
  },
  {
   "cell_type": "code",
   "execution_count": null,
   "metadata": {},
   "outputs": [],
   "source": []
  }
 ],
 "metadata": {
  "kernelspec": {
   "display_name": "Python 3",
   "language": "python",
   "name": "python3"
  },
  "language_info": {
   "codemirror_mode": {
    "name": "ipython",
    "version": 3
   },
   "file_extension": ".py",
   "mimetype": "text/x-python",
   "name": "python",
   "nbconvert_exporter": "python",
   "pygments_lexer": "ipython3",
   "version": "3.6.4"
  }
 },
 "nbformat": 4,
 "nbformat_minor": 2
}
