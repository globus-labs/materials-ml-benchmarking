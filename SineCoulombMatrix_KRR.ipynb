{
 "cells": [
  {
   "cell_type": "markdown",
   "metadata": {},
   "source": [
    "# Sine Coulomb Matrix - Kernel Ridge Regression (Faber et al)\n",
    "\n",
    "To predict Formation Energy of Solids using Sine Coulomb Matrix Featurization"
   ]
  },
  {
   "cell_type": "code",
   "execution_count": 1,
   "metadata": {},
   "outputs": [],
   "source": [
    "## Mostly copied from https://github.com/hackingmaterials/matminer_examples/blob/master/scripts/kernel_ridge_SCM_OFM.py (By Kyle Bystrom)\n",
    "\n",
    "import numpy as np\n",
    "import pandas as pd\n",
    "\n",
    "from pymatgen.core.structure import Structure\n",
    "\n",
    "from sklearn.kernel_ridge import KernelRidge\n",
    "from sklearn.model_selection import KFold, GridSearchCV, cross_val_predict, train_test_split\n",
    "import sklearn.metrics \n",
    "from sklearn.utils import shuffle\n",
    "\n",
    "from matminer.featurizers.structure import SineCoulombMatrix, OrbitalFieldMatrix\n",
    "from matminer.datasets.dataframe_loader import load_flla\n",
    "\n",
    "import argparse\n",
    "import time"
   ]
  },
  {
   "cell_type": "markdown",
   "metadata": {},
   "source": [
    "Loading flla datasets"
   ]
  },
  {
   "cell_type": "code",
   "execution_count": 6,
   "metadata": {},
   "outputs": [
    {
     "name": "stdout",
     "output_type": "stream",
     "text": [
      "SHAPE OF DATASET: (3938, 7)\n",
      "CPU times: user 10.7 s, sys: 136 ms, total: 10.8 s\n",
      "Wall time: 15 s\n"
     ]
    }
   ],
   "source": [
    "%%time\n",
    "df = load_flla()\n",
    "print (\"SHAPE OF DATASET:\" , df.shape)"
   ]
  },
  {
   "cell_type": "markdown",
   "metadata": {},
   "source": [
    "##### Data input\n",
    "\n",
    "Here, we specify several different data sizes so that we can quantify performance of Kernel Ridge Regression algorithms with respect to the data input size. "
   ]
  },
  {
   "cell_type": "code",
   "execution_count": null,
   "metadata": {
    "scrolled": false
   },
   "outputs": [],
   "source": [
    "size = [10, 100, 500, 1000, df.shape[0]]\n",
    "\n",
    "print (\"DF SHAPE: \")\n",
    "variable_df = []\n",
    "for i in range(len(size)):\n",
    "    variable_df.append(shuffle(df)[:size[i]])\n",
    "    print (variable_df[i].shape)\n",
    "\n",
    "df.head(1)"
   ]
  },
  {
   "cell_type": "markdown",
   "metadata": {},
   "source": [
    "Sine Coulomb Matrix"
   ]
  },
  {
   "cell_type": "code",
   "execution_count": null,
   "metadata": {},
   "outputs": [],
   "source": [
    "scm = SineCoulombMatrix()\n",
    "\n",
    "m = len(size)\n",
    "\n",
    "for i in range(m):\n",
    "    start = time.monotonic()\n",
    "    variable_df[i] = scm.featurize_dataframe(variable_df[i], col_id='structure')\n",
    "    # Take the eigenvalues of the SCMs to form vector descriptors\n",
    "    variable_df[i]['sine coulomb matrix'] = pd.Series([np.sort(np.linalg.eigvals(s))[::-1] \\\n",
    "                                                              for s in variable_df[i]['sine coulomb matrix']], variable_df[i].index)\n",
    "    finish = time.monotonic()\n",
    "    print (\"Time to featurize %i datasets: %f seconds\" %(size[i], (finish-start)))"
   ]
  },
  {
   "cell_type": "markdown",
   "metadata": {},
   "source": [
    "Set up KernelRidgeRegression Model"
   ]
  },
  {
   "cell_type": "code",
   "execution_count": null,
   "metadata": {},
   "outputs": [],
   "source": [
    "class KrrScm(KernelRidge):\n",
    "    \"\"\"\n",
    "    Custom SCM KernelRidge estimator\n",
    "\n",
    "    This estimator ensures that scores are based on formation\n",
    "    energy per atom by dividing predicted and actual y values\n",
    "    by the number of nonzero items in each row of the X matrix.\n",
    "    This is equivalent to dividing by the number of sites in\n",
    "    the corresponding structure because each vector descriptor\n",
    "    is a list of eigenvalues of the SCM.  The SCM is positive\n",
    "    definite, so its eigenvalues are positive.  This class only\n",
    "    changes the results slightly, however, so the script can\n",
    "    be simplified by replacing the SCM estimator below with a\n",
    "    plain KernelRidge() instance.\n",
    "    \"\"\"\n",
    "\n",
    "    def __init__(self, alpha=1, kernel='linear', gamma=None,\n",
    "                 degree=3, coef0=1, kernel_params=None):\n",
    "        super(KrrScm, self).__init__(alpha, kernel, gamma,\n",
    "                                     degree, coef0, kernel_params)\n",
    "\n",
    "    def score(self, X, y):\n",
    "        sizes = np.array([self.length(row) for row in X])\n",
    "        y_pred = self.predict(X) / sizes\n",
    "        y_true = y / sizes\n",
    "        return sklearn.metrics.r2_score(y_true, y_pred)\n",
    "\n",
    "    def length(self, vec):\n",
    "        return vec[vec != 0].shape[0]"
   ]
  },
  {
   "cell_type": "code",
   "execution_count": null,
   "metadata": {},
   "outputs": [],
   "source": [
    "krr = KrrScm()\n",
    "print (krr.get_params().keys())"
   ]
  },
  {
   "cell_type": "markdown",
   "metadata": {},
   "source": [
    "Performing GridSearchCV for hyperparameter searching"
   ]
  },
  {
   "cell_type": "code",
   "execution_count": null,
   "metadata": {},
   "outputs": [],
   "source": [
    "NUM_SPLITS=5\n",
    "inner_cv = KFold(n_splits=NUM_SPLITS-1, shuffle=False, random_state=0)\n",
    "kf = KFold(NUM_SPLITS, False)\n",
    "\n",
    "params = {}\n",
    "params['scm'] = [{'kernel' : ['rbf'], 'alpha' : [10**(-a) for a in range(2,6)],\n",
    "    'gamma': [1/2.0/s/s for s in (20000,40000,80000,160000,320000)]},\n",
    "    {'kernel' : ['laplacian'], 'alpha' : [10**(-a) for a in range(2,6)],\n",
    "    'gamma' : [1.0/s for s in (20000,40000,80000,160000,320000)]}]\n",
    "\n",
    "model = GridSearchCV(krr, params['scm'], cv=inner_cv, refit=True)\n",
    "model"
   ]
  },
  {
   "cell_type": "markdown",
   "metadata": {},
   "source": [
    "Input X and y"
   ]
  },
  {
   "cell_type": "code",
   "execution_count": null,
   "metadata": {},
   "outputs": [],
   "source": [
    "X = []\n",
    "Y = []\n",
    "N = []\n",
    "nt = []\n",
    "\n",
    "for i in range(m):\n",
    "    X.append(variable_df[i]['sine coulomb matrix'].as_matrix())\n",
    "    Y.append(variable_df[i]['formation_energy'].as_matrix())\n",
    "    N.append(variable_df[i]['nsites'].as_matrix())\n",
    "    nt.append(max(N[i]))"
   ]
  },
  {
   "cell_type": "markdown",
   "metadata": {},
   "source": [
    "Append each vector descriptor with zeroes to make them all the same size."
   ]
  },
  {
   "cell_type": "code",
   "execution_count": null,
   "metadata": {},
   "outputs": [],
   "source": [
    "# Append each vector descriptor with zeroes to make them all the same size.\n",
    "for i in range(m):\n",
    "    XLIST = []\n",
    "    for j in range(len(X[i])):\n",
    "        XLIST.append(np.append(X[i][j], np.zeros(nt[i] - X[i][j].shape[0])))\n",
    "    X[i] = np.array(XLIST)\n",
    "    print (X[i].shape)"
   ]
  },
  {
   "cell_type": "markdown",
   "metadata": {},
   "source": [
    "Evaluate accuracy of KRR model for varying data sizes using SCM featurization and time it"
   ]
  },
  {
   "cell_type": "code",
   "execution_count": null,
   "metadata": {},
   "outputs": [],
   "source": [
    "mae, rmse, r2 = np.zeros((m,)), np.zeros((m,)), np.zeros((m,))"
   ]
  },
  {
   "cell_type": "code",
   "execution_count": null,
   "metadata": {
    "scrolled": true
   },
   "outputs": [],
   "source": [
    "import time\n",
    "import warnings\n",
    "\n",
    "time_used = np.zeros((m,))\n",
    "\n",
    "with warnings.catch_warnings():\n",
    "    warnings.simplefilter(\"ignore\")\n",
    "    for i in range(m):\n",
    "        start = time.monotonic()\n",
    "        for train_index, test_index in kf.split(X[i]):\n",
    "            X_train, X_test = X[i][train_index], X[i][test_index]\n",
    "            Y_train, Y_test = Y[i][train_index], Y[i][test_index]\n",
    "            N_train, N_test = N[i][train_index], N[i][test_index]\n",
    "            model.fit(X_train, Y_train)\n",
    "            print(\"--- SCM PARAM OPT\")\n",
    "            print(\"---\", model.best_params_)\n",
    "            Y_pred = model.predict(X_test)\n",
    "            mae[i] += np.mean(np.abs(Y_pred - Y_test)) / NUM_SPLITS\n",
    "            rmse[i] += np.mean(((Y_pred - Y_test))**2)**0.5 / NUM_SPLITS\n",
    "            r2[i] += sklearn.metrics.r2_score(Y_test, Y_pred) / NUM_SPLITS\n",
    "        finish = time.monotonic()\n",
    "        time_used[i] = finish - start\n",
    "        print (\"--Size of dataset: %i\" %size[i])\n",
    "        print (\"SCM RESULTS MAE = %f, RMSE = %f, R-SQUARED = %f\" % (mae[i], rmse[i], r2[i]))\n",
    "        print (\"TIME TO TEST SCM %f SECONDS\" % (time_used[i]))\n",
    "        print ()"
   ]
  },
  {
   "cell_type": "markdown",
   "metadata": {},
   "source": [
    "#### Plot of time performance and accuracy of KRR model "
   ]
  },
  {
   "cell_type": "code",
   "execution_count": null,
   "metadata": {},
   "outputs": [],
   "source": [
    "import matplotlib.pyplot as plt\n",
    "\n",
    "fig, ax1 = plt.subplots()\n",
    "ax1.set_xlabel('size of dataset')\n",
    "ax1.set_ylabel('MAE (meV/atom)')\n",
    "ax1.loglog(size, mae*1e3, color='r', marker='x', label='MAE')\n",
    "\n",
    "\n",
    "ax2 = ax1.twinx()\n",
    "\n",
    "ax2.set_ylabel('time (s)')\n",
    "ax2.loglog(size, time_used, color='b', marker='.', label='time')\n",
    "\n",
    "fig.legend(loc=(0.5, 0.8))\n",
    "\n",
    "fig.tight_layout()\n",
    "plt.show()"
   ]
  },
  {
   "cell_type": "markdown",
   "metadata": {},
   "source": [
    "*Finding*: MAE is almost one order of magnitude larger than in the paper."
   ]
  },
  {
   "cell_type": "markdown",
   "metadata": {},
   "source": [
    "### Visualization of prediction"
   ]
  },
  {
   "cell_type": "markdown",
   "metadata": {},
   "source": [
    "Add sine coulomb matrix featurizer"
   ]
  },
  {
   "cell_type": "code",
   "execution_count": 7,
   "metadata": {},
   "outputs": [
    {
     "name": "stdout",
     "output_type": "stream",
     "text": [
      "CPU times: user 1.06 s, sys: 162 ms, total: 1.22 s\n",
      "Wall time: 10.4 s\n"
     ]
    }
   ],
   "source": [
    "%%time\n",
    "scm = SineCoulombMatrix()\n",
    "df = scm.featurize_dataframe(df, col_id='structure')"
   ]
  },
  {
   "cell_type": "markdown",
   "metadata": {},
   "source": [
    "Form vector descriptors using eigenvalues of the SCMs"
   ]
  },
  {
   "cell_type": "code",
   "execution_count": 8,
   "metadata": {},
   "outputs": [],
   "source": [
    "import os\n",
    "df['sine coulomb matrix'] = pd.Series([np.sort(np.linalg.eigvals(s))[::-1] \\\n",
    "    for s in df['sine coulomb matrix']], df.index)"
   ]
  },
  {
   "cell_type": "markdown",
   "metadata": {},
   "source": [
    "Input x and y"
   ]
  },
  {
   "cell_type": "code",
   "execution_count": null,
   "metadata": {},
   "outputs": [],
   "source": [
    "x = df['sine coulomb matrix'].as_matrix()\n",
    "y = df['formation_energy_per_atom'].as_matrix()"
   ]
  },
  {
   "cell_type": "markdown",
   "metadata": {},
   "source": [
    "Append each vector descriptor with zeros to make them all the same size"
   ]
  },
  {
   "cell_type": "code",
   "execution_count": null,
   "metadata": {},
   "outputs": [],
   "source": [
    "nt = max(df['nsites'])\n",
    "XLIST = []\n",
    "for i in range(len(x)):\n",
    "    XLIST.append(np.append(x[i], np.zeros(nt - x[i].shape[0])))\n",
    "x = np.array(XLIST)"
   ]
  },
  {
   "cell_type": "markdown",
   "metadata": {},
   "source": [
    "Partition into training and testing set (80% training and 20% testing)"
   ]
  },
  {
   "cell_type": "code",
   "execution_count": null,
   "metadata": {},
   "outputs": [],
   "source": [
    "x_train, x_test, y_train, y_test = train_test_split(x, y, test_size=0.2, shuffle=True)"
   ]
  },
  {
   "cell_type": "markdown",
   "metadata": {},
   "source": [
    "Kernel Ridge Regression model (Using GridSearchCV to find best hyperparameter)"
   ]
  },
  {
   "cell_type": "code",
   "execution_count": null,
   "metadata": {},
   "outputs": [],
   "source": [
    "krr = KrrScm()\n",
    "params = {}\n",
    "params['scm'] = [{'kernel' : ['rbf'], 'alpha' : [10**(-a) for a in range(2,6)],\n",
    "    'gamma': [1/2.0/s/s for s in (20000,40000,80000,160000,320000)]},\n",
    "    {'kernel' : ['laplacian'], 'alpha' : [10**(-a) for a in range(2,6)],\n",
    "    'gamma' : [1.0/s for s in (20000,40000,80000,160000,320000)]}]"
   ]
  },
  {
   "cell_type": "code",
   "execution_count": null,
   "metadata": {},
   "outputs": [],
   "source": [
    "hpsel = GridSearchCV(krr, params['scm'], cv=inner_cv, refit=True)"
   ]
  },
  {
   "cell_type": "markdown",
   "metadata": {},
   "source": [
    "Train KRR model using training set data"
   ]
  },
  {
   "cell_type": "code",
   "execution_count": null,
   "metadata": {
    "scrolled": false
   },
   "outputs": [],
   "source": [
    "import warnings\n",
    "with warnings.catch_warnings():\n",
    "    warnings.simplefilter(\"ignore\")\n",
    "    hpsel.fit(x_train, y_train)"
   ]
  },
  {
   "cell_type": "markdown",
   "metadata": {},
   "source": [
    "Assign best hyperparameters to model"
   ]
  },
  {
   "cell_type": "code",
   "execution_count": null,
   "metadata": {},
   "outputs": [],
   "source": [
    "model = hpsel.best_estimator_"
   ]
  },
  {
   "cell_type": "markdown",
   "metadata": {},
   "source": [
    "Prediction of data"
   ]
  },
  {
   "cell_type": "code",
   "execution_count": null,
   "metadata": {},
   "outputs": [],
   "source": [
    "import warnings\n",
    "with warnings.catch_warnings():\n",
    "    warnings.simplefilter(\"ignore\")\n",
    "    cv_train = cross_val_predict(model, x_train, y_train, cv=KFold(n_splits=5))\n",
    "    cv_test = cross_val_predict(model, x_test, y_test, cv=KFold(n_splits=5))"
   ]
  },
  {
   "cell_type": "code",
   "execution_count": null,
   "metadata": {},
   "outputs": [],
   "source": [
    "mae_train, mae_test = sklearn.metrics.mean_absolute_error(y_train, cv_train), sklearn.metrics.mean_absolute_error(y_test, cv_test)\n",
    "rmse_train, rmse_test = np.sqrt(sklearn.metrics.mean_squared_error(y_train, cv_train)), np.sqrt(sklearn.metrics.mean_squared_error(y_test, cv_test))\n",
    "r2_train, r2_test = sklearn.metrics.r2_score(y_train, cv_train), sklearn.metrics.r2_score(y_test, cv_test)"
   ]
  },
  {
   "cell_type": "markdown",
   "metadata": {},
   "source": [
    "Plot predictions"
   ]
  },
  {
   "cell_type": "code",
   "execution_count": null,
   "metadata": {},
   "outputs": [],
   "source": [
    "fig, (ax1, ax2) = plt.subplots(1, 2)\n",
    "\n",
    "fig.suptitle(\"Formation energy prediction\")\n",
    "\n",
    "ax1.scatter(y_train, cv_train, c='grey', marker='.')\n",
    "ax1.plot(ax1.get_xlim(), ax1.get_xlim(), 'k--')\n",
    "ax1.text(0.49, 0.026, 'Training:\\nMAE: {:.0f} meV/atom\\nRMSE:{:.0f} meV/atom\\n$R^2$:  {:.3f}'.format(mae_train*1e3, rmse_train*1e3, r2_train),\n",
    "         transform=ax1.transAxes, fontsize=8,\n",
    "         bbox={'facecolor': 'w', 'edgecolor': 'k'})\n",
    "ax1.set_title('Training')\n",
    "ax1.set_xlabel('DFT Formation_Energy (eV/atom)')\n",
    "ax1.set_ylabel('KRR Formation_energy (eV/atom)')\n",
    "\n",
    "ax2.scatter(y_test, cv_test, c='b', marker='^')\n",
    "ax2.plot(ax2.get_xlim(), ax2.get_xlim(), 'k--')\n",
    "ax2.text(1.69, 0.026, 'Testing:\\nMAE: {:.0f} meV/atom\\nRMSE:{:.0f} meV/atom\\n$R^2$:  {:.3f}'.format(mae_test*1e3, rmse_test*1e3, r2_test),\n",
    "         transform=ax1.transAxes, fontsize=8,\n",
    "         bbox={'facecolor': 'w', 'edgecolor': 'k'})\n",
    "ax2.set_title('Testing')\n",
    "ax2.set_xlabel('DFT Formation_Energy (eV/atom)')\n",
    "\n",
    "fig.set_size_inches(7, 5)"
   ]
  },
  {
   "cell_type": "markdown",
   "metadata": {},
   "source": [
    "Interestingly, the MAE here is almost similar to the MAE shown in Jong's paper (0.37 eV/atom)"
   ]
  },
  {
   "cell_type": "code",
   "execution_count": null,
   "metadata": {},
   "outputs": [],
   "source": []
  }
 ],
 "metadata": {
  "kernelspec": {
   "display_name": "Python 3",
   "language": "python",
   "name": "python3"
  },
  "language_info": {
   "codemirror_mode": {
    "name": "ipython",
    "version": 3
   },
   "file_extension": ".py",
   "mimetype": "text/x-python",
   "name": "python",
   "nbconvert_exporter": "python",
   "pygments_lexer": "ipython3",
   "version": "3.6.4"
  }
 },
 "nbformat": 4,
 "nbformat_minor": 2
}
