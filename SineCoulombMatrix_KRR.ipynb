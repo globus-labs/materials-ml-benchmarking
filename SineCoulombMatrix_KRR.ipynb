{
 "cells": [
  {
   "cell_type": "markdown",
   "metadata": {},
   "source": [
    "# Sine Coulomb Matrix - Kernel Ridge Regression (Faber et al)\n",
    "\n",
    "To predict Formation Energy of Solids using Sine Coulomb Matrix Featurization"
   ]
  },
  {
   "cell_type": "code",
   "execution_count": 1,
   "metadata": {},
   "outputs": [],
   "source": [
    "## Mostly copied from https://github.com/hackingmaterials/matminer_examples/blob/master/scripts/kernel_ridge_SCM_OFM.py (By Kyle Bystrom)\n",
    "\n",
    "import numpy as np\n",
    "import pandas as pd\n",
    "\n",
    "from pymatgen.core.structure import Structure\n",
    "\n",
    "from sklearn.kernel_ridge import KernelRidge\n",
    "from sklearn.model_selection import KFold, GridSearchCV\n",
    "import sklearn.metrics \n",
    "from sklearn.utils import shuffle\n",
    "\n",
    "from matminer.featurizers.structure import SineCoulombMatrix, OrbitalFieldMatrix\n",
    "from matminer.datasets.dataframe_loader import load_flla\n",
    "\n",
    "import argparse\n",
    "import time"
   ]
  },
  {
   "cell_type": "markdown",
   "metadata": {},
   "source": [
    "Loading flla datasets"
   ]
  },
  {
   "cell_type": "code",
   "execution_count": 2,
   "metadata": {},
   "outputs": [
    {
     "data": {
      "text/plain": [
       "(3938, 7)"
      ]
     },
     "execution_count": 2,
     "metadata": {},
     "output_type": "execute_result"
    }
   ],
   "source": [
    "df = load_flla()\n",
    "\n",
    "df.shape"
   ]
  },
  {
   "cell_type": "markdown",
   "metadata": {},
   "source": [
    "##### Data input\n",
    "\n",
    "Here, we specify several different data sizes so that we can quantify performance of Kernel Ridge Regression algorithms with respect to the data input size. "
   ]
  },
  {
   "cell_type": "code",
   "execution_count": 3,
   "metadata": {
    "scrolled": false
   },
   "outputs": [
    {
     "name": "stdout",
     "output_type": "stream",
     "text": [
      "DF SHAPE:  (10, 7)\n",
      "DF SHAPE:  (100, 7)\n",
      "DF SHAPE:  (500, 7)\n",
      "DF SHAPE:  (1000, 7)\n",
      "DF SHAPE:  (3938, 7)\n"
     ]
    },
    {
     "data": {
      "text/html": [
       "<div>\n",
       "<style scoped>\n",
       "    .dataframe tbody tr th:only-of-type {\n",
       "        vertical-align: middle;\n",
       "    }\n",
       "\n",
       "    .dataframe tbody tr th {\n",
       "        vertical-align: top;\n",
       "    }\n",
       "\n",
       "    .dataframe thead th {\n",
       "        text-align: right;\n",
       "    }\n",
       "</style>\n",
       "<table border=\"1\" class=\"dataframe\">\n",
       "  <thead>\n",
       "    <tr style=\"text-align: right;\">\n",
       "      <th></th>\n",
       "      <th>material_id</th>\n",
       "      <th>e_above_hull</th>\n",
       "      <th>formula</th>\n",
       "      <th>nsites</th>\n",
       "      <th>structure</th>\n",
       "      <th>formation_energy</th>\n",
       "      <th>formation_energy_per_atom</th>\n",
       "    </tr>\n",
       "  </thead>\n",
       "  <tbody>\n",
       "    <tr>\n",
       "      <th>0</th>\n",
       "      <td>mp-10</td>\n",
       "      <td>0.107405</td>\n",
       "      <td>{'As': 1.0}</td>\n",
       "      <td>2</td>\n",
       "      <td>[[1.11758409 0.79025129 1.93571242] As, [3.352...</td>\n",
       "      <td>0.21481</td>\n",
       "      <td>0.107405</td>\n",
       "    </tr>\n",
       "  </tbody>\n",
       "</table>\n",
       "</div>"
      ],
      "text/plain": [
       "  material_id  e_above_hull      formula  nsites  \\\n",
       "0       mp-10      0.107405  {'As': 1.0}       2   \n",
       "\n",
       "                                           structure  formation_energy  \\\n",
       "0  [[1.11758409 0.79025129 1.93571242] As, [3.352...           0.21481   \n",
       "\n",
       "   formation_energy_per_atom  \n",
       "0                   0.107405  "
      ]
     },
     "execution_count": 3,
     "metadata": {},
     "output_type": "execute_result"
    }
   ],
   "source": [
    "size = [10, 100, 500, 1000, df.shape[0]]\n",
    "\n",
    "variable_df = []\n",
    "for i in range(len(size)):\n",
    "    variable_df.append(shuffle(df)[:size[i]])\n",
    "    print (\"DF SHAPE: \" , variable_df[i].shape)\n",
    "\n",
    "df.head(1)"
   ]
  },
  {
   "cell_type": "markdown",
   "metadata": {},
   "source": [
    "Sine Coulomb Matrix"
   ]
  },
  {
   "cell_type": "code",
   "execution_count": 4,
   "metadata": {},
   "outputs": [
    {
     "name": "stdout",
     "output_type": "stream",
     "text": [
      "Time to featurize 10 datasets: 0.147507 seconds\n",
      "Time to featurize 100 datasets: 0.258314 seconds\n",
      "Time to featurize 500 datasets: 1.638560 seconds\n",
      "Time to featurize 1000 datasets: 2.311411 seconds\n",
      "Time to featurize 3938 datasets: 6.970242 seconds\n"
     ]
    }
   ],
   "source": [
    "scm = SineCoulombMatrix()\n",
    "\n",
    "m = len(size)\n",
    "\n",
    "for i in range(m):\n",
    "    start = time.monotonic()\n",
    "    variable_df[i] = scm.featurize_dataframe(variable_df[i], col_id='structure')\n",
    "    # Take the eigenvalues of the SCMs to form vector descriptors\n",
    "    variable_df[i]['sine coulomb matrix'] = pd.Series([np.sort(np.linalg.eigvals(s))[::-1] \\\n",
    "                                                              for s in variable_df[i]['sine coulomb matrix']], variable_df[i].index)\n",
    "    finish = time.monotonic()\n",
    "    print (\"Time to featurize %i datasets: %f seconds\" %(size[i], (finish-start)))"
   ]
  },
  {
   "cell_type": "markdown",
   "metadata": {},
   "source": [
    "Set up KernelRidgeRegression Model"
   ]
  },
  {
   "cell_type": "code",
   "execution_count": 5,
   "metadata": {},
   "outputs": [],
   "source": [
    "class KrrScm(KernelRidge):\n",
    "    \"\"\"\n",
    "    Custom SCM KernelRidge estimator\n",
    "\n",
    "    This estimator ensures that scores are based on formation\n",
    "    energy per atom by dividing predicted and actual y values\n",
    "    by the number of nonzero items in each row of the X matrix.\n",
    "    This is equivalent to dividing by the number of sites in\n",
    "    the corresponding structure because each vector descriptor\n",
    "    is a list of eigenvalues of the SCM.  The SCM is positive\n",
    "    definite, so its eigenvalues are positive.  This class only\n",
    "    changes the results slightly, however, so the script can\n",
    "    be simplified by replacing the SCM estimator below with a\n",
    "    plain KernelRidge() instance.\n",
    "    \"\"\"\n",
    "\n",
    "    def __init__(self, alpha=1, kernel='linear', gamma=None,\n",
    "                 degree=3, coef0=1, kernel_params=None):\n",
    "        super(KrrScm, self).__init__(alpha, kernel, gamma,\n",
    "                                     degree, coef0, kernel_params)\n",
    "\n",
    "    def score(self, X, y):\n",
    "        sizes = np.array([self.length(row) for row in X])\n",
    "        y_pred = self.predict(X) / sizes\n",
    "        y_true = y / sizes\n",
    "        return sklearn.metrics.r2_score(y_true, y_pred)\n",
    "\n",
    "    def length(self, vec):\n",
    "        return vec[vec != 0].shape[0]"
   ]
  },
  {
   "cell_type": "code",
   "execution_count": 6,
   "metadata": {},
   "outputs": [
    {
     "name": "stdout",
     "output_type": "stream",
     "text": [
      "dict_keys(['alpha', 'coef0', 'degree', 'gamma', 'kernel', 'kernel_params'])\n"
     ]
    }
   ],
   "source": [
    "krr = KrrScm()\n",
    "print (krr.get_params().keys())"
   ]
  },
  {
   "cell_type": "markdown",
   "metadata": {},
   "source": [
    "Performing GridSearchCV for hyperparameter searching"
   ]
  },
  {
   "cell_type": "code",
   "execution_count": 7,
   "metadata": {},
   "outputs": [
    {
     "data": {
      "text/plain": [
       "GridSearchCV(cv=KFold(n_splits=4, random_state=0, shuffle=False),\n",
       "       error_score='raise',\n",
       "       estimator=KrrScm(alpha=1, coef0=1, degree=3, gamma=None, kernel='linear',\n",
       "    kernel_params=None),\n",
       "       fit_params=None, iid=True, n_jobs=1,\n",
       "       param_grid=[{'kernel': ['rbf'], 'alpha': [0.01, 0.001, 0.0001, 1e-05], 'gamma': [1.25e-09, 3.125e-10, 7.8125e-11, 1.953125e-11, 4.8828125e-12]}, {'kernel': ['laplacian'], 'alpha': [0.01, 0.001, 0.0001, 1e-05], 'gamma': [5e-05, 2.5e-05, 1.25e-05, 6.25e-06, 3.125e-06]}],\n",
       "       pre_dispatch='2*n_jobs', refit=True, return_train_score='warn',\n",
       "       scoring=None, verbose=0)"
      ]
     },
     "execution_count": 7,
     "metadata": {},
     "output_type": "execute_result"
    }
   ],
   "source": [
    "NUM_SPLITS=5\n",
    "inner_cv = KFold(n_splits=NUM_SPLITS-1, shuffle=False, random_state=0)\n",
    "kf = KFold(NUM_SPLITS, False)\n",
    "\n",
    "params = {}\n",
    "params['scm'] = [{'kernel' : ['rbf'], 'alpha' : [10**(-a) for a in range(2,6)],\n",
    "    'gamma': [1/2.0/s/s for s in (20000,40000,80000,160000,320000)]},\n",
    "    {'kernel' : ['laplacian'], 'alpha' : [10**(-a) for a in range(2,6)],\n",
    "    'gamma' : [1.0/s for s in (20000,40000,80000,160000,320000)]}]\n",
    "\n",
    "model = GridSearchCV(krr, params['scm'], cv=inner_cv, refit=True)\n",
    "model"
   ]
  },
  {
   "cell_type": "markdown",
   "metadata": {},
   "source": [
    "Input X and y"
   ]
  },
  {
   "cell_type": "code",
   "execution_count": 8,
   "metadata": {},
   "outputs": [],
   "source": [
    "X = []\n",
    "Y = []\n",
    "N = []\n",
    "nt = []\n",
    "\n",
    "for i in range(m):\n",
    "    X.append(variable_df[i]['sine coulomb matrix'].as_matrix())\n",
    "    Y.append(variable_df[i]['formation_energy'].as_matrix())\n",
    "    N.append(variable_df[i]['nsites'].as_matrix())\n",
    "    nt.append(max(N[i]))"
   ]
  },
  {
   "cell_type": "markdown",
   "metadata": {},
   "source": [
    "Append each vector descriptor with zeroes to make them all the same size."
   ]
  },
  {
   "cell_type": "code",
   "execution_count": 9,
   "metadata": {},
   "outputs": [
    {
     "name": "stdout",
     "output_type": "stream",
     "text": [
      "(10, 24)\n",
      "(100, 25)\n",
      "(500, 24)\n",
      "(1000, 25)\n",
      "(3938, 25)\n"
     ]
    }
   ],
   "source": [
    "# Append each vector descriptor with zeroes to make them all the same size.\n",
    "for i in range(m):\n",
    "    XLIST = []\n",
    "    for j in range(len(X[i])):\n",
    "        XLIST.append(np.append(X[i][j], np.zeros(nt[i] - X[i][j].shape[0])))\n",
    "    X[i] = np.array(XLIST)\n",
    "    print (X[i].shape)"
   ]
  },
  {
   "cell_type": "markdown",
   "metadata": {},
   "source": [
    "Evaluate accuracy of KRR model for varying data sizes using SCM featurization and time it"
   ]
  },
  {
   "cell_type": "code",
   "execution_count": 12,
   "metadata": {},
   "outputs": [],
   "source": [
    "mae, rmse, r2 = np.zeros((m,)), np.zeros((m,)), np.zeros((m,))"
   ]
  },
  {
   "cell_type": "code",
   "execution_count": 13,
   "metadata": {
    "scrolled": true
   },
   "outputs": [
    {
     "name": "stdout",
     "output_type": "stream",
     "text": [
      "--- SCM PARAM OPT\n",
      "--- {'alpha': 0.01, 'gamma': 1.953125e-11, 'kernel': 'rbf'}\n",
      "--- SCM PARAM OPT\n",
      "--- {'alpha': 0.01, 'gamma': 4.8828125e-12, 'kernel': 'rbf'}\n",
      "--- SCM PARAM OPT\n",
      "--- {'alpha': 0.01, 'gamma': 4.8828125e-12, 'kernel': 'rbf'}\n",
      "--- SCM PARAM OPT\n",
      "--- {'alpha': 0.01, 'gamma': 4.8828125e-12, 'kernel': 'rbf'}\n",
      "--- SCM PARAM OPT\n",
      "--- {'alpha': 0.01, 'gamma': 5e-05, 'kernel': 'laplacian'}\n",
      "--Size of dataset: 10\n",
      "SCM RESULTS MAE = 10.594338, RMSE = 13.192633, R-SQUARED = -1.393800\n",
      "TIME TO TEST SCM 1.195113 SECONDS\n",
      "\n",
      "--- SCM PARAM OPT\n",
      "--- {'alpha': 0.001, 'gamma': 3.125e-06, 'kernel': 'laplacian'}\n",
      "--- SCM PARAM OPT\n",
      "--- {'alpha': 0.01, 'gamma': 3.125e-06, 'kernel': 'laplacian'}\n",
      "--- SCM PARAM OPT\n",
      "--- {'alpha': 0.01, 'gamma': 3.125e-06, 'kernel': 'laplacian'}\n",
      "--- SCM PARAM OPT\n",
      "--- {'alpha': 0.01, 'gamma': 6.25e-06, 'kernel': 'laplacian'}\n",
      "--- SCM PARAM OPT\n",
      "--- {'alpha': 0.001, 'gamma': 3.125e-06, 'kernel': 'laplacian'}\n",
      "--Size of dataset: 100\n",
      "SCM RESULTS MAE = 11.491382, RMSE = 15.264269, R-SQUARED = 0.457680\n",
      "TIME TO TEST SCM 1.441937 SECONDS\n",
      "\n",
      "--- SCM PARAM OPT\n",
      "--- {'alpha': 0.001, 'gamma': 3.125e-06, 'kernel': 'laplacian'}\n",
      "--- SCM PARAM OPT\n",
      "--- {'alpha': 0.01, 'gamma': 6.25e-06, 'kernel': 'laplacian'}\n",
      "--- SCM PARAM OPT\n",
      "--- {'alpha': 0.01, 'gamma': 6.25e-06, 'kernel': 'laplacian'}\n",
      "--- SCM PARAM OPT\n",
      "--- {'alpha': 0.01, 'gamma': 1.25e-05, 'kernel': 'laplacian'}\n",
      "--- SCM PARAM OPT\n",
      "--- {'alpha': 0.01, 'gamma': 1.25e-05, 'kernel': 'laplacian'}\n",
      "--Size of dataset: 500\n",
      "SCM RESULTS MAE = 6.855780, RMSE = 9.629464, R-SQUARED = 0.746495\n",
      "TIME TO TEST SCM 7.213104 SECONDS\n",
      "\n",
      "--- SCM PARAM OPT\n",
      "--- {'alpha': 0.01, 'gamma': 3.125e-06, 'kernel': 'laplacian'}\n",
      "--- SCM PARAM OPT\n",
      "--- {'alpha': 0.01, 'gamma': 6.25e-06, 'kernel': 'laplacian'}\n",
      "--- SCM PARAM OPT\n",
      "--- {'alpha': 0.01, 'gamma': 6.25e-06, 'kernel': 'laplacian'}\n",
      "--- SCM PARAM OPT\n",
      "--- {'alpha': 0.01, 'gamma': 3.125e-06, 'kernel': 'laplacian'}\n",
      "--- SCM PARAM OPT\n",
      "--- {'alpha': 0.01, 'gamma': 6.25e-06, 'kernel': 'laplacian'}\n",
      "--Size of dataset: 1000\n",
      "SCM RESULTS MAE = 5.560395, RMSE = 7.688200, R-SQUARED = 0.842754\n",
      "TIME TO TEST SCM 28.023487 SECONDS\n",
      "\n",
      "--- SCM PARAM OPT\n",
      "--- {'alpha': 0.001, 'gamma': 1.25e-05, 'kernel': 'laplacian'}\n",
      "--- SCM PARAM OPT\n",
      "--- {'alpha': 0.001, 'gamma': 2.5e-05, 'kernel': 'laplacian'}\n",
      "--- SCM PARAM OPT\n",
      "--- {'alpha': 0.001, 'gamma': 2.5e-05, 'kernel': 'laplacian'}\n",
      "--- SCM PARAM OPT\n",
      "--- {'alpha': 0.001, 'gamma': 1.25e-05, 'kernel': 'laplacian'}\n",
      "--- SCM PARAM OPT\n",
      "--- {'alpha': 0.001, 'gamma': 2.5e-05, 'kernel': 'laplacian'}\n",
      "--Size of dataset: 3938\n",
      "SCM RESULTS MAE = 3.822040, RMSE = 5.847463, R-SQUARED = 0.905136\n",
      "TIME TO TEST SCM 433.573878 SECONDS\n",
      "\n"
     ]
    }
   ],
   "source": [
    "import time\n",
    "import warnings\n",
    "\n",
    "time_used = np.zeros((m,))\n",
    "\n",
    "with warnings.catch_warnings():\n",
    "    warnings.simplefilter(\"ignore\")\n",
    "    for i in range(m):\n",
    "        start = time.monotonic()\n",
    "        for train_index, test_index in kf.split(X[i]):\n",
    "            X_train, X_test = X[i][train_index], X[i][test_index]\n",
    "            Y_train, Y_test = Y[i][train_index], Y[i][test_index]\n",
    "            N_train, N_test = N[i][train_index], N[i][test_index]\n",
    "            model.fit(X_train, Y_train)\n",
    "            print(\"--- SCM PARAM OPT\")\n",
    "            print(\"---\", model.best_params_)\n",
    "            Y_pred = model.predict(X_test)\n",
    "            mae[i] += np.mean(np.abs(Y_pred - Y_test)) / NUM_SPLITS\n",
    "            rmse[i] += np.mean(((Y_pred - Y_test))**2)**0.5 / NUM_SPLITS\n",
    "            r2[i] += sklearn.metrics.r2_score(Y_test, Y_pred) / NUM_SPLITS\n",
    "        finish = time.monotonic()\n",
    "        time_used[i] = finish - start\n",
    "        print (\"--Size of dataset: %i\" %size[i])\n",
    "        print (\"SCM RESULTS MAE = %f, RMSE = %f, R-SQUARED = %f\" % (mae[i], rmse[i], r2[i]))\n",
    "        print (\"TIME TO TEST SCM %f SECONDS\" % (time_used[i]))\n",
    "        print ()"
   ]
  },
  {
   "cell_type": "markdown",
   "metadata": {},
   "source": [
    "#### Plot of time performance and accuracy of KRR model "
   ]
  },
  {
   "cell_type": "code",
   "execution_count": 25,
   "metadata": {},
   "outputs": [
    {
     "data": {
      "image/png": "[encoded data removed]",
      "text/plain": [
       "<matplotlib.figure.Figure at 0x12b8ed748>"
      ]
     },
     "metadata": {},
     "output_type": "display_data"
    }
   ],
   "source": [
    "import matplotlib.pyplot as plt\n",
    "\n",
    "fig, ax1 = plt.subplots()\n",
    "ax1.set_xlabel('size of dataset')\n",
    "ax1.set_ylabel('MAE (eV/atom)')\n",
    "ax1.loglog(size, mae, color='r', marker='x', label='MAE')\n",
    "ax1.legend()\n",
    "\n",
    "ax2 = ax1.twinx()\n",
    "\n",
    "ax2.set_ylabel('time (s)')\n",
    "ax2.loglog(size, time_used, color='b', marker='o', label='time')\n",
    "ax2.legend()\n",
    "\n",
    "fig.tight_layout()\n",
    "plt.show()"
   ]
  }
 ],
 "metadata": {
  "kernelspec": {
   "display_name": "Python 3",
   "language": "python",
   "name": "python3"
  },
  "language_info": {
   "codemirror_mode": {
    "name": "ipython",
    "version": 3
   },
   "file_extension": ".py",
   "mimetype": "text/x-python",
   "name": "python",
   "nbconvert_exporter": "python",
   "pygments_lexer": "ipython3",
   "version": "3.6.4"
  }
 },
 "nbformat": 4,
 "nbformat_minor": 2
}
