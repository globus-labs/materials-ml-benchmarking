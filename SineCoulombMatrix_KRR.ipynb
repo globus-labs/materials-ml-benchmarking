{
 "cells": [
  {
   "cell_type": "markdown",
   "metadata": {},
   "source": [
    "# Sine Coulomb Matrix - Kernel Ridge Regression (Faber et al)\n",
    "\n",
    "To predict Formation Energy of Solids using Sine Coulomb Matrix Featurization"
   ]
  },
  {
   "cell_type": "code",
   "execution_count": 1,
   "metadata": {},
   "outputs": [],
   "source": [
    "## Mostly copied from https://github.com/hackingmaterials/matminer_examples/blob/master/scripts/kernel_ridge_SCM_OFM.py (By Kyle Bystrom)\n",
    "\n",
    "import numpy as np\n",
    "import pandas as pd\n",
    "\n",
    "from pymatgen.core.structure import Structure\n",
    "\n",
    "from sklearn.kernel_ridge import KernelRidge\n",
    "from sklearn.model_selection import KFold, GridSearchCV\n",
    "import sklearn.metrics \n",
    "from sklearn.utils import shuffle\n",
    "\n",
    "from matminer.featurizers.structure import SineCoulombMatrix, OrbitalFieldMatrix\n",
    "from matminer.datasets.dataframe_loader import load_flla\n",
    "\n",
    "import argparse\n",
    "import time"
   ]
  },
  {
   "cell_type": "markdown",
   "metadata": {},
   "source": [
    "Loading flla datasets"
   ]
  },
  {
   "cell_type": "code",
   "execution_count": 2,
   "metadata": {},
   "outputs": [
    {
     "data": {
      "text/plain": [
       "(3938, 7)"
      ]
     },
     "execution_count": 2,
     "metadata": {},
     "output_type": "execute_result"
    }
   ],
   "source": [
    "df = load_flla()\n",
    "\n",
    "df.shape"
   ]
  },
  {
   "cell_type": "markdown",
   "metadata": {},
   "source": [
    "##### Data input\n",
    "\n",
    "Here, we specify several different data sizes so that we can quantify performance of Kernel Ridge Regression algorithms with respect to the data input size. "
   ]
  },
  {
   "cell_type": "code",
   "execution_count": 3,
   "metadata": {
    "scrolled": false
   },
   "outputs": [
    {
     "name": "stdout",
     "output_type": "stream",
     "text": [
      "DF SHAPE:  (10, 7)\n",
      "DF SHAPE:  (100, 7)\n",
      "DF SHAPE:  (500, 7)\n",
      "DF SHAPE:  (1000, 7)\n",
      "DF SHAPE:  (3938, 7)\n"
     ]
    },
    {
     "data": {
      "text/html": [
       "<div>\n",
       "<style scoped>\n",
       "    .dataframe tbody tr th:only-of-type {\n",
       "        vertical-align: middle;\n",
       "    }\n",
       "\n",
       "    .dataframe tbody tr th {\n",
       "        vertical-align: top;\n",
       "    }\n",
       "\n",
       "    .dataframe thead th {\n",
       "        text-align: right;\n",
       "    }\n",
       "</style>\n",
       "<table border=\"1\" class=\"dataframe\">\n",
       "  <thead>\n",
       "    <tr style=\"text-align: right;\">\n",
       "      <th></th>\n",
       "      <th>material_id</th>\n",
       "      <th>e_above_hull</th>\n",
       "      <th>formula</th>\n",
       "      <th>nsites</th>\n",
       "      <th>structure</th>\n",
       "      <th>formation_energy</th>\n",
       "      <th>formation_energy_per_atom</th>\n",
       "    </tr>\n",
       "  </thead>\n",
       "  <tbody>\n",
       "    <tr>\n",
       "      <th>0</th>\n",
       "      <td>mp-10</td>\n",
       "      <td>0.107405</td>\n",
       "      <td>{'As': 1.0}</td>\n",
       "      <td>2</td>\n",
       "      <td>[[1.11758409 0.79025129 1.93571242] As, [3.352...</td>\n",
       "      <td>0.21481</td>\n",
       "      <td>0.107405</td>\n",
       "    </tr>\n",
       "  </tbody>\n",
       "</table>\n",
       "</div>"
      ],
      "text/plain": [
       "  material_id  e_above_hull      formula  nsites  \\\n",
       "0       mp-10      0.107405  {'As': 1.0}       2   \n",
       "\n",
       "                                           structure  formation_energy  \\\n",
       "0  [[1.11758409 0.79025129 1.93571242] As, [3.352...           0.21481   \n",
       "\n",
       "   formation_energy_per_atom  \n",
       "0                   0.107405  "
      ]
     },
     "execution_count": 3,
     "metadata": {},
     "output_type": "execute_result"
    }
   ],
   "source": [
    "size = [10, 100, 500, 1000, df.shape[0]]\n",
    "\n",
    "variable_df = []\n",
    "for i in range(len(size)):\n",
    "    variable_df.append(shuffle(df)[:size[i]])\n",
    "    print (\"DF SHAPE: \" , variable_df[i].shape)\n",
    "\n",
    "df.head(1)"
   ]
  },
  {
   "cell_type": "markdown",
   "metadata": {},
   "source": [
    "Sine Coulomb Matrix"
   ]
  },
  {
   "cell_type": "code",
   "execution_count": 4,
   "metadata": {},
   "outputs": [
    {
     "name": "stdout",
     "output_type": "stream",
     "text": [
      "Time to featurize 10 datasets: 0.147507 seconds\n",
      "Time to featurize 100 datasets: 0.258314 seconds\n",
      "Time to featurize 500 datasets: 1.638560 seconds\n",
      "Time to featurize 1000 datasets: 2.311411 seconds\n",
      "Time to featurize 3938 datasets: 6.970242 seconds\n"
     ]
    }
   ],
   "source": [
    "scm = SineCoulombMatrix()\n",
    "\n",
    "m = len(size)\n",
    "\n",
    "for i in range(m):\n",
    "    start = time.monotonic()\n",
    "    variable_df[i] = scm.featurize_dataframe(variable_df[i], col_id='structure')\n",
    "    # Take the eigenvalues of the SCMs to form vector descriptors\n",
    "    variable_df[i]['sine coulomb matrix'] = pd.Series([np.sort(np.linalg.eigvals(s))[::-1] \\\n",
    "                                                              for s in variable_df[i]['sine coulomb matrix']], variable_df[i].index)\n",
    "    finish = time.monotonic()\n",
    "    print (\"Time to featurize %i datasets: %f seconds\" %(size[i], (finish-start)))"
   ]
  },
  {
   "cell_type": "markdown",
   "metadata": {},
   "source": [
    "Set up KernelRidgeRegression Model"
   ]
  },
  {
   "cell_type": "code",
   "execution_count": 5,
   "metadata": {},
   "outputs": [],
   "source": [
    "class KrrScm(KernelRidge):\n",
    "    \"\"\"\n",
    "    Custom SCM KernelRidge estimator\n",
    "\n",
    "    This estimator ensures that scores are based on formation\n",
    "    energy per atom by dividing predicted and actual y values\n",
    "    by the number of nonzero items in each row of the X matrix.\n",
    "    This is equivalent to dividing by the number of sites in\n",
    "    the corresponding structure because each vector descriptor\n",
    "    is a list of eigenvalues of the SCM.  The SCM is positive\n",
    "    definite, so its eigenvalues are positive.  This class only\n",
    "    changes the results slightly, however, so the script can\n",
    "    be simplified by replacing the SCM estimator below with a\n",
    "    plain KernelRidge() instance.\n",
    "    \"\"\"\n",
    "\n",
    "    def __init__(self, alpha=1, kernel='linear', gamma=None,\n",
    "                 degree=3, coef0=1, kernel_params=None):\n",
    "        super(KrrScm, self).__init__(alpha, kernel, gamma,\n",
    "                                     degree, coef0, kernel_params)\n",
    "\n",
    "    def score(self, X, y):\n",
    "        sizes = np.array([self.length(row) for row in X])\n",
    "        y_pred = self.predict(X) / sizes\n",
    "        y_true = y / sizes\n",
    "        return sklearn.metrics.r2_score(y_true, y_pred)\n",
    "\n",
    "    def length(self, vec):\n",
    "        return vec[vec != 0].shape[0]"
   ]
  },
  {
   "cell_type": "code",
   "execution_count": 6,
   "metadata": {},
   "outputs": [
    {
     "name": "stdout",
     "output_type": "stream",
     "text": [
      "dict_keys(['alpha', 'coef0', 'degree', 'gamma', 'kernel', 'kernel_params'])\n"
     ]
    }
   ],
   "source": [
    "krr = KrrScm()\n",
    "print (krr.get_params().keys())"
   ]
  },
  {
   "cell_type": "markdown",
   "metadata": {},
   "source": [
    "Performing GridSearchCV for hyperparameter searching"
   ]
  },
  {
   "cell_type": "code",
   "execution_count": 7,
   "metadata": {},
   "outputs": [
    {
     "data": {
      "text/plain": [
       "GridSearchCV(cv=KFold(n_splits=4, random_state=0, shuffle=False),\n",
       "       error_score='raise',\n",
       "       estimator=KrrScm(alpha=1, coef0=1, degree=3, gamma=None, kernel='linear',\n",
       "    kernel_params=None),\n",
       "       fit_params=None, iid=True, n_jobs=1,\n",
       "       param_grid=[{'kernel': ['rbf'], 'alpha': [0.01, 0.001, 0.0001, 1e-05], 'gamma': [1.25e-09, 3.125e-10, 7.8125e-11, 1.953125e-11, 4.8828125e-12]}, {'kernel': ['laplacian'], 'alpha': [0.01, 0.001, 0.0001, 1e-05], 'gamma': [5e-05, 2.5e-05, 1.25e-05, 6.25e-06, 3.125e-06]}],\n",
       "       pre_dispatch='2*n_jobs', refit=True, return_train_score='warn',\n",
       "       scoring=None, verbose=0)"
      ]
     },
     "execution_count": 7,
     "metadata": {},
     "output_type": "execute_result"
    }
   ],
   "source": [
    "NUM_SPLITS=5\n",
    "inner_cv = KFold(n_splits=NUM_SPLITS-1, shuffle=False, random_state=0)\n",
    "kf = KFold(NUM_SPLITS, False)\n",
    "\n",
    "params = {}\n",
    "params['scm'] = [{'kernel' : ['rbf'], 'alpha' : [10**(-a) for a in range(2,6)],\n",
    "    'gamma': [1/2.0/s/s for s in (20000,40000,80000,160000,320000)]},\n",
    "    {'kernel' : ['laplacian'], 'alpha' : [10**(-a) for a in range(2,6)],\n",
    "    'gamma' : [1.0/s for s in (20000,40000,80000,160000,320000)]}]\n",
    "\n",
    "model = GridSearchCV(krr, params['scm'], cv=inner_cv, refit=True)\n",
    "model"
   ]
  },
  {
   "cell_type": "markdown",
   "metadata": {},
   "source": [
    "Input X and y"
   ]
  },
  {
   "cell_type": "code",
   "execution_count": 8,
   "metadata": {},
   "outputs": [],
   "source": [
    "X = []\n",
    "Y = []\n",
    "N = []\n",
    "nt = []\n",
    "\n",
    "for i in range(m):\n",
    "    X.append(variable_df[i]['sine coulomb matrix'].as_matrix())\n",
    "    Y.append(variable_df[i]['formation_energy'].as_matrix())\n",
    "    N.append(variable_df[i]['nsites'].as_matrix())\n",
    "    nt.append(max(N[i]))"
   ]
  },
  {
   "cell_type": "markdown",
   "metadata": {},
   "source": [
    "Append each vector descriptor with zeroes to make them all the same size."
   ]
  },
  {
   "cell_type": "code",
   "execution_count": 9,
   "metadata": {},
   "outputs": [
    {
     "name": "stdout",
     "output_type": "stream",
     "text": [
      "(10, 24)\n",
      "(100, 25)\n",
      "(500, 24)\n",
      "(1000, 25)\n",
      "(3938, 25)\n"
     ]
    }
   ],
   "source": [
    "# Append each vector descriptor with zeroes to make them all the same size.\n",
    "for i in range(m):\n",
    "    XLIST = []\n",
    "    for j in range(len(X[i])):\n",
    "        XLIST.append(np.append(X[i][j], np.zeros(nt[i] - X[i][j].shape[0])))\n",
    "    X[i] = np.array(XLIST)\n",
    "    print (X[i].shape)"
   ]
  },
  {
   "cell_type": "markdown",
   "metadata": {},
   "source": [
    "Evaluate accuracy of KRR model for varying data sizes using SCM featurization and time it"
   ]
  },
  {
   "cell_type": "code",
   "execution_count": 12,
   "metadata": {},
   "outputs": [],
   "source": [
    "mae, rmse, r2 = np.zeros((m,)), np.zeros((m,)), np.zeros((m,))"
   ]
  },
  {
   "cell_type": "code",
   "execution_count": 13,
   "metadata": {
    "scrolled": true
   },
   "outputs": [
    {
     "name": "stdout",
     "output_type": "stream",
     "text": [
      "--- SCM PARAM OPT\n",
      "--- {'alpha': 0.01, 'gamma': 1.953125e-11, 'kernel': 'rbf'}\n",
      "--- SCM PARAM OPT\n",
      "--- {'alpha': 0.01, 'gamma': 4.8828125e-12, 'kernel': 'rbf'}\n",
      "--- SCM PARAM OPT\n",
      "--- {'alpha': 0.01, 'gamma': 4.8828125e-12, 'kernel': 'rbf'}\n",
      "--- SCM PARAM OPT\n",
      "--- {'alpha': 0.01, 'gamma': 4.8828125e-12, 'kernel': 'rbf'}\n",
      "--- SCM PARAM OPT\n",
      "--- {'alpha': 0.01, 'gamma': 5e-05, 'kernel': 'laplacian'}\n",
      "--Size of dataset: 10\n",
      "SCM RESULTS MAE = 10.594338, RMSE = 13.192633, R-SQUARED = -1.393800\n",
      "TIME TO TEST SCM 1.195113 SECONDS\n",
      "\n",
      "--- SCM PARAM OPT\n",
      "--- {'alpha': 0.001, 'gamma': 3.125e-06, 'kernel': 'laplacian'}\n",
      "--- SCM PARAM OPT\n",
      "--- {'alpha': 0.01, 'gamma': 3.125e-06, 'kernel': 'laplacian'}\n",
      "--- SCM PARAM OPT\n",
      "--- {'alpha': 0.01, 'gamma': 3.125e-06, 'kernel': 'laplacian'}\n",
      "--- SCM PARAM OPT\n",
      "--- {'alpha': 0.01, 'gamma': 6.25e-06, 'kernel': 'laplacian'}\n",
      "--- SCM PARAM OPT\n",
      "--- {'alpha': 0.001, 'gamma': 3.125e-06, 'kernel': 'laplacian'}\n",
      "--Size of dataset: 100\n",
      "SCM RESULTS MAE = 11.491382, RMSE = 15.264269, R-SQUARED = 0.457680\n",
      "TIME TO TEST SCM 1.441937 SECONDS\n",
      "\n",
      "--- SCM PARAM OPT\n",
      "--- {'alpha': 0.001, 'gamma': 3.125e-06, 'kernel': 'laplacian'}\n",
      "--- SCM PARAM OPT\n",
      "--- {'alpha': 0.01, 'gamma': 6.25e-06, 'kernel': 'laplacian'}\n",
      "--- SCM PARAM OPT\n",
      "--- {'alpha': 0.01, 'gamma': 6.25e-06, 'kernel': 'laplacian'}\n",
      "--- SCM PARAM OPT\n",
      "--- {'alpha': 0.01, 'gamma': 1.25e-05, 'kernel': 'laplacian'}\n",
      "--- SCM PARAM OPT\n",
      "--- {'alpha': 0.01, 'gamma': 1.25e-05, 'kernel': 'laplacian'}\n",
      "--Size of dataset: 500\n",
      "SCM RESULTS MAE = 6.855780, RMSE = 9.629464, R-SQUARED = 0.746495\n",
      "TIME TO TEST SCM 7.213104 SECONDS\n",
      "\n",
      "--- SCM PARAM OPT\n",
      "--- {'alpha': 0.01, 'gamma': 3.125e-06, 'kernel': 'laplacian'}\n",
      "--- SCM PARAM OPT\n",
      "--- {'alpha': 0.01, 'gamma': 6.25e-06, 'kernel': 'laplacian'}\n",
      "--- SCM PARAM OPT\n",
      "--- {'alpha': 0.01, 'gamma': 6.25e-06, 'kernel': 'laplacian'}\n",
      "--- SCM PARAM OPT\n",
      "--- {'alpha': 0.01, 'gamma': 3.125e-06, 'kernel': 'laplacian'}\n",
      "--- SCM PARAM OPT\n",
      "--- {'alpha': 0.01, 'gamma': 6.25e-06, 'kernel': 'laplacian'}\n",
      "--Size of dataset: 1000\n",
      "SCM RESULTS MAE = 5.560395, RMSE = 7.688200, R-SQUARED = 0.842754\n",
      "TIME TO TEST SCM 28.023487 SECONDS\n",
      "\n",
      "--- SCM PARAM OPT\n",
      "--- {'alpha': 0.001, 'gamma': 1.25e-05, 'kernel': 'laplacian'}\n",
      "--- SCM PARAM OPT\n",
      "--- {'alpha': 0.001, 'gamma': 2.5e-05, 'kernel': 'laplacian'}\n",
      "--- SCM PARAM OPT\n",
      "--- {'alpha': 0.001, 'gamma': 2.5e-05, 'kernel': 'laplacian'}\n",
      "--- SCM PARAM OPT\n",
      "--- {'alpha': 0.001, 'gamma': 1.25e-05, 'kernel': 'laplacian'}\n",
      "--- SCM PARAM OPT\n",
      "--- {'alpha': 0.001, 'gamma': 2.5e-05, 'kernel': 'laplacian'}\n",
      "--Size of dataset: 3938\n",
      "SCM RESULTS MAE = 3.822040, RMSE = 5.847463, R-SQUARED = 0.905136\n",
      "TIME TO TEST SCM 433.573878 SECONDS\n",
      "\n"
     ]
    }
   ],
   "source": [
    "import time\n",
    "import warnings\n",
    "\n",
    "time_used = np.zeros((m,))\n",
    "\n",
    "with warnings.catch_warnings():\n",
    "    warnings.simplefilter(\"ignore\")\n",
    "    for i in range(m):\n",
    "        start = time.monotonic()\n",
    "        for train_index, test_index in kf.split(X[i]):\n",
    "            X_train, X_test = X[i][train_index], X[i][test_index]\n",
    "            Y_train, Y_test = Y[i][train_index], Y[i][test_index]\n",
    "            N_train, N_test = N[i][train_index], N[i][test_index]\n",
    "            model.fit(X_train, Y_train)\n",
    "            print(\"--- SCM PARAM OPT\")\n",
    "            print(\"---\", model.best_params_)\n",
    "            Y_pred = model.predict(X_test)\n",
    "            mae[i] += np.mean(np.abs(Y_pred - Y_test)) / NUM_SPLITS\n",
    "            rmse[i] += np.mean(((Y_pred - Y_test))**2)**0.5 / NUM_SPLITS\n",
    "            r2[i] += sklearn.metrics.r2_score(Y_test, Y_pred) / NUM_SPLITS\n",
    "        finish = time.monotonic()\n",
    "        time_used[i] = finish - start\n",
    "        print (\"--Size of dataset: %i\" %size[i])\n",
    "        print (\"SCM RESULTS MAE = %f, RMSE = %f, R-SQUARED = %f\" % (mae[i], rmse[i], r2[i]))\n",
    "        print (\"TIME TO TEST SCM %f SECONDS\" % (time_used[i]))\n",
    "        print ()"
   ]
  },
  {
   "cell_type": "markdown",
   "metadata": {},
   "source": [
    "#### Plot of time performance and accuracy of KRR model "
   ]
  },
  {
   "cell_type": "code",
   "execution_count": 25,
   "metadata": {},
   "outputs": [
    {
     "data": {
      "image/png": "[encoded data removed]",
      "text/plain": [
       "<matplotlib.figure.Figure at 0x12b8ed748>"
      ]
     },
     "metadata": {},
     "output_type": "display_data"
    }
   ],
   "source": [
    "import matplotlib.pyplot as plt\n",
    "\n",
    "fig, ax1 = plt.subplots()\n",
    "ax1.set_xlabel('size of dataset')\n",
    "ax1.set_ylabel('MAE (eV/atom)')\n",
    "ax1.loglog(size, mae, color='r', marker='x', label='MAE')\n",
    "ax1.legend()\n",
    "\n",
    "ax2 = ax1.twinx()\n",
    "\n",
    "ax2.set_ylabel('time (s)')\n",
    "ax2.loglog(size, time_used, color='b', marker='o', label='time')\n",
    "ax2.legend()\n",
    "\n",
    "fig.tight_layout()\n",
    "plt.show()"
   ]
  },
  {
   "cell_type": "markdown",
   "metadata": {},
   "source": [
    "# Trial using De Jong et al - Estimating Elastic Moduli using SCM KRR\n",
    "\n",
    "To predict elastic moduli of solid using featurizations from De Jong paper"
   ]
  },
  {
   "cell_type": "markdown",
   "metadata": {},
   "source": [
    "Importing featurized data\n",
    "(Takes around 20 min to load the data)"
   ]
  },
  {
   "cell_type": "code",
   "execution_count": 1,
   "metadata": {},
   "outputs": [
    {
     "name": "stdout",
     "output_type": "stream",
     "text": [
      "\u001b[H\u001b[2Jimporting Jupyter notebook from DeJong_data.ipynb\n",
      "Time to featurize: 1213.505418 seconds\n"
     ]
    },
    {
     "data": {
      "text/html": [
       "<div>\n",
       "<style scoped>\n",
       "    .dataframe tbody tr th:only-of-type {\n",
       "        vertical-align: middle;\n",
       "    }\n",
       "\n",
       "    .dataframe tbody tr th {\n",
       "        vertical-align: top;\n",
       "    }\n",
       "\n",
       "    .dataframe thead th {\n",
       "        text-align: right;\n",
       "    }\n",
       "</style>\n",
       "<table border=\"1\" class=\"dataframe\">\n",
       "  <thead>\n",
       "    <tr style=\"text-align: right;\">\n",
       "      <th></th>\n",
       "      <th>material_id</th>\n",
       "      <th>volume</th>\n",
       "      <th>structure</th>\n",
       "      <th>elastic_anisotropy</th>\n",
       "      <th>G_VRH</th>\n",
       "      <th>K_VRH</th>\n",
       "      <th>poisson_ratio</th>\n",
       "      <th>composition</th>\n",
       "      <th>group_number_-4</th>\n",
       "      <th>atomic_mass_-4</th>\n",
       "      <th>...</th>\n",
       "      <th>avg_dev CN_VoronoiNN</th>\n",
       "      <th>mean absolute deviation in relative bond length</th>\n",
       "      <th>max relative bond length</th>\n",
       "      <th>min relative bond length</th>\n",
       "      <th>minimum neighbor distance variation</th>\n",
       "      <th>maximum neighbor distance variation</th>\n",
       "      <th>range neighbor distance variation</th>\n",
       "      <th>mean neighbor distance variation</th>\n",
       "      <th>avg_dev neighbor distance variation</th>\n",
       "      <th>mean absolute deviation in relative cell size</th>\n",
       "    </tr>\n",
       "  </thead>\n",
       "  <tbody>\n",
       "    <tr>\n",
       "      <th>0</th>\n",
       "      <td>mp-10003</td>\n",
       "      <td>194.419802</td>\n",
       "      <td>[[0.94814328 2.07280467 2.5112    ] Nb, [5.273...</td>\n",
       "      <td>0.030688</td>\n",
       "      <td>97.141604</td>\n",
       "      <td>194.268884</td>\n",
       "      <td>0.285701</td>\n",
       "      <td>(Nb, Co, Si)</td>\n",
       "      <td>7.335929</td>\n",
       "      <td>54.688924</td>\n",
       "      <td>...</td>\n",
       "      <td>1.451453</td>\n",
       "      <td>0.048863</td>\n",
       "      <td>1.036647</td>\n",
       "      <td>0.911985</td>\n",
       "      <td>0.009816</td>\n",
       "      <td>0.080081</td>\n",
       "      <td>0.070264</td>\n",
       "      <td>0.058781</td>\n",
       "      <td>0.028399</td>\n",
       "      <td>0.105329</td>\n",
       "    </tr>\n",
       "  </tbody>\n",
       "</table>\n",
       "<p>1 rows × 100 columns</p>\n",
       "</div>"
      ],
      "text/plain": [
       "  material_id      volume                                          structure  \\\n",
       "0    mp-10003  194.419802  [[0.94814328 2.07280467 2.5112    ] Nb, [5.273...   \n",
       "\n",
       "   elastic_anisotropy      G_VRH       K_VRH  poisson_ratio   composition  \\\n",
       "0            0.030688  97.141604  194.268884       0.285701  (Nb, Co, Si)   \n",
       "\n",
       "   group_number_-4  atomic_mass_-4  \\\n",
       "0         7.335929       54.688924   \n",
       "\n",
       "                       ...                        avg_dev CN_VoronoiNN  \\\n",
       "0                      ...                                    1.451453   \n",
       "\n",
       "   mean absolute deviation in relative bond length  max relative bond length  \\\n",
       "0                                         0.048863                  1.036647   \n",
       "\n",
       "   min relative bond length  minimum neighbor distance variation  \\\n",
       "0                  0.911985                             0.009816   \n",
       "\n",
       "   maximum neighbor distance variation  range neighbor distance variation  \\\n",
       "0                             0.080081                           0.070264   \n",
       "\n",
       "   mean neighbor distance variation  avg_dev neighbor distance variation  \\\n",
       "0                          0.058781                             0.028399   \n",
       "\n",
       "   mean absolute deviation in relative cell size  \n",
       "0                                       0.105329  \n",
       "\n",
       "[1 rows x 100 columns]"
      ]
     },
     "execution_count": 1,
     "metadata": {},
     "output_type": "execute_result"
    }
   ],
   "source": [
    "%clear\n",
    "import import_ipynb\n",
    "import time\n",
    "\n",
    "start = time.monotonic()\n",
    "from DeJong_data import data \n",
    "finish = time.monotonic()\n",
    "\n",
    "print (\"Time to featurize: %f seconds\" %(finish-start))\n",
    "\n",
    "data.head(1)"
   ]
  },
  {
   "cell_type": "markdown",
   "metadata": {},
   "source": [
    "Input X and Y data"
   ]
  },
  {
   "cell_type": "code",
   "execution_count": 28,
   "metadata": {},
   "outputs": [
    {
     "ename": "NameError",
     "evalue": "name 'data' is not defined",
     "output_type": "error",
     "traceback": [
      "\u001b[0;31m---------------------------------------------------------------------------\u001b[0m",
      "\u001b[0;31mNameError\u001b[0m                                 Traceback (most recent call last)",
      "\u001b[0;32m<ipython-input-28-b8cd8b968dad>\u001b[0m in \u001b[0;36m<module>\u001b[0;34m()\u001b[0m\n\u001b[1;32m      1\u001b[0m \u001b[0;32mfrom\u001b[0m \u001b[0msklearn\u001b[0m\u001b[0;34m.\u001b[0m\u001b[0mpreprocessing\u001b[0m \u001b[0;32mimport\u001b[0m \u001b[0mImputer\u001b[0m\u001b[0;34m\u001b[0m\u001b[0m\n\u001b[1;32m      2\u001b[0m \u001b[0;34m\u001b[0m\u001b[0m\n\u001b[0;32m----> 3\u001b[0;31m \u001b[0msize\u001b[0m \u001b[0;34m=\u001b[0m \u001b[0;34m[\u001b[0m\u001b[0;36m10\u001b[0m\u001b[0;34m,\u001b[0m \u001b[0;36m100\u001b[0m\u001b[0;34m,\u001b[0m \u001b[0;36m500\u001b[0m\u001b[0;34m,\u001b[0m \u001b[0mdata\u001b[0m\u001b[0;34m.\u001b[0m\u001b[0mshape\u001b[0m\u001b[0;34m[\u001b[0m\u001b[0;36m0\u001b[0m\u001b[0;34m]\u001b[0m\u001b[0;34m]\u001b[0m\u001b[0;34m\u001b[0m\u001b[0m\n\u001b[0m\u001b[1;32m      4\u001b[0m \u001b[0mm\u001b[0m \u001b[0;34m=\u001b[0m \u001b[0mlen\u001b[0m\u001b[0;34m(\u001b[0m\u001b[0msize\u001b[0m\u001b[0;34m)\u001b[0m\u001b[0;34m\u001b[0m\u001b[0m\n\u001b[1;32m      5\u001b[0m \u001b[0mvariable_data\u001b[0m \u001b[0;34m=\u001b[0m \u001b[0;34m[\u001b[0m\u001b[0;34m]\u001b[0m\u001b[0;34m\u001b[0m\u001b[0m\n",
      "\u001b[0;31mNameError\u001b[0m: name 'data' is not defined"
     ]
    }
   ],
   "source": [
    "from sklearn.preprocessing import Imputer\n",
    "\n",
    "SIZE = [10, 100, 500, data.shape[0]]\n",
    "m = len(SIZE)\n",
    "variable_data = []\n",
    "\n",
    "for i in range(m):\n",
    "    variable_data.append(shuffle(data)[:SIZE[i]])\n",
    "\n",
    "learned_feature = 'G_VRH'\n",
    "I = Imputer()\n",
    "\n",
    "del_col = ['material_id', 'volume', 'elastic_anisotropy', 'G_VRH', \n",
    "                    'K_VRH', 'poisson_ratio', 'structure', 'composition']\n",
    "\n",
    "X, Y = [], []\n",
    "\n",
    "for i in range(m):\n",
    "    x = variable_data[i].drop(del_col, 1)\n",
    "    X.append(I.fit_transform(x))\n",
    "    y.append(np.log(variable_data[i][learned_feature].as_matrix()))\n"
   ]
  },
  {
   "cell_type": "code",
   "execution_count": 116,
   "metadata": {},
   "outputs": [
    {
     "data": {
      "text/plain": [
       "GridSearchCV(cv=KFold(n_splits=4, random_state=0, shuffle=False),\n",
       "       error_score='raise',\n",
       "       estimator=KernelRidge(alpha=1, coef0=1, degree=3, gamma=None, kernel='linear',\n",
       "      kernel_params=None),\n",
       "       fit_params=None, iid=True, n_jobs=1,\n",
       "       param_grid=[{'kernel': ['rbf'], 'alpha': [0.01, 0.001, 0.0001, 1e-05], 'gamma': [1.25e-09, 3.125e-10, 7.8125e-11, 1.953125e-11, 4.8828125e-12]}, {'kernel': ['laplacian'], 'alpha': [0.01, 0.001, 0.0001, 1e-05], 'gamma': [5e-05, 2.5e-05, 1.25e-05, 6.25e-06, 3.125e-06]}],\n",
       "       pre_dispatch='2*n_jobs', refit=True, return_train_score='warn',\n",
       "       scoring=None, verbose=0)"
      ]
     },
     "execution_count": 116,
     "metadata": {},
     "output_type": "execute_result"
    }
   ],
   "source": [
    "krr = KernelRidge()\n",
    "NUM_SPLITS=5\n",
    "inner_cv = KFold(n_splits=NUM_SPLITS-1, shuffle=False, random_state=0)\n",
    "kf = KFold(NUM_SPLITS, False)\n",
    "\n",
    "params = {}\n",
    "params['scm'] = [{'kernel' : ['rbf'], 'alpha' : [10**(-a) for a in range(2,6)],\n",
    "    'gamma': [1/2.0/s/s for s in (20000,40000,80000,160000,320000)]},\n",
    "    {'kernel' : ['laplacian'], 'alpha' : [10**(-a) for a in range(2,6)],\n",
    "    'gamma' : [1.0/s for s in (20000,40000,80000,160000,320000)]}]\n",
    "\n",
    "model = GridSearchCV(krr, params['scm'], cv=inner_cv, refit=True)\n",
    "model"
   ]
  },
  {
   "cell_type": "code",
   "execution_count": 117,
   "metadata": {},
   "outputs": [],
   "source": [
    "import time\n",
    "import warnings\n",
    "from sklearn.metrics import mean_squared_error, mean_absolute_error, r2_score\n",
    "\n",
    "MAE, RMSE, R2 = np.zeros((m,)), np.zeros((m,)), np.zeros((m,))\n",
    "TIME_USED = np.zeros((m,))"
   ]
  },
  {
   "cell_type": "code",
   "execution_count": 118,
   "metadata": {},
   "outputs": [
    {
     "name": "stdout",
     "output_type": "stream",
     "text": [
      "[2 3 4 5 6 7 8 9] [0 1]\n",
      "--- SCM PARAM OPT\n",
      "--- {'alpha': 1e-05, 'gamma': 3.125e-10, 'kernel': 'rbf'}\n",
      "[0 1 4 5 6 7 8 9] [2 3]\n",
      "--- SCM PARAM OPT\n",
      "--- {'alpha': 0.001, 'gamma': 1.25e-09, 'kernel': 'rbf'}\n",
      "[0 1 2 3 6 7 8 9] [4 5]\n",
      "--- SCM PARAM OPT\n",
      "--- {'alpha': 0.01, 'gamma': 5e-05, 'kernel': 'laplacian'}\n",
      "[0 1 2 3 4 5 8 9] [6 7]\n",
      "--- SCM PARAM OPT\n",
      "--- {'alpha': 0.01, 'gamma': 5e-05, 'kernel': 'laplacian'}\n",
      "[0 1 2 3 4 5 6 7] [8 9]\n",
      "--- SCM PARAM OPT\n",
      "--- {'alpha': 1e-05, 'gamma': 3.125e-06, 'kernel': 'laplacian'}\n",
      "SCM RESULTS MAE = 0.961209, RMSE = 1.190130, R-SQUARED = -2023.200666\n",
      "TIME TO TEST SCM 1.260337 SECONDS\n",
      "\n",
      "--- SCM PARAM OPT\n",
      "--- {'alpha': 0.01, 'gamma': 3.125e-06, 'kernel': 'laplacian'}\n",
      "--- SCM PARAM OPT\n",
      "--- {'alpha': 0.01, 'gamma': 3.125e-06, 'kernel': 'laplacian'}\n",
      "--- SCM PARAM OPT\n",
      "--- {'alpha': 1e-05, 'gamma': 1.953125e-11, 'kernel': 'rbf'}\n",
      "--- SCM PARAM OPT\n",
      "--- {'alpha': 0.01, 'gamma': 3.125e-06, 'kernel': 'laplacian'}\n",
      "--- SCM PARAM OPT\n",
      "--- {'alpha': 0.01, 'gamma': 6.25e-06, 'kernel': 'laplacian'}\n",
      "SCM RESULTS MAE = 0.340785, RMSE = 0.448787, R-SQUARED = 0.474300\n",
      "TIME TO TEST SCM 1.925310 SECONDS\n",
      "\n",
      "--- SCM PARAM OPT\n",
      "--- {'alpha': 0.01, 'gamma': 3.125e-06, 'kernel': 'laplacian'}\n",
      "--- SCM PARAM OPT\n",
      "--- {'alpha': 0.01, 'gamma': 3.125e-06, 'kernel': 'laplacian'}\n",
      "--- SCM PARAM OPT\n",
      "--- {'alpha': 0.01, 'gamma': 3.125e-06, 'kernel': 'laplacian'}\n",
      "--- SCM PARAM OPT\n",
      "--- {'alpha': 0.01, 'gamma': 3.125e-06, 'kernel': 'laplacian'}\n",
      "--- SCM PARAM OPT\n",
      "--- {'alpha': 0.01, 'gamma': 3.125e-06, 'kernel': 'laplacian'}\n",
      "SCM RESULTS MAE = 0.327625, RMSE = 0.434470, R-SQUARED = 0.680732\n",
      "TIME TO TEST SCM 12.345598 SECONDS\n",
      "\n",
      "--- SCM PARAM OPT\n",
      "--- {'alpha': 0.01, 'gamma': 3.125e-06, 'kernel': 'laplacian'}\n",
      "--- SCM PARAM OPT\n",
      "--- {'alpha': 0.01, 'gamma': 3.125e-06, 'kernel': 'laplacian'}\n",
      "--- SCM PARAM OPT\n",
      "--- {'alpha': 0.01, 'gamma': 6.25e-06, 'kernel': 'laplacian'}\n",
      "--- SCM PARAM OPT\n",
      "--- {'alpha': 0.01, 'gamma': 6.25e-06, 'kernel': 'laplacian'}\n",
      "--- SCM PARAM OPT\n",
      "--- {'alpha': 0.01, 'gamma': 1.25e-05, 'kernel': 'laplacian'}\n",
      "SCM RESULTS MAE = 0.309538, RMSE = 0.419103, R-SQUARED = 0.672762\n",
      "TIME TO TEST SCM 64.224729 SECONDS\n",
      "\n"
     ]
    }
   ],
   "source": [
    "with warnings.catch_warnings():\n",
    "    warnings.simplefilter(\"ignore\")\n",
    "    for i in range(m):\n",
    "        start = time.monotonic()\n",
    "        for train_index, test_index in kf.split(X[i]):\n",
    "            X_train, X_test = X[i][train_index], X[i][test_index]\n",
    "            Y_train, Y_test = Y[i][train_index], Y[i][test_index]\n",
    "            model.fit(X_train, Y_train)\n",
    "            print(\"SCM PARAM OPT\")\n",
    "            print(model.best_params_)\n",
    "            Y_pred = model.predict(X_test)\n",
    "            MAE[i] += mean_absolute_error(y_true=Y_test, y_pred=Y_pred) / NUM_SPLITS\n",
    "            RMSE[i] += nmean_squared_error(y_true=Y_test, y_pred=Y_pred)**0.5 / NUM_SPLITS\n",
    "            R2[i] += r2_score(Y_test, Y_pred) / NUM_SPLITS\n",
    "        finish = time.monotonic()\n",
    "        TIME_USED[i] = finish - start\n",
    "        print (\"-- Size of dataset: %i\" %size[i])\n",
    "        print (\"SCM RESULTS MAE = %f, RMSE = %f, R-SQUARED = %f\" % (MAE[i], RMSE[i], R2[i]))\n",
    "        print (\"TIME TO TEST SCM %f SECONDS\" % (TIME_USED[i]))\n",
    "    print ()"
   ]
  },
  {
   "cell_type": "markdown",
   "metadata": {},
   "source": [
    "Visualization of trade off between mean absolute error (MAE) and time performance"
   ]
  },
  {
   "cell_type": "code",
   "execution_count": 122,
   "metadata": {},
   "outputs": [
    {
     "data": {
      "image/png": "[encoded data removed]",
      "text/plain": [
       "<matplotlib.figure.Figure at 0x123e18cf8>"
      ]
     },
     "metadata": {},
     "output_type": "display_data"
    }
   ],
   "source": [
    "import matplotlib.pyplot as plt\n",
    "\n",
    "fig, ax1 = plt.subplots()\n",
    "ax1.set_xlabel('size of dataset')\n",
    "ax1.set_ylabel('MAE (Log(GPa))')\n",
    "ax1.loglog(SIZE, MAE, color='r', marker='x')\n",
    "\n",
    "ax2 = ax1.twinx()\n",
    "\n",
    "ax2.set_ylabel('time (s)')\n",
    "ax2.loglog(SIZE, TIME_USED, color='b', marker='x')\n",
    "\n",
    "fig.tight_layout()\n",
    "plt.show()"
   ]
  },
  {
   "cell_type": "code",
   "execution_count": null,
   "metadata": {},
   "outputs": [],
   "source": []
  }
 ],
 "metadata": {
  "kernelspec": {
   "display_name": "Python 3",
   "language": "python",
   "name": "python3"
  },
  "language_info": {
   "codemirror_mode": {
    "name": "ipython",
    "version": 3
   },
   "file_extension": ".py",
   "mimetype": "text/x-python",
   "name": "python",
   "nbconvert_exporter": "python",
   "pygments_lexer": "ipython3",
   "version": "3.6.4"
  }
 },
 "nbformat": 4,
 "nbformat_minor": 2
}
