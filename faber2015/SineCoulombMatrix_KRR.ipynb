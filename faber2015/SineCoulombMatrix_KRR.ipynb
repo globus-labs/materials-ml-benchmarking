{
 "cells": [
  {
   "cell_type": "markdown",
   "metadata": {},
   "source": [
    "# Predicting formation enthalpy of solids using Sine Coulomb Matrix representation for Kernel Ridge Regression model\n",
    "\n",
    "Here we study the accuracy and time used to predict formation enthalpies of solids using Sine Coulomb Matrix (SCM) crystal representation with Kernel Ridge Regression (KRR) model, which are used in [Faber et al (2015)](https://arxiv.org/abs/1503.07406).\n",
    "\n",
    "Code adapted from https://github.com/hackingmaterials/matminer_examples/blob/master/scripts/kernel_ridge_SCM_OFM.py (By Kyle Bystrom)"
   ]
  },
  {
   "cell_type": "markdown",
   "metadata": {},
   "source": [
    "### Import packages "
   ]
  },
  {
   "cell_type": "code",
   "execution_count": 1,
   "metadata": {},
   "outputs": [],
   "source": [
    "%matplotlib inline\n",
    "import numpy as np\n",
    "import pandas as pd\n",
    "import argparse\n",
    "import time\n",
    "import warnings\n",
    "import matplotlib.pyplot as plt\n",
    "\n",
    "from pymatgen.core.structure import Structure\n",
    "\n",
    "from sklearn.kernel_ridge import KernelRidge\n",
    "from sklearn.model_selection import KFold, ShuffleSplit, GridSearchCV, cross_val_predict, train_test_split\n",
    "from sklearn.metrics import mean_squared_error, mean_absolute_error, r2_score\n",
    "from sklearn.utils import shuffle\n",
    "\n",
    "from matminer.featurizers.structure import SineCoulombMatrix\n",
    "from matminer.datasets.dataframe_loader import load_flla"
   ]
  },
  {
   "cell_type": "markdown",
   "metadata": {},
   "source": [
    "## Loading flla datasets"
   ]
  },
  {
   "cell_type": "code",
   "execution_count": 2,
   "metadata": {},
   "outputs": [
    {
     "name": "stdout",
     "output_type": "stream",
     "text": [
      "CPU times: user 7.01 s, sys: 143 ms, total: 7.16 s\n",
      "Wall time: 7.36 s\n"
     ]
    }
   ],
   "source": [
    "%%time\n",
    "df = load_flla()"
   ]
  },
  {
   "cell_type": "code",
   "execution_count": 3,
   "metadata": {},
   "outputs": [
    {
     "data": {
      "text/html": [
       "<div>\n",
       "<style scoped>\n",
       "    .dataframe tbody tr th:only-of-type {\n",
       "        vertical-align: middle;\n",
       "    }\n",
       "\n",
       "    .dataframe tbody tr th {\n",
       "        vertical-align: top;\n",
       "    }\n",
       "\n",
       "    .dataframe thead th {\n",
       "        text-align: right;\n",
       "    }\n",
       "</style>\n",
       "<table border=\"1\" class=\"dataframe\">\n",
       "  <thead>\n",
       "    <tr style=\"text-align: right;\">\n",
       "      <th></th>\n",
       "      <th>material_id</th>\n",
       "      <th>e_above_hull</th>\n",
       "      <th>formula</th>\n",
       "      <th>nsites</th>\n",
       "      <th>structure</th>\n",
       "      <th>formation_energy</th>\n",
       "      <th>formation_energy_per_atom</th>\n",
       "    </tr>\n",
       "  </thead>\n",
       "  <tbody>\n",
       "    <tr>\n",
       "      <th>0</th>\n",
       "      <td>mp-10</td>\n",
       "      <td>0.107405</td>\n",
       "      <td>{'As': 1.0}</td>\n",
       "      <td>2</td>\n",
       "      <td>[[1.11758409 0.79025129 1.93571242] As, [3.352...</td>\n",
       "      <td>0.21481</td>\n",
       "      <td>0.107405</td>\n",
       "    </tr>\n",
       "  </tbody>\n",
       "</table>\n",
       "</div>"
      ],
      "text/plain": [
       "  material_id  e_above_hull      formula  nsites  \\\n",
       "0       mp-10      0.107405  {'As': 1.0}       2   \n",
       "\n",
       "                                           structure  formation_energy  \\\n",
       "0  [[1.11758409 0.79025129 1.93571242] As, [3.352...           0.21481   \n",
       "\n",
       "   formation_energy_per_atom  \n",
       "0                   0.107405  "
      ]
     },
     "execution_count": 3,
     "metadata": {},
     "output_type": "execute_result"
    }
   ],
   "source": [
    "df.head(1)"
   ]
  },
  {
   "cell_type": "code",
   "execution_count": 4,
   "metadata": {},
   "outputs": [
    {
     "name": "stdout",
     "output_type": "stream",
     "text": [
      "Shape of data:  (3938, 7)\n"
     ]
    }
   ],
   "source": [
    "print (\"Shape of data: \", df.shape)"
   ]
  },
  {
   "cell_type": "markdown",
   "metadata": {},
   "source": [
    "As can be seen from the two figures below, our dataset is the same as Faber's dataset. \n",
    "<img src=\"occurrence.png\" style=\"width: 600px;\"/> \n",
    "Image Source (left)  : Generated using `element_occurrence.ipynb` <br>\n",
    "Image Source (right) : [Faber 2015 Figure 2](https://arxiv.org/pdf/1503.07406.pdf)"
   ]
  },
  {
   "cell_type": "markdown",
   "metadata": {},
   "source": [
    "## Data input\n",
    "\n",
    "Here, we specify several different training set sizes to train Kernel Ridge Regression model. Performance of the trained model in predicting the testing set is then quantified."
   ]
  },
  {
   "cell_type": "code",
   "execution_count": 5,
   "metadata": {
    "scrolled": false
   },
   "outputs": [],
   "source": [
    "size = [10, 100, 500, 1000, 2000, 3000]"
   ]
  },
  {
   "cell_type": "markdown",
   "metadata": {},
   "source": [
    "#### Compute Sine Coulomb Matrix (SCM) representation"
   ]
  },
  {
   "cell_type": "code",
   "execution_count": 6,
   "metadata": {},
   "outputs": [],
   "source": [
    "scm = SineCoulombMatrix()"
   ]
  },
  {
   "cell_type": "code",
   "execution_count": 7,
   "metadata": {},
   "outputs": [
    {
     "name": "stdout",
     "output_type": "stream",
     "text": [
      "Time to featurize 3938 datasets: 5.254359 seconds\n"
     ]
    }
   ],
   "source": [
    "start = time.perf_counter()\n",
    "df = scm.featurize_dataframe(df, col_id='structure')\n",
    "# Take the eigenvalues of the SCMs to form vector descriptors\n",
    "df['sine coulomb matrix'] = pd.Series([np.sort(np.linalg.eigvals(s)) \\\n",
    "                                                          for s in df['sine coulomb matrix']], df.index)\n",
    "finish = time.perf_counter()\n",
    "print (\"Time to featurize %i datasets: %f seconds\" %(df.shape[0], (finish-start)))"
   ]
  },
  {
   "cell_type": "markdown",
   "metadata": {},
   "source": [
    "Input X and y"
   ]
  },
  {
   "cell_type": "code",
   "execution_count": 8,
   "metadata": {},
   "outputs": [],
   "source": [
    "X = df['sine coulomb matrix'].as_matrix()\n",
    "Y = df['formation_energy_per_atom'].as_matrix()\n",
    "nt = max(df['nsites'])"
   ]
  },
  {
   "cell_type": "markdown",
   "metadata": {},
   "source": [
    "Append each vector descriptor with zeroes to make them all the same size."
   ]
  },
  {
   "cell_type": "code",
   "execution_count": 9,
   "metadata": {},
   "outputs": [
    {
     "name": "stdout",
     "output_type": "stream",
     "text": [
      "(3938, 25)\n"
     ]
    }
   ],
   "source": [
    "XLIST = []\n",
    "for x in X:\n",
    "    XLIST.append(np.append(x, np.zeros(nt - x.shape[0])))\n",
    "X = np.array(XLIST)\n",
    "print (X.shape)"
   ]
  },
  {
   "cell_type": "markdown",
   "metadata": {},
   "source": [
    "## Build ML model\n",
    "\n",
    "Set up KernelRidgeRegression Model"
   ]
  },
  {
   "cell_type": "code",
   "execution_count": 10,
   "metadata": {},
   "outputs": [],
   "source": [
    "krr = KernelRidge()"
   ]
  },
  {
   "cell_type": "markdown",
   "metadata": {},
   "source": [
    "Cross validation with 5 splits is used"
   ]
  },
  {
   "cell_type": "code",
   "execution_count": 11,
   "metadata": {},
   "outputs": [],
   "source": [
    "num_splits = 5\n",
    "inner_cv = KFold(n_splits=num_splits-1, shuffle=False, random_state=0)"
   ]
  },
  {
   "cell_type": "markdown",
   "metadata": {},
   "source": [
    "Performing GridSearchCV for hyperparameter searching"
   ]
  },
  {
   "cell_type": "code",
   "execution_count": 12,
   "metadata": {},
   "outputs": [],
   "source": [
    "params = {}\n",
    "params['scm'] = [{'kernel' : ['rbf'], 'alpha' : [10**(-a) for a in range(2,6)],\n",
    "    'gamma': [1/2.0/s/s for s in (20000,40000,80000,160000,320000)]},\n",
    "    {'kernel' : ['laplacian'], 'alpha' : [10**(-a) for a in range(2,6)],\n",
    "    'gamma' : [1.0/s for s in (20000,40000,80000,160000,320000)]}]"
   ]
  },
  {
   "cell_type": "code",
   "execution_count": 13,
   "metadata": {},
   "outputs": [],
   "source": [
    "model = GridSearchCV(krr, params['scm'], cv=inner_cv, refit=True)"
   ]
  },
  {
   "cell_type": "markdown",
   "metadata": {},
   "source": [
    "Evaluate accuracy of KRR model for varying data sizes using SCM featurization and time it"
   ]
  },
  {
   "cell_type": "code",
   "execution_count": 14,
   "metadata": {},
   "outputs": [],
   "source": [
    "metrics = ['mae', 'rmse', 'r2', 'time_used', 'optimum_param']\n",
    "results = dict.fromkeys(size)\n",
    "for k in results:\n",
    "    results[k] = dict.fromkeys(metrics, 0.0)"
   ]
  },
  {
   "cell_type": "code",
   "execution_count": 15,
   "metadata": {
    "scrolled": true
   },
   "outputs": [],
   "source": [
    "results = []\n",
    "with warnings.catch_warnings():\n",
    "    warnings.simplefilter(\"ignore\")\n",
    "    for s in size:\n",
    "        start = time.perf_counter()\n",
    "        mae, rmse, r2 = 0.0, 0.0, 0.0\n",
    "        shuffle = ShuffleSplit(n_splits=num_splits, train_size=s)\n",
    "        for train_index, test_index in shuffle.split(X):\n",
    "            x_train, x_test = X[train_index], X[test_index]\n",
    "            y_train, y_test = Y[train_index], Y[test_index]\n",
    "            model.fit(x_train, y_train)\n",
    "            y_pred = model.predict(x_test)\n",
    "            mae += mean_absolute_error(y_pred, y_test) / num_splits\n",
    "            rmse += np.sqrt(mean_squared_error(y_pred, y_test)) / num_splits\n",
    "            r2 += r2_score(y_test, y_pred) / num_splits\n",
    "        finish = time.perf_counter()\n",
    "        results.append({'size': s, 'mae': mae, 'rmse': rmse, 'r2': r2, 'time_used': finish-start, 'optimum_param': model.best_params_})"
   ]
  },
  {
   "cell_type": "markdown",
   "metadata": {},
   "source": [
    "Results of accuracy and time performance with respect to training set size"
   ]
  },
  {
   "cell_type": "code",
   "execution_count": 27,
   "metadata": {},
   "outputs": [
    {
     "data": {
      "text/html": [
       "<div>\n",
       "<style scoped>\n",
       "    .dataframe tbody tr th:only-of-type {\n",
       "        vertical-align: middle;\n",
       "    }\n",
       "\n",
       "    .dataframe tbody tr th {\n",
       "        vertical-align: top;\n",
       "    }\n",
       "\n",
       "    .dataframe thead th {\n",
       "        text-align: right;\n",
       "    }\n",
       "</style>\n",
       "<table border=\"1\" class=\"dataframe\">\n",
       "  <thead>\n",
       "    <tr style=\"text-align: right;\">\n",
       "      <th></th>\n",
       "      <th>mae</th>\n",
       "      <th>optimum_param</th>\n",
       "      <th>r2</th>\n",
       "      <th>rmse</th>\n",
       "      <th>time_used</th>\n",
       "    </tr>\n",
       "    <tr>\n",
       "      <th>size</th>\n",
       "      <th></th>\n",
       "      <th></th>\n",
       "      <th></th>\n",
       "      <th></th>\n",
       "      <th></th>\n",
       "    </tr>\n",
       "  </thead>\n",
       "  <tbody>\n",
       "    <tr>\n",
       "      <th>10</th>\n",
       "      <td>0.886327</td>\n",
       "      <td>{'alpha': 0.01, 'gamma': 2.5e-05, 'kernel': 'l...</td>\n",
       "      <td>-0.222985</td>\n",
       "      <td>1.145042</td>\n",
       "      <td>1.200375</td>\n",
       "    </tr>\n",
       "    <tr>\n",
       "      <th>100</th>\n",
       "      <td>0.711855</td>\n",
       "      <td>{'alpha': 1e-05, 'gamma': 1.25e-05, 'kernel': ...</td>\n",
       "      <td>0.234334</td>\n",
       "      <td>0.936100</td>\n",
       "      <td>1.530647</td>\n",
       "    </tr>\n",
       "    <tr>\n",
       "      <th>500</th>\n",
       "      <td>0.521381</td>\n",
       "      <td>{'alpha': 0.01, 'gamma': 6.25e-06, 'kernel': '...</td>\n",
       "      <td>0.590995</td>\n",
       "      <td>0.691191</td>\n",
       "      <td>9.197117</td>\n",
       "    </tr>\n",
       "    <tr>\n",
       "      <th>1000</th>\n",
       "      <td>0.438866</td>\n",
       "      <td>{'alpha': 0.01, 'gamma': 1.25e-05, 'kernel': '...</td>\n",
       "      <td>0.681615</td>\n",
       "      <td>0.601708</td>\n",
       "      <td>41.093267</td>\n",
       "    </tr>\n",
       "    <tr>\n",
       "      <th>2000</th>\n",
       "      <td>0.382148</td>\n",
       "      <td>{'alpha': 0.01, 'gamma': 6.25e-06, 'kernel': '...</td>\n",
       "      <td>0.724225</td>\n",
       "      <td>0.540696</td>\n",
       "      <td>185.905743</td>\n",
       "    </tr>\n",
       "    <tr>\n",
       "      <th>3000</th>\n",
       "      <td>0.343390</td>\n",
       "      <td>{'alpha': 0.01, 'gamma': 1.25e-05, 'kernel': '...</td>\n",
       "      <td>0.792822</td>\n",
       "      <td>0.488853</td>\n",
       "      <td>419.317211</td>\n",
       "    </tr>\n",
       "  </tbody>\n",
       "</table>\n",
       "</div>"
      ],
      "text/plain": [
       "           mae                                      optimum_param        r2  \\\n",
       "size                                                                          \n",
       "10    0.886327  {'alpha': 0.01, 'gamma': 2.5e-05, 'kernel': 'l... -0.222985   \n",
       "100   0.711855  {'alpha': 1e-05, 'gamma': 1.25e-05, 'kernel': ...  0.234334   \n",
       "500   0.521381  {'alpha': 0.01, 'gamma': 6.25e-06, 'kernel': '...  0.590995   \n",
       "1000  0.438866  {'alpha': 0.01, 'gamma': 1.25e-05, 'kernel': '...  0.681615   \n",
       "2000  0.382148  {'alpha': 0.01, 'gamma': 6.25e-06, 'kernel': '...  0.724225   \n",
       "3000  0.343390  {'alpha': 0.01, 'gamma': 1.25e-05, 'kernel': '...  0.792822   \n",
       "\n",
       "          rmse   time_used  \n",
       "size                        \n",
       "10    1.145042    1.200375  \n",
       "100   0.936100    1.530647  \n",
       "500   0.691191    9.197117  \n",
       "1000  0.601708   41.093267  \n",
       "2000  0.540696  185.905743  \n",
       "3000  0.488853  419.317211  "
      ]
     },
     "execution_count": 27,
     "metadata": {},
     "output_type": "execute_result"
    }
   ],
   "source": [
    "results = pd.DataFrame(results)\n",
    "results.set_index(\"size\")"
   ]
  },
  {
   "cell_type": "markdown",
   "metadata": {},
   "source": [
    "#### Plot of time performance and accuracy of KRR model "
   ]
  },
  {
   "cell_type": "code",
   "execution_count": 26,
   "metadata": {},
   "outputs": [
    {
     "data": {
      "image/png": "[encoded data removed]",
      "text/plain": [
       "<matplotlib.figure.Figure at 0x110b3cdd8>"
      ]
     },
     "metadata": {},
     "output_type": "display_data"
    }
   ],
   "source": [
    "fig, ax1 = plt.subplots()\n",
    "ax1.set_xlabel('size of training set')\n",
    "ax1.set_ylabel('$MAE_{test}$ (meV/atom)')\n",
    "ax1.loglog(size, results['mae']*1e3, color='r', marker='x', label='MAE')\n",
    "ax1.set_ylim([3e2, 1e3])\n",
    "\n",
    "ax2 = ax1.twinx()\n",
    "\n",
    "ax2.set_ylabel('time (s)')\n",
    "ax2.loglog(size, results['time_used'], color='b', marker='.', label='time')\n",
    "\n",
    "fig.legend(loc=(0.5, 0.8))\n",
    "\n",
    "fig.tight_layout()\n",
    "plt.show()"
   ]
  },
  {
   "cell_type": "markdown",
   "metadata": {},
   "source": [
    "*Finding*: Mean absolute error is similar to the error in Faber's paper, as shown below (red line: SCM).\n",
    "<img src='fig3.png' width=300/>"
   ]
  },
  {
   "cell_type": "markdown",
   "metadata": {},
   "source": [
    "## Visualization of prediction\n",
    "\n",
    "Here, we train the KRR model using a training set of 3000 compounds (Same as in Faber's paper). The model is then used to predict a distinct testing set and a visualization of the prediction accuracy is presented."
   ]
  },
  {
   "cell_type": "markdown",
   "metadata": {},
   "source": [
    "Partition into training and testing set <br>\n",
    "Training - 3000 compounds; Testing - 938 compounds"
   ]
  },
  {
   "cell_type": "code",
   "execution_count": 18,
   "metadata": {},
   "outputs": [],
   "source": [
    "x_train, x_test, y_train, y_test = train_test_split(X, Y, test_size=df.shape[0]-3000, shuffle=True)"
   ]
  },
  {
   "cell_type": "markdown",
   "metadata": {},
   "source": [
    "Kernel Ridge Regression model (Using GridSearchCV to find best hyperparameter)"
   ]
  },
  {
   "cell_type": "code",
   "execution_count": 19,
   "metadata": {},
   "outputs": [],
   "source": [
    "krr = KernelRidge()"
   ]
  },
  {
   "cell_type": "code",
   "execution_count": 20,
   "metadata": {},
   "outputs": [],
   "source": [
    "hpsel = GridSearchCV(krr, params['scm'], cv=inner_cv, refit=True)"
   ]
  },
  {
   "cell_type": "markdown",
   "metadata": {},
   "source": [
    "Train KRR model using training set data"
   ]
  },
  {
   "cell_type": "code",
   "execution_count": 21,
   "metadata": {
    "scrolled": false
   },
   "outputs": [],
   "source": [
    "with warnings.catch_warnings():\n",
    "    warnings.simplefilter(\"ignore\")\n",
    "    hpsel.fit(x_train, y_train)"
   ]
  },
  {
   "cell_type": "markdown",
   "metadata": {},
   "source": [
    "Assign best hyperparameters to model"
   ]
  },
  {
   "cell_type": "code",
   "execution_count": 22,
   "metadata": {},
   "outputs": [],
   "source": [
    "model = hpsel.best_estimator_"
   ]
  },
  {
   "cell_type": "markdown",
   "metadata": {},
   "source": [
    "Prediction of data"
   ]
  },
  {
   "cell_type": "code",
   "execution_count": 23,
   "metadata": {},
   "outputs": [],
   "source": [
    "with warnings.catch_warnings():\n",
    "    warnings.simplefilter(\"ignore\")\n",
    "    cv_train = cross_val_predict(model, x_train, y_train, cv=KFold(n_splits=5))\n",
    "    cv_test = cross_val_predict(model, x_test, y_test, cv=KFold(n_splits=5))"
   ]
  },
  {
   "cell_type": "markdown",
   "metadata": {},
   "source": [
    "Statistics of testing set prediction"
   ]
  },
  {
   "cell_type": "code",
   "execution_count": 24,
   "metadata": {},
   "outputs": [],
   "source": [
    "mae_train, mae_test = mean_absolute_error(y_train, cv_train), mean_absolute_error(y_test, cv_test)\n",
    "rmse_train, rmse_test = np.sqrt(mean_squared_error(y_train, cv_train)), np.sqrt(mean_squared_error(y_test, cv_test))\n",
    "r2_train, r2_test = r2_score(y_train, cv_train), r2_score(y_test, cv_test)"
   ]
  },
  {
   "cell_type": "markdown",
   "metadata": {},
   "source": [
    "Plot predictions"
   ]
  },
  {
   "cell_type": "code",
   "execution_count": 25,
   "metadata": {},
   "outputs": [
    {
     "data": {
      "image/png": "[encoded data removed]",
      "text/plain": [
       "<matplotlib.figure.Figure at 0x1151eee48>"
      ]
     },
     "metadata": {},
     "output_type": "display_data"
    }
   ],
   "source": [
    "fig, (ax1, ax2) = plt.subplots(1, 2)\n",
    "\n",
    "ax1.scatter(y_train, cv_train, c='grey', marker='.')\n",
    "ax1.plot(ax1.get_xlim(), ax1.get_xlim(), 'k--')\n",
    "ax1.text(0.495, 0.026, 'Training:\\nMAE: {:.0f} meV/atom\\nRMSE:{:.0f} meV/atom\\n$R^2$: {:.3f}'.format(mae_train*1e3, rmse_train*1e3, r2_train),\n",
    "         transform=ax1.transAxes, fontsize=8,\n",
    "         bbox={'facecolor': 'w', 'edgecolor': 'k'})\n",
    "ax1.set_title('Training')\n",
    "ax1.set_xlabel('DFT Formation_Energy (eV/atom)')\n",
    "ax1.set_ylabel('KRR Formation_energy (eV/atom)')\n",
    "\n",
    "ax2.scatter(y_test, cv_test, c='b', marker='^')\n",
    "ax2.plot(ax2.get_xlim(), ax2.get_xlim(), 'k--')\n",
    "ax2.text(1.68, 0.026, 'Testing:\\nMAE: {:.0f} meV/atom\\nRMSE: {:.0f} meV/atom\\n$R^2$: {:.3f}'.format(mae_test*1e3, rmse_test*1e3, r2_test),\n",
    "         transform=ax1.transAxes, fontsize=8,\n",
    "         bbox={'facecolor': 'w', 'edgecolor': 'k'})\n",
    "ax2.set_title('Testing')\n",
    "ax2.set_xlabel('DFT Formation_Energy (eV/atom)')\n",
    "\n",
    "fig.set_size_inches(7, 5)"
   ]
  },
  {
   "cell_type": "markdown",
   "metadata": {},
   "source": [
    "MAE of prediction here (0.51 meV/atom) is close to the MAE shown in Faber\n",
    "'s paper (0.37 eV/atom)"
   ]
  },
  {
   "cell_type": "code",
   "execution_count": null,
   "metadata": {},
   "outputs": [],
   "source": []
  }
 ],
 "metadata": {
  "kernelspec": {
   "display_name": "Python 3",
   "language": "python",
   "name": "python3"
  },
  "language_info": {
   "codemirror_mode": {
    "name": "ipython",
    "version": 3
   },
   "file_extension": ".py",
   "mimetype": "text/x-python",
   "name": "python",
   "nbconvert_exporter": "python",
   "pygments_lexer": "ipython3",
   "version": "3.6.4"
  }
 },
 "nbformat": 4,
 "nbformat_minor": 2
}
