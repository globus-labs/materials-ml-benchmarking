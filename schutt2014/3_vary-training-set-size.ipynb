{
 "cells": [
  {
   "cell_type": "markdown",
   "metadata": {},
   "source": [
    "# Mean absolute error of DOS prediction with respect to variation in training set size \n",
    "\n",
    "In Part 3, we study how MAE of DOS prediction changes with respect to variation in training set size ([Schutt et al paper](https://journals.aps.org/prb/abstract/10.1103/PhysRevB.89.205118))."
   ]
  },
  {
   "cell_type": "markdown",
   "metadata": {},
   "source": [
    "Import packages"
   ]
  },
  {
   "cell_type": "code",
   "execution_count": 1,
   "metadata": {},
   "outputs": [
    {
     "name": "stderr",
     "output_type": "stream",
     "text": [
      "/home/amoffet2/anaconda3/lib/python3.6/importlib/_bootstrap.py:219: RuntimeWarning: numpy.dtype size changed, may indicate binary incompatibility. Expected 96, got 88\n",
      "  return f(*args, **kwds)\n",
      "/home/amoffet2/anaconda3/lib/python3.6/importlib/_bootstrap.py:219: RuntimeWarning: numpy.dtype size changed, may indicate binary incompatibility. Expected 96, got 88\n",
      "  return f(*args, **kwds)\n",
      "/home/amoffet2/anaconda3/lib/python3.6/importlib/_bootstrap.py:219: RuntimeWarning: numpy.dtype size changed, may indicate binary incompatibility. Expected 96, got 88\n",
      "  return f(*args, **kwds)\n"
     ]
    }
   ],
   "source": [
    "%matplotlib inline\n",
    "import numpy as np\n",
    "import pandas as pd\n",
    "import matplotlib.pyplot as plt\n",
    "\n",
    "from sklearn.utils import shuffle\n",
    "from sklearn.kernel_ridge import KernelRidge\n",
    "from sklearn.model_selection import cross_val_score, KFold, train_test_split, ShuffleSplit\n",
    "from sklearn import metrics\n",
    "\n",
    "from sklearn.linear_model import LinearRegression"
   ]
  },
  {
   "cell_type": "markdown",
   "metadata": {},
   "source": [
    "Import featurized data"
   ]
  },
  {
   "cell_type": "code",
   "execution_count": 2,
   "metadata": {},
   "outputs": [
    {
     "name": "stdout",
     "output_type": "stream",
     "text": [
      "CPU times: user 11.5 s, sys: 3.33 s, total: 14.8 s\n",
      "Wall time: 21 s\n"
     ]
    }
   ],
   "source": [
    "%%time\n",
    "data = pd.read_pickle('./schutt_cutoff10_binsize20.pkl')"
   ]
  },
  {
   "cell_type": "markdown",
   "metadata": {},
   "source": [
    "Drop compounds without DOS value"
   ]
  },
  {
   "cell_type": "code",
   "execution_count": 3,
   "metadata": {},
   "outputs": [
    {
     "name": "stdout",
     "output_type": "stream",
     "text": [
      "Shape of data:  (6174, 12085)\n"
     ]
    }
   ],
   "source": [
    "data = data.dropna(subset=['dos'])\n",
    "print (\"Shape of data: \", data.shape)"
   ]
  },
  {
   "cell_type": "markdown",
   "metadata": {},
   "source": [
    "Count sp and spd systems"
   ]
  },
  {
   "cell_type": "code",
   "execution_count": 4,
   "metadata": {},
   "outputs": [],
   "source": [
    "count = data['max_orbital'].value_counts(sort=True)"
   ]
  },
  {
   "cell_type": "markdown",
   "metadata": {},
   "source": [
    "Partition compounds into sp and spd systems"
   ]
  },
  {
   "cell_type": "code",
   "execution_count": 5,
   "metadata": {},
   "outputs": [],
   "source": [
    "data = data.sort_values(by=['max_orbital'])"
   ]
  },
  {
   "cell_type": "code",
   "execution_count": 6,
   "metadata": {},
   "outputs": [],
   "source": [
    "systems_data = {'sp': data[:count['sp']], 'spd': data[count['sp']:]}"
   ]
  },
  {
   "cell_type": "code",
   "execution_count": 7,
   "metadata": {},
   "outputs": [
    {
     "name": "stdout",
     "output_type": "stream",
     "text": [
      "Size of sp systems:  423\n",
      "Size of spd systems:  5751\n"
     ]
    }
   ],
   "source": [
    "print (\"Size of sp systems: \", systems_data['sp'].shape[0])\n",
    "print (\"Size of spd systems: \", systems_data['spd'].shape[0])"
   ]
  },
  {
   "cell_type": "markdown",
   "metadata": {},
   "source": [
    "Specify size of training set"
   ]
  },
  {
   "cell_type": "code",
   "execution_count": 8,
   "metadata": {},
   "outputs": [],
   "source": [
    "size_sp = [10, 50] + list(np.arange(100, systems_data['sp'].shape[0] - 100, 100))\n",
    "size_spd = [10, 100, 500] + list(np.arange(1000, systems_data['spd'].shape[0], 1000))"
   ]
  },
  {
   "cell_type": "markdown",
   "metadata": {},
   "source": [
    "Drop unnecessary columns"
   ]
  },
  {
   "cell_type": "code",
   "execution_count": 9,
   "metadata": {},
   "outputs": [],
   "source": [
    "systems_data['sp'] = systems_data['sp'].drop(['material_id', 'pretty_formula', 'structure', 'structure_obj',\n",
    "       'composition_obj', 'max_atom_num', 'max_orbital', 'dos_obj', 'volume'], 1)\n",
    "systems_data['spd'] = systems_data['spd'].drop(['material_id', 'pretty_formula', 'structure', 'structure_obj',\n",
    "       'composition_obj', 'max_atom_num', 'max_orbital', 'dos_obj', 'volume'], 1)"
   ]
  },
  {
   "cell_type": "markdown",
   "metadata": {},
   "source": [
    "Evaluate performance of KRR models with varied training set sizes using ShuffleSplit over 30 iterations.\n",
    "- sp system testing set size: 100 \n",
    "- spd system testing set size: 500"
   ]
  },
  {
   "cell_type": "code",
   "execution_count": 10,
   "metadata": {
    "scrolled": true
   },
   "outputs": [],
   "source": [
    "score_sp = dict.fromkeys(size_sp)\n",
    "X, Y = systems_data['sp'].drop(['dos'], 1), systems_data['sp']['dos']\n",
    "for size in size_sp:\n",
    "    krr = KernelRidge(kernel='laplacian', alpha=0.0001, gamma=5e-5)\n",
    "    cv = ShuffleSplit(n_splits=30, train_size=size, test_size=100)\n",
    "    score_sp[size] = cross_val_score(krr, X, Y, cv=cv, scoring='neg_mean_absolute_error')"
   ]
  },
  {
   "cell_type": "code",
   "execution_count": 11,
   "metadata": {
    "scrolled": true
   },
   "outputs": [],
   "source": [
    "score_spd = dict.fromkeys(size_spd)\n",
    "X, Y = systems_data['spd'].drop(['dos'], 1), systems_data['spd']['dos']\n",
    "for size in size_spd:\n",
    "    krr = KernelRidge(kernel='laplacian', alpha=1e-5, gamma=5e-5)\n",
    "    cv = ShuffleSplit(n_splits=30, train_size=size, test_size=500)\n",
    "    score_spd[size] = cross_val_score(krr, X, Y, cv=cv, scoring='neg_mean_absolute_error')"
   ]
  },
  {
   "cell_type": "markdown",
   "metadata": {},
   "source": [
    "Compute aggregate statistics"
   ]
  },
  {
   "cell_type": "code",
   "execution_count": 12,
   "metadata": {},
   "outputs": [
    {
     "name": "stdout",
     "output_type": "stream",
     "text": [
      "sp system score:\n",
      "10 : -0.0015183975365547805\n",
      "50 : -0.001392704443407457\n",
      "100 : -0.0013505691901411151\n",
      "200 : -0.0013437642035577927\n",
      "300 : -0.001326195708808146\n",
      "\n",
      "spd system score:\n",
      "10 : -0.00141477427672967\n",
      "100 : -0.0014437697127505232\n",
      "500 : -0.0013592424011286868\n",
      "1000 : -0.0012777896570448657\n",
      "2000 : -0.0012795992193411982\n",
      "3000 : -0.001262399112633837\n",
      "4000 : -0.0012979238046152773\n",
      "5000 : -0.001277412544122061\n"
     ]
    }
   ],
   "source": [
    "print (\"sp system score:\")\n",
    "for size in score_sp:\n",
    "    print (size, \":\", score_sp[size].mean())\n",
    "print ()\n",
    "print (\"spd system score:\")\n",
    "for size in score_spd:\n",
    "    print (size, \":\", score_spd[size].mean())"
   ]
  },
  {
   "cell_type": "markdown",
   "metadata": {},
   "source": [
    "Plot predictions"
   ]
  },
  {
   "cell_type": "code",
   "execution_count": 13,
   "metadata": {},
   "outputs": [
    {
     "data": {
      "image/png": "[encoded data removed]",
      "text/plain": [
       "<matplotlib.figure.Figure at 0x2b803c2b83c8>"
      ]
     },
     "metadata": {},
     "output_type": "display_data"
    }
   ],
   "source": [
    "mae_sp = [np.abs(score_sp[size].mean()) for size in score_sp]\n",
    "mae_spd = [np.abs(score_spd[size].mean()) for size in score_spd]\n",
    "\n",
    "plt.plot(size_sp, mae_sp, color='r', marker='s', label='sp')\n",
    "plt.plot(size_spd, mae_spd, color='b', marker='^', label='spd')\n",
    "\n",
    "plt.xlabel(\"Size of training set\")\n",
    "plt.ylabel(\"MAE $(states/eV/A^3)$\")\n",
    "\n",
    "plt.legend()\n",
    "fig = plt.gcf()\n",
    "fig.set_size_inches(5,4)"
   ]
  },
  {
   "cell_type": "code",
   "execution_count": 14,
   "metadata": {},
   "outputs": [],
   "source": []
  }
 ],
 "metadata": {
  "kernelspec": {
   "display_name": "Python 3",
   "language": "python",
   "name": "python3"
  },
  "language_info": {
   "codemirror_mode": {
    "name": "ipython",
    "version": 3
   },
   "file_extension": ".py",
   "mimetype": "text/x-python",
   "name": "python",
   "nbconvert_exporter": "python",
   "pygments_lexer": "ipython3",
   "version": "3.6.4"
  }
 },
 "nbformat": 4,
 "nbformat_minor": 2
}
