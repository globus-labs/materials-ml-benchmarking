{
 "cells": [
  {
   "cell_type": "markdown",
   "metadata": {},
   "source": [
    "# Mean absolute error of DOS prediction with respect to variation in training set size \n",
    "\n",
    "In Part 3, we study how MAE of DOS prediction changes with respect to variation in training set size ([Schutt et al paper](https://journals.aps.org/prb/abstract/10.1103/PhysRevB.89.205118))."
   ]
  },
  {
   "cell_type": "markdown",
   "metadata": {},
   "source": [
    "Import packages"
   ]
  },
  {
   "cell_type": "code",
   "execution_count": 1,
   "metadata": {},
   "outputs": [],
   "source": [
    "%matplotlib inline\n",
    "import numpy as np\n",
    "import pandas as pd\n",
    "import matplotlib.pyplot as plt\n",
    "\n",
    "from sklearn.utils import shuffle\n",
    "from sklearn.kernel_ridge import KernelRidge\n",
    "from sklearn.model_selection import cross_val_score, KFold, train_test_split, ShuffleSplit\n",
    "from sklearn import metrics\n",
    "\n",
    "from sklearn.linear_model import LinearRegression"
   ]
  },
  {
   "cell_type": "markdown",
   "metadata": {},
   "source": [
    "Import featurized data"
   ]
  },
  {
   "cell_type": "code",
   "execution_count": 2,
   "metadata": {},
   "outputs": [],
   "source": [
    "%%time\n",
    "data = pd.read_pickle('./schutt_cutoff10_binsize20.pkl')"
   ]
  },
  {
   "cell_type": "markdown",
   "metadata": {},
   "source": [
    "Drop compounds without DOS value"
   ]
  },
  {
   "cell_type": "code",
   "execution_count": 3,
   "metadata": {},
   "outputs": [
    {
     "name": "stdout",
     "output_type": "stream",
     "text": [
      "Shape of data:  (6174, 12085)\n"
     ]
    }
   ],
   "source": [
    "data = data.dropna(subset=['dos'])\n",
    "print (\"Shape of data: \", data.shape)"
   ]
  },
  {
   "cell_type": "markdown",
   "metadata": {},
   "source": [
    "Count sp and spd systems"
   ]
  },
  {
   "cell_type": "code",
   "execution_count": 4,
   "metadata": {},
   "outputs": [],
   "source": [
    "count = data['max_orbital'].value_counts(sort=True)"
   ]
  },
  {
   "cell_type": "markdown",
   "metadata": {},
   "source": [
    "Partition compounds into sp and spd systems"
   ]
  },
  {
   "cell_type": "code",
   "execution_count": 5,
   "metadata": {},
   "outputs": [],
   "source": [
    "data = data.sort_values(by=['max_orbital'])"
   ]
  },
  {
   "cell_type": "code",
   "execution_count": 6,
   "metadata": {},
   "outputs": [],
   "source": [
    "systems_data = {'sp': data[:count['sp']], 'spd': data[count['sp']:]}"
   ]
  },
  {
   "cell_type": "code",
   "execution_count": 7,
   "metadata": {},
   "outputs": [
    {
     "name": "stdout",
     "output_type": "stream",
     "text": [
      "Size of sp systems:  423\n",
      "Size of spd systems:  5751\n"
     ]
    }
   ],
   "source": [
    "print (\"Size of sp systems: \", systems_data['sp'].shape[0])\n",
    "print (\"Size of spd systems: \", systems_data['spd'].shape[0])"
   ]
  },
  {
   "cell_type": "markdown",
   "metadata": {},
   "source": [
    "Specify size of training set"
   ]
  },
  {
   "cell_type": "code",
   "execution_count": 8,
   "metadata": {},
   "outputs": [],
   "source": [
    "size_sp = [10, 50] + list(np.arange(100, systems_data['sp'].shape[0] - 100, 100))\n",
    "size_spd = [10, 100, 500] + list(np.arange(1000, systems_data['spd'].shape[0], 1000))"
   ]
  },
  {
   "cell_type": "markdown",
   "metadata": {},
   "source": [
    "Drop unnecessary columns"
   ]
  },
  {
   "cell_type": "code",
   "execution_count": 9,
   "metadata": {},
   "outputs": [],
   "source": [
    "systems_data['sp'] = systems_data['sp'].drop(['material_id', 'pretty_formula', 'structure', 'structure_obj',\n",
    "       'composition_obj', 'max_atom_num', 'max_orbital', 'dos_obj', 'volume'], 1)\n",
    "systems_data['spd'] = systems_data['spd'].drop(['material_id', 'pretty_formula', 'structure', 'structure_obj',\n",
    "       'composition_obj', 'max_atom_num', 'max_orbital', 'dos_obj', 'volume'], 1)"
   ]
  },
  {
   "cell_type": "markdown",
   "metadata": {},
   "source": [
    "Evaluate performance of KRR models with varied training set sizes using ShuffleSplit over 30 iterations.\n",
    "- sp system testing set size: 100 \n",
    "- spd system testing set size: 500"
   ]
  },
  {
   "cell_type": "code",
   "execution_count": 10,
   "metadata": {
    "scrolled": true
   },
   "outputs": [],
   "source": [
    "score_sp = dict.fromkeys(size_sp)\n",
    "X, Y = systems_data['sp'].drop(['dos'], 1), systems_data['sp']['dos']\n",
    "for size in size_sp:\n",
    "    krr = KernelRidge(kernel='laplacian', alpha=0.0001, gamma=5e-5)\n",
    "    cv = ShuffleSplit(n_splits=30, train_size=size, test_size=100)\n",
    "    score_sp[size] = cross_val_score(krr, X, Y, cv=cv, scoring='neg_mean_absolute_error')"
   ]
  },
  {
   "cell_type": "code",
<<<<<<< HEAD
   "execution_count": 11,
=======
   "execution_count": null,
>>>>>>> 2ed68853efcd8635998f14ed70f7a664bfd4a73c
   "metadata": {
    "scrolled": true
   },
   "outputs": [],
   "source": [
    "score_spd = dict.fromkeys(size_spd)\n",
    "X, Y = systems_data['spd'].drop(['dos'], 1), systems_data['spd']['dos']\n",
    "for size in size_spd:\n",
    "    krr = KernelRidge(kernel='laplacian', alpha=1e-5, gamma=5e-5)\n",
    "    cv = ShuffleSplit(n_splits=30, train_size=size, test_size=500)\n",
    "    score_spd[size] = cross_val_score(krr, X, Y, cv=cv, scoring='neg_mean_absolute_error')"
   ]
  },
  {
   "cell_type": "markdown",
   "metadata": {},
   "source": [
    "Compute aggregate statistics"
   ]
  },
  {
   "cell_type": "code",
<<<<<<< HEAD
   "execution_count": 12,
   "metadata": {},
   "outputs": [
    {
     "name": "stdout",
     "output_type": "stream",
     "text": [
      "sp system score:\n",
      "10 : -0.0015002010846489\n",
      "50 : -0.0013211520416261233\n",
      "100 : -0.001312639043226111\n",
      "200 : -0.0013878524770935137\n",
      "300 : -0.0013945163878622993\n",
      "\n",
      "spd system score:\n",
      "10 : -0.0014526200177443142\n",
      "100 : -0.0014298947603814472\n",
      "500 : -0.0013004043486256071\n",
      "1000 : -0.0013056001539517377\n",
      "2000 : -0.0013232174191308986\n",
      "3000 : -0.001302632229073394\n",
      "4000 : -0.0012567513486413477\n",
      "5000 : -0.0012418219305374346\n"
     ]
    }
   ],
=======
   "execution_count": null,
   "metadata": {},
   "outputs": [],
>>>>>>> 2ed68853efcd8635998f14ed70f7a664bfd4a73c
   "source": [
    "print (\"sp system score:\")\n",
    "for size in score_sp:\n",
    "    print (size, \":\", score_sp[size].mean())\n",
    "print ()\n",
    "print (\"spd system score:\")\n",
    "for size in score_spd:\n",
    "    print (size, \":\", score_spd[size].mean())"
   ]
  },
  {
   "cell_type": "markdown",
   "metadata": {},
   "source": [
    "Plot predictions"
   ]
  },
  {
   "cell_type": "code",
<<<<<<< HEAD
   "execution_count": 13,
   "metadata": {},
   "outputs": [
    {
     "data": {
      "image/png": "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\n",
      "text/plain": [
       "<matplotlib.figure.Figure at 0x2b00a01b1828>"
      ]
     },
     "metadata": {},
     "output_type": "display_data"
    }
   ],
=======
   "execution_count": null,
   "metadata": {},
   "outputs": [],
>>>>>>> 2ed68853efcd8635998f14ed70f7a664bfd4a73c
   "source": [
    "mae_sp = [np.abs(score_sp[size].mean()) for size in score_sp]\n",
    "mae_spd = [np.abs(score_spd[size].mean()) for size in score_spd]\n",
    "\n",
    "plt.plot(size_sp, mae_sp, color='r', marker='s', label='sp')\n",
    "plt.plot(size_spd, mae_spd, color='b', marker='^', label='spd')\n",
    "\n",
    "plt.xlabel(\"Size of training set\")\n",
    "plt.ylabel(\"MAE $(states/eV/A^3)$\")\n",
    "\n",
    "plt.legend()\n",
    "fig = plt.gcf()\n",
    "fig.set_size_inches(5,4)"
   ]
  },
  {
   "cell_type": "code",
<<<<<<< HEAD
   "execution_count": 14,
=======
   "execution_count": null,
>>>>>>> 2ed68853efcd8635998f14ed70f7a664bfd4a73c
   "metadata": {},
   "outputs": [],
   "source": []
  }
 ],
 "metadata": {
  "kernelspec": {
   "display_name": "Python 3",
   "language": "python",
   "name": "python3"
  },
  "language_info": {
   "codemirror_mode": {
    "name": "ipython",
    "version": 3
   },
   "file_extension": ".py",
   "mimetype": "text/x-python",
   "name": "python",
   "nbconvert_exporter": "python",
   "pygments_lexer": "ipython3",
   "version": "3.6.4"
  }
 },
 "nbformat": 4,
 "nbformat_minor": 2
}
