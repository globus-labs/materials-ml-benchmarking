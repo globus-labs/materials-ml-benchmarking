{
 "cells": [
  {
   "cell_type": "markdown",
   "metadata": {},
   "source": [
    "## Prediction of Density of States (DOS) using Partial Radial Distribution Function (PRDF) \n",
    "\n",
    "We want to study the accuracy and time performance of the featurizations used in [Schutt et al paper](https://journals.aps.org/prb/abstract/10.1103/PhysRevB.89.205118). Here in part 2, we build an ML model and analyze accuracy of the method. "
   ]
  },
  {
   "cell_type": "markdown",
   "metadata": {},
   "source": [
    "#### Import packages"
   ]
  },
  {
   "cell_type": "code",
   "execution_count": 1,
   "metadata": {},
   "outputs": [],
   "source": [
    "%matplotlib inline\n",
    "import numpy as np\n",
    "import pandas as pd\n",
    "import matplotlib.pyplot as plt\n",
    "import os\n",
    "\n",
    "from sklearn.kernel_ridge import KernelRidge\n",
    "from sklearn.utils import shuffle\n",
    "from sklearn import metrics\n",
    "from sklearn.model_selection import cross_val_predict, KFold, GridSearchCV"
   ]
  },
  {
   "cell_type": "markdown",
   "metadata": {},
   "source": [
    "#### Load featurized data from pickle file"
   ]
  },
  {
   "cell_type": "code",
   "execution_count": 2,
   "metadata": {},
   "outputs": [],
   "source": [
    "path = os.path.join(os.getcwd(), 'schutt_cutoff16_binsize10.pkl')\n",
    "data = pd.read_pickle(path)"
   ]
  },
  {
   "cell_type": "code",
   "execution_count": 3,
   "metadata": {},
   "outputs": [
    {
     "name": "stdout",
     "output_type": "stream",
     "text": [
      "Shape of data:  (4829, 38644)\n"
     ]
    },
    {
     "data": {
      "text/html": [
       "<div>\n",
       "<style scoped>\n",
       "    .dataframe tbody tr th:only-of-type {\n",
       "        vertical-align: middle;\n",
       "    }\n",
       "\n",
       "    .dataframe tbody tr th {\n",
       "        vertical-align: top;\n",
       "    }\n",
       "\n",
       "    .dataframe thead th {\n",
       "        text-align: right;\n",
       "    }\n",
       "</style>\n",
       "<table border=\"1\" class=\"dataframe\">\n",
       "  <thead>\n",
       "    <tr style=\"text-align: right;\">\n",
       "      <th></th>\n",
       "      <th>material_id</th>\n",
       "      <th>structure_obj</th>\n",
       "      <th>max_orbital</th>\n",
       "      <th>dos</th>\n",
       "      <th>Cs-Cs PRDF r=0.00-1.00</th>\n",
       "      <th>Cs-Cs PRDF r=1.00-2.00</th>\n",
       "      <th>Cs-Cs PRDF r=2.00-3.00</th>\n",
       "      <th>Cs-Cs PRDF r=3.00-4.00</th>\n",
       "      <th>Cs-Cs PRDF r=4.00-5.00</th>\n",
       "      <th>Cs-Cs PRDF r=5.00-6.00</th>\n",
       "      <th>...</th>\n",
       "      <th>Ne-Ne PRDF r=6.00-7.00</th>\n",
       "      <th>Ne-Ne PRDF r=7.00-8.00</th>\n",
       "      <th>Ne-Ne PRDF r=8.00-9.00</th>\n",
       "      <th>Ne-Ne PRDF r=9.00-10.00</th>\n",
       "      <th>Ne-Ne PRDF r=10.00-11.00</th>\n",
       "      <th>Ne-Ne PRDF r=11.00-12.00</th>\n",
       "      <th>Ne-Ne PRDF r=12.00-13.00</th>\n",
       "      <th>Ne-Ne PRDF r=13.00-14.00</th>\n",
       "      <th>Ne-Ne PRDF r=14.00-15.00</th>\n",
       "      <th>Ne-Ne PRDF r=15.00-16.00</th>\n",
       "    </tr>\n",
       "  </thead>\n",
       "  <tbody>\n",
       "    <tr>\n",
       "      <th>0</th>\n",
       "      <td>mp-85</td>\n",
       "      <td>[[0. 0. 0.] In]</td>\n",
       "      <td>spd</td>\n",
       "      <td>0.0</td>\n",
       "      <td>0.0</td>\n",
       "      <td>0.0</td>\n",
       "      <td>0.0</td>\n",
       "      <td>0.0</td>\n",
       "      <td>0.0</td>\n",
       "      <td>0.0</td>\n",
       "      <td>...</td>\n",
       "      <td>0.0</td>\n",
       "      <td>0.0</td>\n",
       "      <td>0.0</td>\n",
       "      <td>0.0</td>\n",
       "      <td>0.0</td>\n",
       "      <td>0.0</td>\n",
       "      <td>0.0</td>\n",
       "      <td>0.0</td>\n",
       "      <td>0.0</td>\n",
       "      <td>0.0</td>\n",
       "    </tr>\n",
       "  </tbody>\n",
       "</table>\n",
       "<p>1 rows × 38644 columns</p>\n",
       "</div>"
      ],
      "text/plain": [
       "  material_id    structure_obj max_orbital  dos  Cs-Cs PRDF r=0.00-1.00  \\\n",
       "0       mp-85  [[0. 0. 0.] In]         spd  0.0                     0.0   \n",
       "\n",
       "   Cs-Cs PRDF r=1.00-2.00  Cs-Cs PRDF r=2.00-3.00  Cs-Cs PRDF r=3.00-4.00  \\\n",
       "0                     0.0                     0.0                     0.0   \n",
       "\n",
       "   Cs-Cs PRDF r=4.00-5.00  Cs-Cs PRDF r=5.00-6.00            ...             \\\n",
       "0                     0.0                     0.0            ...              \n",
       "\n",
       "   Ne-Ne PRDF r=6.00-7.00  Ne-Ne PRDF r=7.00-8.00  Ne-Ne PRDF r=8.00-9.00  \\\n",
       "0                     0.0                     0.0                     0.0   \n",
       "\n",
       "   Ne-Ne PRDF r=9.00-10.00  Ne-Ne PRDF r=10.00-11.00  \\\n",
       "0                      0.0                       0.0   \n",
       "\n",
       "   Ne-Ne PRDF r=11.00-12.00  Ne-Ne PRDF r=12.00-13.00  \\\n",
       "0                       0.0                       0.0   \n",
       "\n",
       "   Ne-Ne PRDF r=13.00-14.00  Ne-Ne PRDF r=14.00-15.00  \\\n",
       "0                       0.0                       0.0   \n",
       "\n",
       "   Ne-Ne PRDF r=15.00-16.00  \n",
       "0                       0.0  \n",
       "\n",
       "[1 rows x 38644 columns]"
      ]
     },
     "execution_count": 3,
     "metadata": {},
     "output_type": "execute_result"
    }
   ],
   "source": [
    "print (\"Shape of data: \", data.shape)\n",
    "data.head(1)"
   ]
  },
  {
   "cell_type": "markdown",
   "metadata": {},
   "source": [
    "Count sp and spd systems"
   ]
  },
  {
   "cell_type": "code",
   "execution_count": 4,
   "metadata": {},
   "outputs": [
    {
     "data": {
      "text/plain": [
       "spd    4600\n",
       "sp      229\n",
       "Name: max_orbital, dtype: int64"
      ]
     },
     "execution_count": 4,
     "metadata": {},
     "output_type": "execute_result"
    }
   ],
   "source": [
    "count = data['max_orbital'].value_counts(sort=True)\n",
    "count"
   ]
  },
  {
   "cell_type": "markdown",
   "metadata": {},
   "source": [
    "Partition compounds into $sp$ and $spd$ systems.\n",
    "\n",
    "In Schutt's paper, there are 1716 sp systems and 5548 spd systems."
   ]
  },
  {
   "cell_type": "code",
   "execution_count": 5,
   "metadata": {},
   "outputs": [],
   "source": [
    "data = data.sort_values(by=['max_orbital'])"
   ]
  },
  {
   "cell_type": "code",
   "execution_count": 6,
   "metadata": {},
   "outputs": [
    {
     "name": "stdout",
     "output_type": "stream",
     "text": [
      "sp systems:  229\n",
      "spd systems:  4600\n"
     ]
    }
   ],
   "source": [
    "sp_data = data[:count['sp']]\n",
    "spd_data = data[count['sp']:]\n",
    "print (\"sp systems: \", sp_data.shape[0])\n",
    "print (\"spd systems: \", spd_data.shape[0])"
   ]
  },
  {
   "cell_type": "markdown",
   "metadata": {},
   "source": [
    "Input X and Y"
   ]
  },
  {
   "cell_type": "code",
   "execution_count": 7,
   "metadata": {},
   "outputs": [],
   "source": [
    "x_sp = sp_data.drop(['material_id', 'structure_obj', 'max_orbital', 'dos'], 1)\n",
    "y_sp = sp_data['dos']\n",
    "x_sp, y_sp = shuffle(x_sp, y_sp)"
   ]
  },
  {
   "cell_type": "code",
   "execution_count": 8,
   "metadata": {},
   "outputs": [],
   "source": [
    "x_spd = spd_data.drop(['material_id', 'structure_obj', 'max_orbital', 'dos'], 1)\n",
    "y_spd = spd_data['dos']\n",
    "x_spd, y_spd = shuffle(x_spd, y_spd)"
   ]
  },
  {
   "cell_type": "markdown",
   "metadata": {},
   "source": [
    "Partition data into training and testing set (80/20)"
   ]
  },
  {
   "cell_type": "code",
   "execution_count": 9,
   "metadata": {},
   "outputs": [],
   "source": [
    "x_train = {\"sp\": x_sp[:int(0.8*x_sp.shape[0])], \"spd\": x_spd[:int(0.8*x_spd.shape[0])]}\n",
    "x_test = {\"sp\": x_sp[int(0.8*x_sp.shape[0]):], \"spd\": x_spd[int(0.8*x_spd.shape[0]):]}\n",
    "y_train = {\"sp\": y_sp[:int(0.8*y_sp.shape[0])], \"spd\": y_spd[:int(0.8*y_spd.shape[0])]}\n",
    "y_test = {\"sp\": y_sp[int(0.8*y_sp.shape[0]):], \"spd\": y_spd[int(0.8*y_spd.shape[0]):]}"
   ]
  },
  {
   "cell_type": "markdown",
   "metadata": {},
   "source": [
    "### Build ML model\n",
    "\n",
    "Set up Kernel Ridge Regression (KRR) model. Three types of kernel: linear, Gaussian, Laplacian"
   ]
  },
  {
   "cell_type": "code",
   "execution_count": 10,
   "metadata": {},
   "outputs": [],
   "source": [
    "kernels = ['linear', 'gaussian', 'laplacian']"
   ]
  },
  {
   "cell_type": "code",
   "execution_count": 11,
   "metadata": {},
   "outputs": [],
   "source": [
    "sp_models = {\"linear\": KernelRidge(kernel=\"linear\"), \"gaussian\": KernelRidge(kernel=\"rbf\"), \"laplacian\": KernelRidge(kernel=\"laplacian\")}\n",
    "spd_models = {\"linear\": KernelRidge(kernel=\"linear\"), \"gaussian\": KernelRidge(kernel=\"rbf\"), \"laplacian\": KernelRidge(kernel=\"laplacian\")}"
   ]
  },
  {
   "cell_type": "markdown",
   "metadata": {},
   "source": [
    "Here we'll compare the performance of three different kernels in predicting DOS for sp and spd systems."
   ]
  },
  {
   "cell_type": "code",
   "execution_count": 12,
   "metadata": {},
   "outputs": [],
   "source": [
    "kfold = KFold(5)"
   ]
  },
  {
   "cell_type": "code",
   "execution_count": 13,
   "metadata": {},
   "outputs": [],
   "source": [
    "cv_prediction_sp, cv_prediction_spd = dict.fromkeys(kernels), dict.fromkeys(kernels)"
   ]
  },
  {
   "cell_type": "code",
   "execution_count": 14,
   "metadata": {},
   "outputs": [],
   "source": [
    "for key in sp_models:\n",
    "    sp_models[key] = sp_models[key].fit(x_train['sp'], y_train['sp'])\n",
    "    cv_prediction_sp[key] = cross_val_predict(sp_models[key], x_test['sp'], y_test['sp'], cv=kfold)"
   ]
  },
  {
   "cell_type": "code",
   "execution_count": 15,
   "metadata": {},
   "outputs": [],
   "source": [
    "for key, val in spd_models.items():\n",
    "    spd_models[key] = val.fit(x_train['spd'], y_train['spd'])\n",
    "    cv_prediction_spd[key] = cross_val_predict(spd_models[key], x_test['spd'], y_test['spd'], cv=kfold)"
   ]
  },
  {
   "cell_type": "markdown",
   "metadata": {},
   "source": [
    "Compute aggregate statistics of the kernels used."
   ]
  },
  {
   "cell_type": "code",
   "execution_count": 16,
   "metadata": {},
   "outputs": [],
   "source": [
    "metrics = ['mean_absolute_error', 'mean_squared_error', 'r2_score']\n",
    "score_sp, score_spd = dict.fromkeys(kernels), dict.fromkeys(kernels)\n",
    "for i, j in zip(score_sp, score_spd):\n",
    "    score_sp[i], score_sp[j] = dict.fromkeys(metrics), dict.fromkeys(metrics)"
   ]
  },
  {
   "cell_type": "code",
   "execution_count": 17,
   "metadata": {},
   "outputs": [],
   "source": [
    "for model in ['linear', 'gaussian', 'laplacian']:\n",
    "    for scorer in ['r2_score', 'mean_absolute_error', 'mean_squared_error']:\n",
    "        score_sp[model][scorer] = getattr(metrics, scorer)(y_test['sp'], cv_prediction_sp[model])\n",
    "        score_spd[model][scorer] = getattr(metrics, scorer)(y_test['spd'], cv_prediction_spd[model])"
   ]
  },
  {
   "cell_type": "code",
   "execution_count": 18,
   "metadata": {},
   "outputs": [
    {
     "name": "stdout",
     "output_type": "stream",
     "text": [
      "sp system score: \n",
      "linear :  {'mean_absolute_error': 0.0007054000113079487, 'mean_squared_error': 2.5633873077217162e-06, 'r2_score': -0.18073958183066763}\n",
      "gaussian :  {'mean_absolute_error': 0.000899048817759862, 'mean_squared_error': 2.3956482719474926e-06, 'r2_score': -0.1034761428021096}\n",
      "laplacian :  {'mean_absolute_error': 0.0008990327442432902, 'mean_squared_error': 2.3956349495271374e-06, 'r2_score': -0.10347000626979885}\n",
      "\n",
      "spd system score: \n",
      "linear :  {'mean_absolute_error': 0.0011501964695632351, 'mean_squared_error': 3.982065016980835e-06, 'r2_score': -0.16581063414324815}\n",
      "gaussian :  {'mean_absolute_error': 0.0012554285785216996, 'mean_squared_error': 3.417103109578141e-06, 'r2_score': -0.00040936703001359653}\n",
      "laplacian :  {'mean_absolute_error': 0.0012552301391384332, 'mean_squared_error': 3.4163738208809417e-06, 'r2_score': -0.00019585657377296783}\n"
     ]
    }
   ],
   "source": [
    "print (\"sp system score: \")\n",
    "for i in score_sp:\n",
    "    print (i, \": \", score_sp[i])\n",
    "print ()\n",
    "print (\"spd system score: \")\n",
    "for i in score_spd:\n",
    "    print (i, \": \", score_spd[i])"
   ]
  },
  {
   "cell_type": "markdown",
   "metadata": {},
   "source": [
    "Plot prediction"
   ]
  },
  {
   "cell_type": "code",
   "execution_count": 38,
   "metadata": {},
   "outputs": [
    {
     "data": {
      "image/png": "[encoded data removed]",
      "text/plain": [
       "<matplotlib.figure.Figure at 0x10c00e518>"
      ]
     },
     "metadata": {},
     "output_type": "display_data"
    }
   ],
   "source": [
    "fig, ax = plt.subplots(2, 3, sharex=True, sharey=True)\n",
    "\n",
    "ax[0, 0].set_title(\"Linear\")\n",
    "ax[0, 1].set_title(\"Gaussian\")\n",
    "ax[0, 2].set_title(\"Laplacian\")\n",
    "\n",
    "ax[0, 0].set_ylabel(\"sp\\n $DOS_{pred} (states/eV/A^3)$\")\n",
    "ax[1, 0].set_ylabel(\"spd\\n $DOS_{pred} (states/eV/A^3)$\")\n",
    "ax[1, 1].set_xlabel(\"$DOS_{calc} (states/eV/A^3)$\")\n",
    "\n",
    "ax[0, 0].scatter(y_test['sp'], cv_prediction_sp['linear'], marker='.')\n",
    "ax[0, 1].scatter(y_test['sp'], cv_prediction_sp['gaussian'], marker='.')\n",
    "ax[0, 2].scatter(y_test['sp'], cv_prediction_sp['laplacian'], marker='.')\n",
    "\n",
    "ax[1, 0].scatter(y_test['spd'], cv_prediction_spd['linear'], marker='.')\n",
    "ax[1, 1].scatter(y_test['spd'], cv_prediction_spd['gaussian'], marker='.')\n",
    "ax[1, 2].scatter(y_test['spd'], cv_prediction_spd['laplacian'], marker='.')\n",
    "\n",
    "fig.tight_layout()\n",
    "fig.set_size_inches((10, 7))\n",
    "\n",
    "# ax1.text(0.49, 0.026, 'MAE: {:.0f}\\nRMSE:{:.0f}\\n$R^2$: {:.3f}'.format(score['sp']['mean_absolute_error'], score['sp']['mean_squared_error'], score['sp']['r2_score']),\n",
    "#          transform=ax1.transAxes, fontsize=8,\n",
    "#          bbox={'facecolor': 'w', 'edgecolor': 'k'})"
   ]
  },
  {
   "cell_type": "code",
   "execution_count": null,
   "metadata": {},
   "outputs": [],
   "source": []
  }
 ],
 "metadata": {
  "kernelspec": {
   "display_name": "Python 3",
   "language": "python",
   "name": "python3"
  },
  "language_info": {
   "codemirror_mode": {
    "name": "ipython",
    "version": 3
   },
   "file_extension": ".py",
   "mimetype": "text/x-python",
   "name": "python",
   "nbconvert_exporter": "python",
   "pygments_lexer": "ipython3",
   "version": "3.6.4"
  }
 },
 "nbformat": 4,
 "nbformat_minor": 2
}
