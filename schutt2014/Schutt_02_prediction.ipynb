{
 "cells": [
  {
   "cell_type": "markdown",
   "metadata": {},
   "source": [
    "## Prediction of Density of States (DOS) using Partial Radial Distribution Function (PRDF) representation\n",
    "\n",
    "We want to study the accuracy and time performance of the featurizations used in [Schutt et al paper](https://journals.aps.org/prb/abstract/10.1103/PhysRevB.89.205118). Here in part 2, we build a Kernel Ridge Regression (KRR) model with three different kernels (Linear, Gaussian and Laplacian) and analyze accuracy of each kernel."
   ]
  },
  {
   "cell_type": "markdown",
   "metadata": {},
   "source": [
    "#### Import packages"
   ]
  },
  {
   "cell_type": "code",
   "execution_count": 1,
   "metadata": {},
   "outputs": [],
   "source": [
    "%matplotlib inline\n",
    "import numpy as np\n",
    "import pandas as pd\n",
    "import matplotlib.pyplot as plt\n",
    "import os\n",
    "\n",
    "from sklearn.kernel_ridge import KernelRidge\n",
    "from sklearn.utils import shuffle\n",
    "from sklearn import metrics\n",
    "from sklearn.model_selection import cross_val_predict, KFold, GridSearchCV, train_test_split"
   ]
  },
  {
   "cell_type": "markdown",
   "metadata": {},
   "source": [
    "#### Load featurized data from pickle file"
   ]
  },
  {
   "cell_type": "code",
   "execution_count": 2,
   "metadata": {},
   "outputs": [],
   "source": [
    "path = os.path.join(os.getcwd(), 'schutt_cutoff16_binsize10.pkl')\n",
    "data = pd.read_pickle(path)"
   ]
  },
  {
   "cell_type": "code",
   "execution_count": 3,
   "metadata": {},
   "outputs": [
    {
     "name": "stdout",
     "output_type": "stream",
     "text": [
      "Shape of data:  (4829, 38644)\n"
     ]
    },
    {
     "data": {
      "text/html": [
       "<div>\n",
       "<style scoped>\n",
       "    .dataframe tbody tr th:only-of-type {\n",
       "        vertical-align: middle;\n",
       "    }\n",
       "\n",
       "    .dataframe tbody tr th {\n",
       "        vertical-align: top;\n",
       "    }\n",
       "\n",
       "    .dataframe thead th {\n",
       "        text-align: right;\n",
       "    }\n",
       "</style>\n",
       "<table border=\"1\" class=\"dataframe\">\n",
       "  <thead>\n",
       "    <tr style=\"text-align: right;\">\n",
       "      <th></th>\n",
       "      <th>material_id</th>\n",
       "      <th>structure_obj</th>\n",
       "      <th>max_orbital</th>\n",
       "      <th>dos</th>\n",
       "      <th>Cs-Cs PRDF r=0.00-1.00</th>\n",
       "      <th>Cs-Cs PRDF r=1.00-2.00</th>\n",
       "      <th>Cs-Cs PRDF r=2.00-3.00</th>\n",
       "      <th>Cs-Cs PRDF r=3.00-4.00</th>\n",
       "      <th>Cs-Cs PRDF r=4.00-5.00</th>\n",
       "      <th>Cs-Cs PRDF r=5.00-6.00</th>\n",
       "      <th>...</th>\n",
       "      <th>Ne-Ne PRDF r=6.00-7.00</th>\n",
       "      <th>Ne-Ne PRDF r=7.00-8.00</th>\n",
       "      <th>Ne-Ne PRDF r=8.00-9.00</th>\n",
       "      <th>Ne-Ne PRDF r=9.00-10.00</th>\n",
       "      <th>Ne-Ne PRDF r=10.00-11.00</th>\n",
       "      <th>Ne-Ne PRDF r=11.00-12.00</th>\n",
       "      <th>Ne-Ne PRDF r=12.00-13.00</th>\n",
       "      <th>Ne-Ne PRDF r=13.00-14.00</th>\n",
       "      <th>Ne-Ne PRDF r=14.00-15.00</th>\n",
       "      <th>Ne-Ne PRDF r=15.00-16.00</th>\n",
       "    </tr>\n",
       "  </thead>\n",
       "  <tbody>\n",
       "    <tr>\n",
       "      <th>0</th>\n",
       "      <td>mp-85</td>\n",
       "      <td>[[0. 0. 0.] In]</td>\n",
       "      <td>spd</td>\n",
       "      <td>0.0</td>\n",
       "      <td>0.0</td>\n",
       "      <td>0.0</td>\n",
       "      <td>0.0</td>\n",
       "      <td>0.0</td>\n",
       "      <td>0.0</td>\n",
       "      <td>0.0</td>\n",
       "      <td>...</td>\n",
       "      <td>0.0</td>\n",
       "      <td>0.0</td>\n",
       "      <td>0.0</td>\n",
       "      <td>0.0</td>\n",
       "      <td>0.0</td>\n",
       "      <td>0.0</td>\n",
       "      <td>0.0</td>\n",
       "      <td>0.0</td>\n",
       "      <td>0.0</td>\n",
       "      <td>0.0</td>\n",
       "    </tr>\n",
       "  </tbody>\n",
       "</table>\n",
       "<p>1 rows × 38644 columns</p>\n",
       "</div>"
      ],
      "text/plain": [
       "  material_id    structure_obj max_orbital  dos  Cs-Cs PRDF r=0.00-1.00  \\\n",
       "0       mp-85  [[0. 0. 0.] In]         spd  0.0                     0.0   \n",
       "\n",
       "   Cs-Cs PRDF r=1.00-2.00  Cs-Cs PRDF r=2.00-3.00  Cs-Cs PRDF r=3.00-4.00  \\\n",
       "0                     0.0                     0.0                     0.0   \n",
       "\n",
       "   Cs-Cs PRDF r=4.00-5.00  Cs-Cs PRDF r=5.00-6.00            ...             \\\n",
       "0                     0.0                     0.0            ...              \n",
       "\n",
       "   Ne-Ne PRDF r=6.00-7.00  Ne-Ne PRDF r=7.00-8.00  Ne-Ne PRDF r=8.00-9.00  \\\n",
       "0                     0.0                     0.0                     0.0   \n",
       "\n",
       "   Ne-Ne PRDF r=9.00-10.00  Ne-Ne PRDF r=10.00-11.00  \\\n",
       "0                      0.0                       0.0   \n",
       "\n",
       "   Ne-Ne PRDF r=11.00-12.00  Ne-Ne PRDF r=12.00-13.00  \\\n",
       "0                       0.0                       0.0   \n",
       "\n",
       "   Ne-Ne PRDF r=13.00-14.00  Ne-Ne PRDF r=14.00-15.00  \\\n",
       "0                       0.0                       0.0   \n",
       "\n",
       "   Ne-Ne PRDF r=15.00-16.00  \n",
       "0                       0.0  \n",
       "\n",
       "[1 rows x 38644 columns]"
      ]
     },
     "execution_count": 3,
     "metadata": {},
     "output_type": "execute_result"
    }
   ],
   "source": [
    "print (\"Shape of data: \", data.shape)\n",
    "data.head(1)"
   ]
  },
  {
   "cell_type": "markdown",
   "metadata": {},
   "source": [
    "Count sp and spd systems"
   ]
  },
  {
   "cell_type": "code",
   "execution_count": 4,
   "metadata": {},
   "outputs": [],
   "source": [
    "count = data['max_orbital'].value_counts(sort=True)"
   ]
  },
  {
   "cell_type": "markdown",
   "metadata": {},
   "source": [
    "Partition compounds into $sp$ and $spd$ systems.\n",
    "\n",
    "In Schutt's paper, there are 1716 sp systems and 5548 spd systems."
   ]
  },
  {
   "cell_type": "code",
   "execution_count": 5,
   "metadata": {},
   "outputs": [],
   "source": [
    "data = data.sort_values(by=['max_orbital'])"
   ]
  },
  {
   "cell_type": "code",
   "execution_count": 6,
   "metadata": {},
   "outputs": [
    {
     "name": "stdout",
     "output_type": "stream",
     "text": [
      "sp systems:  229\n",
      "spd systems:  4600\n"
     ]
    }
   ],
   "source": [
    "sp_data = data[:count['sp']]\n",
    "spd_data = data[count['sp']:]\n",
    "print (\"sp systems: \", sp_data.shape[0])\n",
    "print (\"spd systems: \", spd_data.shape[0])"
   ]
  },
  {
   "cell_type": "markdown",
   "metadata": {},
   "source": [
    "Mean predictor of DOS in this data"
   ]
  },
  {
   "cell_type": "code",
   "execution_count": 11,
   "metadata": {},
   "outputs": [
    {
     "name": "stdout",
     "output_type": "stream",
     "text": [
      "Mean predictor of sp system: 0.14260394609940996 * 10^-2\n",
      "Mean predictor of spd system: 0.13554823494662135 * 10^-2\n"
     ]
    }
   ],
   "source": [
    "print (\"Mean predictor of sp system:\", np.mean(np.abs(np.subtract(sp_data['dos'], np.mean(sp_data['dos']))))*100, \"* 10^-2\")\n",
    "print (\"Mean predictor of spd system:\", np.mean(np.abs(np.subtract(spd_data['dos'], np.mean(spd_data['dos']))))*100, \"* 10^-2\")"
   ]
  },
  {
   "cell_type": "markdown",
   "metadata": {},
   "source": [
    "Input X and Y"
   ]
  },
  {
   "cell_type": "code",
   "execution_count": 7,
   "metadata": {},
   "outputs": [],
   "source": [
    "x_sp = sp_data.drop(['material_id', 'structure_obj', 'max_orbital', 'dos'], 1)\n",
    "y_sp = sp_data['dos']"
   ]
  },
  {
   "cell_type": "code",
   "execution_count": 8,
   "metadata": {},
   "outputs": [],
   "source": [
    "x_spd = spd_data.drop(['material_id', 'structure_obj', 'max_orbital', 'dos'], 1)\n",
    "y_spd = spd_data['dos']"
   ]
  },
  {
   "cell_type": "markdown",
   "metadata": {},
   "source": [
    "Partition data into training and testing set (80/20)"
   ]
  },
  {
   "cell_type": "code",
   "execution_count": 9,
   "metadata": {},
   "outputs": [],
   "source": [
    "x_train, x_test, y_train, y_test = dict.fromkeys(['sp', 'spd']), dict.fromkeys(['sp', 'spd']), dict.fromkeys(['sp', 'spd']), dict.fromkeys(['sp', 'spd'])\n",
    "x_train['sp'], x_test['sp'], y_train['sp'], y_test['sp'] = train_test_split(x_sp, y_sp, test_size=0.2, shuffle=True)\n",
    "x_train['spd'], x_test['spd'], y_train['spd'], y_test['spd'] = train_test_split(x_spd, y_spd, test_size=0.2, shuffle=True)"
   ]
  },
  {
   "cell_type": "markdown",
   "metadata": {},
   "source": [
    "### Build ML model\n",
    "\n",
    "Set up Kernel Ridge Regression (KRR) model. Three types of kernel: linear, Gaussian, Laplacian"
   ]
  },
  {
   "cell_type": "code",
   "execution_count": 10,
   "metadata": {},
   "outputs": [],
   "source": [
    "kernels = ['linear', 'gaussian', 'laplacian']"
   ]
  },
  {
   "cell_type": "code",
   "execution_count": 11,
   "metadata": {},
   "outputs": [],
   "source": [
    "gamma = 5e-05\n",
    "sp_models = {\"linear\": KernelRidge(kernel=\"linear\"), \n",
    "             \"gaussian\": KernelRidge(kernel=\"rbf\", alpha=1e-5, gamma=gamma), \n",
    "             \"laplacian\": KernelRidge(kernel=\"laplacian\", alpha=1e-3, gamma=gamma)}\n",
    "spd_models = {\"linear\": KernelRidge(kernel=\"linear\"), \n",
    "              \"gaussian\": KernelRidge(kernel=\"rbf\", alpha=1e-5, gamma=gamma), \n",
    "              \"laplacian\": KernelRidge(kernel=\"laplacian\", alpha=1e-3, gamma=gamma)}"
   ]
  },
  {
   "cell_type": "markdown",
   "metadata": {},
   "source": [
    "Here we'll compare the performance of three different kernels in predicting DOS for sp and spd systems."
   ]
  },
  {
   "cell_type": "code",
   "execution_count": 12,
   "metadata": {},
   "outputs": [],
   "source": [
    "kfold = KFold(5)"
   ]
  },
  {
   "cell_type": "code",
   "execution_count": 13,
   "metadata": {},
   "outputs": [],
   "source": [
    "cv_prediction_sp, cv_prediction_spd = dict.fromkeys(kernels), dict.fromkeys(kernels)"
   ]
  },
  {
   "cell_type": "code",
   "execution_count": 14,
   "metadata": {},
   "outputs": [],
   "source": [
    "for model in sp_models:\n",
    "    sp_models[model] = sp_models[model].fit(x_train['sp'], y_train['sp'])\n",
    "    cv_prediction_sp[model] = cross_val_predict(sp_models[model], x_test['sp'], y_test['sp'], cv=kfold)"
   ]
  },
  {
   "cell_type": "code",
   "execution_count": 15,
   "metadata": {},
   "outputs": [],
   "source": [
    "for model in spd_models:\n",
    "    spd_models[model] = spd_models[model].fit(x_train['spd'], y_train['spd'])\n",
    "    cv_prediction_spd[model] = cross_val_predict(spd_models[model], x_test['spd'], y_test['spd'], cv=kfold)"
   ]
  },
  {
   "cell_type": "markdown",
   "metadata": {},
   "source": [
    "Compute aggregate statistics of the kernels used."
   ]
  },
  {
   "cell_type": "code",
   "execution_count": 16,
   "metadata": {},
   "outputs": [],
   "source": [
    "stats = ['mean_absolute_error', 'mean_squared_error', 'r2_score']\n",
    "score_sp, score_spd = dict.fromkeys(kernels), dict.fromkeys(kernels)\n",
    "for i, j in zip(score_sp, score_spd):\n",
    "    score_sp[i], score_spd[j] = dict.fromkeys(stats), dict.fromkeys(stats)"
   ]
  },
  {
   "cell_type": "code",
   "execution_count": 17,
   "metadata": {},
   "outputs": [],
   "source": [
    "for model in kernels:\n",
    "    for scorer in stats:\n",
    "        score_sp[model][scorer] = getattr(metrics, scorer)(y_test['sp'], cv_prediction_sp[model])\n",
    "        score_spd[model][scorer] = getattr(metrics, scorer)(y_test['spd'], cv_prediction_spd[model])"
   ]
  },
  {
   "cell_type": "code",
   "execution_count": 18,
   "metadata": {},
   "outputs": [
    {
     "name": "stdout",
     "output_type": "stream",
     "text": [
      "sp system score: \n",
      "linear :  {'mean_absolute_error': 0.0014873517041222605, 'mean_squared_error': 1.9775098801041665e-05, 'r2_score': -0.06795893988005375}\n",
      "gaussian :  {'mean_absolute_error': 0.001979449240241315, 'mean_squared_error': 1.8583968376860306e-05, 'r2_score': -0.0036316564684231167}\n",
      "laplacian :  {'mean_absolute_error': 0.00198326560077252, 'mean_squared_error': 1.849062422314177e-05, 'r2_score': 0.0014094168759990477}\n",
      "\n",
      "spd system score: \n",
      "linear :  {'mean_absolute_error': 0.0012704854500772582, 'mean_squared_error': 6.153090674432552e-06, 'r2_score': -0.12184086556351925}\n",
      "gaussian :  {'mean_absolute_error': 0.0012499338501639485, 'mean_squared_error': 4.999189953916395e-06, 'r2_score': 0.08854007168759559}\n",
      "laplacian :  {'mean_absolute_error': 0.001288092514399304, 'mean_squared_error': 5.079245084406488e-06, 'r2_score': 0.07394429833827965}\n"
     ]
    }
   ],
   "source": [
    "print (\"sp system score: \")\n",
    "for i in score_sp:\n",
    "    print (i, \": \", score_sp[i])\n",
    "print ()\n",
    "print (\"spd system score: \")\n",
    "for i in score_spd:\n",
    "    print (i, \": \", score_spd[i])"
   ]
  },
  {
   "cell_type": "markdown",
   "metadata": {},
   "source": [
    "Plot prediction"
   ]
  },
  {
   "cell_type": "code",
   "execution_count": 32,
   "metadata": {},
   "outputs": [
    {
     "data": {
      "image/png": "[encoded data removed]",
      "text/plain": [
       "<matplotlib.figure.Figure at 0x11a4cc908>"
      ]
     },
     "metadata": {},
     "output_type": "display_data"
    }
   ],
   "source": [
    "fig, ax = plt.subplots(2, 3)\n",
    "\n",
    "ax[0, 0].set_title(\"Linear\")\n",
    "ax[0, 1].set_title(\"Gaussian\")\n",
    "ax[0, 2].set_title(\"Laplacian\")\n",
    "\n",
    "ax[0, 0].set_ylabel(\"sp\\n $DOS_{pred} (states/eV/A^3)$\", fontsize=14)\n",
    "ax[1, 0].set_ylabel(\"spd\\n $DOS_{pred} (states/eV/A^3)$\", fontsize=14)\n",
    "ax[1, 1].set_xlabel(\"$DOS_{calc} (states/eV/A^3)$\", fontsize=14)\n",
    "\n",
    "ax[0, 0].scatter(y_test['sp'], cv_prediction_sp['linear'], marker='.')\n",
    "ax[0, 1].scatter(y_test['sp'], cv_prediction_sp['gaussian'], marker='.')\n",
    "ax[0, 2].scatter(y_test['sp'], cv_prediction_sp['laplacian'], marker='.')\n",
    "\n",
    "ax[1, 0].scatter(y_test['spd'], cv_prediction_spd['linear'], marker='.')\n",
    "ax[1, 1].scatter(y_test['spd'], cv_prediction_spd['gaussian'], marker='.')\n",
    "ax[1, 2].scatter(y_test['spd'], cv_prediction_spd['laplacian'], marker='.')\n",
    "\n",
    "for i in range(2):\n",
    "    for j in range(3):\n",
    "        ax[i, j].set_xlim([-0.005, 0.035])\n",
    "        ax[i, j].set_ylim([-0.005, 0.035])\n",
    "        ax[i, j].plot(ax[i, j].get_xlim(), ax[i, j].get_xlim(), 'k--')\n",
    "\n",
    "fig.subplots_adjust(wspace=0.3, hspace=0.2)\n",
    "fig.set_size_inches((10, 7))"
   ]
  }
 ],
 "metadata": {
  "kernelspec": {
   "display_name": "Python 3",
   "language": "python",
   "name": "python3"
  },
  "language_info": {
   "codemirror_mode": {
    "name": "ipython",
    "version": 3
   },
   "file_extension": ".py",
   "mimetype": "text/x-python",
   "name": "python",
   "nbconvert_exporter": "python",
   "pygments_lexer": "ipython3",
   "version": "3.6.4"
  }
 },
 "nbformat": 4,
 "nbformat_minor": 2
}
