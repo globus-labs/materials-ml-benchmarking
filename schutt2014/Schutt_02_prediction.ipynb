{
 "cells": [
  {
   "cell_type": "markdown",
   "metadata": {},
   "source": [
    "## Prediction of Density of States (DOS) using Partial Radial Distribution Function (PRDF) \n",
    "\n",
    "We want to study the accuracy and time performance of the featurizations used in [Schutt et al paper](https://journals.aps.org/prb/abstract/10.1103/PhysRevB.89.205118). Here in part 2, we build an ML model and analyze accuracy of the method. "
   ]
  },
  {
   "cell_type": "markdown",
   "metadata": {},
   "source": [
    "#### Import packages"
   ]
  },
  {
   "cell_type": "code",
   "execution_count": 1,
   "metadata": {},
   "outputs": [],
   "source": [
    "%matplotlib inline\n",
    "import numpy as np\n",
    "import pandas as pd\n",
    "import matplotlib.pyplot as plt\n",
    "import os\n",
    "\n",
    "from sklearn.kernel_ridge import KernelRidge\n",
    "from sklearn.utils import shuffle\n",
    "from sklearn import metrics\n",
    "from sklearn.model_selection import cross_val_predict, KFold, GridSearchCV, train_test_split"
   ]
  },
  {
   "cell_type": "markdown",
   "metadata": {},
   "source": [
    "#### Load featurized data from pickle file"
   ]
  },
  {
   "cell_type": "code",
   "execution_count": 2,
   "metadata": {},
   "outputs": [],
   "source": [
    "path = os.path.join(os.getcwd(), 'schutt_cutoff16_binsize10.pkl')\n",
    "data = pd.read_pickle(path)"
   ]
  },
  {
   "cell_type": "code",
   "execution_count": 3,
   "metadata": {},
   "outputs": [
    {
     "name": "stdout",
     "output_type": "stream",
     "text": [
      "Shape of data:  (4829, 38644)\n"
     ]
    },
    {
     "data": {
      "text/html": [
       "<div>\n",
       "<style scoped>\n",
       "    .dataframe tbody tr th:only-of-type {\n",
       "        vertical-align: middle;\n",
       "    }\n",
       "\n",
       "    .dataframe tbody tr th {\n",
       "        vertical-align: top;\n",
       "    }\n",
       "\n",
       "    .dataframe thead th {\n",
       "        text-align: right;\n",
       "    }\n",
       "</style>\n",
       "<table border=\"1\" class=\"dataframe\">\n",
       "  <thead>\n",
       "    <tr style=\"text-align: right;\">\n",
       "      <th></th>\n",
       "      <th>material_id</th>\n",
       "      <th>structure_obj</th>\n",
       "      <th>max_orbital</th>\n",
       "      <th>dos</th>\n",
       "      <th>Cs-Cs PRDF r=0.00-1.00</th>\n",
       "      <th>Cs-Cs PRDF r=1.00-2.00</th>\n",
       "      <th>Cs-Cs PRDF r=2.00-3.00</th>\n",
       "      <th>Cs-Cs PRDF r=3.00-4.00</th>\n",
       "      <th>Cs-Cs PRDF r=4.00-5.00</th>\n",
       "      <th>Cs-Cs PRDF r=5.00-6.00</th>\n",
       "      <th>...</th>\n",
       "      <th>Ne-Ne PRDF r=6.00-7.00</th>\n",
       "      <th>Ne-Ne PRDF r=7.00-8.00</th>\n",
       "      <th>Ne-Ne PRDF r=8.00-9.00</th>\n",
       "      <th>Ne-Ne PRDF r=9.00-10.00</th>\n",
       "      <th>Ne-Ne PRDF r=10.00-11.00</th>\n",
       "      <th>Ne-Ne PRDF r=11.00-12.00</th>\n",
       "      <th>Ne-Ne PRDF r=12.00-13.00</th>\n",
       "      <th>Ne-Ne PRDF r=13.00-14.00</th>\n",
       "      <th>Ne-Ne PRDF r=14.00-15.00</th>\n",
       "      <th>Ne-Ne PRDF r=15.00-16.00</th>\n",
       "    </tr>\n",
       "  </thead>\n",
       "  <tbody>\n",
       "    <tr>\n",
       "      <th>0</th>\n",
       "      <td>mp-85</td>\n",
       "      <td>[[0. 0. 0.] In]</td>\n",
       "      <td>spd</td>\n",
       "      <td>0.0</td>\n",
       "      <td>0.0</td>\n",
       "      <td>0.0</td>\n",
       "      <td>0.0</td>\n",
       "      <td>0.0</td>\n",
       "      <td>0.0</td>\n",
       "      <td>0.0</td>\n",
       "      <td>...</td>\n",
       "      <td>0.0</td>\n",
       "      <td>0.0</td>\n",
       "      <td>0.0</td>\n",
       "      <td>0.0</td>\n",
       "      <td>0.0</td>\n",
       "      <td>0.0</td>\n",
       "      <td>0.0</td>\n",
       "      <td>0.0</td>\n",
       "      <td>0.0</td>\n",
       "      <td>0.0</td>\n",
       "    </tr>\n",
       "  </tbody>\n",
       "</table>\n",
       "<p>1 rows × 38644 columns</p>\n",
       "</div>"
      ],
      "text/plain": [
       "  material_id    structure_obj max_orbital  dos  Cs-Cs PRDF r=0.00-1.00  \\\n",
       "0       mp-85  [[0. 0. 0.] In]         spd  0.0                     0.0   \n",
       "\n",
       "   Cs-Cs PRDF r=1.00-2.00  Cs-Cs PRDF r=2.00-3.00  Cs-Cs PRDF r=3.00-4.00  \\\n",
       "0                     0.0                     0.0                     0.0   \n",
       "\n",
       "   Cs-Cs PRDF r=4.00-5.00  Cs-Cs PRDF r=5.00-6.00            ...             \\\n",
       "0                     0.0                     0.0            ...              \n",
       "\n",
       "   Ne-Ne PRDF r=6.00-7.00  Ne-Ne PRDF r=7.00-8.00  Ne-Ne PRDF r=8.00-9.00  \\\n",
       "0                     0.0                     0.0                     0.0   \n",
       "\n",
       "   Ne-Ne PRDF r=9.00-10.00  Ne-Ne PRDF r=10.00-11.00  \\\n",
       "0                      0.0                       0.0   \n",
       "\n",
       "   Ne-Ne PRDF r=11.00-12.00  Ne-Ne PRDF r=12.00-13.00  \\\n",
       "0                       0.0                       0.0   \n",
       "\n",
       "   Ne-Ne PRDF r=13.00-14.00  Ne-Ne PRDF r=14.00-15.00  \\\n",
       "0                       0.0                       0.0   \n",
       "\n",
       "   Ne-Ne PRDF r=15.00-16.00  \n",
       "0                       0.0  \n",
       "\n",
       "[1 rows x 38644 columns]"
      ]
     },
     "execution_count": 3,
     "metadata": {},
     "output_type": "execute_result"
    }
   ],
   "source": [
    "print (\"Shape of data: \", data.shape)\n",
    "data.head(1)"
   ]
  },
  {
   "cell_type": "markdown",
   "metadata": {},
   "source": [
    "Count sp and spd systems"
   ]
  },
  {
   "cell_type": "code",
   "execution_count": 4,
   "metadata": {},
   "outputs": [
    {
     "data": {
      "text/plain": [
       "spd    4600\n",
       "sp      229\n",
       "Name: max_orbital, dtype: int64"
      ]
     },
     "execution_count": 4,
     "metadata": {},
     "output_type": "execute_result"
    }
   ],
   "source": [
    "count = data['max_orbital'].value_counts(sort=True)\n",
    "count"
   ]
  },
  {
   "cell_type": "markdown",
   "metadata": {},
   "source": [
    "Partition compounds into $sp$ and $spd$ systems.\n",
    "\n",
    "In Schutt's paper, there are 1716 sp systems and 5548 spd systems."
   ]
  },
  {
   "cell_type": "code",
   "execution_count": 5,
   "metadata": {},
   "outputs": [],
   "source": [
    "data = data.sort_values(by=['max_orbital'])"
   ]
  },
  {
   "cell_type": "code",
   "execution_count": 6,
   "metadata": {},
   "outputs": [
    {
     "name": "stdout",
     "output_type": "stream",
     "text": [
      "sp systems:  229\n",
      "spd systems:  4600\n"
     ]
    }
   ],
   "source": [
    "sp_data = data[:count['sp']]\n",
    "spd_data = data[count['sp']:]\n",
    "print (\"sp systems: \", sp_data.shape[0])\n",
    "print (\"spd systems: \", spd_data.shape[0])"
   ]
  },
  {
   "cell_type": "markdown",
   "metadata": {},
   "source": [
    "Input X and Y"
   ]
  },
  {
   "cell_type": "code",
   "execution_count": 7,
   "metadata": {},
   "outputs": [],
   "source": [
    "x_sp = sp_data.drop(['material_id', 'structure_obj', 'max_orbital', 'dos'], 1)\n",
    "y_sp = sp_data['dos']\n",
    "x_sp, y_sp = shuffle(x_sp, y_sp)"
   ]
  },
  {
   "cell_type": "code",
   "execution_count": 8,
   "metadata": {},
   "outputs": [],
   "source": [
    "x_spd = spd_data.drop(['material_id', 'structure_obj', 'max_orbital', 'dos'], 1)\n",
    "y_spd = spd_data['dos']\n",
    "x_spd, y_spd = shuffle(x_spd, y_spd)"
   ]
  },
  {
   "cell_type": "markdown",
   "metadata": {},
   "source": [
    "Partition data into training and testing set (80/20)"
   ]
  },
  {
   "cell_type": "code",
   "execution_count": 9,
   "metadata": {},
   "outputs": [],
   "source": [
    "x_train, x_test, y_train, y_test = dict.fromkeys(['sp', 'spd']), dict.fromkeys(['sp', 'spd']), dict.fromkeys(['sp', 'spd']), dict.fromkeys(['sp', 'spd'])\n",
    "x_train['sp'], x_test['sp'], y_train['sp'], y_test['sp'] = train_test_split(x_sp, y_sp, test_size=0.2, shuffle=True)\n",
    "x_train['spd'], x_test['spd'], y_train['spd'], y_test['spd'] = train_test_split(x_spd, y_spd, test_size=0.2, shuffle=True)"
   ]
  },
  {
   "cell_type": "markdown",
   "metadata": {},
   "source": [
    "### Build ML model\n",
    "\n",
    "Set up Kernel Ridge Regression (KRR) model. Three types of kernel: linear, Gaussian, Laplacian"
   ]
  },
  {
   "cell_type": "code",
   "execution_count": 10,
   "metadata": {},
   "outputs": [],
   "source": [
    "kernels = ['linear', 'gaussian', 'laplacian']"
   ]
  },
  {
   "cell_type": "code",
   "execution_count": 11,
   "metadata": {},
   "outputs": [],
   "source": [
    "sp_models = {\"linear\": KernelRidge(kernel=\"linear\"), \"gaussian\": KernelRidge(kernel=\"rbf\"), \"laplacian\": KernelRidge(kernel=\"laplacian\")}\n",
    "spd_models = {\"linear\": KernelRidge(kernel=\"linear\"), \"gaussian\": KernelRidge(kernel=\"rbf\"), \"laplacian\": KernelRidge(kernel=\"laplacian\")}"
   ]
  },
  {
   "cell_type": "markdown",
   "metadata": {},
   "source": [
    "Here we'll compare the performance of three different kernels in predicting DOS for sp and spd systems."
   ]
  },
  {
   "cell_type": "code",
   "execution_count": null,
   "metadata": {},
   "outputs": [],
   "source": [
    "kfold = KFold(5)"
   ]
  },
  {
   "cell_type": "code",
   "execution_count": null,
   "metadata": {},
   "outputs": [],
   "source": [
    "cv_prediction_sp, cv_prediction_spd = dict.fromkeys(kernels), dict.fromkeys(kernels)"
   ]
  },
  {
   "cell_type": "code",
   "execution_count": null,
   "metadata": {},
   "outputs": [],
   "source": [
    "for model in sp_models:\n",
    "    sp_models[model] = sp_models[model].fit(x_train['sp'], y_train['sp'])\n",
    "    cv_prediction_sp[model] = sp_models[model].predict(x_test['sp'])\n",
    "#     cv_prediction_sp[model] = cross_val_predict(sp_models[model], x_test['sp'], y_test['sp'], cv=kfold)"
   ]
  },
  {
   "cell_type": "code",
   "execution_count": null,
   "metadata": {},
   "outputs": [],
   "source": [
    "for model in spd_models:\n",
    "    spd_models[model] = spd_models[model].fit(x_train['spd'], y_train['spd'])\n",
    "    cv_prediction_spd[model] = spd_models[model].predict(x_test['spd'])\n",
    "#     cv_prediction_spd[model] = cross_val_predict(spd_models[model], x_test['spd'], y_test['spd'], cv=kfold)"
   ]
  },
  {
   "cell_type": "markdown",
   "metadata": {},
   "source": [
    "Compute aggregate statistics of the kernels used."
   ]
  },
  {
   "cell_type": "code",
   "execution_count": null,
   "metadata": {},
   "outputs": [],
   "source": [
    "stats = ['mean_absolute_error', 'mean_squared_error', 'r2_score']\n",
    "score_sp, score_spd = dict.fromkeys(kernels), dict.fromkeys(kernels)\n",
    "for i, j in zip(score_sp, score_spd):\n",
    "    score_sp[i], score_spd[j] = dict.fromkeys(stats), dict.fromkeys(stats)"
   ]
  },
  {
   "cell_type": "code",
   "execution_count": null,
   "metadata": {},
   "outputs": [],
   "source": [
    "for model in kernels:\n",
    "    for scorer in stats:\n",
    "        score_sp[model][scorer] = getattr(metrics, scorer)(y_test['sp'], cv_prediction_sp[model])\n",
    "        score_spd[model][scorer] = getattr(metrics, scorer)(y_test['spd'], cv_prediction_spd[model])"
   ]
  },
  {
   "cell_type": "code",
   "execution_count": null,
   "metadata": {},
   "outputs": [],
   "source": [
    "print (\"sp system score: \")\n",
    "for i in score_sp:\n",
    "    print (i, \": \", score_sp[i])\n",
    "print ()\n",
    "print (\"spd system score: \")\n",
    "for i in score_spd:\n",
    "    print (i, \": \", score_spd[i])"
   ]
  },
  {
   "cell_type": "markdown",
   "metadata": {},
   "source": [
    "Plot prediction"
   ]
  },
  {
   "cell_type": "code",
   "execution_count": null,
   "metadata": {},
   "outputs": [],
   "source": [
    "max(cv_prediction_sp['linear'])"
   ]
  },
  {
   "cell_type": "code",
   "execution_count": null,
   "metadata": {},
   "outputs": [],
   "source": [
    "fig, ax = plt.subplots(2, 3, sharex=True, sharey=True)\n",
    "\n",
    "ax[0, 0].set_title(\"Linear\")\n",
    "ax[0, 1].set_title(\"Gaussian\")\n",
    "ax[0, 2].set_title(\"Laplacian\")\n",
    "\n",
    "ax[0, 0].set_ylabel(\"sp\\n $DOS_{pred} (states/eV/A^3)$\")\n",
    "ax[1, 0].set_ylabel(\"spd\\n $DOS_{pred} (states/eV/A^3)$\")\n",
    "ax[1, 1].set_xlabel(\"$DOS_{calc} (states/eV/A^3)$\")\n",
    "\n",
    "ax[0, 0].scatter(y_test['sp'], cv_prediction_sp['linear'], marker='.')\n",
    "ax[0, 1].scatter(y_test['sp'], cv_prediction_sp['gaussian'], marker='.')\n",
    "ax[0, 2].scatter(y_test['sp'], cv_prediction_sp['laplacian'], marker='.')\n",
    "\n",
    "ax[1, 0].scatter(y_test['spd'], cv_prediction_spd['linear'], marker='.')\n",
    "ax[1, 1].scatter(y_test['spd'], cv_prediction_spd['gaussian'], marker='.')\n",
    "ax[1, 2].scatter(y_test['spd'], cv_prediction_spd['laplacian'], marker='.')\n",
    "\n",
    "fig.tight_layout()\n",
    "fig.set_size_inches((10, 7))\n",
    "\n",
    "# ax1.text(0.49, 0.026, 'MAE: {:.0f}\\nRMSE:{:.0f}\\n$R^2$: {:.3f}'.format(score['sp']['mean_absolute_error'], score['sp']['mean_squared_error'], score['sp']['r2_score']),\n",
    "#          transform=ax1.transAxes, fontsize=8,\n",
    "#          bbox={'facecolor': 'w', 'edgecolor': 'k'})"
   ]
  },
  {
   "cell_type": "markdown",
   "metadata": {},
   "source": [
    "Using GridSearchCV to do hyperparameter searching"
   ]
  },
  {
   "cell_type": "code",
   "execution_count": 12,
   "metadata": {},
   "outputs": [],
   "source": [
    "params = {}\n",
    "params['prdf'] = [{'alpha' : [10**(-a) for a in range(2,6,2)],\n",
    "    'gamma': [1/2.0/s/s for s in (20000,40000,80000,160000)]}]"
   ]
  },
  {
   "cell_type": "code",
   "execution_count": 13,
   "metadata": {},
   "outputs": [],
   "source": [
    "gridsearch_sp = GridSearchCV(KernelRidge(kernel='laplacian'), params['prdf'], cv=KFold(), refit=True, n_jobs=-1)\n",
    "gridsearch_spd = GridSearchCV(KernelRidge(kernel='laplacian'), params['prdf'], cv=KFold(), refit=True, n_jobs=-1)"
   ]
  },
  {
   "cell_type": "code",
   "execution_count": 14,
   "metadata": {
    "scrolled": true
   },
   "outputs": [
    {
     "data": {
      "text/plain": [
       "GridSearchCV(cv=KFold(n_splits=3, random_state=None, shuffle=False),\n",
       "       error_score='raise',\n",
       "       estimator=KernelRidge(alpha=1, coef0=1, degree=3, gamma=None, kernel='laplacian',\n",
       "      kernel_params=None),\n",
       "       fit_params=None, iid=True, n_jobs=-1,\n",
       "       param_grid=[{'alpha': [0.01, 0.0001], 'gamma': [1.25e-09, 3.125e-10, 7.8125e-11, 1.953125e-11]}],\n",
       "       pre_dispatch='2*n_jobs', refit=True, return_train_score='warn',\n",
       "       scoring=None, verbose=0)"
      ]
     },
     "execution_count": 14,
     "metadata": {},
     "output_type": "execute_result"
    }
   ],
   "source": [
    "gridsearch_sp.fit(x_train['sp'], y_train['sp'])"
   ]
  },
  {
   "cell_type": "code",
   "execution_count": 15,
   "metadata": {},
   "outputs": [
    {
     "name": "stderr",
     "output_type": "stream",
     "text": [
      "Process ForkPoolWorker-15:\n",
      "Process ForkPoolWorker-16:\n",
      "Process ForkPoolWorker-13:\n",
      "Process ForkPoolWorker-14:\n",
      "Traceback (most recent call last):\n",
      "Traceback (most recent call last):\n",
      "Traceback (most recent call last):\n",
      "Traceback (most recent call last):\n",
      "  File \"/Users/AikRui/anaconda3/lib/python3.6/multiprocessing/process.py\", line 258, in _bootstrap\n",
      "    self.run()\n",
      "  File \"/Users/AikRui/anaconda3/lib/python3.6/multiprocessing/process.py\", line 258, in _bootstrap\n",
      "    self.run()\n",
      "  File \"/Users/AikRui/anaconda3/lib/python3.6/multiprocessing/process.py\", line 258, in _bootstrap\n",
      "    self.run()\n",
      "  File \"/Users/AikRui/anaconda3/lib/python3.6/multiprocessing/process.py\", line 258, in _bootstrap\n",
      "    self.run()\n",
      "  File \"/Users/AikRui/anaconda3/lib/python3.6/multiprocessing/process.py\", line 93, in run\n",
      "    self._target(*self._args, **self._kwargs)\n",
      "  File \"/Users/AikRui/anaconda3/lib/python3.6/multiprocessing/process.py\", line 93, in run\n",
      "    self._target(*self._args, **self._kwargs)\n",
      "  File \"/Users/AikRui/anaconda3/lib/python3.6/multiprocessing/process.py\", line 93, in run\n",
      "    self._target(*self._args, **self._kwargs)\n",
      "  File \"/Users/AikRui/anaconda3/lib/python3.6/multiprocessing/process.py\", line 93, in run\n",
      "    self._target(*self._args, **self._kwargs)\n"
     ]
    },
    {
     "ename": "KeyboardInterrupt",
     "evalue": "",
     "output_type": "error",
     "traceback": [
      "\u001b[0;31m---------------------------------------------------------------------------\u001b[0m",
      "\u001b[0;31mKeyboardInterrupt\u001b[0m                         Traceback (most recent call last)",
      "\u001b[0;32m<ipython-input-15-b2e0a3dfaa3f>\u001b[0m in \u001b[0;36m<module>\u001b[0;34m()\u001b[0m\n\u001b[0;32m----> 1\u001b[0;31m \u001b[0mgridsearch_spd\u001b[0m\u001b[0;34m.\u001b[0m\u001b[0mfit\u001b[0m\u001b[0;34m(\u001b[0m\u001b[0mx_train\u001b[0m\u001b[0;34m[\u001b[0m\u001b[0;34m'spd'\u001b[0m\u001b[0;34m]\u001b[0m\u001b[0;34m,\u001b[0m \u001b[0my_train\u001b[0m\u001b[0;34m[\u001b[0m\u001b[0;34m'spd'\u001b[0m\u001b[0;34m]\u001b[0m\u001b[0;34m)\u001b[0m\u001b[0;34m\u001b[0m\u001b[0m\n\u001b[0m",
      "\u001b[0;32m~/anaconda3/lib/python3.6/site-packages/sklearn/model_selection/_search.py\u001b[0m in \u001b[0;36mfit\u001b[0;34m(self, X, y, groups, **fit_params)\u001b[0m\n\u001b[1;32m    637\u001b[0m                                   error_score=self.error_score)\n\u001b[1;32m    638\u001b[0m           for parameters, (train, test) in product(candidate_params,\n\u001b[0;32m--> 639\u001b[0;31m                                                    cv.split(X, y, groups)))\n\u001b[0m\u001b[1;32m    640\u001b[0m \u001b[0;34m\u001b[0m\u001b[0m\n\u001b[1;32m    641\u001b[0m         \u001b[0;31m# if one choose to see train score, \"out\" will contain train score info\u001b[0m\u001b[0;34m\u001b[0m\u001b[0;34m\u001b[0m\u001b[0m\n",
      "\u001b[0;32m~/anaconda3/lib/python3.6/site-packages/sklearn/externals/joblib/parallel.py\u001b[0m in \u001b[0;36m__call__\u001b[0;34m(self, iterable)\u001b[0m\n\u001b[1;32m    787\u001b[0m                 \u001b[0;31m# consumption.\u001b[0m\u001b[0;34m\u001b[0m\u001b[0;34m\u001b[0m\u001b[0m\n\u001b[1;32m    788\u001b[0m                 \u001b[0mself\u001b[0m\u001b[0;34m.\u001b[0m\u001b[0m_iterating\u001b[0m \u001b[0;34m=\u001b[0m \u001b[0;32mFalse\u001b[0m\u001b[0;34m\u001b[0m\u001b[0m\n\u001b[0;32m--> 789\u001b[0;31m             \u001b[0mself\u001b[0m\u001b[0;34m.\u001b[0m\u001b[0mretrieve\u001b[0m\u001b[0;34m(\u001b[0m\u001b[0;34m)\u001b[0m\u001b[0;34m\u001b[0m\u001b[0m\n\u001b[0m\u001b[1;32m    790\u001b[0m             \u001b[0;31m# Make sure that we get a last message telling us we are done\u001b[0m\u001b[0;34m\u001b[0m\u001b[0;34m\u001b[0m\u001b[0m\n\u001b[1;32m    791\u001b[0m             \u001b[0melapsed_time\u001b[0m \u001b[0;34m=\u001b[0m \u001b[0mtime\u001b[0m\u001b[0;34m.\u001b[0m\u001b[0mtime\u001b[0m\u001b[0;34m(\u001b[0m\u001b[0;34m)\u001b[0m \u001b[0;34m-\u001b[0m \u001b[0mself\u001b[0m\u001b[0;34m.\u001b[0m\u001b[0m_start_time\u001b[0m\u001b[0;34m\u001b[0m\u001b[0m\n",
      "\u001b[0;32m~/anaconda3/lib/python3.6/site-packages/sklearn/externals/joblib/parallel.py\u001b[0m in \u001b[0;36mretrieve\u001b[0;34m(self)\u001b[0m\n\u001b[1;32m    697\u001b[0m             \u001b[0;32mtry\u001b[0m\u001b[0;34m:\u001b[0m\u001b[0;34m\u001b[0m\u001b[0m\n\u001b[1;32m    698\u001b[0m                 \u001b[0;32mif\u001b[0m \u001b[0mgetattr\u001b[0m\u001b[0;34m(\u001b[0m\u001b[0mself\u001b[0m\u001b[0;34m.\u001b[0m\u001b[0m_backend\u001b[0m\u001b[0;34m,\u001b[0m \u001b[0;34m'supports_timeout'\u001b[0m\u001b[0;34m,\u001b[0m \u001b[0;32mFalse\u001b[0m\u001b[0;34m)\u001b[0m\u001b[0;34m:\u001b[0m\u001b[0;34m\u001b[0m\u001b[0m\n\u001b[0;32m--> 699\u001b[0;31m                     \u001b[0mself\u001b[0m\u001b[0;34m.\u001b[0m\u001b[0m_output\u001b[0m\u001b[0;34m.\u001b[0m\u001b[0mextend\u001b[0m\u001b[0;34m(\u001b[0m\u001b[0mjob\u001b[0m\u001b[0;34m.\u001b[0m\u001b[0mget\u001b[0m\u001b[0;34m(\u001b[0m\u001b[0mtimeout\u001b[0m\u001b[0;34m=\u001b[0m\u001b[0mself\u001b[0m\u001b[0;34m.\u001b[0m\u001b[0mtimeout\u001b[0m\u001b[0;34m)\u001b[0m\u001b[0;34m)\u001b[0m\u001b[0;34m\u001b[0m\u001b[0m\n\u001b[0m\u001b[1;32m    700\u001b[0m                 \u001b[0;32melse\u001b[0m\u001b[0;34m:\u001b[0m\u001b[0;34m\u001b[0m\u001b[0m\n\u001b[1;32m    701\u001b[0m                     \u001b[0mself\u001b[0m\u001b[0;34m.\u001b[0m\u001b[0m_output\u001b[0m\u001b[0;34m.\u001b[0m\u001b[0mextend\u001b[0m\u001b[0;34m(\u001b[0m\u001b[0mjob\u001b[0m\u001b[0;34m.\u001b[0m\u001b[0mget\u001b[0m\u001b[0;34m(\u001b[0m\u001b[0;34m)\u001b[0m\u001b[0;34m)\u001b[0m\u001b[0;34m\u001b[0m\u001b[0m\n",
      "\u001b[0;32m~/anaconda3/lib/python3.6/multiprocessing/pool.py\u001b[0m in \u001b[0;36mget\u001b[0;34m(self, timeout)\u001b[0m\n\u001b[1;32m    636\u001b[0m \u001b[0;34m\u001b[0m\u001b[0m\n\u001b[1;32m    637\u001b[0m     \u001b[0;32mdef\u001b[0m \u001b[0mget\u001b[0m\u001b[0;34m(\u001b[0m\u001b[0mself\u001b[0m\u001b[0;34m,\u001b[0m \u001b[0mtimeout\u001b[0m\u001b[0;34m=\u001b[0m\u001b[0;32mNone\u001b[0m\u001b[0;34m)\u001b[0m\u001b[0;34m:\u001b[0m\u001b[0;34m\u001b[0m\u001b[0m\n\u001b[0;32m--> 638\u001b[0;31m         \u001b[0mself\u001b[0m\u001b[0;34m.\u001b[0m\u001b[0mwait\u001b[0m\u001b[0;34m(\u001b[0m\u001b[0mtimeout\u001b[0m\u001b[0;34m)\u001b[0m\u001b[0;34m\u001b[0m\u001b[0m\n\u001b[0m\u001b[1;32m    639\u001b[0m         \u001b[0;32mif\u001b[0m \u001b[0;32mnot\u001b[0m \u001b[0mself\u001b[0m\u001b[0;34m.\u001b[0m\u001b[0mready\u001b[0m\u001b[0;34m(\u001b[0m\u001b[0;34m)\u001b[0m\u001b[0;34m:\u001b[0m\u001b[0;34m\u001b[0m\u001b[0m\n\u001b[1;32m    640\u001b[0m             \u001b[0;32mraise\u001b[0m \u001b[0mTimeoutError\u001b[0m\u001b[0;34m\u001b[0m\u001b[0m\n",
      "\u001b[0;32m~/anaconda3/lib/python3.6/multiprocessing/pool.py\u001b[0m in \u001b[0;36mwait\u001b[0;34m(self, timeout)\u001b[0m\n\u001b[1;32m    633\u001b[0m \u001b[0;34m\u001b[0m\u001b[0m\n\u001b[1;32m    634\u001b[0m     \u001b[0;32mdef\u001b[0m \u001b[0mwait\u001b[0m\u001b[0;34m(\u001b[0m\u001b[0mself\u001b[0m\u001b[0;34m,\u001b[0m \u001b[0mtimeout\u001b[0m\u001b[0;34m=\u001b[0m\u001b[0;32mNone\u001b[0m\u001b[0;34m)\u001b[0m\u001b[0;34m:\u001b[0m\u001b[0;34m\u001b[0m\u001b[0m\n\u001b[0;32m--> 635\u001b[0;31m         \u001b[0mself\u001b[0m\u001b[0;34m.\u001b[0m\u001b[0m_event\u001b[0m\u001b[0;34m.\u001b[0m\u001b[0mwait\u001b[0m\u001b[0;34m(\u001b[0m\u001b[0mtimeout\u001b[0m\u001b[0;34m)\u001b[0m\u001b[0;34m\u001b[0m\u001b[0m\n\u001b[0m\u001b[1;32m    636\u001b[0m \u001b[0;34m\u001b[0m\u001b[0m\n\u001b[1;32m    637\u001b[0m     \u001b[0;32mdef\u001b[0m \u001b[0mget\u001b[0m\u001b[0;34m(\u001b[0m\u001b[0mself\u001b[0m\u001b[0;34m,\u001b[0m \u001b[0mtimeout\u001b[0m\u001b[0;34m=\u001b[0m\u001b[0;32mNone\u001b[0m\u001b[0;34m)\u001b[0m\u001b[0;34m:\u001b[0m\u001b[0;34m\u001b[0m\u001b[0m\n",
      "\u001b[0;32m~/anaconda3/lib/python3.6/threading.py\u001b[0m in \u001b[0;36mwait\u001b[0;34m(self, timeout)\u001b[0m\n\u001b[1;32m    549\u001b[0m             \u001b[0msignaled\u001b[0m \u001b[0;34m=\u001b[0m \u001b[0mself\u001b[0m\u001b[0;34m.\u001b[0m\u001b[0m_flag\u001b[0m\u001b[0;34m\u001b[0m\u001b[0m\n\u001b[1;32m    550\u001b[0m             \u001b[0;32mif\u001b[0m \u001b[0;32mnot\u001b[0m \u001b[0msignaled\u001b[0m\u001b[0;34m:\u001b[0m\u001b[0;34m\u001b[0m\u001b[0m\n\u001b[0;32m--> 551\u001b[0;31m                 \u001b[0msignaled\u001b[0m \u001b[0;34m=\u001b[0m \u001b[0mself\u001b[0m\u001b[0;34m.\u001b[0m\u001b[0m_cond\u001b[0m\u001b[0;34m.\u001b[0m\u001b[0mwait\u001b[0m\u001b[0;34m(\u001b[0m\u001b[0mtimeout\u001b[0m\u001b[0;34m)\u001b[0m\u001b[0;34m\u001b[0m\u001b[0m\n\u001b[0m\u001b[1;32m    552\u001b[0m             \u001b[0;32mreturn\u001b[0m \u001b[0msignaled\u001b[0m\u001b[0;34m\u001b[0m\u001b[0m\n\u001b[1;32m    553\u001b[0m \u001b[0;34m\u001b[0m\u001b[0m\n",
      "\u001b[0;32m~/anaconda3/lib/python3.6/threading.py\u001b[0m in \u001b[0;36mwait\u001b[0;34m(self, timeout)\u001b[0m\n\u001b[1;32m    293\u001b[0m         \u001b[0;32mtry\u001b[0m\u001b[0;34m:\u001b[0m    \u001b[0;31m# restore state no matter what (e.g., KeyboardInterrupt)\u001b[0m\u001b[0;34m\u001b[0m\u001b[0m\n\u001b[1;32m    294\u001b[0m             \u001b[0;32mif\u001b[0m \u001b[0mtimeout\u001b[0m \u001b[0;32mis\u001b[0m \u001b[0;32mNone\u001b[0m\u001b[0;34m:\u001b[0m\u001b[0;34m\u001b[0m\u001b[0m\n\u001b[0;32m--> 295\u001b[0;31m                 \u001b[0mwaiter\u001b[0m\u001b[0;34m.\u001b[0m\u001b[0macquire\u001b[0m\u001b[0;34m(\u001b[0m\u001b[0;34m)\u001b[0m\u001b[0;34m\u001b[0m\u001b[0m\n\u001b[0m\u001b[1;32m    296\u001b[0m                 \u001b[0mgotit\u001b[0m \u001b[0;34m=\u001b[0m \u001b[0;32mTrue\u001b[0m\u001b[0;34m\u001b[0m\u001b[0m\n\u001b[1;32m    297\u001b[0m             \u001b[0;32melse\u001b[0m\u001b[0;34m:\u001b[0m\u001b[0;34m\u001b[0m\u001b[0m\n",
      "\u001b[0;31mKeyboardInterrupt\u001b[0m: "
     ]
    }
   ],
   "source": [
    "gridsearch_spd.fit(x_train['spd'], y_train['spd'])"
   ]
  },
  {
   "cell_type": "code",
   "execution_count": null,
   "metadata": {},
   "outputs": [],
   "source": [
    "best_model = {'sp': gridsearch_sp.best_estimator_, 'spd': gridsearch_spd.best_estimator_}"
   ]
  },
  {
   "cell_type": "code",
   "execution_count": null,
   "metadata": {},
   "outputs": [],
   "source": [
    "cv_predictions = {'sp': best_model['sp'].predict(x_test['sp']), 'spd': best_model['spd'].predict(x_test['spd'])}"
   ]
  },
  {
   "cell_type": "code",
   "execution_count": null,
   "metadata": {},
   "outputs": [],
   "source": [
    "stats = {'sp': {'mae': mean_absolute_error(y_test['sp'], cv_predictions['sp']),\n",
    "                'rmse': np.sqrt(mean_squared_error(y_test['sp'], cv_predictions['sp'])),\n",
    "                'r2': r2_score(y_test['sp'], cv_predictions['sp'])}, \n",
    "         'spd': {'mae': mean_absolute_error(y_test['spd'], cv_predictions['spd']),\n",
    "                'rmse': np.sqrt(mean_squared_error(y_test['spd'], cv_predictions['spd'])),\n",
    "                'r2': r2_score(y_test['spd'], cv_predictions['spd'])}}"
   ]
  },
  {
   "cell_type": "code",
   "execution_count": null,
   "metadata": {},
   "outputs": [],
   "source": [
    "print (\"sp system score: \")\n",
    "for k, v in stats.items():\n",
    "    print (i, \":\\n\", v)"
   ]
  }
 ],
 "metadata": {
  "kernelspec": {
   "display_name": "Python 3",
   "language": "python",
   "name": "python3"
  },
  "language_info": {
   "codemirror_mode": {
    "name": "ipython",
    "version": 3
   },
   "file_extension": ".py",
   "mimetype": "text/x-python",
   "name": "python",
   "nbconvert_exporter": "python",
   "pygments_lexer": "ipython3",
   "version": "3.6.4"
  }
 },
 "nbformat": 4,
 "nbformat_minor": 2
}
