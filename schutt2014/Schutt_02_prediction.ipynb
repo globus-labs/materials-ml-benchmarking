{
 "cells": [
  {
   "cell_type": "markdown",
   "metadata": {},
   "source": [
    "## Prediction of Density of States (DOS) using Partial Radial Distribution Function (PRDF) representation\n",
    "\n",
    "We want to study the accuracy and time performance of the featurizations used in [Schutt et al paper](https://journals.aps.org/prb/abstract/10.1103/PhysRevB.89.205118). Here in part 2, we build a Kernel Ridge Regression (KRR) model with three different kernels (Linear, Gaussian and Laplacian) and analyze accuracy of each kernel."
   ]
  },
  {
   "cell_type": "markdown",
   "metadata": {},
   "source": [
    "#### Import packages"
   ]
  },
  {
   "cell_type": "code",
   "execution_count": 1,
   "metadata": {},
   "outputs": [
    {
     "name": "stderr",
     "output_type": "stream",
     "text": [
      "/home/amoffet2/anaconda3/lib/python3.6/importlib/_bootstrap.py:219: RuntimeWarning: numpy.dtype size changed, may indicate binary incompatibility. Expected 96, got 88\n",
      "  return f(*args, **kwds)\n",
      "/home/amoffet2/anaconda3/lib/python3.6/importlib/_bootstrap.py:219: RuntimeWarning: numpy.dtype size changed, may indicate binary incompatibility. Expected 96, got 88\n",
      "  return f(*args, **kwds)\n",
      "/home/amoffet2/anaconda3/lib/python3.6/importlib/_bootstrap.py:219: RuntimeWarning: numpy.dtype size changed, may indicate binary incompatibility. Expected 96, got 88\n",
      "  return f(*args, **kwds)\n"
     ]
    }
   ],
   "source": [
    "%matplotlib inline\n",
    "import numpy as np\n",
    "import pandas as pd\n",
    "import matplotlib.pyplot as plt\n",
    "import os\n",
    "\n",
    "from sklearn.kernel_ridge import KernelRidge\n",
    "from sklearn.utils import shuffle\n",
    "from sklearn import metrics\n",
    "from sklearn.model_selection import cross_val_predict, KFold, GridSearchCV, train_test_split"
   ]
  },
  {
   "cell_type": "markdown",
   "metadata": {},
   "source": [
    "#### Load featurized data from pickle file"
   ]
  },
  {
   "cell_type": "code",
   "execution_count": 2,
   "metadata": {},
   "outputs": [],
   "source": [
    "path = os.path.join(os.getcwd(), 'schutt_cutoff10_binsize20.pkl')\n",
    "data = pd.read_pickle(path)"
   ]
  },
  {
   "cell_type": "code",
   "execution_count": 3,
   "metadata": {},
   "outputs": [
    {
     "name": "stdout",
     "output_type": "stream",
     "text": [
      "Shape of data:  (6174, 12085)\n"
     ]
    },
    {
     "data": {
      "text/html": [
       "<div>\n",
       "<style scoped>\n",
       "    .dataframe tbody tr th:only-of-type {\n",
       "        vertical-align: middle;\n",
       "    }\n",
       "\n",
       "    .dataframe tbody tr th {\n",
       "        vertical-align: top;\n",
       "    }\n",
       "\n",
       "    .dataframe thead th {\n",
       "        text-align: right;\n",
       "    }\n",
       "</style>\n",
       "<table border=\"1\" class=\"dataframe\">\n",
       "  <thead>\n",
       "    <tr style=\"text-align: right;\">\n",
       "      <th></th>\n",
       "      <th>material_id</th>\n",
       "      <th>pretty_formula</th>\n",
       "      <th>structure</th>\n",
       "      <th>structure_obj</th>\n",
       "      <th>composition_obj</th>\n",
       "      <th>max_atom_num</th>\n",
       "      <th>max_orbital</th>\n",
       "      <th>dos_obj</th>\n",
       "      <th>dos</th>\n",
       "      <th>volume</th>\n",
       "      <th>...</th>\n",
       "      <th>He-Ne PRDF r=0.00-2.00</th>\n",
       "      <th>He-Ne PRDF r=2.00-4.00</th>\n",
       "      <th>He-Ne PRDF r=4.00-6.00</th>\n",
       "      <th>He-Ne PRDF r=6.00-8.00</th>\n",
       "      <th>He-Ne PRDF r=8.00-10.00</th>\n",
       "      <th>Ne-Ne PRDF r=0.00-2.00</th>\n",
       "      <th>Ne-Ne PRDF r=2.00-4.00</th>\n",
       "      <th>Ne-Ne PRDF r=4.00-6.00</th>\n",
       "      <th>Ne-Ne PRDF r=6.00-8.00</th>\n",
       "      <th>Ne-Ne PRDF r=8.00-10.00</th>\n",
       "    </tr>\n",
       "  </thead>\n",
       "  <tbody>\n",
       "    <tr>\n",
       "      <th>0</th>\n",
       "      <td>mp-85</td>\n",
       "      <td>In</td>\n",
       "      <td>{'@module': 'pymatgen.core.structure', '@class...</td>\n",
       "      <td>[[0. 0. 0.] In]</td>\n",
       "      <td>(In)</td>\n",
       "      <td>49</td>\n",
       "      <td>spd</td>\n",
       "      <td>Complete DOS for Full Formula (In1)\\nReduced F...</td>\n",
       "      <td>0.0</td>\n",
       "      <td>27.560695</td>\n",
       "      <td>...</td>\n",
       "      <td>0.0</td>\n",
       "      <td>0.0</td>\n",
       "      <td>0.0</td>\n",
       "      <td>0.0</td>\n",
       "      <td>0.0</td>\n",
       "      <td>0.0</td>\n",
       "      <td>0.0</td>\n",
       "      <td>0.0</td>\n",
       "      <td>0.0</td>\n",
       "      <td>0.0</td>\n",
       "    </tr>\n",
       "  </tbody>\n",
       "</table>\n",
       "<p>1 rows × 12085 columns</p>\n",
       "</div>"
      ],
      "text/plain": [
       "  material_id pretty_formula  \\\n",
       "0       mp-85             In   \n",
       "\n",
       "                                           structure    structure_obj  \\\n",
       "0  {'@module': 'pymatgen.core.structure', '@class...  [[0. 0. 0.] In]   \n",
       "\n",
       "  composition_obj  max_atom_num max_orbital  \\\n",
       "0            (In)            49         spd   \n",
       "\n",
       "                                             dos_obj  dos     volume  \\\n",
       "0  Complete DOS for Full Formula (In1)\\nReduced F...  0.0  27.560695   \n",
       "\n",
       "            ...             He-Ne PRDF r=0.00-2.00  He-Ne PRDF r=2.00-4.00  \\\n",
       "0           ...                                0.0                     0.0   \n",
       "\n",
       "   He-Ne PRDF r=4.00-6.00  He-Ne PRDF r=6.00-8.00  He-Ne PRDF r=8.00-10.00  \\\n",
       "0                     0.0                     0.0                      0.0   \n",
       "\n",
       "   Ne-Ne PRDF r=0.00-2.00  Ne-Ne PRDF r=2.00-4.00  Ne-Ne PRDF r=4.00-6.00  \\\n",
       "0                     0.0                     0.0                     0.0   \n",
       "\n",
       "   Ne-Ne PRDF r=6.00-8.00  Ne-Ne PRDF r=8.00-10.00  \n",
       "0                     0.0                      0.0  \n",
       "\n",
       "[1 rows x 12085 columns]"
      ]
     },
     "execution_count": 3,
     "metadata": {},
     "output_type": "execute_result"
    }
   ],
   "source": [
    "print (\"Shape of data: \", data.shape)\n",
    "data.head(1)"
   ]
  },
  {
   "cell_type": "markdown",
   "metadata": {},
   "source": [
    "Count sp and spd systems"
   ]
  },
  {
   "cell_type": "code",
   "execution_count": 4,
   "metadata": {},
   "outputs": [],
   "source": [
    "count = data['max_orbital'].value_counts(sort=True)"
   ]
  },
  {
   "cell_type": "markdown",
   "metadata": {},
   "source": [
    "Partition compounds into $sp$ and $spd$ systems.\n",
    "\n",
    "In Schutt's paper, there are 1716 sp systems and 5548 spd systems."
   ]
  },
  {
   "cell_type": "code",
   "execution_count": 5,
   "metadata": {},
   "outputs": [],
   "source": [
    "data = data.sort_values(by=['max_orbital'])"
   ]
  },
  {
   "cell_type": "code",
   "execution_count": 6,
   "metadata": {},
   "outputs": [
    {
     "name": "stdout",
     "output_type": "stream",
     "text": [
      "sp systems:  423\n",
      "spd systems:  5751\n"
     ]
    }
   ],
   "source": [
    "sp_data = data[:count['sp']]\n",
    "spd_data = data[count['sp']:]\n",
    "print (\"sp systems: \", sp_data.shape[0])\n",
    "print (\"spd systems: \", spd_data.shape[0])"
   ]
  },
  {
   "cell_type": "markdown",
   "metadata": {},
   "source": [
    "Mean predictor of DOS in this data"
   ]
  },
  {
   "cell_type": "code",
   "execution_count": 7,
   "metadata": {},
   "outputs": [
    {
     "name": "stdout",
     "output_type": "stream",
     "text": [
      "Mean predictor of sp system: 0.13532102254725029 * 10^-2\n",
      "Mean predictor of spd system: 0.14338560753567675 * 10^-2\n"
     ]
    }
   ],
   "source": [
    "print (\"Mean predictor of sp system:\", np.mean(np.abs(np.subtract(sp_data['dos'], np.mean(sp_data['dos']))))*100, \"* 10^-2\")\n",
    "print (\"Mean predictor of spd system:\", np.mean(np.abs(np.subtract(spd_data['dos'], np.mean(spd_data['dos']))))*100, \"* 10^-2\")"
   ]
  },
  {
   "cell_type": "markdown",
   "metadata": {},
   "source": [
    "Input X and Y"
   ]
  },
  {
   "cell_type": "code",
   "execution_count": 8,
   "metadata": {},
   "outputs": [],
   "source": [
    "x_sp = sp_data.drop(['material_id', 'pretty_formula', 'structure', 'structure_obj',\n",
    "       'composition_obj', 'max_atom_num', 'max_orbital', 'dos_obj', 'dos',\n",
    "       'volume'], 1)\n",
    "y_sp = sp_data['dos']"
   ]
  },
  {
   "cell_type": "code",
   "execution_count": 9,
   "metadata": {},
   "outputs": [],
   "source": [
    "x_spd = spd_data.drop(['material_id', 'pretty_formula', 'structure', 'structure_obj',\n",
    "       'composition_obj', 'max_atom_num', 'max_orbital', 'dos_obj', 'dos',\n",
    "       'volume'], 1)\n",
    "y_spd = spd_data['dos']"
   ]
  },
  {
   "cell_type": "markdown",
   "metadata": {},
   "source": [
    "Partition data into training and testing set (80/20)"
   ]
  },
  {
   "cell_type": "code",
   "execution_count": 10,
   "metadata": {},
   "outputs": [],
   "source": [
    "x_train, x_test, y_train, y_test = dict.fromkeys(['sp', 'spd']), dict.fromkeys(['sp', 'spd']), dict.fromkeys(['sp', 'spd']), dict.fromkeys(['sp', 'spd'])\n",
    "x_train['sp'], x_test['sp'], y_train['sp'], y_test['sp'] = train_test_split(x_sp, y_sp, test_size=0.2, shuffle=True)\n",
    "x_train['spd'], x_test['spd'], y_train['spd'], y_test['spd'] = train_test_split(x_spd, y_spd, test_size=0.2, shuffle=True)"
   ]
  },
  {
   "cell_type": "markdown",
   "metadata": {},
   "source": [
    "### Build ML model\n",
    "\n",
    "Set up Kernel Ridge Regression (KRR) model. Three types of kernel: linear, Gaussian, Laplacian"
   ]
  },
  {
   "cell_type": "code",
   "execution_count": 11,
   "metadata": {},
   "outputs": [],
   "source": [
    "kernels = ['linear', 'gaussian', 'laplacian']"
   ]
  },
  {
   "cell_type": "code",
   "execution_count": 12,
   "metadata": {},
   "outputs": [],
   "source": [
    "gamma = 5e-05\n",
    "sp_models = {\"linear\": KernelRidge(kernel=\"linear\"), \n",
    "             \"gaussian\": KernelRidge(kernel=\"rbf\", alpha=1e-5, gamma=gamma), \n",
    "             \"laplacian\": KernelRidge(kernel=\"laplacian\", alpha=1e-3, gamma=gamma)}\n",
    "spd_models = {\"linear\": KernelRidge(kernel=\"linear\"), \n",
    "              \"gaussian\": KernelRidge(kernel=\"rbf\", alpha=1e-5, gamma=gamma), \n",
    "              \"laplacian\": KernelRidge(kernel=\"laplacian\", alpha=1e-3, gamma=gamma)}"
   ]
  },
  {
   "cell_type": "markdown",
   "metadata": {},
   "source": [
    "Here we'll compare the performance of three different kernels in predicting DOS for sp and spd systems."
   ]
  },
  {
   "cell_type": "code",
   "execution_count": 13,
   "metadata": {},
   "outputs": [],
   "source": [
    "kfold = KFold(5)"
   ]
  },
  {
   "cell_type": "code",
   "execution_count": 14,
   "metadata": {},
   "outputs": [],
   "source": [
    "cv_prediction_sp, cv_prediction_spd = dict.fromkeys(kernels), dict.fromkeys(kernels)"
   ]
  },
  {
   "cell_type": "code",
   "execution_count": 15,
   "metadata": {},
   "outputs": [],
   "source": [
    "for kernel in sp_models:\n",
    "    sp_models[kernel] = sp_models[kernel].fit(x_train['sp'], y_train['sp'])\n",
    "    cv_prediction_sp[kernel] = cross_val_predict(sp_models[kernel], x_test['sp'], y_test['sp'], cv=kfold)"
   ]
  },
  {
   "cell_type": "code",
   "execution_count": 16,
   "metadata": {},
   "outputs": [],
   "source": [
    "for kernel in spd_models:\n",
    "    spd_models[kernel] = spd_models[kernel].fit(x_train['spd'], y_train['spd'])\n",
    "    cv_prediction_spd[kernel] = cross_val_predict(spd_models[kernel], x_test['spd'], y_test['spd'], cv=kfold)"
   ]
  },
  {
   "cell_type": "markdown",
   "metadata": {},
   "source": [
    "Compute aggregate statistics of the kernels used."
   ]
  },
  {
   "cell_type": "code",
   "execution_count": 17,
   "metadata": {},
   "outputs": [],
   "source": [
    "stats = ['mean_absolute_error', 'mean_squared_error', 'r2_score']\n",
    "score_sp, score_spd = dict.fromkeys(kernels), dict.fromkeys(kernels)\n",
    "for i, j in zip(score_sp, score_spd):\n",
    "    score_sp[i], score_spd[j] = dict.fromkeys(stats), dict.fromkeys(stats)"
   ]
  },
  {
   "cell_type": "code",
   "execution_count": 18,
   "metadata": {},
   "outputs": [],
   "source": [
    "for model in kernels:\n",
    "    for scorer in stats:\n",
    "        score_sp[model][scorer] = getattr(metrics, scorer)(y_test['sp'], cv_prediction_sp[model])\n",
    "        score_spd[model][scorer] = getattr(metrics, scorer)(y_test['spd'], cv_prediction_spd[model])"
   ]
  },
  {
   "cell_type": "code",
   "execution_count": 19,
   "metadata": {},
   "outputs": [
    {
     "name": "stdout",
     "output_type": "stream",
     "text": [
      "sp system score: \n",
      "linear :  {'mean_absolute_error': 0.000973534279832662, 'mean_squared_error': 3.6760321225768484e-06, 'r2_score': -0.23524186659244695}\n",
      "gaussian :  {'mean_absolute_error': 0.0011336026313307258, 'mean_squared_error': 2.954286414905311e-06, 'r2_score': 0.007283357731307394}\n",
      "laplacian :  {'mean_absolute_error': 0.0011437233989470131, 'mean_squared_error': 2.968260456143666e-06, 'r2_score': 0.0025877184638775086}\n",
      "\n",
      "spd system score: \n",
      "linear :  {'mean_absolute_error': 0.0014202040362778989, 'mean_squared_error': 7.539538506544424e-06, 'r2_score': -0.21439641466034964}\n",
      "gaussian :  {'mean_absolute_error': 0.0013330439338732915, 'mean_squared_error': 5.672388793185821e-06, 'r2_score': 0.08634611959006899}\n",
      "laplacian :  {'mean_absolute_error': 0.0013933190972489637, 'mean_squared_error': 5.919866180326963e-06, 'r2_score': 0.0464848400975848}\n"
     ]
    }
   ],
   "source": [
    "print (\"sp system score: \")\n",
    "for i in score_sp:\n",
    "    print (i, \": \", score_sp[i])\n",
    "print ()\n",
    "print (\"spd system score: \")\n",
    "for i in score_spd:\n",
    "    print (i, \": \", score_spd[i])"
   ]
  },
  {
   "cell_type": "markdown",
   "metadata": {},
   "source": [
    "Plot prediction"
   ]
  },
  {
   "cell_type": "code",
   "execution_count": 20,
   "metadata": {},
   "outputs": [
    {
     "data": {
      "image/png": "[encoded data removed]",
      "text/plain": [
       "<matplotlib.figure.Figure at 0x2b81a055e1d0>"
      ]
     },
     "metadata": {},
     "output_type": "display_data"
    }
   ],
   "source": [
    "fig, ax = plt.subplots(2, 3)\n",
    "\n",
    "ax[0, 0].set_title(\"Linear\")\n",
    "ax[0, 1].set_title(\"Gaussian\")\n",
    "ax[0, 2].set_title(\"Laplacian\")\n",
    "\n",
    "ax[0, 0].set_ylabel(\"sp\\n $DOS_{pred} (states/eV/A^3)$\", fontsize=14)\n",
    "ax[1, 0].set_ylabel(\"spd\\n $DOS_{pred} (states/eV/A^3)$\", fontsize=14)\n",
    "ax[1, 1].set_xlabel(\"$DOS_{calc} (states/eV/A^3)$\", fontsize=14)\n",
    "\n",
    "ax[0, 0].scatter(y_test['sp'], cv_prediction_sp['linear'], marker='.')\n",
    "ax[0, 1].scatter(y_test['sp'], cv_prediction_sp['gaussian'], marker='.')\n",
    "ax[0, 2].scatter(y_test['sp'], cv_prediction_sp['laplacian'], marker='.')\n",
    "\n",
    "ax[1, 0].scatter(y_test['spd'], cv_prediction_spd['linear'], marker='.')\n",
    "ax[1, 1].scatter(y_test['spd'], cv_prediction_spd['gaussian'], marker='.')\n",
    "ax[1, 2].scatter(y_test['spd'], cv_prediction_spd['laplacian'], marker='.')\n",
    "\n",
    "for i in range(2):\n",
    "    for j in range(3):\n",
    "        ax[i, j].set_xlim([-0.005, 0.035])\n",
    "        ax[i, j].set_ylim([-0.005, 0.035])\n",
    "        ax[i, j].plot(ax[i, j].get_xlim(), ax[i, j].get_xlim(), 'k--')\n",
    "\n",
    "fig.subplots_adjust(wspace=0.3, hspace=0.2)\n",
    "fig.set_size_inches((10, 7))"
   ]
  }
 ],
 "metadata": {
  "kernelspec": {
   "display_name": "Python 3",
   "language": "python",
   "name": "python3"
  },
  "language_info": {
   "codemirror_mode": {
    "name": "ipython",
    "version": 3
   },
   "file_extension": ".py",
   "mimetype": "text/x-python",
   "name": "python",
   "nbconvert_exporter": "python",
   "pygments_lexer": "ipython3",
   "version": "3.6.4"
  }
 },
 "nbformat": 4,
 "nbformat_minor": 2
}
