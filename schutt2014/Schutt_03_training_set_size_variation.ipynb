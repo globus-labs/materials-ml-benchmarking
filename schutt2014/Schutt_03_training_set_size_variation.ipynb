{
 "cells": [
  {
   "cell_type": "markdown",
   "metadata": {},
   "source": [
    "# Mean absolute error of DOS prediction with respect to variation in training set size \n",
    "\n",
    "In Part 3, we study how MAE of DOS prediction changes with respect to variation in training set size ([Schutt et al paper](https://journals.aps.org/prb/abstract/10.1103/PhysRevB.89.205118))."
   ]
  },
  {
   "cell_type": "markdown",
   "metadata": {},
   "source": [
    "Import packages"
   ]
  },
  {
   "cell_type": "code",
   "execution_count": 1,
   "metadata": {},
   "outputs": [
    {
     "name": "stderr",
     "output_type": "stream",
     "text": [
      "/home/amoffet2/anaconda3/lib/python3.6/importlib/_bootstrap.py:219: RuntimeWarning: numpy.dtype size changed, may indicate binary incompatibility. Expected 96, got 88\n",
      "  return f(*args, **kwds)\n",
      "/home/amoffet2/anaconda3/lib/python3.6/importlib/_bootstrap.py:219: RuntimeWarning: numpy.dtype size changed, may indicate binary incompatibility. Expected 96, got 88\n",
      "  return f(*args, **kwds)\n",
      "/home/amoffet2/anaconda3/lib/python3.6/importlib/_bootstrap.py:219: RuntimeWarning: numpy.dtype size changed, may indicate binary incompatibility. Expected 96, got 88\n",
      "  return f(*args, **kwds)\n"
     ]
    }
   ],
   "source": [
    "%matplotlib inline\n",
    "import numpy as np\n",
    "import pandas as pd\n",
    "import matplotlib.pyplot as plt\n",
    "\n",
    "from sklearn.utils import shuffle\n",
    "from sklearn.kernel_ridge import KernelRidge\n",
    "from sklearn.model_selection import cross_val_predict, KFold\n",
    "from sklearn import metrics"
   ]
  },
  {
   "cell_type": "markdown",
   "metadata": {},
   "source": [
    "Import featurized data"
   ]
  },
  {
   "cell_type": "code",
   "execution_count": 2,
   "metadata": {},
   "outputs": [],
   "source": [
    "data = pd.read_pickle('./schutt_cutoff10_binsize20.pkl')"
   ]
  },
  {
   "cell_type": "markdown",
   "metadata": {},
   "source": [
    "Drop compounds without DOS value"
   ]
  },
  {
   "cell_type": "code",
   "execution_count": 3,
   "metadata": {},
   "outputs": [
    {
     "name": "stdout",
     "output_type": "stream",
     "text": [
      "Shape of data:  (6174, 12085)\n"
     ]
    }
   ],
   "source": [
    "data = data.dropna(subset=['dos'])\n",
    "print (\"Shape of data: \", data.shape)"
   ]
  },
  {
   "cell_type": "markdown",
   "metadata": {},
   "source": [
    "Count sp and spd systems"
   ]
  },
  {
   "cell_type": "code",
   "execution_count": 4,
   "metadata": {},
   "outputs": [],
   "source": [
    "count = data['max_orbital'].value_counts(sort=True)"
   ]
  },
  {
   "cell_type": "markdown",
   "metadata": {},
   "source": [
    "Partition compounds into sp and spd systems"
   ]
  },
  {
   "cell_type": "code",
   "execution_count": 5,
   "metadata": {},
   "outputs": [],
   "source": [
    "data = data.sort_values(by=['max_orbital'])"
   ]
  },
  {
   "cell_type": "code",
   "execution_count": 6,
   "metadata": {},
   "outputs": [],
   "source": [
    "systems_data = {'sp': data[:count['sp']], 'spd': data[count['sp']:]}"
   ]
  },
  {
   "cell_type": "code",
   "execution_count": 7,
   "metadata": {},
   "outputs": [
    {
     "name": "stdout",
     "output_type": "stream",
     "text": [
      "Size of sp systems:  423\n",
      "Size of spd systems:  5751\n"
     ]
    }
   ],
   "source": [
    "print (\"Size of sp systems: \", systems_data['sp'].shape[0])\n",
    "print (\"Size of spd systems: \", systems_data['spd'].shape[0])"
   ]
  },
  {
   "cell_type": "markdown",
   "metadata": {},
   "source": [
    "Specify size of training set"
   ]
  },
  {
   "cell_type": "code",
   "execution_count": 8,
   "metadata": {},
   "outputs": [],
   "source": [
    "size_sp = [10, 50] + list(np.arange(100, systems_data['sp'].shape[0], 100))\n",
    "size_spd = [10, 100, 500] + list(np.arange(1000, systems_data['spd'].shape[0], 1000))"
   ]
  },
  {
   "cell_type": "markdown",
   "metadata": {},
   "source": [
    "Partition sp and spd systems data into variable training and testing set sizes "
   ]
  },
  {
   "cell_type": "code",
   "execution_count": 9,
   "metadata": {},
   "outputs": [],
   "source": [
    "sp_variable_data = dict.fromkeys(size_sp)\n",
    "spd_variable_data = dict.fromkeys(size_spd)"
   ]
  },
  {
   "cell_type": "code",
   "execution_count": 10,
   "metadata": {},
   "outputs": [],
   "source": [
    "for size in sp_variable_data:\n",
    "    shuffle(systems_data['sp'])\n",
    "    sp_variable_data[size] = dict.fromkeys(['x_train', 'y_train', 'x_test', 'y_test'])\n",
    "    sp_variable_data[size]['x_train'] = systems_data['sp'].drop(['material_id', 'pretty_formula', 'structure', 'structure_obj',\n",
    "       'composition_obj', 'max_atom_num', 'max_orbital', 'dos_obj', 'dos',\n",
    "       'volume'], 1)[:size]\n",
    "    sp_variable_data[size]['x_test'] = systems_data['sp'].drop(['material_id', 'pretty_formula', 'structure', 'structure_obj',\n",
    "       'composition_obj', 'max_atom_num', 'max_orbital', 'dos_obj', 'dos',\n",
    "       'volume'], 1)[size:]\n",
    "    sp_variable_data[size]['y_train'] = systems_data['sp']['dos'][:size]\n",
    "    sp_variable_data[size]['y_test'] = systems_data['sp']['dos'][size:]"
   ]
  },
  {
   "cell_type": "code",
   "execution_count": 11,
   "metadata": {},
   "outputs": [],
   "source": [
    "for size in spd_variable_data:\n",
    "    shuffle(systems_data['spd'])\n",
    "    spd_variable_data[size] = dict.fromkeys(['x_train', 'y_train', 'x_test', 'y_test'])\n",
    "    spd_variable_data[size]['x_train'] = systems_data['spd'].drop(['material_id', 'pretty_formula', 'structure', 'structure_obj',\n",
    "       'composition_obj', 'max_atom_num', 'max_orbital', 'dos_obj', 'dos',\n",
    "       'volume'], 1)[:size]\n",
    "    spd_variable_data[size]['x_test'] = systems_data['spd'].drop(['material_id', 'pretty_formula', 'structure', 'structure_obj',\n",
    "       'composition_obj', 'max_atom_num', 'max_orbital', 'dos_obj', 'dos',\n",
    "       'volume'], 1)[size:]\n",
    "    spd_variable_data[size]['y_train'] = systems_data['spd']['dos'][:size]\n",
    "    spd_variable_data[size]['y_test'] = systems_data['spd']['dos'][size:]"
   ]
  },
  {
   "cell_type": "markdown",
   "metadata": {},
   "source": [
    "Train model using training sets of different sizes"
   ]
  },
  {
   "cell_type": "code",
   "execution_count": 12,
   "metadata": {
    "scrolled": true
   },
   "outputs": [],
   "source": [
    "cv_prediction_sp = dict.fromkeys(size_sp)\n",
    "for size in size_sp:\n",
    "    krr = KernelRidge(kernel='laplacian', alpha=1e-5, gamma=5e-5)\n",
    "    krr.fit(sp_variable_data[size]['x_train'], sp_variable_data[size]['y_train'])\n",
    "    cv_prediction_sp[size] = cross_val_predict(krr, sp_variable_data[size]['x_test'], sp_variable_data[size]['y_test'], cv=KFold(5))"
   ]
  },
  {
   "cell_type": "code",
   "execution_count": 13,
   "metadata": {},
   "outputs": [],
   "source": [
    "cv_prediction_spd = dict.fromkeys(size_spd)\n",
    "for size in size_spd:\n",
    "    krr = KernelRidge(kernel='laplacian', alpha=1e-5, gamma=5e-5)\n",
    "    krr.fit(spd_variable_data[size]['x_train'], spd_variable_data[size]['y_train'])\n",
    "    cv_prediction_spd[size] = cross_val_predict(krr, spd_variable_data[size]['x_test'], spd_variable_data[size]['y_test'], cv=KFold(5))"
   ]
  },
  {
   "cell_type": "markdown",
   "metadata": {},
   "source": [
    "Compute aggregate statistics"
   ]
  },
  {
   "cell_type": "code",
   "execution_count": 14,
   "metadata": {},
   "outputs": [],
   "source": [
    "score_sp = dict.fromkeys(size_sp)\n",
    "for size in size_sp:\n",
    "    score_sp[size] = dict.fromkeys(['mean_absolute_error', 'mean_squared_error', 'r2_score'])\n",
    "    for scorer in ['mean_absolute_error', 'mean_squared_error', 'r2_score']:\n",
    "        score_sp[size][scorer] = getattr(metrics, scorer)(sp_variable_data[size]['y_test'], cv_prediction_sp[size])"
   ]
  },
  {
   "cell_type": "code",
   "execution_count": 15,
   "metadata": {},
   "outputs": [],
   "source": [
    "score_spd = dict.fromkeys(size_spd)\n",
    "for size in size_spd:\n",
    "    score_spd[size] = dict.fromkeys(['mean_absolute_error', 'mean_squared_error', 'r2_score'])\n",
    "    for scorer in ['mean_absolute_error', 'mean_squared_error', 'r2_score']:\n",
    "        score_spd[size][scorer] = getattr(metrics, scorer)(spd_variable_data[size]['y_test'], cv_prediction_spd[size])"
   ]
  },
  {
   "cell_type": "code",
   "execution_count": 16,
   "metadata": {},
   "outputs": [
    {
     "name": "stdout",
     "output_type": "stream",
     "text": [
      "sp system score:\n",
      "10 : {'mean_absolute_error': 0.0013318256469845402, 'mean_squared_error': 1.0483335428124161e-05, 'r2_score': -0.07773248210334072}\n",
      "50 : {'mean_absolute_error': 0.0013410059629914437, 'mean_squared_error': 1.1028641054559015e-05, 'r2_score': -0.06283558609577367}\n",
      "100 : {'mean_absolute_error': 0.0014129120848806037, 'mean_squared_error': 1.2319739263899686e-05, 'r2_score': -0.07924399016807238}\n",
      "200 : {'mean_absolute_error': 0.0015663162840419513, 'mean_squared_error': 1.650920413823874e-05, 'r2_score': -0.07672220062056989}\n",
      "300 : {'mean_absolute_error': 0.002000655808673521, 'mean_squared_error': 2.5758451645593113e-05, 'r2_score': -0.08148679690914618}\n",
      "400 : {'mean_absolute_error': 0.0018350789992562394, 'mean_squared_error': 6.2218148568114e-06, 'r2_score': -0.3834030473569028}\n",
      "\n",
      "spd system score:\n",
      "10 : {'mean_absolute_error': 0.0013043195668627707, 'mean_squared_error': 5.194677410913737e-06, 'r2_score': 0.0748037746405471}\n",
      "100 : {'mean_absolute_error': 0.001309903345104376, 'mean_squared_error': 5.243135374713997e-06, 'r2_score': 0.07249990778739546}\n",
      "500 : {'mean_absolute_error': 0.0012967976510247308, 'mean_squared_error': 4.8943933816821086e-06, 'r2_score': 0.07870234548500132}\n",
      "1000 : {'mean_absolute_error': 0.0013102113902677412, 'mean_squared_error': 5.1009287529446804e-06, 'r2_score': 0.07129544491948847}\n",
      "2000 : {'mean_absolute_error': 0.0013403715296872048, 'mean_squared_error': 5.062277088829113e-06, 'r2_score': 0.05238664590530451}\n",
      "3000 : {'mean_absolute_error': 0.00139121368109354, 'mean_squared_error': 5.513374394439558e-06, 'r2_score': 0.05004222736234243}\n",
      "4000 : {'mean_absolute_error': 0.001340912757823052, 'mean_squared_error': 4.593198411813979e-06, 'r2_score': 0.07183405585040892}\n",
      "5000 : {'mean_absolute_error': 0.00120647550449226, 'mean_squared_error': 4.12936599764237e-06, 'r2_score': 0.041164373998933246}\n"
     ]
    }
   ],
   "source": [
    "print (\"sp system score:\")\n",
    "for size in score_sp:\n",
    "    print (size, \":\", score_sp[size])\n",
    "print ()\n",
    "print (\"spd system score:\")\n",
    "for size in score_spd:\n",
    "    print (size, \":\", score_spd[size])"
   ]
  },
  {
   "cell_type": "markdown",
   "metadata": {},
   "source": [
    "Plot predictions"
   ]
  },
  {
   "cell_type": "code",
   "execution_count": 17,
   "metadata": {},
   "outputs": [
    {
     "data": {
      "image/png": "[encoded data removed]",
      "text/plain": [
       "<matplotlib.figure.Figure at 0x2b4c102b7978>"
      ]
     },
     "metadata": {},
     "output_type": "display_data"
    }
   ],
   "source": [
    "mae_sp = [score_sp[size]['mean_absolute_error'] for size in score_sp]\n",
    "mae_spd = [score_spd[size]['mean_absolute_error'] for size in score_spd]\n",
    "\n",
    "plt.plot(size_sp, mae_sp, color='r', marker='s', label='sp')\n",
    "plt.plot(size_spd, mae_spd, color='b', marker='^', label='spd')\n",
    "\n",
    "plt.xlabel(\"Size of training set\")\n",
    "plt.ylabel(\"MAE $(states/eV/A^3)$\")\n",
    "\n",
    "plt.legend()\n",
    "fig = plt.gcf()\n",
    "fig.set_size_inches(5,4)\n"
   ]
  },
  {
   "cell_type": "code",
   "execution_count": 18,
   "metadata": {},
   "outputs": [],
   "source": []
  }
 ],
 "metadata": {
  "kernelspec": {
   "display_name": "Python 3",
   "language": "python",
   "name": "python3"
  },
  "language_info": {
   "codemirror_mode": {
    "name": "ipython",
    "version": 3
   },
   "file_extension": ".py",
   "mimetype": "text/x-python",
   "name": "python",
   "nbconvert_exporter": "python",
   "pygments_lexer": "ipython3",
   "version": "3.6.4"
  }
 },
 "nbformat": 4,
 "nbformat_minor": 2
}
