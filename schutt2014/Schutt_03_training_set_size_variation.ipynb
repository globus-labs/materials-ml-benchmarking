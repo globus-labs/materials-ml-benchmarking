{
 "cells": [
  {
   "cell_type": "markdown",
   "metadata": {},
   "source": [
    "# Mean absolute error of DOS prediction with respect to variation in training set size \n",
    "\n",
    "In Part 3, we study how MAE of DOS prediction changes with respect to variation in training set size ([Schutt et al paper](https://journals.aps.org/prb/abstract/10.1103/PhysRevB.89.205118))."
   ]
  },
  {
   "cell_type": "markdown",
   "metadata": {},
   "source": [
    "Import packages"
   ]
  },
  {
   "cell_type": "code",
   "execution_count": 1,
   "metadata": {},
   "outputs": [
    {
     "name": "stderr",
     "output_type": "stream",
     "text": [
      "/home/amoffet2/anaconda3/lib/python3.6/importlib/_bootstrap.py:219: RuntimeWarning: numpy.dtype size changed, may indicate binary incompatibility. Expected 96, got 88\n",
      "  return f(*args, **kwds)\n",
      "/home/amoffet2/anaconda3/lib/python3.6/importlib/_bootstrap.py:219: RuntimeWarning: numpy.dtype size changed, may indicate binary incompatibility. Expected 96, got 88\n",
      "  return f(*args, **kwds)\n",
      "/home/amoffet2/anaconda3/lib/python3.6/importlib/_bootstrap.py:219: RuntimeWarning: numpy.dtype size changed, may indicate binary incompatibility. Expected 96, got 88\n",
      "  return f(*args, **kwds)\n"
     ]
    }
   ],
   "source": [
    "%matplotlib inline\n",
    "import numpy as np\n",
    "import pandas as pd\n",
    "import matplotlib.pyplot as plt\n",
    "\n",
    "from sklearn.utils import shuffle\n",
    "from sklearn.kernel_ridge import KernelRidge\n",
    "from sklearn.model_selection import cross_val_predict, KFold, train_test_split\n",
    "from sklearn import metrics"
   ]
  },
  {
   "cell_type": "markdown",
   "metadata": {},
   "source": [
    "Import featurized data"
   ]
  },
  {
   "cell_type": "code",
   "execution_count": 2,
   "metadata": {},
   "outputs": [],
   "source": [
    "data = pd.read_pickle('./schutt_cutoff10_binsize20.pkl')"
   ]
  },
  {
   "cell_type": "markdown",
   "metadata": {},
   "source": [
    "Drop compounds without DOS value"
   ]
  },
  {
   "cell_type": "code",
   "execution_count": 3,
   "metadata": {},
   "outputs": [
    {
     "name": "stdout",
     "output_type": "stream",
     "text": [
      "Shape of data:  (6174, 12085)\n"
     ]
    }
   ],
   "source": [
    "data = data.dropna(subset=['dos'])\n",
    "print (\"Shape of data: \", data.shape)"
   ]
  },
  {
   "cell_type": "markdown",
   "metadata": {},
   "source": [
    "Count sp and spd systems"
   ]
  },
  {
   "cell_type": "code",
   "execution_count": 4,
   "metadata": {},
   "outputs": [],
   "source": [
    "count = data['max_orbital'].value_counts(sort=True)"
   ]
  },
  {
   "cell_type": "markdown",
   "metadata": {},
   "source": [
    "Partition compounds into sp and spd systems"
   ]
  },
  {
   "cell_type": "code",
   "execution_count": 5,
   "metadata": {},
   "outputs": [],
   "source": [
    "data = data.sort_values(by=['max_orbital'])"
   ]
  },
  {
   "cell_type": "code",
   "execution_count": 6,
   "metadata": {},
   "outputs": [],
   "source": [
    "systems_data = {'sp': data[:count['sp']], 'spd': data[count['sp']:]}"
   ]
  },
  {
   "cell_type": "code",
   "execution_count": 7,
   "metadata": {},
   "outputs": [
    {
     "name": "stdout",
     "output_type": "stream",
     "text": [
      "Size of sp systems:  423\n",
      "Size of spd systems:  5751\n"
     ]
    }
   ],
   "source": [
    "print (\"Size of sp systems: \", systems_data['sp'].shape[0])\n",
    "print (\"Size of spd systems: \", systems_data['spd'].shape[0])"
   ]
  },
  {
   "cell_type": "markdown",
   "metadata": {},
   "source": [
    "Specify size of training set"
   ]
  },
  {
   "cell_type": "code",
   "execution_count": 8,
   "metadata": {},
   "outputs": [],
   "source": [
    "size_sp = [10, 50] + list(np.arange(100, systems_data['sp'].shape[0] - 100, 100))\n",
    "size_spd = [10, 100, 500] + list(np.arange(1000, systems_data['spd'].shape[0], 1000))"
   ]
  },
  {
   "cell_type": "markdown",
   "metadata": {},
   "source": [
    "Drop unnecessary columns"
   ]
  },
  {
   "cell_type": "code",
   "execution_count": 9,
   "metadata": {},
   "outputs": [],
   "source": [
    "systems_data['sp'] = systems_data['sp'].drop(['material_id', 'pretty_formula', 'structure', 'structure_obj',\n",
    "       'composition_obj', 'max_atom_num', 'max_orbital', 'dos_obj', 'volume'], 1)\n",
    "systems_data['spd'] = systems_data['spd'].drop(['material_id', 'pretty_formula', 'structure', 'structure_obj',\n",
    "       'composition_obj', 'max_atom_num', 'max_orbital', 'dos_obj', 'volume'], 1)"
   ]
  },
  {
   "cell_type": "markdown",
   "metadata": {},
   "source": [
    "Partition sp and spd systems data into variable training and testing set sizes \n",
    "- sp system testing set size: 100 \n",
    "- spd system testing set size: 500"
   ]
  },
  {
   "cell_type": "code",
   "execution_count": 10,
   "metadata": {},
   "outputs": [],
   "source": [
    "sp_data = dict.fromkeys(size_sp)\n",
    "spd_data = dict.fromkeys(size_spd)"
   ]
  },
  {
   "cell_type": "code",
   "execution_count": 11,
   "metadata": {},
   "outputs": [],
   "source": [
    "for s in sp_data:\n",
    "    sp_data[s] = dict.fromkeys(['x_train', 'y_train', 'x_test', 'y_test'])\n",
    "    X, Y = systems_data['sp'].drop(['dos'], 1), systems_data['sp']['dos']\n",
    "    sp_data[s]['x_train'], sp_data[s]['x_test'], sp_data[s]['y_train'], sp_data[s]['y_test'] = train_test_split(X, Y, train_size=s, test_size=100, shuffle=True)"
   ]
  },
  {
   "cell_type": "code",
   "execution_count": 12,
   "metadata": {},
   "outputs": [],
   "source": [
    "for s in spd_data:\n",
    "    spd_data[s] = dict.fromkeys(['x_train', 'y_train', 'x_test', 'y_test'])\n",
    "    X, Y = systems_data['spd'].drop(['dos'], 1), systems_data['spd']['dos']\n",
    "    spd_data[s]['x_train'], spd_data[s]['x_test'], spd_data[s]['y_train'], spd_data[s]['y_test'] = train_test_split(X, Y, train_size=s, test_size=500, shuffle=True)"
   ]
  },
  {
   "cell_type": "markdown",
   "metadata": {},
   "source": [
    "Train model using training sets of different sizes"
   ]
  },
  {
   "cell_type": "code",
   "execution_count": 13,
   "metadata": {
    "scrolled": true
   },
   "outputs": [],
   "source": [
    "cv_prediction_sp = dict.fromkeys(size_sp)\n",
    "for size in size_sp:\n",
    "    krr = KernelRidge(kernel='laplacian', alpha=1e-5, gamma=5e-5)\n",
    "    krr.fit(sp_data[size]['x_train'], sp_data[size]['y_train'])\n",
    "    cv_prediction_sp[size] = cross_val_predict(krr, sp_data[size]['x_test'], sp_data[size]['y_test'], cv=KFold(5))"
   ]
  },
  {
   "cell_type": "code",
   "execution_count": 14,
   "metadata": {},
   "outputs": [],
   "source": [
    "cv_prediction_spd = dict.fromkeys(size_spd)\n",
    "for size in size_spd:\n",
    "    krr = KernelRidge(kernel='laplacian', alpha=1e-5, gamma=5e-5)\n",
    "    krr.fit(spd_data[size]['x_train'], spd_data[size]['y_train'])\n",
    "    cv_prediction_spd[size] = cross_val_predict(krr, spd_data[size]['x_test'], spd_data[size]['y_test'], cv=KFold(5))"
   ]
  },
  {
   "cell_type": "markdown",
   "metadata": {},
   "source": [
    "Compute aggregate statistics"
   ]
  },
  {
   "cell_type": "code",
   "execution_count": 15,
   "metadata": {},
   "outputs": [],
   "source": [
    "score_sp = dict.fromkeys(size_sp)\n",
    "for size in size_sp:\n",
    "    score_sp[size] = dict.fromkeys(['mean_absolute_error', 'mean_squared_error', 'r2_score'])\n",
    "    for scorer in ['mean_absolute_error', 'mean_squared_error', 'r2_score']:\n",
    "        score_sp[size][scorer] = getattr(metrics, scorer)(sp_data[size]['y_test'], cv_prediction_sp[size])"
   ]
  },
  {
   "cell_type": "code",
   "execution_count": 16,
   "metadata": {},
   "outputs": [],
   "source": [
    "score_spd = dict.fromkeys(size_spd)\n",
    "for size in size_spd:\n",
    "    score_spd[size] = dict.fromkeys(['mean_absolute_error', 'mean_squared_error', 'r2_score'])\n",
    "    for scorer in ['mean_absolute_error', 'mean_squared_error', 'r2_score']:\n",
    "        score_spd[size][scorer] = getattr(metrics, scorer)(spd_data[size]['y_test'], cv_prediction_spd[size])"
   ]
  },
  {
   "cell_type": "code",
   "execution_count": 17,
   "metadata": {},
   "outputs": [
    {
     "name": "stdout",
     "output_type": "stream",
     "text": [
      "sp system score:\n",
      "10 : {'mean_absolute_error': 0.0014612222674057914, 'mean_squared_error': 6.629869054124286e-06, 'r2_score': -0.024597447125039418}\n",
      "50 : {'mean_absolute_error': 0.0014653057114315954, 'mean_squared_error': 9.51762595937619e-06, 'r2_score': -0.05723155915317846}\n",
      "100 : {'mean_absolute_error': 0.001228108666423672, 'mean_squared_error': 5.789871653011204e-06, 'r2_score': -0.11567458087009652}\n",
      "200 : {'mean_absolute_error': 0.0011166860673330586, 'mean_squared_error': 4.2499341801635905e-06, 'r2_score': 0.17216017855077625}\n",
      "300 : {'mean_absolute_error': 0.0023656782297544173, 'mean_squared_error': 3.872762213097659e-05, 'r2_score': -0.35024295620038326}\n",
      "\n",
      "spd system score:\n",
      "10 : {'mean_absolute_error': 0.001263425308140916, 'mean_squared_error': 3.6003529702480868e-06, 'r2_score': 0.12657397499686873}\n",
      "100 : {'mean_absolute_error': 0.0011575792285383614, 'mean_squared_error': 3.0183070929944966e-06, 'r2_score': 0.10004311832920665}\n",
      "500 : {'mean_absolute_error': 0.0013520738879455876, 'mean_squared_error': 5.190032455412755e-06, 'r2_score': 0.04411169705378193}\n",
      "1000 : {'mean_absolute_error': 0.0012835149351124384, 'mean_squared_error': 3.4438994842515358e-06, 'r2_score': 0.1109178471136334}\n",
      "2000 : {'mean_absolute_error': 0.0012650340247673643, 'mean_squared_error': 3.135681060193677e-06, 'r2_score': 0.11590185959443644}\n",
      "3000 : {'mean_absolute_error': 0.0012683594161382013, 'mean_squared_error': 4.729962706858606e-06, 'r2_score': 0.07435416314678323}\n",
      "4000 : {'mean_absolute_error': 0.0012191697185053375, 'mean_squared_error': 3.0369621023298476e-06, 'r2_score': 0.2138150385036529}\n",
      "5000 : {'mean_absolute_error': 0.0012536432537864329, 'mean_squared_error': 3.3383424794277587e-06, 'r2_score': 0.1876323376617941}\n"
     ]
    }
   ],
   "source": [
    "print (\"sp system score:\")\n",
    "for size in score_sp:\n",
    "    print (size, \":\", score_sp[size])\n",
    "print ()\n",
    "print (\"spd system score:\")\n",
    "for size in score_spd:\n",
    "    print (size, \":\", score_spd[size])"
   ]
  },
  {
   "cell_type": "markdown",
   "metadata": {},
   "source": [
    "Plot predictions"
   ]
  },
  {
   "cell_type": "code",
   "execution_count": 18,
   "metadata": {},
   "outputs": [
    {
     "data": {
      "image/png": "[encoded data removed]",
      "text/plain": [
       "<matplotlib.figure.Figure at 0x2ad7354e2400>"
      ]
     },
     "metadata": {},
     "output_type": "display_data"
    }
   ],
   "source": [
    "mae_sp = [score_sp[size]['mean_absolute_error'] for size in score_sp]\n",
    "mae_spd = [score_spd[size]['mean_absolute_error'] for size in score_spd]\n",
    "\n",
    "plt.plot(size_sp, mae_sp, color='r', marker='s', label='sp')\n",
    "plt.plot(size_spd, mae_spd, color='b', marker='^', label='spd')\n",
    "\n",
    "plt.xlabel(\"Size of training set\")\n",
    "plt.ylabel(\"MAE $(states/eV/A^3)$\")\n",
    "\n",
    "plt.legend()\n",
    "fig = plt.gcf()\n",
    "fig.set_size_inches(5,4)\n"
   ]
  },
  {
   "cell_type": "code",
   "execution_count": 19,
   "metadata": {},
   "outputs": [],
   "source": []
  }
 ],
 "metadata": {
  "kernelspec": {
   "display_name": "Python 3",
   "language": "python",
   "name": "python3"
  },
  "language_info": {
   "codemirror_mode": {
    "name": "ipython",
    "version": 3
   },
   "file_extension": ".py",
   "mimetype": "text/x-python",
   "name": "python",
   "nbconvert_exporter": "python",
   "pygments_lexer": "ipython3",
   "version": "3.6.4"
  }
 },
 "nbformat": 4,
 "nbformat_minor": 2
}
