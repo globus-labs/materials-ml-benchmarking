{
 "cells": [
  {
   "cell_type": "code",
   "execution_count": 1,
   "metadata": {},
   "outputs": [],
   "source": [
    "import numpy as np\n",
    "import pandas as pd\n",
    "import pymatgen as pmg\n",
    "\n",
    "from matminer.datasets.dataframe_loader import load_elastic_tensor\n",
    "from matminer.utils.conversions import str_to_composition\n",
    "\n",
    "from matminer.featurizers import composition as cf\n",
    "from matminer.featurizers import structure as struc\n",
    "from matminer.featurizers.base import MultipleFeaturizer\n",
    "from pymatgen import MPRester\n",
    "\n",
    "key = 'ubX07DfzKy3mZAlw'"
   ]
  },
  {
   "cell_type": "code",
   "execution_count": 2,
   "metadata": {},
   "outputs": [],
   "source": [
    "data = load_elastic_tensor() \n",
    "\n",
    "# Compute composition\n",
    "data['composition'] = str_to_composition(data['formula'])\n",
    "\n",
    "del_columns = ['formula', 'nsites', 'space_group', \n",
    "               'G_Reuss', 'G_Voigt', 'K_Reuss', 'K_Voigt',\n",
    "               'compliance_tensor', 'elastic_tensor', 'elastic_tensor_original'\n",
    "                ]\n",
    "\n",
    "data = data.drop(del_columns, 1)"
   ]
  },
  {
   "cell_type": "markdown",
   "metadata": {},
   "source": [
    "#### Holder Means of first 8 properties in Table 1 of De Jong et al. paper \n",
    "'group_number', 'atomic_mass', 'atomic_radius', 'row_number', 'boiling_temp', 'melting_temp', 'electronegativity', 'atomic_number'\n",
    "$$\\mu_p(x) = [\\frac{(\\Sigma^n_{i=1}w_ix_i^p)}{(\\Sigma^n_{i=1}w_i)}]^\\frac{1}{p}$$"
   ]
  },
  {
   "cell_type": "code",
   "execution_count": 6,
   "metadata": {
    "scrolled": true
   },
   "outputs": [
    {
     "name": "stderr",
     "output_type": "stream",
     "text": [
      "/Users/AikRui/anaconda3/lib/python3.6/site-packages/matminer/featurizers/stats.py:172: RuntimeWarning:\n",
      "\n",
      "divide by zero encountered in double_scalars\n",
      "\n",
      "/Users/AikRui/anaconda3/lib/python3.6/site-packages/matminer/featurizers/stats.py:174: RuntimeWarning:\n",
      "\n",
      "invalid value encountered in double_scalars\n",
      "\n",
      "/Users/AikRui/anaconda3/lib/python3.6/site-packages/matminer/featurizers/stats.py:172: RuntimeWarning:\n",
      "\n",
      "divide by zero encountered in double_scalars\n",
      "\n",
      "/Users/AikRui/anaconda3/lib/python3.6/site-packages/matminer/featurizers/stats.py:172: RuntimeWarning:\n",
      "\n",
      "divide by zero encountered in double_scalars\n",
      "\n",
      "/Users/AikRui/anaconda3/lib/python3.6/site-packages/matminer/featurizers/stats.py:174: RuntimeWarning:\n",
      "\n",
      "invalid value encountered in double_scalars\n",
      "\n",
      "/Users/AikRui/anaconda3/lib/python3.6/site-packages/matminer/featurizers/stats.py:174: RuntimeWarning:\n",
      "\n",
      "invalid value encountered in double_scalars\n",
      "\n",
      "/Users/AikRui/anaconda3/lib/python3.6/site-packages/matminer/featurizers/stats.py:172: RuntimeWarning:\n",
      "\n",
      "divide by zero encountered in double_scalars\n",
      "\n",
      "/Users/AikRui/anaconda3/lib/python3.6/site-packages/matminer/featurizers/stats.py:174: RuntimeWarning:\n",
      "\n",
      "invalid value encountered in double_scalars\n",
      "\n"
     ]
    }
   ],
   "source": [
    "ef = cf.ElementProperty(data_source='pymatgen', \n",
    "                        features=['group', 'atomic_mass', 'atomic_radius', 'row',\n",
    "                                  'boiling_point', 'melting_point', 'X', 'Z'],  \n",
    "                        stats=['holder_mean::%d'%d for d in range(-4, 4+1)] + ['geom_std_dev', 'std_dev'])\n",
    "data = ef.featurize_dataframe(data, col_id='composition')"
   ]
  },
  {
   "cell_type": "markdown",
   "metadata": {},
   "source": [
    "#### Cohesive Energy "
   ]
  },
  {
   "cell_type": "code",
   "execution_count": 5,
   "metadata": {},
   "outputs": [],
   "source": [
    "ft = cf.CohesiveEnergy(mapi_key=key)\n",
    "\n",
    "data = ft.featurize_dataframe(data, col_id='composition', ignore_errors=True)"
   ]
  },
  {
   "cell_type": "markdown",
   "metadata": {},
   "source": [
    "#### Formation energy per atom, Energy above hull, band gap, density "
   ]
  },
  {
   "cell_type": "code",
   "execution_count": 6,
   "metadata": {},
   "outputs": [],
   "source": [
    "# Formation energy per atom, Energy above hull, band gap, density\n",
    "property_list = ['formation_energy_per_atom', 'e_above_hull', 'band_gap', 'density']\n",
    "\n",
    "mp = MPRester(api_key=key)\n",
    "\n",
    "n = data.shape[0]\n",
    "E_f, E_hull, E_g, rho = pd.Series(index=np.arange(n)), pd.Series(index=np.arange(n)), pd.Series(index=np.arange(n)), pd.Series(index=np.arange(n))\n",
    "\n",
    "for i in range(n):\n",
    "    ls = mp.get_data(data['material_id'][i])\n",
    "    if (ls==[]):\n",
    "        E_f[i], E_hull[i], E_g[i], rho[i] = 0.0, 0.0, 0.0, 0.0\n",
    "    else:\n",
    "        E_f[i] = ls[0]['formation_energy_per_atom']\n",
    "        E_hull[i] = ls[0]['e_above_hull']\n",
    "        E_g[i] = ls[0]['band_gap']\n",
    "        rho[i] = ls[0]['density']\n",
    "\n",
    "data['formation energy per atom'] = E_f\n",
    "data['energy above hull'] = E_hull\n",
    "data['band gap'] = E_g\n",
    "data['density'] = rho"
   ]
  },
  {
   "cell_type": "markdown",
   "metadata": {},
   "source": [
    "#### log (V) per atom "
   ]
  },
  {
   "cell_type": "code",
   "execution_count": 7,
   "metadata": {},
   "outputs": [],
   "source": [
    "data['log volume per atom'] = pd.Series(index=np.arange(n))\n",
    "for i in range(len(data['volume'])):\n",
    "    data['log volume per atom'][i] = np.log(data['volume'][i]/data['composition'][i].num_atoms)"
   ]
  },
  {
   "cell_type": "markdown",
   "metadata": {},
   "source": [
    "#### Voronoi based site coordination, bond lengths and bond angles "
   ]
  },
  {
   "cell_type": "code",
   "execution_count": 8,
   "metadata": {},
   "outputs": [],
   "source": [
    "ft = MultipleFeaturizer([\n",
    "    struc.SiteStatsFingerprint.from_preset(\"CoordinationNumber_ward-prb-2017\"),\n",
    "    struc.StructuralHeterogeneity()\n",
    "])\n",
    "\n",
    "data = ft.featurize_dataframe(data, col_id='structure')"
   ]
  },
  {
   "cell_type": "code",
   "execution_count": 9,
   "metadata": {},
   "outputs": [
    {
     "data": {
      "text/html": [
       "<div>\n",
       "<style scoped>\n",
       "    .dataframe tbody tr th:only-of-type {\n",
       "        vertical-align: middle;\n",
       "    }\n",
       "\n",
       "    .dataframe tbody tr th {\n",
       "        vertical-align: top;\n",
       "    }\n",
       "\n",
       "    .dataframe thead th {\n",
       "        text-align: right;\n",
       "    }\n",
       "</style>\n",
       "<table border=\"1\" class=\"dataframe\">\n",
       "  <thead>\n",
       "    <tr style=\"text-align: right;\">\n",
       "      <th></th>\n",
       "      <th>material_id</th>\n",
       "      <th>volume</th>\n",
       "      <th>structure</th>\n",
       "      <th>elastic_anisotropy</th>\n",
       "      <th>G_VRH</th>\n",
       "      <th>K_VRH</th>\n",
       "      <th>poisson_ratio</th>\n",
       "      <th>composition</th>\n",
       "      <th>group_number_-4</th>\n",
       "      <th>atomic_mass_-4</th>\n",
       "      <th>...</th>\n",
       "      <th>avg_dev CN_VoronoiNN</th>\n",
       "      <th>mean absolute deviation in relative bond length</th>\n",
       "      <th>max relative bond length</th>\n",
       "      <th>min relative bond length</th>\n",
       "      <th>minimum neighbor distance variation</th>\n",
       "      <th>maximum neighbor distance variation</th>\n",
       "      <th>range neighbor distance variation</th>\n",
       "      <th>mean neighbor distance variation</th>\n",
       "      <th>avg_dev neighbor distance variation</th>\n",
       "      <th>mean absolute deviation in relative cell size</th>\n",
       "    </tr>\n",
       "  </thead>\n",
       "  <tbody>\n",
       "    <tr>\n",
       "      <th>0</th>\n",
       "      <td>mp-10003</td>\n",
       "      <td>194.419802</td>\n",
       "      <td>[[0.94814328 2.07280467 2.5112    ] Nb, [5.273...</td>\n",
       "      <td>0.030688</td>\n",
       "      <td>97.141604</td>\n",
       "      <td>194.268884</td>\n",
       "      <td>0.285701</td>\n",
       "      <td>(Nb, Co, Si)</td>\n",
       "      <td>7.335929</td>\n",
       "      <td>54.688924</td>\n",
       "      <td>...</td>\n",
       "      <td>1.451453</td>\n",
       "      <td>0.048863</td>\n",
       "      <td>1.036647</td>\n",
       "      <td>0.911985</td>\n",
       "      <td>0.009816</td>\n",
       "      <td>0.080081</td>\n",
       "      <td>0.070264</td>\n",
       "      <td>0.058781</td>\n",
       "      <td>0.028399</td>\n",
       "      <td>0.105329</td>\n",
       "    </tr>\n",
       "  </tbody>\n",
       "</table>\n",
       "<p>1 rows × 100 columns</p>\n",
       "</div>"
      ],
      "text/plain": [
       "  material_id      volume                                          structure  \\\n",
       "0    mp-10003  194.419802  [[0.94814328 2.07280467 2.5112    ] Nb, [5.273...   \n",
       "\n",
       "   elastic_anisotropy      G_VRH       K_VRH  poisson_ratio   composition  \\\n",
       "0            0.030688  97.141604  194.268884       0.285701  (Nb, Co, Si)   \n",
       "\n",
       "   group_number_-4  atomic_mass_-4  \\\n",
       "0         7.335929       54.688924   \n",
       "\n",
       "                       ...                        avg_dev CN_VoronoiNN  \\\n",
       "0                      ...                                    1.451453   \n",
       "\n",
       "   mean absolute deviation in relative bond length  max relative bond length  \\\n",
       "0                                         0.048863                  1.036647   \n",
       "\n",
       "   min relative bond length  minimum neighbor distance variation  \\\n",
       "0                  0.911985                             0.009816   \n",
       "\n",
       "   maximum neighbor distance variation  range neighbor distance variation  \\\n",
       "0                             0.080081                           0.070264   \n",
       "\n",
       "   mean neighbor distance variation  avg_dev neighbor distance variation  \\\n",
       "0                          0.058781                             0.028399   \n",
       "\n",
       "   mean absolute deviation in relative cell size  \n",
       "0                                       0.105329  \n",
       "\n",
       "[1 rows x 100 columns]"
      ]
     },
     "execution_count": 9,
     "metadata": {},
     "output_type": "execute_result"
    }
   ],
   "source": [
    "print (\"FINAL SHAPE OF DATA: \", data.shape)\n",
    "data.head(1)"
   ]
  },
  {
   "cell_type": "markdown",
   "metadata": {},
   "source": [
    "Save data as pickle file"
   ]
  },
  {
   "cell_type": "code",
   "execution_count": 12,
   "metadata": {},
   "outputs": [],
   "source": [
    "data.to_pickle('./dejong_featurized_data.pkl')"
   ]
  },
  {
   "cell_type": "code",
   "execution_count": null,
   "metadata": {},
   "outputs": [],
   "source": []
  }
 ],
 "metadata": {
  "kernelspec": {
   "display_name": "Python 3",
   "language": "python",
   "name": "python3"
  },
  "language_info": {
   "codemirror_mode": {
    "name": "ipython",
    "version": 3
   },
   "file_extension": ".py",
   "mimetype": "text/x-python",
   "name": "python",
   "nbconvert_exporter": "python",
   "pygments_lexer": "ipython3",
   "version": "3.6.4"
  }
 },
 "nbformat": 4,
 "nbformat_minor": 2
}
