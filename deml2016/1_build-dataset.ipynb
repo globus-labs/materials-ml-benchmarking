{
 "cells": [
  {
   "cell_type": "markdown",
   "metadata": {},
   "source": [
    "## Predicting total energies and formation enthalpies of metal-nonmetal compounds by linear regression "
   ]
  },
  {
   "cell_type": "markdown",
   "metadata": {},
   "source": [
    "Here, we want to save the featurized dataset used in [Deml et al paper](https://journals.aps.org/prb/pdf/10.1103/PhysRevB.93.085142). \n",
    "If there is already an updated featurized pickled file (`deml_featurized_data.pkl`), run the second jupyter notebook (`Deml_02_prediction.ipynb`) directly.\n"
   ]
  },
  {
   "cell_type": "code",
   "execution_count": 1,
   "metadata": {},
   "outputs": [],
   "source": [
    "%matplotlib inline\n",
    "import numpy as np\n",
    "import pandas as pd\n",
    "import os\n",
    "import pymatgen as pmg\n",
    "\n",
    "from matminer.utils.conversions import str_to_composition, composition_to_oxidcomposition\n",
    "from matminer.featurizers.base import MultipleFeaturizer\n",
    "from matminer.featurizers import composition as cf\n",
    "\n",
    "from sklearn.preprocessing import PolynomialFeatures\n",
    "\n",
    "from pymatgen import MPRester"
   ]
  },
  {
   "cell_type": "markdown",
   "metadata": {},
   "source": [
    "### Loading deml_dataset.csv "
   ]
  },
  {
   "cell_type": "code",
   "execution_count": 2,
   "metadata": {},
   "outputs": [],
   "source": [
    "path = os.path.join(os.getcwd(), \"oqmd_deml_subset.pkl\")\n",
    "df = pd.read_pickle(path)"
   ]
  },
  {
   "cell_type": "code",
   "execution_count": 3,
   "metadata": {},
   "outputs": [
    {
     "name": "stdout",
     "output_type": "stream",
     "text": [
      "Shape of data:  (2508, 11)\n"
     ]
    }
   ],
   "source": [
    "print (\"Shape of data: \", df.shape)"
   ]
  },
  {
   "cell_type": "markdown",
   "metadata": {},
   "source": [
    "Drop unnecessary columns"
   ]
  },
  {
   "cell_type": "code",
   "execution_count": 4,
   "metadata": {},
   "outputs": [],
   "source": [
    "df = df.drop(['band_gap', 'magnetic_moment', 'path', 'stability', 'structure', 'volume_pa', 'is_ICSD', 'structure_obj'], 1)"
   ]
  },
  {
   "cell_type": "markdown",
   "metadata": {},
   "source": [
    "### Compute data representation"
   ]
  },
  {
   "cell_type": "markdown",
   "metadata": {},
   "source": [
    "Compute pymatgen composition from compound formula"
   ]
  },
  {
   "cell_type": "code",
   "execution_count": 5,
   "metadata": {},
   "outputs": [],
   "source": [
    "df['composition_obj'] = str_to_composition(df['composition'])"
   ]
  },
  {
   "cell_type": "markdown",
   "metadata": {},
   "source": [
    "Compute ionic states"
   ]
  },
  {
   "cell_type": "code",
   "execution_count": 6,
   "metadata": {},
   "outputs": [],
   "source": [
    "df['oxidation_states'] = composition_to_oxidcomposition(df['composition_obj'])"
   ]
  },
  {
   "cell_type": "markdown",
   "metadata": {},
   "source": [
    "Remove compounds that cannot be featurized (due to unclear reasons)"
   ]
  },
  {
   "cell_type": "code",
   "execution_count": 7,
   "metadata": {},
   "outputs": [],
   "source": [
    "df = df.reset_index(drop=True)"
   ]
  },
  {
   "cell_type": "code",
   "execution_count": 8,
   "metadata": {},
   "outputs": [],
   "source": [
    "for i in [952, 1214, 1217, 1311, 1315, 1710, 1963]:\n",
    "    df = df.drop([i, i])\n",
    "df = df.reset_index(drop=True)"
   ]
  },
  {
   "cell_type": "markdown",
   "metadata": {},
   "source": [
    "Adding a finite list of quantitative descriptors ([Deml et al 2016](https://journals.aps.org/prb/pdf/10.1103/PhysRevB.93.085142))"
   ]
  },
  {
   "cell_type": "code",
   "execution_count": 9,
   "metadata": {},
   "outputs": [
    {
     "name": "stdout",
     "output_type": "stream",
     "text": [
      "CPU times: user 2.23 s, sys: 416 ms, total: 2.65 s\n",
      "Wall time: 9.78 s\n"
     ]
    }
   ],
   "source": [
    "%%time\n",
    "ft = MultipleFeaturizer([cf.ElementProperty.from_preset('deml'), \n",
    "                         cf.TMetalFraction(),\n",
    "                         cf.ValenceOrbital(),\n",
    "                         cf.CationProperty.from_preset('deml'),\n",
    "                         cf.OxidationStates.from_preset('deml'),\n",
    "                         cf.ElectronAffinity(),\n",
    "                         cf.ElectronegativityDiff()])\n",
    "df = ft.featurize_dataframe(df, col_id='oxidation_states')"
   ]
  },
  {
   "cell_type": "markdown",
   "metadata": {},
   "source": [
    "Drop stats of f orbital valence electrons"
   ]
  },
  {
   "cell_type": "code",
   "execution_count": 10,
   "metadata": {
    "scrolled": false
   },
   "outputs": [],
   "source": [
    "df = df.drop(['frac f valence electrons', 'avg f valence electrons'], 1)"
   ]
  },
  {
   "cell_type": "markdown",
   "metadata": {},
   "source": [
    "Calculate number of atoms in a formula unit"
   ]
  },
  {
   "cell_type": "code",
   "execution_count": 11,
   "metadata": {},
   "outputs": [],
   "source": [
    "df['num_atoms'] = df['composition_obj'].apply(lambda x: x.num_atoms)"
   ]
  },
  {
   "cell_type": "markdown",
   "metadata": {},
   "source": [
    "At this point, we should have 124 main descriptors (Deml's paper)"
   ]
  },
  {
   "cell_type": "code",
   "execution_count": 12,
   "metadata": {},
   "outputs": [
    {
     "name": "stdout",
     "output_type": "stream",
     "text": [
      "Shape of data:  (2501, 125)\n"
     ]
    }
   ],
   "source": [
    "print (\"Shape of data: \", df.drop(['composition', 'composition_obj', 'oxidation_states'], 1).shape)"
   ]
  },
  {
   "cell_type": "markdown",
   "metadata": {},
   "source": [
    "Fill in NaN values with zeros"
   ]
  },
  {
   "cell_type": "code",
   "execution_count": 13,
   "metadata": {},
   "outputs": [],
   "source": [
    "df.fillna(value=0, inplace=True)"
   ]
  },
  {
   "cell_type": "markdown",
   "metadata": {},
   "source": [
    "Sqrt and inverse of each term."
   ]
  },
  {
   "cell_type": "code",
   "execution_count": 14,
   "metadata": {},
   "outputs": [],
   "source": [
    "def inv(x):\n",
    "    try:\n",
    "        output = 1.0/x\n",
    "    except:\n",
    "        output = 0.0\n",
    "    return output"
   ]
  },
  {
   "cell_type": "code",
   "execution_count": 15,
   "metadata": {},
   "outputs": [],
   "source": [
    "col = df.drop(['composition', 'composition_obj', 'oxidation_states'], 1).columns\n",
    "mean_col = []"
   ]
  },
  {
   "cell_type": "code",
   "execution_count": 16,
   "metadata": {},
   "outputs": [],
   "source": [
    "for i in col:\n",
    "    df[\"inverse %s\"%i] = df[i].apply(lambda x: inv(x))\n",
    "    df[\"sqrt %s\"%i] = df[i].apply(lambda x: np.sqrt(x))\n",
    "    if \"mean\" in i:\n",
    "        mean_col.append(i)    "
   ]
  },
  {
   "cell_type": "markdown",
   "metadata": {},
   "source": [
    "There should be an additional 248 terms added, coming up to a total of 372 descriptors."
   ]
  },
  {
   "cell_type": "code",
   "execution_count": 17,
   "metadata": {},
   "outputs": [
    {
     "name": "stdout",
     "output_type": "stream",
     "text": [
      "Shape of data:  (2501, 378)\n"
     ]
    }
   ],
   "source": [
    "print (\"Shape of data: \", df.shape)"
   ]
  },
  {
   "cell_type": "markdown",
   "metadata": {},
   "source": [
    "Products of the primary (those without an asterisk) and stoichiometric weighted mean values. "
   ]
  },
  {
   "cell_type": "code",
   "execution_count": 18,
   "metadata": {},
   "outputs": [],
   "source": [
    "primary = ['num_atoms', 'transition metal fraction', 'avg anion electron affinity',\n",
    "           'avg s valence electrons', 'avg p valence electrons', \n",
    "           'avg d valence electrons', 'frac s valence electrons', \n",
    "           'frac p valence electrons','frac d valence electrons']"
   ]
  },
  {
   "cell_type": "code",
   "execution_count": 19,
   "metadata": {},
   "outputs": [],
   "source": [
    "product = df[mean_col + primary]\n",
    "col = product.columns"
   ]
  },
  {
   "cell_type": "markdown",
   "metadata": {},
   "source": [
    "Use PolynomialFeatures with degree 2 from scikit-learn package"
   ]
  },
  {
   "cell_type": "code",
   "execution_count": 20,
   "metadata": {},
   "outputs": [
    {
     "name": "stdout",
     "output_type": "stream",
     "text": [
      "(2501, 496)\n"
     ]
    }
   ],
   "source": [
    "poly = PolynomialFeatures(degree=2, interaction_only=False, include_bias=True)\n",
    "product = pd.DataFrame(poly.fit_transform(product))\n",
    "product.columns = poly.get_feature_names(col)\n",
    "product = product.drop([\"1\"]+ mean_col+primary, 1)\n",
    "print (product.shape)"
   ]
  },
  {
   "cell_type": "markdown",
   "metadata": {},
   "source": [
    "Merge into original dataframe"
   ]
  },
  {
   "cell_type": "code",
   "execution_count": 21,
   "metadata": {},
   "outputs": [],
   "source": [
    "df[product.columns] = product"
   ]
  },
  {
   "cell_type": "markdown",
   "metadata": {},
   "source": [
    "Final shape of data (Should have 4692 descriptors, but we're lacking a lot due to the products)"
   ]
  },
  {
   "cell_type": "code",
   "execution_count": 22,
   "metadata": {},
   "outputs": [
    {
     "name": "stdout",
     "output_type": "stream",
     "text": [
      "Shape of featurized data:  (2501, 874)\n"
     ]
    },
    {
     "data": {
      "text/html": [
       "<div>\n",
       "<style scoped>\n",
       "    .dataframe tbody tr th:only-of-type {\n",
       "        vertical-align: middle;\n",
       "    }\n",
       "\n",
       "    .dataframe tbody tr th {\n",
       "        vertical-align: top;\n",
       "    }\n",
       "\n",
       "    .dataframe thead th {\n",
       "        text-align: right;\n",
       "    }\n",
       "</style>\n",
       "<table border=\"1\" class=\"dataframe\">\n",
       "  <thead>\n",
       "    <tr style=\"text-align: right;\">\n",
       "      <th></th>\n",
       "      <th>delta_e</th>\n",
       "      <th>total_energy</th>\n",
       "      <th>composition</th>\n",
       "      <th>composition_obj</th>\n",
       "      <th>oxidation_states</th>\n",
       "      <th>minimum atom_num</th>\n",
       "      <th>maximum atom_num</th>\n",
       "      <th>range atom_num</th>\n",
       "      <th>mean atom_num</th>\n",
       "      <th>std_dev atom_num</th>\n",
       "      <th>...</th>\n",
       "      <th>avg d valence electrons^2</th>\n",
       "      <th>avg d valence electrons frac s valence electrons</th>\n",
       "      <th>avg d valence electrons frac p valence electrons</th>\n",
       "      <th>avg d valence electrons frac d valence electrons</th>\n",
       "      <th>frac s valence electrons^2</th>\n",
       "      <th>frac s valence electrons frac p valence electrons</th>\n",
       "      <th>frac s valence electrons frac d valence electrons</th>\n",
       "      <th>frac p valence electrons^2</th>\n",
       "      <th>frac p valence electrons frac d valence electrons</th>\n",
       "      <th>frac d valence electrons^2</th>\n",
       "    </tr>\n",
       "  </thead>\n",
       "  <tbody>\n",
       "    <tr>\n",
       "      <th>0</th>\n",
       "      <td>-4.479234</td>\n",
       "      <td>-6.805786</td>\n",
       "      <td>LaF3</td>\n",
       "      <td>(La, F)</td>\n",
       "      <td>(La3+, F-)</td>\n",
       "      <td>9</td>\n",
       "      <td>57</td>\n",
       "      <td>48</td>\n",
       "      <td>21.0</td>\n",
       "      <td>33.941125</td>\n",
       "      <td>...</td>\n",
       "      <td>0.0625</td>\n",
       "      <td>0.083333</td>\n",
       "      <td>0.15625</td>\n",
       "      <td>0.010417</td>\n",
       "      <td>0.111111</td>\n",
       "      <td>0.208333</td>\n",
       "      <td>0.013889</td>\n",
       "      <td>0.390625</td>\n",
       "      <td>0.026042</td>\n",
       "      <td>0.001736</td>\n",
       "    </tr>\n",
       "  </tbody>\n",
       "</table>\n",
       "<p>1 rows × 874 columns</p>\n",
       "</div>"
      ],
      "text/plain": [
       "    delta_e  total_energy composition composition_obj oxidation_states  \\\n",
       "0 -4.479234     -6.805786        LaF3         (La, F)       (La3+, F-)   \n",
       "\n",
       "   minimum atom_num  maximum atom_num  range atom_num  mean atom_num  \\\n",
       "0                 9                57              48           21.0   \n",
       "\n",
       "   std_dev atom_num             ...              avg d valence electrons^2  \\\n",
       "0         33.941125             ...                                 0.0625   \n",
       "\n",
       "   avg d valence electrons frac s valence electrons  \\\n",
       "0                                          0.083333   \n",
       "\n",
       "   avg d valence electrons frac p valence electrons  \\\n",
       "0                                           0.15625   \n",
       "\n",
       "   avg d valence electrons frac d valence electrons  \\\n",
       "0                                          0.010417   \n",
       "\n",
       "   frac s valence electrons^2  \\\n",
       "0                    0.111111   \n",
       "\n",
       "   frac s valence electrons frac p valence electrons  \\\n",
       "0                                           0.208333   \n",
       "\n",
       "   frac s valence electrons frac d valence electrons  \\\n",
       "0                                           0.013889   \n",
       "\n",
       "   frac p valence electrons^2  \\\n",
       "0                    0.390625   \n",
       "\n",
       "   frac p valence electrons frac d valence electrons  \\\n",
       "0                                           0.026042   \n",
       "\n",
       "   frac d valence electrons^2  \n",
       "0                    0.001736  \n",
       "\n",
       "[1 rows x 874 columns]"
      ]
     },
     "execution_count": 22,
     "metadata": {},
     "output_type": "execute_result"
    }
   ],
   "source": [
    "print (\"Shape of featurized data: \", df.shape)\n",
    "df.head(1)"
   ]
  },
  {
   "cell_type": "markdown",
   "metadata": {},
   "source": [
    "Saving featurized data to pickle file"
   ]
  },
  {
   "cell_type": "code",
   "execution_count": 23,
   "metadata": {},
   "outputs": [],
   "source": [
    "df.to_pickle('./deml_featurized_data.pkl')"
   ]
  },
  {
   "cell_type": "code",
   "execution_count": null,
   "metadata": {},
   "outputs": [],
   "source": []
  }
 ],
 "metadata": {
  "kernelspec": {
   "display_name": "Python 3",
   "language": "python",
   "name": "python3"
  },
  "language_info": {
   "codemirror_mode": {
    "name": "ipython",
    "version": 3
   },
   "file_extension": ".py",
   "mimetype": "text/x-python",
   "name": "python",
   "nbconvert_exporter": "python",
   "pygments_lexer": "ipython3",
   "version": "3.6.4"
  }
 },
 "nbformat": 4,
 "nbformat_minor": 2
}
