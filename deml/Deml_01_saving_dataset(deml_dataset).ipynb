{
 "cells": [
  {
   "cell_type": "markdown",
   "metadata": {},
   "source": [
    "## Predicting total energies and enthalpies of formation of metal-nonmetal compounds by linear regression "
   ]
  },
  {
   "cell_type": "markdown",
   "metadata": {},
   "source": [
    "Here, we want to save the featurized dataset used in [Deml et al paper](https://journals.aps.org/prb/pdf/10.1103/PhysRevB.93.085142)\n"
   ]
  },
  {
   "cell_type": "code",
   "execution_count": 1,
   "metadata": {},
   "outputs": [],
   "source": [
    "%matplotlib inline\n",
    "import numpy as np\n",
    "import pandas as pd\n",
    "import os\n",
    "import pymatgen as pmg\n",
    "\n",
    "from mdf_forge.forge import Forge\n",
    "\n",
    "from matminer.data_retrieval.retrieve_MDF import MDFDataRetrieval\n",
    "from matminer.utils.conversions import str_to_composition, composition_to_oxidcomposition\n",
    "from matminer.featurizers.base import MultipleFeaturizer\n",
    "from matminer.featurizers import composition as cf\n",
    "\n",
    "from pymatgen import MPRester"
   ]
  },
  {
   "cell_type": "markdown",
   "metadata": {},
   "source": [
    "### Loading deml_dataset.csv "
   ]
  },
  {
   "cell_type": "code",
   "execution_count": 2,
   "metadata": {},
   "outputs": [],
   "source": [
    "csv_path = os.path.join(os.getcwd(), \"deml_dataset.csv\")\n",
    "df = pd.read_csv(csv_path, comment='#')"
   ]
  },
  {
   "cell_type": "markdown",
   "metadata": {},
   "source": [
    "### Part 1: Compute data representation"
   ]
  },
  {
   "cell_type": "markdown",
   "metadata": {},
   "source": [
    "Compute pymatgen composition from compound formula"
   ]
  },
  {
   "cell_type": "code",
   "execution_count": 17,
   "metadata": {},
   "outputs": [],
   "source": [
    "df['composition_obj'] = str_to_composition(df['composition'])"
   ]
  },
  {
   "cell_type": "markdown",
   "metadata": {},
   "source": [
    "Compute ionic states"
   ]
  },
  {
   "cell_type": "code",
   "execution_count": 18,
   "metadata": {},
   "outputs": [],
   "source": [
    "df['oxidation_states'] = composition_to_oxidcomposition(df['composition_obj'])"
   ]
  },
  {
   "cell_type": "markdown",
   "metadata": {},
   "source": [
    "Compute total energy of a composition"
   ]
  },
  {
   "cell_type": "code",
   "execution_count": 5,
   "metadata": {},
   "outputs": [],
   "source": [
    "def get_total_energy(comp, api_key):\n",
    "    mp = MPRester('T6QzrvW8J07u4L2O')\n",
    "    ls = mp.get_data(comp, prop='energy_per_atom')\n",
    "    if (ls == []):\n",
    "        return np.nan\n",
    "    else:\n",
    "        return ls[0]['energy_per_atom']"
   ]
  },
  {
   "cell_type": "code",
   "execution_count": null,
   "metadata": {},
   "outputs": [],
   "source": [
    "%%time\n",
    "df['total_energy'] = df['composition'].apply(lambda x: get_total_energy(x, 'T6QzrvW8J07u4L2O'))"
   ]
  },
  {
   "cell_type": "markdown",
   "metadata": {},
   "source": [
    "Drop rows with NaN total energy"
   ]
  },
  {
   "cell_type": "code",
   "execution_count": null,
   "metadata": {},
   "outputs": [],
   "source": [
    "original_count = len(df)\n",
    "df = df.dropna(subset=['total_energy']).reset_index(drop=True)\n",
    "print('Removed %d/%d entries'%(original_count - len(df), original_count))"
   ]
  },
  {
   "cell_type": "markdown",
   "metadata": {},
   "source": [
    "Adding a finite list of quantitative descriptors ([Deml et al 2016](https://journals.aps.org/prb/pdf/10.1103/PhysRevB.93.085142))"
   ]
  },
  {
   "cell_type": "code",
   "execution_count": 19,
   "metadata": {},
   "outputs": [
    {
     "name": "stdout",
     "output_type": "stream",
     "text": [
      "CPU times: user 951 ms, sys: 137 ms, total: 1.09 s\n",
      "Wall time: 3.49 s\n"
     ]
    }
   ],
   "source": [
    "%%time\n",
    "ft = MultipleFeaturizer([cf.ElementProperty.from_preset('deml'), \n",
    "                         cf.TMetalFraction(),\n",
    "                         cf.ValenceOrbital()])\n",
    "df = ft.featurize_dataframe(df, col_id='composition_obj')"
   ]
  },
  {
   "cell_type": "code",
   "execution_count": 20,
   "metadata": {},
   "outputs": [
    {
     "name": "stdout",
     "output_type": "stream",
     "text": [
      "CPU times: user 684 ms, sys: 170 ms, total: 854 ms\n",
      "Wall time: 2.05 s\n"
     ]
    }
   ],
   "source": [
    "%%time\n",
    "ft = MultipleFeaturizer([cf.CationProperty.from_preset('deml'),\n",
    "                         cf.OxidationStates.from_preset('deml'),\n",
    "                         cf.ElectronAffinity(),\n",
    "                         cf.ElectronegativityDiff()\n",
    "                        ])\n",
    "df = ft.featurize_dataframe(df, col_id='oxidation_states')"
   ]
  },
  {
   "cell_type": "markdown",
   "metadata": {},
   "source": [
    "Drop stats of f orbital valence electrons"
   ]
  },
  {
   "cell_type": "code",
   "execution_count": 21,
   "metadata": {
    "scrolled": false
   },
   "outputs": [],
   "source": [
    "df = df.drop(['frac f valence electrons', 'avg f valence electrons'], 1)"
   ]
  },
  {
   "cell_type": "markdown",
   "metadata": {},
   "source": [
    "Fill in NaN values with zeros"
   ]
  },
  {
   "cell_type": "code",
   "execution_count": 22,
   "metadata": {},
   "outputs": [],
   "source": [
    "df.fillna(value=0, inplace=True)"
   ]
  },
  {
   "cell_type": "markdown",
   "metadata": {},
   "source": [
    "Calculate number of atoms in a formula unit"
   ]
  },
  {
   "cell_type": "code",
   "execution_count": 23,
   "metadata": {},
   "outputs": [],
   "source": [
    "df['num_atoms'] = df['composition_obj'].apply(lambda x: x.num_atoms)"
   ]
  },
  {
   "cell_type": "markdown",
   "metadata": {},
   "source": [
    "Sqrt and inverse of each term."
   ]
  },
  {
   "cell_type": "code",
   "execution_count": 24,
   "metadata": {},
   "outputs": [],
   "source": [
    "def inv(x):\n",
    "    try:\n",
    "        output = 1.0/x\n",
    "    except:\n",
    "        output = 0.0\n",
    "    return output"
   ]
  },
  {
   "cell_type": "code",
   "execution_count": 25,
   "metadata": {},
   "outputs": [],
   "source": [
    "col = df.columns\n",
    "mean_col = []"
   ]
  },
  {
   "cell_type": "code",
   "execution_count": 26,
   "metadata": {},
   "outputs": [],
   "source": [
    "for i in col:\n",
    "    if \"mean\" in i:\n",
    "        mean_col.append(i)\n",
    "        df[\"inverse %s\"%i] = df[i].apply(lambda x: inv(x))\n",
    "        df[\"sqrt %s\"%i] = df[i].apply(lambda x: np.sqrt(x))"
   ]
  },
  {
   "cell_type": "markdown",
   "metadata": {},
   "source": [
    "Products of the primary (those without an asterisk) and stoichiometric weighted mean values. "
   ]
  },
  {
   "cell_type": "code",
   "execution_count": 27,
   "metadata": {},
   "outputs": [],
   "source": [
    "primary = ['num_atoms', 'transition metal fraction', 'avg anion electron affinity',\n",
    "           'avg s valence electrons', 'avg p valence electrons', \n",
    "           'avg d valence electrons', 'frac s valence electrons', \n",
    "           'frac p valence electrons','frac d valence electrons', ]"
   ]
  },
  {
   "cell_type": "code",
   "execution_count": 28,
   "metadata": {},
   "outputs": [],
   "source": [
    "for i in primary:\n",
    "    for j in mean_col:\n",
    "        df['%s&%s' % (i, j)] = df[i].multiply(df[j])"
   ]
  },
  {
   "cell_type": "markdown",
   "metadata": {},
   "source": [
    "Final shape of data"
   ]
  },
  {
   "cell_type": "code",
   "execution_count": 29,
   "metadata": {},
   "outputs": [
    {
     "name": "stdout",
     "output_type": "stream",
     "text": [
      "Shape of featurized data:  (2220, 370)\n"
     ]
    },
    {
     "data": {
      "text/html": [
       "<div>\n",
       "<style scoped>\n",
       "    .dataframe tbody tr th:only-of-type {\n",
       "        vertical-align: middle;\n",
       "    }\n",
       "\n",
       "    .dataframe tbody tr th {\n",
       "        vertical-align: top;\n",
       "    }\n",
       "\n",
       "    .dataframe thead th {\n",
       "        text-align: right;\n",
       "    }\n",
       "</style>\n",
       "<table border=\"1\" class=\"dataframe\">\n",
       "  <thead>\n",
       "    <tr style=\"text-align: right;\">\n",
       "      <th></th>\n",
       "      <th>composition</th>\n",
       "      <th>delta_e</th>\n",
       "      <th>total_energy</th>\n",
       "      <th>composition_obj</th>\n",
       "      <th>oxidation_states</th>\n",
       "      <th>minimum atom_num</th>\n",
       "      <th>maximum atom_num</th>\n",
       "      <th>range atom_num</th>\n",
       "      <th>mean atom_num</th>\n",
       "      <th>std_dev atom_num</th>\n",
       "      <th>...</th>\n",
       "      <th>frac d valence electrons&amp;mean electric_pol</th>\n",
       "      <th>frac d valence electrons&amp;mean GGAU_Etot</th>\n",
       "      <th>frac d valence electrons&amp;mean mus_fere</th>\n",
       "      <th>frac d valence electrons&amp;mean FERE correction</th>\n",
       "      <th>frac d valence electrons&amp;mean total_ioniz of cations</th>\n",
       "      <th>frac d valence electrons&amp;mean xtal_field_split of cations</th>\n",
       "      <th>frac d valence electrons&amp;mean magn_moment of cations</th>\n",
       "      <th>frac d valence electrons&amp;mean so_coupling of cations</th>\n",
       "      <th>frac d valence electrons&amp;mean sat_magn of cations</th>\n",
       "      <th>frac d valence electrons&amp;mean EN difference</th>\n",
       "    </tr>\n",
       "  </thead>\n",
       "  <tbody>\n",
       "    <tr>\n",
       "      <th>0</th>\n",
       "      <td>As1Y1</td>\n",
       "      <td>-1.555732</td>\n",
       "      <td>-6.627177</td>\n",
       "      <td>(As, Y)</td>\n",
       "      <td>(As3-, Y3+)</td>\n",
       "      <td>33</td>\n",
       "      <td>39</td>\n",
       "      <td>6</td>\n",
       "      <td>36.0</td>\n",
       "      <td>4.242641</td>\n",
       "      <td>...</td>\n",
       "      <td>8.253056</td>\n",
       "      <td>-3.095278</td>\n",
       "      <td>-3.016634</td>\n",
       "      <td>0.078643</td>\n",
       "      <td>2.297778e+06</td>\n",
       "      <td>0.0</td>\n",
       "      <td>0.0</td>\n",
       "      <td>0.0</td>\n",
       "      <td>0.0</td>\n",
       "      <td>0.586667</td>\n",
       "    </tr>\n",
       "  </tbody>\n",
       "</table>\n",
       "<p>1 rows × 370 columns</p>\n",
       "</div>"
      ],
      "text/plain": [
       "  composition   delta_e  total_energy composition_obj oxidation_states  \\\n",
       "0       As1Y1 -1.555732     -6.627177         (As, Y)      (As3-, Y3+)   \n",
       "\n",
       "   minimum atom_num  maximum atom_num  range atom_num  mean atom_num  \\\n",
       "0                33                39               6           36.0   \n",
       "\n",
       "   std_dev atom_num                     ...                       \\\n",
       "0          4.242641                     ...                        \n",
       "\n",
       "   frac d valence electrons&mean electric_pol  \\\n",
       "0                                    8.253056   \n",
       "\n",
       "   frac d valence electrons&mean GGAU_Etot  \\\n",
       "0                                -3.095278   \n",
       "\n",
       "   frac d valence electrons&mean mus_fere  \\\n",
       "0                               -3.016634   \n",
       "\n",
       "   frac d valence electrons&mean FERE correction  \\\n",
       "0                                       0.078643   \n",
       "\n",
       "   frac d valence electrons&mean total_ioniz of cations  \\\n",
       "0                                       2.297778e+06      \n",
       "\n",
       "   frac d valence electrons&mean xtal_field_split of cations  \\\n",
       "0                                                0.0           \n",
       "\n",
       "   frac d valence electrons&mean magn_moment of cations  \\\n",
       "0                                                0.0      \n",
       "\n",
       "   frac d valence electrons&mean so_coupling of cations  \\\n",
       "0                                                0.0      \n",
       "\n",
       "   frac d valence electrons&mean sat_magn of cations  \\\n",
       "0                                                0.0   \n",
       "\n",
       "   frac d valence electrons&mean EN difference  \n",
       "0                                     0.586667  \n",
       "\n",
       "[1 rows x 370 columns]"
      ]
     },
     "execution_count": 29,
     "metadata": {},
     "output_type": "execute_result"
    }
   ],
   "source": [
    "print (\"Shape of featurized data: \", df.shape)\n",
    "df.head(1)"
   ]
  },
  {
   "cell_type": "markdown",
   "metadata": {},
   "source": [
    "Saving featurized data to pickle file"
   ]
  },
  {
   "cell_type": "code",
   "execution_count": 30,
   "metadata": {},
   "outputs": [],
   "source": [
    "df.to_pickle('./deml_featurized_data.pkl')"
   ]
  },
  {
   "cell_type": "code",
   "execution_count": null,
   "metadata": {},
   "outputs": [],
   "source": []
  }
 ],
 "metadata": {
  "kernelspec": {
   "display_name": "Python 3",
   "language": "python",
   "name": "python3"
  },
  "language_info": {
   "codemirror_mode": {
    "name": "ipython",
    "version": 3
   },
   "file_extension": ".py",
   "mimetype": "text/x-python",
   "name": "python",
   "nbconvert_exporter": "python",
   "pygments_lexer": "ipython3",
   "version": "3.6.4"
  }
 },
 "nbformat": 4,
 "nbformat_minor": 2
}
