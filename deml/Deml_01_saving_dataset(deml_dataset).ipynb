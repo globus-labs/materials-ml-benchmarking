{
 "cells": [
  {
   "cell_type": "markdown",
   "metadata": {},
   "source": [
    "## Predicting total energies and formation enthalpies of metal-nonmetal compounds by linear regression "
   ]
  },
  {
   "cell_type": "markdown",
   "metadata": {},
   "source": [
    "Here, we want to save the featurized dataset used in [Deml et al paper](https://journals.aps.org/prb/pdf/10.1103/PhysRevB.93.085142). \n",
    "If there is already an updated featurized pickled file (`deml_featurized_data.pkl`), run the second jupyter notebook (`Deml_02_prediction.ipynb`) directly.\n"
   ]
  },
  {
   "cell_type": "code",
   "execution_count": 93,
   "metadata": {},
   "outputs": [],
   "source": [
    "%matplotlib inline\n",
    "import numpy as np\n",
    "import pandas as pd\n",
    "import os\n",
    "import pymatgen as pmg\n",
    "\n",
    "from matminer.utils.conversions import str_to_composition, composition_to_oxidcomposition\n",
    "from matminer.featurizers.base import MultipleFeaturizer\n",
    "from matminer.featurizers import composition as cf\n",
    "\n",
    "from pymatgen import MPRester"
   ]
  },
  {
   "cell_type": "markdown",
   "metadata": {},
   "source": [
    "### Loading deml_dataset.csv "
   ]
  },
  {
   "cell_type": "code",
   "execution_count": 117,
   "metadata": {},
   "outputs": [],
   "source": [
    "path = os.path.join(os.getcwd(), \"oqmd_deml_subset.pkl\")\n",
    "df = pd.read_pickle(path)"
   ]
  },
  {
   "cell_type": "code",
   "execution_count": 118,
   "metadata": {},
   "outputs": [
    {
     "name": "stdout",
     "output_type": "stream",
     "text": [
      "Shape of data:  (2508, 11)\n"
     ]
    }
   ],
   "source": [
    "print (\"Shape of data: \", df.shape)"
   ]
  },
  {
   "cell_type": "markdown",
   "metadata": {},
   "source": [
    "Drop unnecessary columns"
   ]
  },
  {
   "cell_type": "code",
   "execution_count": 97,
   "metadata": {},
   "outputs": [],
   "source": [
    "df = df.drop(['band_gap', 'magnetic_moment', 'path', 'stability', 'structure', 'volume_pa', 'is_ICSD', 'structure_obj'], 1)"
   ]
  },
  {
   "cell_type": "markdown",
   "metadata": {},
   "source": [
    "### Part 1: Compute data representation"
   ]
  },
  {
   "cell_type": "markdown",
   "metadata": {},
   "source": [
    "Compute pymatgen composition from compound formula"
   ]
  },
  {
   "cell_type": "code",
   "execution_count": 119,
   "metadata": {},
   "outputs": [],
   "source": [
    "df['composition_obj'] = str_to_composition(df['composition'])"
   ]
  },
  {
   "cell_type": "markdown",
   "metadata": {},
   "source": [
    "Compute ionic states"
   ]
  },
  {
   "cell_type": "code",
   "execution_count": 120,
   "metadata": {},
   "outputs": [],
   "source": [
    "df['oxidation_states'] = composition_to_oxidcomposition(df['composition_obj'])"
   ]
  },
  {
   "cell_type": "markdown",
   "metadata": {},
   "source": [
    "Remove compounds that cannot be featurized (due to unclear reasons)"
   ]
  },
  {
   "cell_type": "code",
   "execution_count": 121,
   "metadata": {},
   "outputs": [],
   "source": [
    "df = df.reset_index(drop=True)"
   ]
  },
  {
   "cell_type": "code",
   "execution_count": 122,
   "metadata": {},
   "outputs": [],
   "source": [
    "for i in [952, 1214, 1217, 1311, 1315, 1710, 1963]:\n",
    "    df = df.drop([i, i])\n",
    "df = df.reset_index(drop=True)"
   ]
  },
  {
   "cell_type": "markdown",
   "metadata": {},
   "source": [
    "Adding a finite list of quantitative descriptors ([Deml et al 2016](https://journals.aps.org/prb/pdf/10.1103/PhysRevB.93.085142))"
   ]
  },
  {
   "cell_type": "code",
   "execution_count": 123,
   "metadata": {},
   "outputs": [
    {
     "name": "stdout",
     "output_type": "stream",
     "text": [
      "CPU times: user 1.13 s, sys: 260 ms, total: 1.39 s\n",
      "Wall time: 4.19 s\n"
     ]
    }
   ],
   "source": [
    "%%time\n",
    "ft = MultipleFeaturizer([cf.ElementProperty.from_preset('deml'), \n",
    "                         cf.TMetalFraction(),\n",
    "                         cf.ValenceOrbital()])\n",
    "df = ft.featurize_dataframe(df, col_id='composition_obj')"
   ]
  },
  {
   "cell_type": "code",
   "execution_count": 124,
   "metadata": {},
   "outputs": [
    {
     "name": "stdout",
     "output_type": "stream",
     "text": [
      "CPU times: user 921 ms, sys: 334 ms, total: 1.25 s\n",
      "Wall time: 2.71 s\n"
     ]
    }
   ],
   "source": [
    "%%time\n",
    "ft = MultipleFeaturizer([cf.CationProperty.from_preset('deml'),\n",
    "                         cf.OxidationStates.from_preset('deml'),\n",
    "                         cf.ElectronAffinity(),\n",
    "                         cf.ElectronegativityDiff()\n",
    "                        ])\n",
    "df = ft.featurize_dataframe(df, col_id='oxidation_states')"
   ]
  },
  {
   "cell_type": "markdown",
   "metadata": {},
   "source": [
    "Drop stats of f orbital valence electrons"
   ]
  },
  {
   "cell_type": "code",
   "execution_count": 137,
   "metadata": {
    "scrolled": false
   },
   "outputs": [],
   "source": [
    "df = df.drop(['frac f valence electrons', 'avg f valence electrons'], 1)"
   ]
  },
  {
   "cell_type": "markdown",
   "metadata": {},
   "source": [
    "Fill in NaN values with zeros"
   ]
  },
  {
   "cell_type": "code",
   "execution_count": 138,
   "metadata": {},
   "outputs": [],
   "source": [
    "df.fillna(value=0, inplace=True)"
   ]
  },
  {
   "cell_type": "markdown",
   "metadata": {},
   "source": [
    "Calculate number of atoms in a formula unit"
   ]
  },
  {
   "cell_type": "code",
   "execution_count": 139,
   "metadata": {},
   "outputs": [],
   "source": [
    "df['num_atoms'] = df['composition_obj'].apply(lambda x: x.num_atoms)"
   ]
  },
  {
   "cell_type": "markdown",
   "metadata": {},
   "source": [
    "Sqrt and inverse of each term."
   ]
  },
  {
   "cell_type": "code",
   "execution_count": 140,
   "metadata": {},
   "outputs": [],
   "source": [
    "def inv(x):\n",
    "    try:\n",
    "        output = 1.0/x\n",
    "    except:\n",
    "        output = 0.0\n",
    "    return output"
   ]
  },
  {
   "cell_type": "code",
   "execution_count": 141,
   "metadata": {},
   "outputs": [],
   "source": [
    "col = df.columns\n",
    "mean_col = []"
   ]
  },
  {
   "cell_type": "code",
   "execution_count": 142,
   "metadata": {},
   "outputs": [],
   "source": [
    "for i in col:\n",
    "    if \"mean\" in i:\n",
    "        mean_col.append(i)\n",
    "        df[\"inverse %s\"%i] = df[i].apply(lambda x: inv(x))\n",
    "        df[\"sqrt %s\"%i] = df[i].apply(lambda x: np.sqrt(x))"
   ]
  },
  {
   "cell_type": "markdown",
   "metadata": {},
   "source": [
    "Products of the primary (those without an asterisk) and stoichiometric weighted mean values. "
   ]
  },
  {
   "cell_type": "code",
   "execution_count": 143,
   "metadata": {},
   "outputs": [],
   "source": [
    "primary = ['num_atoms', 'transition metal fraction', 'avg anion electron affinity',\n",
    "           'avg s valence electrons', 'avg p valence electrons', \n",
    "           'avg d valence electrons', 'frac s valence electrons', \n",
    "           'frac p valence electrons','frac d valence electrons', ]"
   ]
  },
  {
   "cell_type": "code",
   "execution_count": 144,
   "metadata": {},
   "outputs": [],
   "source": [
    "for i in primary:\n",
    "    for j in mean_col:\n",
    "        df['%s&%s' % (i, j)] = df[i].multiply(df[j])"
   ]
  },
  {
   "cell_type": "markdown",
   "metadata": {},
   "source": [
    "Final shape of data"
   ]
  },
  {
   "cell_type": "code",
   "execution_count": 145,
   "metadata": {},
   "outputs": [
    {
     "name": "stdout",
     "output_type": "stream",
     "text": [
      "Shape of featurized data:  (2501, 378)\n"
     ]
    },
    {
     "data": {
      "text/html": [
       "<div>\n",
       "<style scoped>\n",
       "    .dataframe tbody tr th:only-of-type {\n",
       "        vertical-align: middle;\n",
       "    }\n",
       "\n",
       "    .dataframe tbody tr th {\n",
       "        vertical-align: top;\n",
       "    }\n",
       "\n",
       "    .dataframe thead th {\n",
       "        text-align: right;\n",
       "    }\n",
       "</style>\n",
       "<table border=\"1\" class=\"dataframe\">\n",
       "  <thead>\n",
       "    <tr style=\"text-align: right;\">\n",
       "      <th></th>\n",
       "      <th>band_gap</th>\n",
       "      <th>delta_e</th>\n",
       "      <th>magnetic_moment</th>\n",
       "      <th>path</th>\n",
       "      <th>stability</th>\n",
       "      <th>structure</th>\n",
       "      <th>total_energy</th>\n",
       "      <th>volume_pa</th>\n",
       "      <th>is_ICSD</th>\n",
       "      <th>structure_obj</th>\n",
       "      <th>...</th>\n",
       "      <th>frac d valence electrons&amp;mean electric_pol</th>\n",
       "      <th>frac d valence electrons&amp;mean GGAU_Etot</th>\n",
       "      <th>frac d valence electrons&amp;mean mus_fere</th>\n",
       "      <th>frac d valence electrons&amp;mean FERE correction</th>\n",
       "      <th>frac d valence electrons&amp;mean total_ioniz of cations</th>\n",
       "      <th>frac d valence electrons&amp;mean xtal_field_split of cations</th>\n",
       "      <th>frac d valence electrons&amp;mean magn_moment of cations</th>\n",
       "      <th>frac d valence electrons&amp;mean so_coupling of cations</th>\n",
       "      <th>frac d valence electrons&amp;mean sat_magn of cations</th>\n",
       "      <th>frac d valence electrons&amp;mean EN difference</th>\n",
       "    </tr>\n",
       "  </thead>\n",
       "  <tbody>\n",
       "    <tr>\n",
       "      <th>0</th>\n",
       "      <td>0.0</td>\n",
       "      <td>-4.479234</td>\n",
       "      <td>-0.000084</td>\n",
       "      <td>/home/oqmd/libraries/icsd/27089/static</td>\n",
       "      <td>-3.195302</td>\n",
       "      <td>La F\\n 1.0\\n7.075548 -0.000022 0.000000\\n-3.53...</td>\n",
       "      <td>-6.805786</td>\n",
       "      <td>13.0929</td>\n",
       "      <td>True</td>\n",
       "      <td>[[ 2.00018782e+00 -6.21918359e-06  5.41090000e...</td>\n",
       "      <td>...</td>\n",
       "      <td>0.341365</td>\n",
       "      <td>-0.098333</td>\n",
       "      <td>-0.091412</td>\n",
       "      <td>0.006921</td>\n",
       "      <td>143975.0</td>\n",
       "      <td>0.0</td>\n",
       "      <td>0.0</td>\n",
       "      <td>0.0</td>\n",
       "      <td>0.0</td>\n",
       "      <td>0.12</td>\n",
       "    </tr>\n",
       "  </tbody>\n",
       "</table>\n",
       "<p>1 rows × 378 columns</p>\n",
       "</div>"
      ],
      "text/plain": [
       "   band_gap   delta_e  magnetic_moment  \\\n",
       "0       0.0 -4.479234        -0.000084   \n",
       "\n",
       "                                     path  stability  \\\n",
       "0  /home/oqmd/libraries/icsd/27089/static  -3.195302   \n",
       "\n",
       "                                           structure  total_energy  volume_pa  \\\n",
       "0  La F\\n 1.0\\n7.075548 -0.000022 0.000000\\n-3.53...     -6.805786    13.0929   \n",
       "\n",
       "   is_ICSD                                      structure_obj  \\\n",
       "0     True  [[ 2.00018782e+00 -6.21918359e-06  5.41090000e...   \n",
       "\n",
       "                      ...                       \\\n",
       "0                     ...                        \n",
       "\n",
       "  frac d valence electrons&mean electric_pol  \\\n",
       "0                                   0.341365   \n",
       "\n",
       "  frac d valence electrons&mean GGAU_Etot  \\\n",
       "0                               -0.098333   \n",
       "\n",
       "  frac d valence electrons&mean mus_fere  \\\n",
       "0                              -0.091412   \n",
       "\n",
       "   frac d valence electrons&mean FERE correction  \\\n",
       "0                                       0.006921   \n",
       "\n",
       "   frac d valence electrons&mean total_ioniz of cations  \\\n",
       "0                                           143975.0      \n",
       "\n",
       "   frac d valence electrons&mean xtal_field_split of cations  \\\n",
       "0                                                0.0           \n",
       "\n",
       "   frac d valence electrons&mean magn_moment of cations  \\\n",
       "0                                                0.0      \n",
       "\n",
       "   frac d valence electrons&mean so_coupling of cations  \\\n",
       "0                                                0.0      \n",
       "\n",
       "   frac d valence electrons&mean sat_magn of cations  \\\n",
       "0                                                0.0   \n",
       "\n",
       "   frac d valence electrons&mean EN difference  \n",
       "0                                         0.12  \n",
       "\n",
       "[1 rows x 378 columns]"
      ]
     },
     "execution_count": 145,
     "metadata": {},
     "output_type": "execute_result"
    }
   ],
   "source": [
    "print (\"Shape of featurized data: \", df.shape)\n",
    "df.head(1)"
   ]
  },
  {
   "cell_type": "markdown",
   "metadata": {},
   "source": [
    "Saving featurized data to pickle file"
   ]
  },
  {
   "cell_type": "code",
   "execution_count": 90,
   "metadata": {},
   "outputs": [],
   "source": [
    "df.to_pickle('./deml_featurized_data.pkl')"
   ]
  }
 ],
 "metadata": {
  "kernelspec": {
   "display_name": "Python 3",
   "language": "python",
   "name": "python3"
  },
  "language_info": {
   "codemirror_mode": {
    "name": "ipython",
    "version": 3
   },
   "file_extension": ".py",
   "mimetype": "text/x-python",
   "name": "python",
   "nbconvert_exporter": "python",
   "pygments_lexer": "ipython3",
   "version": "3.6.4"
  }
 },
 "nbformat": 4,
 "nbformat_minor": 2
}
