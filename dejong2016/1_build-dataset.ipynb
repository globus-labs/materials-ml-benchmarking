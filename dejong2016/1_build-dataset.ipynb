{
 "cells": [
  {
   "cell_type": "markdown",
   "metadata": {},
   "source": [
    "# Featurization of Elastic Tensor data \n",
    "\n",
    "We want to study the performance of model proposed in [De Jong's paper](https://www.nature.com/articles/srep34256). Here, features for elastic tensor data is added according to that as shown in the paper. Data is then saved as pickle file."
   ]
  },
  {
   "cell_type": "code",
   "execution_count": 13,
   "metadata": {},
   "outputs": [],
   "source": [
    "import numpy as np\n",
    "import pandas as pd\n",
    "import pymatgen as pmg\n",
    "\n",
    "from matminer.datasets.dataframe_loader import load_elastic_tensor\n",
    "from matminer.utils.conversions import str_to_composition\n",
    "\n",
    "from matminer.featurizers.composition import ElementProperty, CohesiveEnergy\n",
    "from matminer.featurizers.structure import SiteStatsFingerprint\n",
    "from matminer.featurizers.site import CoordinationNumber\n",
    "from matminer.featurizers.base import MultipleFeaturizer\n",
    "from pymatgen import MPRester\n",
    "from pymatgen.analysis.local_env import VoronoiNN\n",
    "\n",
    "key = 'T6QzrvW8J07u4L2O'"
   ]
  },
  {
   "cell_type": "markdown",
   "metadata": {},
   "source": [
    "Load data"
   ]
  },
  {
   "cell_type": "code",
   "execution_count": 2,
   "metadata": {},
   "outputs": [],
   "source": [
    "data = load_elastic_tensor()"
   ]
  },
  {
   "cell_type": "markdown",
   "metadata": {},
   "source": [
    "Compute composition object from formula provided"
   ]
  },
  {
   "cell_type": "code",
   "execution_count": 3,
   "metadata": {},
   "outputs": [],
   "source": [
    "data['composition'] = str_to_composition(data['formula'])"
   ]
  },
  {
   "cell_type": "markdown",
   "metadata": {},
   "source": [
    "Drop unnecessary data"
   ]
  },
  {
   "cell_type": "code",
   "execution_count": 4,
   "metadata": {},
   "outputs": [],
   "source": [
    "data = data.drop(['formula', 'nsites', 'space_group', \n",
    "               'G_Reuss', 'G_Voigt', 'K_Reuss', 'K_Voigt',\n",
    "               'compliance_tensor', 'elastic_tensor', 'elastic_tensor_original'], 1)"
   ]
  },
  {
   "cell_type": "markdown",
   "metadata": {},
   "source": [
    "## Compute features "
   ]
  },
  {
   "cell_type": "markdown",
   "metadata": {},
   "source": [
    "#### Holder Means of first 8 properties in Table 1 of De Jong et al. paper \n",
    "'group_number', 'atomic_mass', 'atomic_radius', 'row_number', 'boiling_temp', 'melting_temp', 'electronegativity', 'atomic_number'\n",
    "$$\\mu_p(x) = [\\frac{(\\Sigma^n_{i=1}w_ix_i^p)}{(\\Sigma^n_{i=1}w_i)}]^\\frac{1}{p}$$"
   ]
  },
  {
   "cell_type": "code",
   "execution_count": 5,
   "metadata": {
    "scrolled": true
   },
   "outputs": [
    {
     "name": "stderr",
     "output_type": "stream",
     "text": [
      "ElementProperty:   0%|          | 0/1181 [00:00<?, ?it/s]/Users/AikRui/anaconda3/lib/python3.6/site-packages/matminer/featurizers/utils/stats.py:234: RuntimeWarning:\n",
      "\n",
      "divide by zero encountered in double_scalars\n",
      "\n",
      "/Users/AikRui/anaconda3/lib/python3.6/site-packages/matminer/featurizers/utils/stats.py:236: RuntimeWarning:\n",
      "\n",
      "invalid value encountered in double_scalars\n",
      "\n",
      "/Users/AikRui/anaconda3/lib/python3.6/site-packages/matminer/featurizers/utils/stats.py:234: RuntimeWarning:\n",
      "\n",
      "divide by zero encountered in double_scalars\n",
      "\n",
      "/Users/AikRui/anaconda3/lib/python3.6/site-packages/matminer/featurizers/utils/stats.py:236: RuntimeWarning:\n",
      "\n",
      "invalid value encountered in double_scalars\n",
      "\n",
      "/Users/AikRui/anaconda3/lib/python3.6/site-packages/matminer/featurizers/utils/stats.py:234: RuntimeWarning:\n",
      "\n",
      "divide by zero encountered in double_scalars\n",
      "\n",
      "/Users/AikRui/anaconda3/lib/python3.6/site-packages/matminer/featurizers/utils/stats.py:236: RuntimeWarning:\n",
      "\n",
      "invalid value encountered in double_scalars\n",
      "\n",
      "/Users/AikRui/anaconda3/lib/python3.6/site-packages/matminer/featurizers/utils/stats.py:234: RuntimeWarning:\n",
      "\n",
      "divide by zero encountered in double_scalars\n",
      "\n",
      "/Users/AikRui/anaconda3/lib/python3.6/site-packages/matminer/featurizers/utils/stats.py:236: RuntimeWarning:\n",
      "\n",
      "invalid value encountered in double_scalars\n",
      "\n",
      "ElementProperty: 100%|██████████| 1181/1181 [00:01<00:00, 1066.73it/s]\n"
     ]
    }
   ],
   "source": [
    "ef = ElementProperty(data_source='pymatgen', \n",
    "                    features=['group', 'atomic_mass', 'atomic_radius', 'row',\n",
    "                              'boiling_point', 'melting_point', 'X', 'Z'],  \n",
    "                    stats=['holder_mean::%d'%d for d in range(-4, 4+1)] + ['geom_std_dev', 'std_dev'])\n",
    "data = ef.featurize_dataframe(data, col_id='composition')"
   ]
  },
  {
   "cell_type": "markdown",
   "metadata": {},
   "source": [
    "#### Cohesive Energy "
   ]
  },
  {
   "cell_type": "code",
   "execution_count": 6,
   "metadata": {},
   "outputs": [
    {
     "name": "stderr",
     "output_type": "stream",
     "text": [
      "CohesiveEnergy: 100%|██████████| 1181/1181 [00:49<00:00, 23.68it/s]\n"
     ]
    },
    {
     "name": "stdout",
     "output_type": "stream",
     "text": [
      "CPU times: user 121 ms, sys: 86.4 ms, total: 208 ms\n",
      "Wall time: 1min 40s\n"
     ]
    }
   ],
   "source": [
    "%%time\n",
    "ft = CohesiveEnergy(mapi_key=key)\n",
    "\n",
    "data = ft.featurize_dataframe(data, col_id='composition', ignore_errors=True)"
   ]
  },
  {
   "cell_type": "markdown",
   "metadata": {},
   "source": [
    "#### Formation energy per atom, Energy above hull, band gap, density "
   ]
  },
  {
   "cell_type": "code",
   "execution_count": 7,
   "metadata": {},
   "outputs": [],
   "source": [
    "mpr = MPRester(api_key=key)"
   ]
  },
  {
   "cell_type": "code",
   "execution_count": 8,
   "metadata": {
    "scrolled": false
   },
   "outputs": [
    {
     "name": "stdout",
     "output_type": "stream",
     "text": [
      "CPU times: user 21.1 s, sys: 1.37 s, total: 22.5 s\n",
      "Wall time: 6min 21s\n"
     ]
    }
   ],
   "source": [
    "%%time\n",
    "data['formation_energy_per_atom'], data['e_above_hull'], data['band_gap'], data['density'] = np.nan, np.nan, np.nan, np.nan\n",
    "for idx, n in enumerate(data['material_id']):\n",
    "    ls = mpr.get_data(n)\n",
    "    try:\n",
    "        data['formation_energy_per_atom'][idx] = ls[0]['formation_energy_per_atom']\n",
    "        data['e_above_hull'][idx] = ls[0]['e_above_hull']\n",
    "        data['band_gap'][idx] = ls[0]['band_gap']\n",
    "        data['density'][idx] = ls[0]['density']\n",
    "    except:\n",
    "        pass"
   ]
  },
  {
   "cell_type": "markdown",
   "metadata": {},
   "source": [
    "#### log (V) per atom "
   ]
  },
  {
   "cell_type": "code",
   "execution_count": 9,
   "metadata": {},
   "outputs": [],
   "source": [
    "def compute_log_volume(x):\n",
    "    return np.log(x['volume']/x['composition'].num_atoms)"
   ]
  },
  {
   "cell_type": "code",
   "execution_count": 10,
   "metadata": {},
   "outputs": [],
   "source": [
    "data['log volume per atom'] = data.apply(compute_log_volume, axis=1)"
   ]
  },
  {
   "cell_type": "markdown",
   "metadata": {},
   "source": [
    "#### Voronoi-based average bond length, bond angles and mean AD and SD of composition features"
   ]
  },
  {
   "cell_type": "code",
   "execution_count": 11,
   "metadata": {},
   "outputs": [
    {
     "name": "stderr",
     "output_type": "stream",
     "text": [
      "MultipleFeaturizer:  25%|██▌       | 296/1181 [00:00<00:00, 1225.90it/s]/Users/AikRui/anaconda3/lib/python3.6/site-packages/scipy/stats/stats.py:305: RuntimeWarning:\n",
      "\n",
      "divide by zero encountered in log\n",
      "\n",
      "/Users/AikRui/anaconda3/lib/python3.6/site-packages/scipy/stats/stats.py:305: RuntimeWarning:\n",
      "\n",
      "divide by zero encountered in log\n",
      "\n",
      "/Users/AikRui/anaconda3/lib/python3.6/site-packages/scipy/stats/stats.py:305: RuntimeWarning:\n",
      "\n",
      "divide by zero encountered in log\n",
      "\n",
      "/Users/AikRui/anaconda3/lib/python3.6/site-packages/scipy/stats/stats.py:305: RuntimeWarning:\n",
      "\n",
      "divide by zero encountered in log\n",
      "\n",
      "MultipleFeaturizer: 100%|██████████| 1181/1181 [10:00<00:00,  1.97it/s] \n"
     ]
    }
   ],
   "source": [
    "ft = MultipleFeaturizer([\n",
    "    SiteStatsFingerprint.from_preset(\"Composition-dejong2016_AD\"), \n",
    "    SiteStatsFingerprint.from_preset(\"Composition-dejong2016_SD\"), \n",
    "    SiteStatsFingerprint.from_preset(\"BondLength-dejong2016\"), \n",
    "    SiteStatsFingerprint.from_preset(\"BondAngle-dejong2016\")\n",
    "])\n",
    "\n",
    "data = ft.featurize_dataframe(data, col_id='structure')"
   ]
  },
  {
   "cell_type": "markdown",
   "metadata": {},
   "source": [
    "#### Voronoi based site coordination number"
   ]
  },
  {
   "cell_type": "code",
   "execution_count": 14,
   "metadata": {},
   "outputs": [
    {
     "name": "stderr",
     "output_type": "stream",
     "text": [
      "SiteStatsFingerprint: 100%|██████████| 1181/1181 [03:47<00:00,  5.19it/s]\n"
     ]
    }
   ],
   "source": [
    "ft = SiteStatsFingerprint(CoordinationNumber(nn=VoronoiNN(weight='area')), \n",
    "        stats=['holder_mean::%d' % d for d in range(-4, 4 + 1)]\n",
    "                        + ['std_dev', 'geom_std_dev'])\n",
    "\n",
    "data = ft.featurize_dataframe(data, col_id='structure')"
   ]
  },
  {
   "cell_type": "code",
   "execution_count": 15,
   "metadata": {},
   "outputs": [
    {
     "name": "stdout",
     "output_type": "stream",
     "text": [
      "FINAL SHAPE OF DATA:  (1181, 195)\n"
     ]
    },
    {
     "data": {
      "text/html": [
       "<div>\n",
       "<style scoped>\n",
       "    .dataframe tbody tr th:only-of-type {\n",
       "        vertical-align: middle;\n",
       "    }\n",
       "\n",
       "    .dataframe tbody tr th {\n",
       "        vertical-align: top;\n",
       "    }\n",
       "\n",
       "    .dataframe thead th {\n",
       "        text-align: right;\n",
       "    }\n",
       "</style>\n",
       "<table border=\"1\" class=\"dataframe\">\n",
       "  <thead>\n",
       "    <tr style=\"text-align: right;\">\n",
       "      <th></th>\n",
       "      <th>material_id</th>\n",
       "      <th>volume</th>\n",
       "      <th>structure</th>\n",
       "      <th>elastic_anisotropy</th>\n",
       "      <th>G_VRH</th>\n",
       "      <th>K_VRH</th>\n",
       "      <th>poisson_ratio</th>\n",
       "      <th>composition</th>\n",
       "      <th>holder_mean::-4 group</th>\n",
       "      <th>holder_mean::-3 group</th>\n",
       "      <th>...</th>\n",
       "      <th>holder_mean::-3 CN_VoronoiNN</th>\n",
       "      <th>holder_mean::-2 CN_VoronoiNN</th>\n",
       "      <th>holder_mean::-1 CN_VoronoiNN</th>\n",
       "      <th>holder_mean::0 CN_VoronoiNN</th>\n",
       "      <th>holder_mean::1 CN_VoronoiNN</th>\n",
       "      <th>holder_mean::2 CN_VoronoiNN</th>\n",
       "      <th>holder_mean::3 CN_VoronoiNN</th>\n",
       "      <th>holder_mean::4 CN_VoronoiNN</th>\n",
       "      <th>std_dev CN_VoronoiNN</th>\n",
       "      <th>geom_std_dev CN_VoronoiNN</th>\n",
       "    </tr>\n",
       "  </thead>\n",
       "  <tbody>\n",
       "    <tr>\n",
       "      <th>0</th>\n",
       "      <td>mp-10003</td>\n",
       "      <td>194.419802</td>\n",
       "      <td>[[0.94814328 2.07280467 2.5112    ] Nb, [5.273...</td>\n",
       "      <td>0.030688</td>\n",
       "      <td>97.141604</td>\n",
       "      <td>194.268884</td>\n",
       "      <td>0.285701</td>\n",
       "      <td>(Nb, Co, Si)</td>\n",
       "      <td>5.495497</td>\n",
       "      <td>5.623652</td>\n",
       "      <td>...</td>\n",
       "      <td>12.350149</td>\n",
       "      <td>12.602521</td>\n",
       "      <td>12.857143</td>\n",
       "      <td>13.103707</td>\n",
       "      <td>13.333333</td>\n",
       "      <td>13.540064</td>\n",
       "      <td>13.721244</td>\n",
       "      <td>13.876971</td>\n",
       "      <td>2.357023</td>\n",
       "      <td>1.020127</td>\n",
       "    </tr>\n",
       "  </tbody>\n",
       "</table>\n",
       "<p>1 rows × 195 columns</p>\n",
       "</div>"
      ],
      "text/plain": [
       "  material_id      volume                                          structure  \\\n",
       "0    mp-10003  194.419802  [[0.94814328 2.07280467 2.5112    ] Nb, [5.273...   \n",
       "\n",
       "   elastic_anisotropy      G_VRH       K_VRH  poisson_ratio   composition  \\\n",
       "0            0.030688  97.141604  194.268884       0.285701  (Nb, Co, Si)   \n",
       "\n",
       "   holder_mean::-4 group  holder_mean::-3 group            ...              \\\n",
       "0               5.495497               5.623652            ...               \n",
       "\n",
       "   holder_mean::-3 CN_VoronoiNN  holder_mean::-2 CN_VoronoiNN  \\\n",
       "0                     12.350149                     12.602521   \n",
       "\n",
       "   holder_mean::-1 CN_VoronoiNN  holder_mean::0 CN_VoronoiNN  \\\n",
       "0                     12.857143                    13.103707   \n",
       "\n",
       "   holder_mean::1 CN_VoronoiNN  holder_mean::2 CN_VoronoiNN  \\\n",
       "0                    13.333333                    13.540064   \n",
       "\n",
       "   holder_mean::3 CN_VoronoiNN  holder_mean::4 CN_VoronoiNN  \\\n",
       "0                    13.721244                    13.876971   \n",
       "\n",
       "   std_dev CN_VoronoiNN  geom_std_dev CN_VoronoiNN  \n",
       "0              2.357023                   1.020127  \n",
       "\n",
       "[1 rows x 195 columns]"
      ]
     },
     "execution_count": 15,
     "metadata": {},
     "output_type": "execute_result"
    }
   ],
   "source": [
    "print (\"FINAL SHAPE OF DATA: \", data.shape)\n",
    "data.head(1)"
   ]
  },
  {
   "cell_type": "markdown",
   "metadata": {},
   "source": [
    "Save data as pickle file"
   ]
  },
  {
   "cell_type": "code",
   "execution_count": 16,
   "metadata": {},
   "outputs": [],
   "source": [
    "data.to_pickle('./dejong_featurized_data.pkl')"
   ]
  },
  {
   "cell_type": "code",
   "execution_count": null,
   "metadata": {},
   "outputs": [],
   "source": []
  }
 ],
 "metadata": {
  "kernelspec": {
   "display_name": "Python 3",
   "language": "python",
   "name": "python3"
  },
  "language_info": {
   "codemirror_mode": {
    "name": "ipython",
    "version": 3
   },
   "file_extension": ".py",
   "mimetype": "text/x-python",
   "name": "python",
   "nbconvert_exporter": "python",
   "pygments_lexer": "ipython3",
   "version": "3.6.4"
  }
 },
 "nbformat": 4,
 "nbformat_minor": 2
}
