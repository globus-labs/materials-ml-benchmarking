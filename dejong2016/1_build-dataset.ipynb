{
 "cells": [
  {
   "cell_type": "markdown",
   "metadata": {},
   "source": [
    "# Featurization of Elastic Tensor data \n",
    "\n",
    "We want to study the performance of model proposed in [De Jong's paper](https://www.nature.com/articles/srep34256). Here, features for elastic tensor data is added according to that as shown in the paper. Data is then saved as pickle file."
   ]
  },
  {
   "cell_type": "code",
   "execution_count": 1,
   "metadata": {},
   "outputs": [],
   "source": [
    "import numpy as np\n",
    "import pandas as pd\n",
    "import pymatgen as pmg\n",
    "\n",
    "from matminer.datasets.dataframe_loader import load_elastic_tensor\n",
    "from matminer.utils.conversions import str_to_composition\n",
    "\n",
    "from matminer.featurizers.composition import ElementProperty, CohesiveEnergy\n",
    "from matminer.featurizers.structure import SiteStatsFingerprint\n",
    "from matminer.featurizers.site import CoordinationNumber\n",
    "from matminer.featurizers.base import MultipleFeaturizer\n",
    "from pymatgen import MPRester\n",
    "from pymatgen.analysis.local_env import VoronoiNN\n",
    "\n",
    "key = 'T6QzrvW8J07u4L2O'"
   ]
  },
  {
   "cell_type": "markdown",
   "metadata": {},
   "source": [
    "Load data"
   ]
  },
  {
   "cell_type": "code",
   "execution_count": 2,
   "metadata": {},
   "outputs": [],
   "source": [
    "data = load_elastic_tensor()"
   ]
  },
  {
   "cell_type": "markdown",
   "metadata": {},
   "source": [
    "Compute composition object from formula provided"
   ]
  },
  {
   "cell_type": "code",
   "execution_count": 3,
   "metadata": {},
   "outputs": [],
   "source": [
    "data['composition'] = str_to_composition(data['formula'])"
   ]
  },
  {
   "cell_type": "markdown",
   "metadata": {},
   "source": [
    "Drop unnecessary data"
   ]
  },
  {
   "cell_type": "code",
   "execution_count": 4,
   "metadata": {},
   "outputs": [],
   "source": [
    "data = data.drop(['formula', 'nsites', 'space_group', \n",
    "               'G_Reuss', 'G_Voigt', 'K_Reuss', 'K_Voigt',\n",
    "               'compliance_tensor', 'elastic_tensor', 'elastic_tensor_original'], 1)"
   ]
  },
  {
   "cell_type": "markdown",
   "metadata": {},
   "source": [
    "## Compute features "
   ]
  },
  {
   "cell_type": "markdown",
   "metadata": {},
   "source": [
    "#### Holder Means of first 8 properties in Table 1 of De Jong et al. paper \n",
    "'group_number', 'atomic_mass', 'atomic_radius', 'row_number', 'boiling_temp', 'melting_temp', 'electronegativity', 'atomic_number'\n",
    "$$\\mu_p(x) = [\\frac{(\\Sigma^n_{i=1}w_ix_i^p)}{(\\Sigma^n_{i=1}w_i)}]^\\frac{1}{p}$$"
   ]
  },
  {
   "cell_type": "code",
   "execution_count": 5,
   "metadata": {
    "scrolled": true
   },
   "outputs": [
    {
     "name": "stderr",
     "output_type": "stream",
     "text": [
      "ElementProperty:   0%|          | 0/1181 [00:00<?, ?it/s]/Users/AikRui/anaconda3/lib/python3.6/site-packages/matminer/featurizers/utils/stats.py:234: RuntimeWarning:\n",
      "\n",
      "divide by zero encountered in double_scalars\n",
      "\n",
      "/Users/AikRui/anaconda3/lib/python3.6/site-packages/matminer/featurizers/utils/stats.py:236: RuntimeWarning:\n",
      "\n",
      "invalid value encountered in double_scalars\n",
      "\n",
      "/Users/AikRui/anaconda3/lib/python3.6/site-packages/matminer/featurizers/utils/stats.py:234: RuntimeWarning:\n",
      "\n",
      "divide by zero encountered in double_scalars\n",
      "\n",
      "/Users/AikRui/anaconda3/lib/python3.6/site-packages/matminer/featurizers/utils/stats.py:236: RuntimeWarning:\n",
      "\n",
      "invalid value encountered in double_scalars\n",
      "\n",
      "/Users/AikRui/anaconda3/lib/python3.6/site-packages/matminer/featurizers/utils/stats.py:234: RuntimeWarning:\n",
      "\n",
      "divide by zero encountered in double_scalars\n",
      "\n",
      "/Users/AikRui/anaconda3/lib/python3.6/site-packages/matminer/featurizers/utils/stats.py:236: RuntimeWarning:\n",
      "\n",
      "invalid value encountered in double_scalars\n",
      "\n",
      "/Users/AikRui/anaconda3/lib/python3.6/site-packages/matminer/featurizers/utils/stats.py:234: RuntimeWarning:\n",
      "\n",
      "divide by zero encountered in double_scalars\n",
      "\n",
      "/Users/AikRui/anaconda3/lib/python3.6/site-packages/matminer/featurizers/utils/stats.py:236: RuntimeWarning:\n",
      "\n",
      "invalid value encountered in double_scalars\n",
      "\n",
      "ElementProperty: 100%|██████████| 1181/1181 [00:01<00:00, 799.69it/s]\n"
     ]
    }
   ],
   "source": [
    "ef = ElementProperty(data_source='pymatgen', \n",
    "                    features=['group', 'atomic_mass', 'atomic_radius', 'row',\n",
    "                              'boiling_point', 'melting_point', 'X', 'Z'],  \n",
    "                    stats=['holder_mean::%d'%d for d in range(-4, 4+1)] + ['geom_std_dev', 'std_dev'])\n",
    "data = ef.featurize_dataframe(data, col_id='composition')"
   ]
  },
  {
   "cell_type": "markdown",
   "metadata": {},
   "source": [
    "#### Cohesive Energy "
   ]
  },
  {
   "cell_type": "code",
   "execution_count": 6,
   "metadata": {},
   "outputs": [
    {
     "name": "stderr",
     "output_type": "stream",
     "text": [
      "CohesiveEnergy: 100%|██████████| 1181/1181 [01:01<00:00, 19.29it/s]\n"
     ]
    },
    {
     "name": "stdout",
     "output_type": "stream",
     "text": [
      "CPU times: user 139 ms, sys: 89.2 ms, total: 229 ms\n",
      "Wall time: 1min 55s\n"
     ]
    }
   ],
   "source": [
    "%%time\n",
    "ft = CohesiveEnergy(mapi_key=key)\n",
    "\n",
    "data = ft.featurize_dataframe(data, col_id='composition', ignore_errors=True)"
   ]
  },
  {
   "cell_type": "markdown",
   "metadata": {},
   "source": [
    "#### Formation energy per atom, Energy above hull, band gap, density "
   ]
  },
  {
   "cell_type": "code",
   "execution_count": null,
   "metadata": {},
   "outputs": [],
   "source": [
    "mpr = MPRester(api_key=key)"
   ]
  },
  {
   "cell_type": "code",
   "execution_count": null,
   "metadata": {
    "scrolled": false
   },
   "outputs": [],
   "source": [
    "%%time\n",
    "data['formation_energy_per_atom'], data['e_above_hull'], data['band_gap'], data['density'] = np.nan, np.nan, np.nan, np.nan\n",
    "for idx, n in enumerate(data['material_id']):\n",
    "    ls = mpr.get_data(n)\n",
    "    try:\n",
    "        data['formation_energy_per_atom'][idx] = ls[0]['formation_energy_per_atom']\n",
    "        data['e_above_hull'][idx] = ls[0]['e_above_hull']\n",
    "        data['band_gap'][idx] = ls[0]['band_gap']\n",
    "        data['density'][idx] = ls[0]['density']\n",
    "    except:\n",
    "        pass"
   ]
  },
  {
   "cell_type": "markdown",
   "metadata": {},
   "source": [
    "#### log (V) per atom "
   ]
  },
  {
   "cell_type": "code",
   "execution_count": null,
   "metadata": {},
   "outputs": [],
   "source": [
    "def compute_log_volume(x):\n",
    "    return np.log(x['volume']/x['composition'].num_atoms)"
   ]
  },
  {
   "cell_type": "code",
   "execution_count": null,
   "metadata": {},
   "outputs": [],
   "source": [
    "data['log volume per atom'] = data.apply(compute_log_volume, axis=1)"
   ]
  },
  {
   "cell_type": "markdown",
   "metadata": {},
   "source": [
    "#### Voronoi-based average bond length, bond angles and mean AD and SD of composition features"
   ]
  },
  {
   "cell_type": "code",
   "execution_count": null,
   "metadata": {},
   "outputs": [],
   "source": [
    "ft = MultipleFeaturizer([\n",
    "    SiteStatsFingerprint.from_preset(\"Composition-dejong2016_AD\"), \n",
    "    SiteStatsFingerprint.from_preset(\"Composition-dejong2016_SD\"), \n",
    "    SiteStatsFingerprint.from_preset(\"BondLength-dejong2016\"), \n",
    "    SiteStatsFingerprint.from_preset(\"BondAngle-dejong2016\")\n",
    "])\n",
    "\n",
    "data = ft.featurize_dataframe(data, col_id='structure')"
   ]
  },
  {
   "cell_type": "markdown",
   "metadata": {},
   "source": [
    "#### Voronoi based site coordination number"
   ]
  },
  {
   "cell_type": "code",
   "execution_count": null,
   "metadata": {},
   "outputs": [],
   "source": [
    "ft = SiteStatsFingerprint(CoordinationNumber(nn=VoronoiNN(weight='area')), \n",
    "        stats=['holder_mean::%d' % d for d in range(-4, 4 + 1)]\n",
    "                        + ['std_dev', 'geom_std_dev'])\n",
    "\n",
    "data = ft.featurize_dataframe(data, col_id='structure')"
   ]
  },
  {
   "cell_type": "code",
   "execution_count": null,
   "metadata": {},
   "outputs": [],
   "source": [
    "print (\"FINAL SHAPE OF DATA: \", data.shape)\n",
    "data.head(1)"
   ]
  },
  {
   "cell_type": "markdown",
   "metadata": {},
   "source": [
    "Save data as pickle file"
   ]
  },
  {
   "cell_type": "code",
   "execution_count": null,
   "metadata": {},
   "outputs": [],
   "source": [
    "data.to_pickle('./dejong_featurized_data.pkl')"
   ]
  },
  {
   "cell_type": "code",
   "execution_count": null,
   "metadata": {},
   "outputs": [],
   "source": []
  }
 ],
 "metadata": {
  "kernelspec": {
   "display_name": "Python 3",
   "language": "python",
   "name": "python3"
  },
  "language_info": {
   "codemirror_mode": {
    "name": "ipython",
    "version": 3
   },
   "file_extension": ".py",
   "mimetype": "text/x-python",
   "name": "python",
   "nbconvert_exporter": "python",
   "pygments_lexer": "ipython3",
   "version": "3.6.4"
  }
 },
 "nbformat": 4,
 "nbformat_minor": 2
}
