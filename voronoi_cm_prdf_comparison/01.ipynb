{
 "cells": [
  {
   "cell_type": "markdown",
   "metadata": {},
   "source": [
    "#  Computation of crystal structure representations \n",
    "\n",
    "We try to recreate the performance comparison of several different crystal structure representations, including Coulomb Matrix (CM), PartialRadialDistributionFunction (PRDF) and the Voronoi tessellation features, as shown in [Ward et al's paper](https://journals.aps.org/prb/abstract/10.1103/PhysRevB.96.024104). We will also compare their performance on two machine learning algorithm, Kernel Ridge Regression (KRR) and Random Forest Regression (RF).\n",
    "\n",
    "Here, in this particular notebook, the data is featurized and saved to pickle files. <br>NOTE: Featurization takes ~2 - 3 CPU hours to run."
   ]
  },
  {
   "cell_type": "code",
   "execution_count": 2,
   "metadata": {},
   "outputs": [],
   "source": [
    "import numpy as np\n",
    "import pandas as pd\n",
    "import os\n",
    "import pickle\n",
    "\n",
    "from matminer.featurizers.base import MultipleFeaturizer\n",
    "from matminer.featurizers.composition import ElementProperty, Stoichiometry, ValenceOrbital, IonProperty\n",
    "from matminer.featurizers.structure import SiteStatsFingerprint, StructuralHeterogeneity, ChemicalOrdering, StructureComposition, CoulombMatrix, PartialRadialDistributionFunction \n",
    "from matminer.featurizers.structure import MaximumPackingEfficiency"
   ]
  },
  {
   "cell_type": "markdown",
   "metadata": {},
   "source": [
    "Load data"
   ]
  },
  {
   "cell_type": "code",
   "execution_count": 3,
   "metadata": {},
   "outputs": [
    {
     "name": "stdout",
     "output_type": "stream",
     "text": [
      "CPU times: user 9.45 s, sys: 914 ms, total: 10.4 s\n",
      "Wall time: 10.5 s\n"
     ]
    }
   ],
   "source": [
    "%%time\n",
    "data = pd.read_pickle(\"./oqmd_icsd_subset.pkl\")"
   ]
  },
  {
   "cell_type": "markdown",
   "metadata": {},
   "source": [
    "Drop data without formation enthalpy value"
   ]
  },
  {
   "cell_type": "code",
   "execution_count": 4,
   "metadata": {},
   "outputs": [],
   "source": [
    "data.dropna(subset=['delta_e'], inplace=True)"
   ]
  },
  {
   "cell_type": "code",
   "execution_count": 5,
   "metadata": {},
   "outputs": [
    {
     "name": "stdout",
     "output_type": "stream",
     "text": [
      "Shape of data:  (31163, 11)\n"
     ]
    },
    {
     "data": {
      "text/html": [
       "<div>\n",
       "<style scoped>\n",
       "    .dataframe tbody tr th:only-of-type {\n",
       "        vertical-align: middle;\n",
       "    }\n",
       "\n",
       "    .dataframe tbody tr th {\n",
       "        vertical-align: top;\n",
       "    }\n",
       "\n",
       "    .dataframe thead th {\n",
       "        text-align: right;\n",
       "    }\n",
       "</style>\n",
       "<table border=\"1\" class=\"dataframe\">\n",
       "  <thead>\n",
       "    <tr style=\"text-align: right;\">\n",
       "      <th></th>\n",
       "      <th>index</th>\n",
       "      <th>band_gap</th>\n",
       "      <th>delta_e</th>\n",
       "      <th>magnetic_moment</th>\n",
       "      <th>path</th>\n",
       "      <th>stability</th>\n",
       "      <th>structure</th>\n",
       "      <th>total_energy</th>\n",
       "      <th>volume_pa</th>\n",
       "      <th>structure_obj</th>\n",
       "      <th>composition</th>\n",
       "      <th>is_ICSD</th>\n",
       "    </tr>\n",
       "  </thead>\n",
       "  <tbody>\n",
       "    <tr>\n",
       "      <th>0</th>\n",
       "      <td>234975</td>\n",
       "      <td>3.879</td>\n",
       "      <td>-3.579764</td>\n",
       "      <td>-0.000032</td>\n",
       "      <td>/home/oqmd/libraries/icsd/31750/static</td>\n",
       "      <td>-1.0848</td>\n",
       "      <td>Ac O\\n 1.0\\n4.067812 -0.000030 0.000026\\n-2.03...</td>\n",
       "      <td>-7.936143</td>\n",
       "      <td>17.988</td>\n",
       "      <td>[[5.0000001e-05 2.3486100e+00 1.5314600e+00] A...</td>\n",
       "      <td>Ac2O3</td>\n",
       "      <td>True</td>\n",
       "    </tr>\n",
       "  </tbody>\n",
       "</table>\n",
       "</div>"
      ],
      "text/plain": [
       "    index  band_gap   delta_e  magnetic_moment  \\\n",
       "0  234975     3.879 -3.579764        -0.000032   \n",
       "\n",
       "                                     path  stability  \\\n",
       "0  /home/oqmd/libraries/icsd/31750/static    -1.0848   \n",
       "\n",
       "                                           structure  total_energy  volume_pa  \\\n",
       "0  Ac O\\n 1.0\\n4.067812 -0.000030 0.000026\\n-2.03...     -7.936143     17.988   \n",
       "\n",
       "                                       structure_obj composition  is_ICSD  \n",
       "0  [[5.0000001e-05 2.3486100e+00 1.5314600e+00] A...       Ac2O3     True  "
      ]
     },
     "execution_count": 5,
     "metadata": {},
     "output_type": "execute_result"
    }
   ],
   "source": [
    "print (\"Shape of data: \", data.shape)\n",
    "data.reset_index(inplace=True)\n",
    "data.head(1)"
   ]
  },
  {
   "cell_type": "markdown",
   "metadata": {},
   "source": [
    "## Create featurizer\n",
    "Here we featurize data with Coulomb Matrix (CM), PartialRadialDistributionFunction (PRDF) and Voronoi tessellation features used in Ward et al (2017)."
   ]
  },
  {
   "cell_type": "markdown",
   "metadata": {},
   "source": [
    "### 1) Voronoi tessellation features (Ward et al 2017) "
   ]
  },
  {
   "cell_type": "code",
   "execution_count": 11,
   "metadata": {},
   "outputs": [],
   "source": [
    "ward = MultipleFeaturizer([\n",
    "    SiteStatsFingerprint.from_preset(\"CoordinationNumber_ward-prb-2017\"),\n",
    "    StructuralHeterogeneity(),\n",
    "    ChemicalOrdering(),\n",
    "    MaximumPackingEfficiency(),\n",
    "    SiteStatsFingerprint.from_preset(\"LocalPropertyDifference_ward-prb-2017\"),\n",
    "    StructureComposition(Stoichiometry()),\n",
    "    StructureComposition(ElementProperty.from_preset(\"magpie\")),\n",
    "    StructureComposition(ValenceOrbital(props=['frac'])),\n",
    "    StructureComposition(IonProperty(fast=True))\n",
    "])"
   ]
  },
  {
   "cell_type": "code",
   "execution_count": 12,
   "metadata": {},
   "outputs": [
    {
     "name": "stdout",
     "output_type": "stream",
     "text": [
      "Total number of Ward features: 273\n"
     ]
    }
   ],
   "source": [
    "print (\"Total number of Ward features:\", len(ward.featurize(data['structure_obj'][0])))"
   ]
  },
  {
   "cell_type": "code",
   "execution_count": 13,
   "metadata": {},
   "outputs": [
    {
     "name": "stdout",
     "output_type": "stream",
     "text": [
      "CPU times: user 36.9 ms, sys: 73.7 ms, total: 111 ms\n",
      "Wall time: 2.85 s\n"
     ]
    }
   ],
   "source": [
    "%%time\n",
    "X_ward = ward.featurize_many(data['structure_obj'], ignore_errors=True)"
   ]
  },
  {
   "cell_type": "markdown",
   "metadata": {},
   "source": [
    "Save Voronoi tessellation featurized data"
   ]
  },
  {
   "cell_type": "code",
   "execution_count": null,
   "metadata": {},
   "outputs": [],
   "source": [
    "with open (\"X_ward.pkl\", \"wb\") as handle:\n",
    "    pickle.dump(X_ward, handle, protocol=pickle.HIGHEST_PROTOCOL)"
   ]
  },
  {
   "cell_type": "markdown",
   "metadata": {},
   "source": [
    "### 2) Coulomb Matrix features"
   ]
  },
  {
   "cell_type": "code",
   "execution_count": null,
   "metadata": {},
   "outputs": [],
   "source": [
    "%%time\n",
    "cm = CoulombMatrix()\n",
    "X_cm = cm.featurize_dataframe(data, col_id='structure_obj')"
   ]
  },
  {
   "cell_type": "markdown",
   "metadata": {},
   "source": [
    "Save Coulomb Matrix featurized data"
   ]
  },
  {
   "cell_type": "code",
   "execution_count": null,
   "metadata": {},
   "outputs": [],
   "source": [
    "with open (\"X_cm.pkl\", \"wb\") as handle:\n",
    "    pickle.dump(X_cm, handle, protocol=pickle.HIGHEST_PROTOCOL)"
   ]
  },
  {
   "cell_type": "markdown",
   "metadata": {},
   "source": [
    "### 3) PRDF features"
   ]
  },
  {
   "cell_type": "code",
   "execution_count": null,
   "metadata": {},
   "outputs": [],
   "source": [
    "%%time\n",
    "prdf = PartialRadialDistributionFunction(cutoff=16.0, bin_size=3.0)\n",
    "prdf.fit(data['structure_obj'])\n",
    "X_prdf = prdf.featurize_many(data['structure_obj'], ignore_error=True)"
   ]
  },
  {
   "cell_type": "markdown",
   "metadata": {},
   "source": [
    "Save PRDF featurized data"
   ]
  },
  {
   "cell_type": "code",
   "execution_count": null,
   "metadata": {},
   "outputs": [],
   "source": [
    "with open (\"X_prdf.pkl\", \"wb\") as handle:\n",
    "    pickle.dump(X_prdf, handle, protocol=pickle.HIGHEST_PROTOCOL)"
   ]
  }
 ],
 "metadata": {
  "kernelspec": {
   "display_name": "Python 3",
   "language": "python",
   "name": "python3"
  },
  "language_info": {
   "codemirror_mode": {
    "name": "ipython",
    "version": 3
   },
   "file_extension": ".py",
   "mimetype": "text/x-python",
   "name": "python",
   "nbconvert_exporter": "python",
   "pygments_lexer": "ipython3",
   "version": "3.6.4"
  }
 },
 "nbformat": 4,
 "nbformat_minor": 2
}
