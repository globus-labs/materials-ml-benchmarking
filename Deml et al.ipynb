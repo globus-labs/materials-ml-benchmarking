{
 "cells": [
  {
   "cell_type": "markdown",
   "metadata": {},
   "source": [
    "## Predicting total energies and enthalpies of formation of metal-nonmetal compounds by linear regression "
   ]
  },
  {
   "cell_type": "markdown",
   "metadata": {},
   "source": [
    "Here, we want to study the accuracy and time used to predict variable dataset sizes using the featurizations and algorithms used in [Deml et al paper](https://journals.aps.org/prb/pdf/10.1103/PhysRevB.93.085142)\n",
    "\n",
    "Referred to `matminer_examples/notebooks/machine-learning/predicting-formation-enthalpy-from-composition.ipynb `"
   ]
  },
  {
   "cell_type": "code",
   "execution_count": 397,
   "metadata": {},
   "outputs": [],
   "source": [
    "%matplotlib inline\n",
    "import numpy as np\n",
    "import pandas as pd\n",
    "import matplotlib.pyplot as plt\n",
    "\n",
    "from mdf_forge.forge import Forge\n",
    "\n",
    "from matminer.data_retrieval.retrieve_MDF import MDFDataRetrieval\n",
    "from matminer.utils.conversions import str_to_composition\n",
    "from matminer.featurizers.base import MultipleFeaturizer\n",
    "from matminer.featurizers import composition as cf\n",
    "\n",
    "from sklearn.utils import shuffle\n",
    "from sklearn.linear_model import LinearRegression\n",
    "from sklearn.feature_selection import RFE\n",
    "from sklearn.model_selection import cross_val_predict, KFold\n",
    "from sklearn import metrics\n",
    "\n",
    "from matplotlib.colors import LogNorm"
   ]
  },
  {
   "cell_type": "markdown",
   "metadata": {},
   "source": [
    "### Load Training Set "
   ]
  },
  {
   "cell_type": "markdown",
   "metadata": {},
   "source": [
    "Importing OQMD data (fully ordered ionic compounds with cations from groups 1-14 and anions from groups 15-17)"
   ]
  },
  {
   "cell_type": "code",
   "execution_count": 2,
   "metadata": {},
   "outputs": [],
   "source": [
    "mdf = MDFDataRetrieval(anonymous=True)"
   ]
  },
  {
   "cell_type": "code",
   "execution_count": 3,
   "metadata": {},
   "outputs": [
    {
     "name": "stdout",
     "output_type": "stream",
     "text": [
      "Current version of OQMD: 9\n"
     ]
    }
   ],
   "source": [
    "oqmd_version = mdf.forge.get_dataset_version('oqmd')\n",
    "print ('Current version of OQMD:', oqmd_version)"
   ]
  },
  {
   "cell_type": "markdown",
   "metadata": {},
   "source": [
    "Run a faster version of demo"
   ]
  },
  {
   "cell_type": "code",
   "execution_count": 54,
   "metadata": {},
   "outputs": [],
   "source": [
    "quick_demo = False"
   ]
  },
  {
   "cell_type": "markdown",
   "metadata": {},
   "source": [
    "Query that gets only the converged static calculations from the OQMD."
   ]
  },
  {
   "cell_type": "code",
   "execution_count": 55,
   "metadata": {},
   "outputs": [],
   "source": [
    "query_string = 'mdf.source_name:oqmd_v{0} AND (oqmd_v{0}.configuration:static OR'\\\n",
    "    'oqmd_v{0}.configuration:standard) AND dft.converged:True'.format(oqmd_version)\n",
    "if quick_demo:\n",
    "    query_string += \" AND mdf.scroll_id:<10000\""
   ]
  },
  {
   "cell_type": "code",
   "execution_count": 56,
   "metadata": {},
   "outputs": [
    {
     "name": "stderr",
     "output_type": "stream",
     "text": [
      "100%|██████████| 119440/119440 [03:27<00:00, 586.53it/s]\n"
     ]
    }
   ],
   "source": [
    "orig_data = mdf.get_data(query_string, unwind_arrays=False)"
   ]
  },
  {
   "cell_type": "code",
   "execution_count": 401,
   "metadata": {},
   "outputs": [
    {
     "name": "stdout",
     "output_type": "stream",
     "text": [
      "Shape of data: (119440, 29)\n"
     ]
    },
    {
     "data": {
      "text/html": [
       "<div>\n",
       "<style scoped>\n",
       "    .dataframe tbody tr th:only-of-type {\n",
       "        vertical-align: middle;\n",
       "    }\n",
       "\n",
       "    .dataframe tbody tr th {\n",
       "        vertical-align: top;\n",
       "    }\n",
       "\n",
       "    .dataframe thead th {\n",
       "        text-align: right;\n",
       "    }\n",
       "</style>\n",
       "<table border=\"1\" class=\"dataframe\">\n",
       "  <thead>\n",
       "    <tr style=\"text-align: right;\">\n",
       "      <th></th>\n",
       "      <th>crystal_structure.cross_reference.icsd</th>\n",
       "      <th>crystal_structure.number_of_atoms</th>\n",
       "      <th>crystal_structure.space_group_number</th>\n",
       "      <th>crystal_structure.volume</th>\n",
       "      <th>dft.converged</th>\n",
       "      <th>dft.cutoff_energy</th>\n",
       "      <th>dft.exchange_correlation_functional</th>\n",
       "      <th>files</th>\n",
       "      <th>material.composition</th>\n",
       "      <th>material.elements</th>\n",
       "      <th>...</th>\n",
       "      <th>oqmd_v9.delta_e.units</th>\n",
       "      <th>oqmd_v9.delta_e.value</th>\n",
       "      <th>oqmd_v9.magnetic_moment.units</th>\n",
       "      <th>oqmd_v9.magnetic_moment.value</th>\n",
       "      <th>oqmd_v9.stability.units</th>\n",
       "      <th>oqmd_v9.stability.value</th>\n",
       "      <th>oqmd_v9.total_energy.units</th>\n",
       "      <th>oqmd_v9.total_energy.value</th>\n",
       "      <th>oqmd_v9.volume_pa.units</th>\n",
       "      <th>oqmd_v9.volume_pa.value</th>\n",
       "    </tr>\n",
       "  </thead>\n",
       "  <tbody>\n",
       "    <tr>\n",
       "      <th>0</th>\n",
       "      <td>53549.0</td>\n",
       "      <td>40</td>\n",
       "      <td>128</td>\n",
       "      <td>589.171</td>\n",
       "      <td>True</td>\n",
       "      <td>520.0</td>\n",
       "      <td>PBE</td>\n",
       "      <td>[{'data_type': 'ASCII text, with very long lin...</td>\n",
       "      <td>Fe3Si5Tb2</td>\n",
       "      <td>[Si, Tb, Fe]</td>\n",
       "      <td>...</td>\n",
       "      <td>eV/atom</td>\n",
       "      <td>-0.562432</td>\n",
       "      <td>bohr/atom</td>\n",
       "      <td>-0.000013</td>\n",
       "      <td>eV/atom</td>\n",
       "      <td>-0.053557</td>\n",
       "      <td>eV/atom</td>\n",
       "      <td>-6.824799</td>\n",
       "      <td>angstrom^3/atom</td>\n",
       "      <td>14.7293</td>\n",
       "    </tr>\n",
       "    <tr>\n",
       "      <th>1</th>\n",
       "      <td>NaN</td>\n",
       "      <td>20</td>\n",
       "      <td>62</td>\n",
       "      <td>287.123</td>\n",
       "      <td>True</td>\n",
       "      <td>520.0</td>\n",
       "      <td>PBE</td>\n",
       "      <td>[{'data_type': 'ASCII text, with very long lin...</td>\n",
       "      <td>Eu1Hf1O3</td>\n",
       "      <td>[O, Eu, Hf]</td>\n",
       "      <td>...</td>\n",
       "      <td>eV/atom</td>\n",
       "      <td>-3.496983</td>\n",
       "      <td>bohr/atom</td>\n",
       "      <td>0.000070</td>\n",
       "      <td>eV/atom</td>\n",
       "      <td>0.347291</td>\n",
       "      <td>eV/atom</td>\n",
       "      <td>-8.579549</td>\n",
       "      <td>angstrom^3/atom</td>\n",
       "      <td>14.3562</td>\n",
       "    </tr>\n",
       "  </tbody>\n",
       "</table>\n",
       "<p>2 rows × 29 columns</p>\n",
       "</div>"
      ],
      "text/plain": [
       "   crystal_structure.cross_reference.icsd  crystal_structure.number_of_atoms  \\\n",
       "0                                 53549.0                                 40   \n",
       "1                                     NaN                                 20   \n",
       "\n",
       "   crystal_structure.space_group_number  crystal_structure.volume  \\\n",
       "0                                   128                   589.171   \n",
       "1                                    62                   287.123   \n",
       "\n",
       "   dft.converged  dft.cutoff_energy dft.exchange_correlation_functional  \\\n",
       "0           True              520.0                                 PBE   \n",
       "1           True              520.0                                 PBE   \n",
       "\n",
       "                                               files material.composition  \\\n",
       "0  [{'data_type': 'ASCII text, with very long lin...            Fe3Si5Tb2   \n",
       "1  [{'data_type': 'ASCII text, with very long lin...             Eu1Hf1O3   \n",
       "\n",
       "  material.elements           ...           oqmd_v9.delta_e.units  \\\n",
       "0      [Si, Tb, Fe]           ...                         eV/atom   \n",
       "1       [O, Eu, Hf]           ...                         eV/atom   \n",
       "\n",
       "  oqmd_v9.delta_e.value oqmd_v9.magnetic_moment.units  \\\n",
       "0             -0.562432                     bohr/atom   \n",
       "1             -3.496983                     bohr/atom   \n",
       "\n",
       "  oqmd_v9.magnetic_moment.value  oqmd_v9.stability.units  \\\n",
       "0                     -0.000013                  eV/atom   \n",
       "1                      0.000070                  eV/atom   \n",
       "\n",
       "  oqmd_v9.stability.value oqmd_v9.total_energy.units  \\\n",
       "0               -0.053557                    eV/atom   \n",
       "1                0.347291                    eV/atom   \n",
       "\n",
       "   oqmd_v9.total_energy.value oqmd_v9.volume_pa.units oqmd_v9.volume_pa.value  \n",
       "0                   -6.824799         angstrom^3/atom                 14.7293  \n",
       "1                   -8.579549         angstrom^3/atom                 14.3562  \n",
       "\n",
       "[2 rows x 29 columns]"
      ]
     },
     "execution_count": 401,
     "metadata": {},
     "output_type": "execute_result"
    }
   ],
   "source": [
    "print (\"Shape of data:\", orig_data.shape)\n",
    "orig_data.head(2)"
   ]
  },
  {
   "cell_type": "markdown",
   "metadata": {},
   "source": [
    "We only need two columns: `total_energy` and `material.composition`."
   ]
  },
  {
   "cell_type": "code",
   "execution_count": 421,
   "metadata": {},
   "outputs": [],
   "source": [
    "data = orig_data[['oqmd_v{}.total_energy.value'.format(oqmd_version), 'material.composition']]"
   ]
  },
  {
   "cell_type": "code",
   "execution_count": 422,
   "metadata": {},
   "outputs": [],
   "source": [
    "data = data.rename(columns={'oqmd_v{}.total_energy.value'.format(oqmd_version): 'total_energy', 'material.composition':'composition'})"
   ]
  },
  {
   "cell_type": "markdown",
   "metadata": {},
   "source": [
    "### Compile Training Set "
   ]
  },
  {
   "cell_type": "markdown",
   "metadata": {},
   "source": [
    "Get only the lower-energy entry for each composition."
   ]
  },
  {
   "cell_type": "code",
   "execution_count": 423,
   "metadata": {},
   "outputs": [],
   "source": [
    "data['composition_obj'] = str_to_composition(data['composition'])"
   ]
  },
  {
   "cell_type": "markdown",
   "metadata": {},
   "source": [
    "Remove compounds without `total_energy` measurement."
   ]
  },
  {
   "cell_type": "code",
   "execution_count": 424,
   "metadata": {},
   "outputs": [],
   "source": [
    "data = data.dropna(subset=['total_energy']).reset_index(drop=True)"
   ]
  },
  {
   "cell_type": "markdown",
   "metadata": {},
   "source": [
    "Get only the groundstate and each composition"
   ]
  },
  {
   "cell_type": "code",
   "execution_count": 425,
   "metadata": {
    "scrolled": false
   },
   "outputs": [
    {
     "name": "stderr",
     "output_type": "stream",
     "text": [
      "/Users/AikRui/anaconda3/lib/python3.6/site-packages/pymatgen/core/periodic_table.py:409: UserWarning:\n",
      "\n",
      "No electronegativity for Ne. Setting to NaN. This has no physical meaning, and is mainly done to avoid errors caused by the code expecting a float.\n",
      "\n",
      "/Users/AikRui/anaconda3/lib/python3.6/site-packages/pymatgen/core/periodic_table.py:409: UserWarning:\n",
      "\n",
      "No electronegativity for He. Setting to NaN. This has no physical meaning, and is mainly done to avoid errors caused by the code expecting a float.\n",
      "\n",
      "/Users/AikRui/anaconda3/lib/python3.6/site-packages/pymatgen/core/periodic_table.py:409: UserWarning:\n",
      "\n",
      "No electronegativity for Ar. Setting to NaN. This has no physical meaning, and is mainly done to avoid errors caused by the code expecting a float.\n",
      "\n"
     ]
    },
    {
     "name": "stdout",
     "output_type": "stream",
     "text": [
      "Removed 44840/119440 entries\n",
      "CPU times: user 8.12 s, sys: 50.7 ms, total: 8.17 s\n",
      "Wall time: 8.22 s\n"
     ]
    }
   ],
   "source": [
    "%%time\n",
    "original_count = len(data)\n",
    "data['mdf.composition'] = data['composition_obj'].apply(lambda x: x.reduced_formula)\n",
    "data.drop_duplicates('mdf.composition', keep='first', inplace=True)\n",
    "print('Removed %d/%d entries'%(original_count - len(data), original_count))"
   ]
  },
  {
   "cell_type": "markdown",
   "metadata": {},
   "source": [
    "Remove outliers"
   ]
  },
  {
   "cell_type": "code",
   "execution_count": 426,
   "metadata": {},
   "outputs": [
    {
     "name": "stdout",
     "output_type": "stream",
     "text": [
      "Removed 11/74600 entries\n"
     ]
    }
   ],
   "source": [
    "original_count = len(data)\n",
    "data = data[np.logical_and(data['total_energy'] >= -20, data['total_energy'] <= 5)].reset_index(drop=True)\n",
    "print('Removed %d/%d entries'%(original_count - len(data), original_count))"
   ]
  },
  {
   "cell_type": "markdown",
   "metadata": {},
   "source": [
    "Remove elements which are not used to develop model in the paper"
   ]
  },
  {
   "cell_type": "code",
   "execution_count": 427,
   "metadata": {},
   "outputs": [
    {
     "name": "stdout",
     "output_type": "stream",
     "text": [
      "Removed 67627/74589 entries\n",
      "CPU times: user 10min 50s, sys: 1min 20s, total: 12min 11s\n",
      "Wall time: 12min 29s\n"
     ]
    }
   ],
   "source": [
    "%%time\n",
    "el = ['H', 'Li', 'B', 'C', 'He', 'Ne', 'Ar', \n",
    "      'Br', 'Kr', 'I', 'Xe', 'Po', 'At', 'Rn', 'Tl', \n",
    "      'Cs', 'Tc', 'Ru', 'Rh', 'Pd', 'Ta', 'W', 'Re', \n",
    "      'Os', 'Ir', 'Pt', 'Pu', 'Ac', 'Np', 'U', 'Th', \n",
    "      'La', 'Ce', 'Pr', 'Nd', 'Pm', 'Sm', 'Eu', 'Gd',\n",
    "      'Tb', 'Dy', 'Ho', 'Er', 'Tm', 'Yb', 'Lu', 'Pa', \n",
    "      'Am', 'Cm', 'Bk', 'Cf', 'Es', 'Fm', 'Md', 'No', \n",
    "      'Lr',\n",
    "      'Be', 'Pb', 'Mo']\n",
    "\n",
    "original_count = len(data)\n",
    "for i in range(data['composition'].shape[0]):\n",
    "    if any (word in data['composition'][i] for word in el):\n",
    "        data = data.drop([i, i]) # drop a row by index\n",
    "data = data.reset_index(drop=True)\n",
    "print('Removed %d/%d entries'%(original_count - len(data), original_count))"
   ]
  },
  {
   "cell_type": "code",
   "execution_count": 428,
   "metadata": {},
   "outputs": [
    {
     "name": "stdout",
     "output_type": "stream",
     "text": [
      "Final shape of data: (6962, 4)\n"
     ]
    }
   ],
   "source": [
    "print (\"Final shape of data:\", data.shape)"
   ]
  },
  {
   "cell_type": "markdown",
   "metadata": {},
   "source": [
    "**Note**: Size of our data is larger than the one used in the paper."
   ]
  },
  {
   "cell_type": "markdown",
   "metadata": {},
   "source": [
    "## Build an ML model"
   ]
  },
  {
   "cell_type": "markdown",
   "metadata": {},
   "source": [
    "### Part 1: Compute Representation "
   ]
  },
  {
   "cell_type": "markdown",
   "metadata": {},
   "source": [
    "Convert our raw materials data into the required input for an ML model: a finite list of quantitative attributes. In this case, we use the attributes as shown in [Deml et al 2016](https://journals.aps.org/prb/pdf/10.1103/PhysRevB.93.085142)."
   ]
  },
  {
   "cell_type": "code",
   "execution_count": 438,
   "metadata": {},
   "outputs": [
    {
     "name": "stdout",
     "output_type": "stream",
     "text": [
      "CPU times: user 436 ms, sys: 156 ms, total: 592 ms\n",
      "Wall time: 1.28 s\n"
     ]
    }
   ],
   "source": [
    "%%time\n",
    "ft = MultipleFeaturizer([cf.ElementProperty.from_preset('deml'), \n",
    "#                          cf.CationProperty.from_preset('deml'),\n",
    "#                          cf.OxidationStates.from_preset('deml'),\n",
    "                         cf.TMetalFraction(),\n",
    "#                          cf.ElectronegativityDiff(),\n",
    "                         cf.ValenceOrbital()])\n",
    "data = ft.featurize_dataframe(data, col_id='composition_obj')"
   ]
  },
  {
   "cell_type": "code",
   "execution_count": 439,
   "metadata": {},
   "outputs": [
    {
     "name": "stdout",
     "output_type": "stream",
     "text": [
      "Shape of featurized data:  (6962, 93)\n"
     ]
    },
    {
     "data": {
      "text/html": [
       "<div>\n",
       "<style scoped>\n",
       "    .dataframe tbody tr th:only-of-type {\n",
       "        vertical-align: middle;\n",
       "    }\n",
       "\n",
       "    .dataframe tbody tr th {\n",
       "        vertical-align: top;\n",
       "    }\n",
       "\n",
       "    .dataframe thead th {\n",
       "        text-align: right;\n",
       "    }\n",
       "</style>\n",
       "<table border=\"1\" class=\"dataframe\">\n",
       "  <thead>\n",
       "    <tr style=\"text-align: right;\">\n",
       "      <th></th>\n",
       "      <th>total_energy</th>\n",
       "      <th>composition</th>\n",
       "      <th>composition_obj</th>\n",
       "      <th>mdf.composition</th>\n",
       "      <th>minimum atom_num</th>\n",
       "      <th>maximum atom_num</th>\n",
       "      <th>range atom_num</th>\n",
       "      <th>mean atom_num</th>\n",
       "      <th>std_dev atom_num</th>\n",
       "      <th>minimum atom_mass</th>\n",
       "      <th>...</th>\n",
       "      <th>std_dev FERE correction</th>\n",
       "      <th>transition metal fraction</th>\n",
       "      <th>avg s valence electrons</th>\n",
       "      <th>avg p valence electrons</th>\n",
       "      <th>avg d valence electrons</th>\n",
       "      <th>avg f valence electrons</th>\n",
       "      <th>frac s valence electrons</th>\n",
       "      <th>frac p valence electrons</th>\n",
       "      <th>frac d valence electrons</th>\n",
       "      <th>frac f valence electrons</th>\n",
       "    </tr>\n",
       "  </thead>\n",
       "  <tbody>\n",
       "    <tr>\n",
       "      <th>0</th>\n",
       "      <td>-8.035302</td>\n",
       "      <td>N7Si4Sr1Y1</td>\n",
       "      <td>(N, Si, Sr, Y)</td>\n",
       "      <td>SrYSi4N7</td>\n",
       "      <td>7</td>\n",
       "      <td>39</td>\n",
       "      <td>32</td>\n",
       "      <td>14.0</td>\n",
       "      <td>14.027983</td>\n",
       "      <td>14.0067</td>\n",
       "      <td>...</td>\n",
       "      <td>0.444131</td>\n",
       "      <td>0.0</td>\n",
       "      <td>2.0</td>\n",
       "      <td>2.230769</td>\n",
       "      <td>0.076923</td>\n",
       "      <td>0.0</td>\n",
       "      <td>0.464286</td>\n",
       "      <td>0.517857</td>\n",
       "      <td>0.017857</td>\n",
       "      <td>0.0</td>\n",
       "    </tr>\n",
       "  </tbody>\n",
       "</table>\n",
       "<p>1 rows × 93 columns</p>\n",
       "</div>"
      ],
      "text/plain": [
       "   total_energy composition composition_obj mdf.composition  minimum atom_num  \\\n",
       "0     -8.035302  N7Si4Sr1Y1  (N, Si, Sr, Y)        SrYSi4N7                 7   \n",
       "\n",
       "   maximum atom_num  range atom_num  mean atom_num  std_dev atom_num  \\\n",
       "0                39              32           14.0         14.027983   \n",
       "\n",
       "   minimum atom_mass            ...             std_dev FERE correction  \\\n",
       "0            14.0067            ...                            0.444131   \n",
       "\n",
       "   transition metal fraction  avg s valence electrons  \\\n",
       "0                        0.0                      2.0   \n",
       "\n",
       "   avg p valence electrons  avg d valence electrons  avg f valence electrons  \\\n",
       "0                 2.230769                 0.076923                      0.0   \n",
       "\n",
       "   frac s valence electrons  frac p valence electrons  \\\n",
       "0                  0.464286                  0.517857   \n",
       "\n",
       "   frac d valence electrons  frac f valence electrons  \n",
       "0                  0.017857                       0.0  \n",
       "\n",
       "[1 rows x 93 columns]"
      ]
     },
     "execution_count": 439,
     "metadata": {},
     "output_type": "execute_result"
    }
   ],
   "source": [
    "print (\"Shape of featurized data: \", data.shape)\n",
    "data.head(1)"
   ]
  },
  {
   "cell_type": "markdown",
   "metadata": {},
   "source": [
    "### Part 2: Linear Model: Stepwise Linear Regression "
   ]
  },
  {
   "cell_type": "markdown",
   "metadata": {},
   "source": [
    "Shuffling data"
   ]
  },
  {
   "cell_type": "code",
   "execution_count": 532,
   "metadata": {},
   "outputs": [],
   "source": [
    "data = shuffle(data)"
   ]
  },
  {
   "cell_type": "markdown",
   "metadata": {},
   "source": [
    "Each dataset is randomly divided into three groups: \n",
    "- 70% for training the model\n",
    "- 15% for preliminary assessment (validation) of model's predictive ability\n",
    "- 15% for independent assessment (testing) of model's predictive ability"
   ]
  },
  {
   "cell_type": "code",
   "execution_count": 533,
   "metadata": {},
   "outputs": [],
   "source": [
    "x = data.drop(['total_energy', 'composition', 'composition_obj', 'mdf.composition'], 1)\n",
    "y = data['total_energy']"
   ]
  },
  {
   "cell_type": "code",
   "execution_count": 534,
   "metadata": {},
   "outputs": [],
   "source": [
    "n = data.shape[0]\n",
    "x_train, x_val, x_test = x[:int(n*0.7)], x[int(n*0.7):int(n*0.85)], x[int(n*0.85):]\n",
    "y_train, y_val, y_test = y[:int(n*0.7)], y[int(n*0.7):int(n*0.85)], y[int(n*0.85):]"
   ]
  },
  {
   "cell_type": "markdown",
   "metadata": {},
   "source": [
    "Linear regression model is used. "
   ]
  },
  {
   "cell_type": "code",
   "execution_count": 587,
   "metadata": {},
   "outputs": [],
   "source": [
    "model = LinearRegression()"
   ]
  },
  {
   "cell_type": "markdown",
   "metadata": {},
   "source": [
    "### Part 3: Quantifying performance of model with different number of candidate descriptors used\n",
    "\n",
    "Implementation of stepwise linear regression where terms (candidate descriptors) from a linear model are sequentially added or removed according to their effective significance probabilities. In the paper, this approach was implemented in [JMP](https://www.jmp.com/en_us/software/predictive-analytics-software.html). Here, we use recursive feature elimination to assign weights to features and remove features with low weightage.\n",
    "\n",
    "\n"
   ]
  },
  {
   "cell_type": "markdown",
   "metadata": {},
   "source": [
    "10-fold cross validation was used within the training set to quantify performance of model"
   ]
  },
  {
   "cell_type": "code",
   "execution_count": 551,
   "metadata": {},
   "outputs": [],
   "source": [
    "kfold = KFold(10, shuffle=True)"
   ]
  },
  {
   "cell_type": "markdown",
   "metadata": {},
   "source": [
    "Number of terms (candidate descriptors) to be used"
   ]
  },
  {
   "cell_type": "code",
   "execution_count": 552,
   "metadata": {},
   "outputs": [],
   "source": [
    "num_features = range(10, data.shape[1], 10)"
   ]
  },
  {
   "cell_type": "markdown",
   "metadata": {},
   "source": [
    "Initializing mean absolute error, mean squared error and R2 score"
   ]
  },
  {
   "cell_type": "code",
   "execution_count": 563,
   "metadata": {},
   "outputs": [],
   "source": [
    "score_train = {\"r2_score\": [], \"mean_absolute_error\": [], \"mean_squared_error\": []}\n",
    "score_val = {\"r2_score\": [], \"mean_absolute_error\": [], \"mean_squared_error\": []}\n",
    "score_test = {\"r2_score\": [], \"mean_absolute_error\": [], \"mean_squared_error\": []}"
   ]
  },
  {
   "cell_type": "markdown",
   "metadata": {},
   "source": [
    "Training the linear regression model with variable number of features used and quantifying the performance. "
   ]
  },
  {
   "cell_type": "code",
   "execution_count": 564,
   "metadata": {},
   "outputs": [],
   "source": [
    "for i in num_features:\n",
    "    selector = RFE(model, n_features_to_select=i, step=0.9)\n",
    "    selector = selector.fit(x_train, y_train)\n",
    "    cv_train = cross_val_predict(selector, x_train, y_train, cv=kfold) \n",
    "    cv_val = cross_val_predict(selector, x_val, y_val, cv=kfold)\n",
    "    cv_test = cross_val_predict(selector, x_test, y_test, cv=kfold)\n",
    "    for scorer in ['r2_score', 'mean_absolute_error', 'mean_squared_error']:\n",
    "        score_train[scorer].append(getattr(metrics,scorer)(y_train, cv_train))\n",
    "        score_val[scorer].append(getattr(metrics,scorer)(y_val, cv_val))\n",
    "        score_test[scorer].append(getattr(metrics,scorer)(y_test, cv_test))"
   ]
  },
  {
   "cell_type": "markdown",
   "metadata": {},
   "source": [
    "Plot the model performance when number of terms (candidate descriptors) is changed."
   ]
  },
  {
   "cell_type": "code",
   "execution_count": 588,
   "metadata": {},
   "outputs": [
    {
     "data": {
      "image/png": "[encoded data removed]",
      "text/plain": [
       "<matplotlib.figure.Figure at 0x16538d2e8>"
      ]
     },
     "metadata": {},
     "output_type": "display_data"
    }
   ],
   "source": [
    "fig, (ax1, ax2, ax3) = plt.subplots(3, 1, sharex=True)\n",
    "\n",
    "ax1.set_ylabel(\"R2\")\n",
    "ax2.set_ylabel(\"MAE (eV/atom)\")\n",
    "ax3.set_ylabel(\"MSE (eV/atom)\")\n",
    "\n",
    "ax1.plot(num_features, score_train['r2_score'], c='grey', marker='.', label='Training')\n",
    "ax1.plot(num_features, score_val['r2_score'], c='orange', marker='.', label='Validation')\n",
    "ax1.plot(num_features, score_test['r2_score'], c='blue', marker='.', label='Testing')\n",
    "\n",
    "ax2.plot(num_features, score_train['mean_absolute_error'], c='grey', marker='.', label='Training')\n",
    "ax2.plot(num_features, score_val['mean_absolute_error'], c='orange', marker='.', label='Validation')\n",
    "ax2.plot(num_features, score_test['mean_absolute_error'], c='blue', marker='.', label='Testing')\n",
    "\n",
    "ax3.plot(num_features, score_train['mean_squared_error'], c='grey', marker='.', label='Training')\n",
    "ax3.plot(num_features, score_val['mean_squared_error'], c='orange', marker='.', label='Validation')\n",
    "ax3.plot(num_features, score_test['mean_squared_error'], c='blue', marker='.', label='Testing')\n",
    "\n",
    "ax2.legend()\n",
    "\n",
    "fig.set_size_inches(6, 6)\n",
    "fig.subplots_adjust(hspace=0.01)"
   ]
  },
  {
   "cell_type": "markdown",
   "metadata": {},
   "source": [
    "_Finding_: Around 60 terms is sufficient. "
   ]
  },
  {
   "cell_type": "code",
   "execution_count": 591,
   "metadata": {},
   "outputs": [],
   "source": [
    "selector = RFE(model, n_features_to_select=60, step=0.9)\n",
    "selector = selector.fit(x_train, y_train)"
   ]
  },
  {
   "cell_type": "code",
   "execution_count": 592,
   "metadata": {},
   "outputs": [],
   "source": [
    "cv_train = cross_val_predict(selector, x_train, y_train, cv=kfold) \n",
    "cv_val = cross_val_predict(selector, x_val, y_val, cv=kfold)\n",
    "cv_test = cross_val_predict(selector, x_test, y_test, cv=kfold)"
   ]
  },
  {
   "cell_type": "markdown",
   "metadata": {},
   "source": [
    "Plot the predictions"
   ]
  },
  {
   "cell_type": "code",
   "execution_count": 594,
   "metadata": {},
   "outputs": [
    {
     "data": {
      "image/png": "[encoded data removed]",
      "text/plain": [
       "<matplotlib.figure.Figure at 0x12ae5d240>"
      ]
     },
     "metadata": {},
     "output_type": "display_data"
    }
   ],
   "source": [
    "fig, (ax1, ax2) = plt.subplots(nrows=1, ncols=2, sharey=True)\n",
    "\n",
    "# Training and Validation plot\n",
    "mae_train = metrics.mean_absolute_error(y_train, cv_train)\n",
    "r2_train = metrics.r2_score(y_train, cv_train)\n",
    "mae_val = metrics.mean_absolute_error(y_val, cv_val)\n",
    "r2_val = metrics.r2_score(y_val, cv_val)\n",
    "ax1.text(0.65, 0.026, 'Training:\\nMAE: {:.3f} eV/atom\\n$R^2$:  {:.3f}\\nValidation:\\nMAE: {:.3f} eV/atom\\n$R^2$:  {:.3f}'.format(mae_train, r2_train, mae_val, r2_val),\n",
    "        transform=ax1.transAxes,\n",
    "       bbox={'facecolor': 'w', 'edgecolor': 'k'})\n",
    "\n",
    "ax1.scatter(y_train, cv_train, c='grey', marker='s', label='Training')\n",
    "ax1.scatter(y_val, cv_val, c='orange', marker='^', label='Validation')\n",
    "ax1.plot(ax1.get_xlim(), ax1.get_xlim(), 'k--')\n",
    "\n",
    "ax1.legend()\n",
    "\n",
    "ax1.set_title('Training & Validation')\n",
    "ax1.set_xlabel('DFT Total_Energy (eV/atom)')\n",
    "ax1.set_ylabel('ML Total_energy (eV/atom)')\n",
    "\n",
    "# Testing plot\n",
    "mae_test = metrics.mean_absolute_error(y_test, cv_test)\n",
    "r2_test = metrics.r2_score(y_test, cv_test)\n",
    "ax2.text(0.65, 0.026, 'Testing:\\nMAE: {:.3f} eV/atom\\n$R^2$:  {:.3f}'.format(mae_test, r2_test),\n",
    "        transform=ax2.transAxes,\n",
    "       bbox={'facecolor': 'w', 'edgecolor': 'k'})\n",
    "ax2.scatter(y_test, cv_test, c='b', marker='o', label='Testing')\n",
    "ax2.plot(ax2.get_xlim(), ax2.get_xlim(), 'k--')\n",
    "\n",
    "ax2.legend()\n",
    "\n",
    "ax2.set_title('Testing')\n",
    "ax2.set_xlabel('DFT Total_Energy (eV/atom)')\n",
    "\n",
    "fig.set_size_inches(10, 5)\n",
    "fig.subplots_adjust(hspace=0)\n",
    "fig.tight_layout()\n",
    "fig.savefig('oqmd_cv.png', dpi=320)"
   ]
  },
  {
   "cell_type": "markdown",
   "metadata": {},
   "source": [
    "### Prediction of formation enthalpy"
   ]
  },
  {
   "cell_type": "markdown",
   "metadata": {},
   "source": [
    "Using total energy value to compute formation energy according to the equation \n",
    "$$\\Delta H_f = E_{tot} - \\Sigma_i c_i \\mu_i^{FERE}$$"
   ]
  },
  {
   "cell_type": "code",
   "execution_count": 396,
   "metadata": {},
   "outputs": [
    {
     "name": "stdout",
     "output_type": "stream",
     "text": [
      "N\n",
      "Si\n",
      "Sr\n",
      "Y\n",
      "N7 Si4 Sr1 Y1\n"
     ]
    }
   ],
   "source": []
  },
  {
   "cell_type": "code",
   "execution_count": null,
   "metadata": {},
   "outputs": [],
   "source": []
  }
 ],
 "metadata": {
  "kernelspec": {
   "display_name": "Python 3",
   "language": "python",
   "name": "python3"
  },
  "language_info": {
   "codemirror_mode": {
    "name": "ipython",
    "version": 3
   },
   "file_extension": ".py",
   "mimetype": "text/x-python",
   "name": "python",
   "nbconvert_exporter": "python",
   "pygments_lexer": "ipython3",
   "version": "3.6.4"
  }
 },
 "nbformat": 4,
 "nbformat_minor": 2
}
