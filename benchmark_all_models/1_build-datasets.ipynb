{
 "cells": [
  {
   "cell_type": "markdown",
   "metadata": {},
   "source": [
    "#  Computation of crystal structure representations \n",
    "\n",
    "We want to compare performance of both featurizations and ML algorithms in [Ward (2016)](https://www.nature.com/articles/npjcompumats201628), [Ward (2017)](https://journals.aps.org/prb/abstract/10.1103/PhysRevB.96.024104), [Deml (2016)](https://journals.aps.org/prb/abstract/10.1103/PhysRevB.93.085142), [Faber (2016)](https://arxiv.org/abs/1503.07406) and [Schutt (2014)](https://journals.aps.org/prb/abstract/10.1103/PhysRevB.89.205118) in predicting formation enthalpies of compounds, $\\Delta H_f$.\n",
    "\n",
    "Hence, in this notebook, data is featurized differently according to the papers mentioned above.\n",
    "\n",
    "Note: Notebook takes 3 CPU hours to run (probably more)."
   ]
  },
  {
   "cell_type": "code",
   "execution_count": 14,
   "metadata": {},
   "outputs": [],
   "source": [
    "import numpy as np\n",
    "import pandas as pd\n",
    "import os\n",
    "import pickle\n",
    "import warnings\n",
    "\n",
    "from matminer.featurizers.base import MultipleFeaturizer\n",
    "from matminer.featurizers.composition import ElementProperty, Stoichiometry, \\\n",
    "        ValenceOrbital, IonProperty, TMetalFraction, CationProperty, \\\n",
    "        OxidationStates, ElectronAffinity, ElectronegativityDiff\n",
    "from matminer.featurizers.structure import SiteStatsFingerprint, \\\n",
    "        StructuralHeterogeneity, ChemicalOrdering, StructureComposition, \\\n",
    "        CoulombMatrix, PartialRadialDistributionFunction \n",
    "from matminer.featurizers.structure import MaximumPackingEfficiency\n",
    "\n",
    "from matminer.utils.conversions import str_to_composition, composition_to_oxidcomposition"
   ]
  },
  {
   "cell_type": "markdown",
   "metadata": {},
   "source": [
    "Load data"
   ]
  },
  {
   "cell_type": "code",
   "execution_count": 15,
   "metadata": {},
   "outputs": [
    {
     "name": "stdout",
     "output_type": "stream",
     "text": [
      "CPU times: user 13.1 s, sys: 1.68 s, total: 14.7 s\n",
      "Wall time: 15.3 s\n"
     ]
    }
   ],
   "source": [
    "%%time\n",
    "path = os.path.join(os.getcwd(), \"oqmd_icsd_subset.pkl\")\n",
    "data = pd.read_pickle(path)"
   ]
  },
  {
   "cell_type": "markdown",
   "metadata": {},
   "source": [
    "Drop data without formation enthalpy value"
   ]
  },
  {
   "cell_type": "code",
   "execution_count": 16,
   "metadata": {},
   "outputs": [],
   "source": [
    "data = data.dropna(subset=['delta_e']).reset_index()"
   ]
  },
  {
   "cell_type": "code",
   "execution_count": 17,
   "metadata": {},
   "outputs": [
    {
     "data": {
      "text/plain": [
       "Index(['index', 'band_gap', 'delta_e', 'magnetic_moment', 'path', 'stability',\n",
       "       'structure', 'total_energy', 'volume_pa', 'structure_obj',\n",
       "       'composition', 'is_ICSD'],\n",
       "      dtype='object')"
      ]
     },
     "execution_count": 17,
     "metadata": {},
     "output_type": "execute_result"
    }
   ],
   "source": [
    "data.columns"
   ]
  },
  {
   "cell_type": "markdown",
   "metadata": {},
   "source": [
    "Compute pymatgen composition and ionic states"
   ]
  },
  {
   "cell_type": "code",
   "execution_count": 18,
   "metadata": {},
   "outputs": [],
   "source": [
    "data['composition_obj'] = str_to_composition(data['composition'])"
   ]
  },
  {
   "cell_type": "markdown",
   "metadata": {},
   "source": [
    "Remove compounds that cannot be featurized (due to their oxidation states for Deml's model)"
   ]
  },
  {
   "cell_type": "code",
   "execution_count": 19,
   "metadata": {},
   "outputs": [],
   "source": [
    "for i in [952, 1214, 1217, 1311, 1315, 1710, 1963]:\n",
    "    data = data.drop([i, i])"
   ]
  },
  {
   "cell_type": "code",
   "execution_count": 20,
   "metadata": {},
   "outputs": [
    {
     "name": "stdout",
     "output_type": "stream",
     "text": [
      "Shape of data:  (31156, 13)\n"
     ]
    },
    {
     "data": {
      "text/html": [
       "<div>\n",
       "<style scoped>\n",
       "    .dataframe tbody tr th:only-of-type {\n",
       "        vertical-align: middle;\n",
       "    }\n",
       "\n",
       "    .dataframe tbody tr th {\n",
       "        vertical-align: top;\n",
       "    }\n",
       "\n",
       "    .dataframe thead th {\n",
       "        text-align: right;\n",
       "    }\n",
       "</style>\n",
       "<table border=\"1\" class=\"dataframe\">\n",
       "  <thead>\n",
       "    <tr style=\"text-align: right;\">\n",
       "      <th></th>\n",
       "      <th>level_0</th>\n",
       "      <th>index</th>\n",
       "      <th>band_gap</th>\n",
       "      <th>delta_e</th>\n",
       "      <th>magnetic_moment</th>\n",
       "      <th>path</th>\n",
       "      <th>stability</th>\n",
       "      <th>structure</th>\n",
       "      <th>total_energy</th>\n",
       "      <th>volume_pa</th>\n",
       "      <th>structure_obj</th>\n",
       "      <th>composition</th>\n",
       "      <th>is_ICSD</th>\n",
       "      <th>composition_obj</th>\n",
       "    </tr>\n",
       "  </thead>\n",
       "  <tbody>\n",
       "    <tr>\n",
       "      <th>0</th>\n",
       "      <td>0</td>\n",
       "      <td>234975</td>\n",
       "      <td>3.879</td>\n",
       "      <td>-3.579764</td>\n",
       "      <td>-0.000032</td>\n",
       "      <td>/home/oqmd/libraries/icsd/31750/static</td>\n",
       "      <td>-1.0848</td>\n",
       "      <td>Ac O\\n 1.0\\n4.067812 -0.000030 0.000026\\n-2.03...</td>\n",
       "      <td>-7.936143</td>\n",
       "      <td>17.988</td>\n",
       "      <td>[[5.0000001e-05 2.3486100e+00 1.5314600e+00] A...</td>\n",
       "      <td>Ac2O3</td>\n",
       "      <td>True</td>\n",
       "      <td>(Ac, O)</td>\n",
       "    </tr>\n",
       "  </tbody>\n",
       "</table>\n",
       "</div>"
      ],
      "text/plain": [
       "   level_0   index  band_gap   delta_e  magnetic_moment  \\\n",
       "0        0  234975     3.879 -3.579764        -0.000032   \n",
       "\n",
       "                                     path  stability  \\\n",
       "0  /home/oqmd/libraries/icsd/31750/static    -1.0848   \n",
       "\n",
       "                                           structure  total_energy  volume_pa  \\\n",
       "0  Ac O\\n 1.0\\n4.067812 -0.000030 0.000026\\n-2.03...     -7.936143     17.988   \n",
       "\n",
       "                                       structure_obj composition  is_ICSD  \\\n",
       "0  [[5.0000001e-05 2.3486100e+00 1.5314600e+00] A...       Ac2O3     True   \n",
       "\n",
       "  composition_obj  \n",
       "0         (Ac, O)  "
      ]
     },
     "execution_count": 20,
     "metadata": {},
     "output_type": "execute_result"
    }
   ],
   "source": [
    "print (\"Shape of data: \", data.shape)\n",
    "data.reset_index(inplace=True)\n",
    "data.head(1)"
   ]
  },
  {
   "cell_type": "markdown",
   "metadata": {},
   "source": [
    "## Create featurizer\n",
    "Here we featurize data with Coulomb Matrix (CM), PartialRadialDistributionFunction (PRDF) and Voronoi tessellation features used in Ward et al (2017)."
   ]
  },
  {
   "cell_type": "markdown",
   "metadata": {},
   "source": [
    "### 1) Sine Coulomb Matrix features (Faber et al 2015)"
   ]
  },
  {
   "cell_type": "code",
   "execution_count": null,
   "metadata": {},
   "outputs": [],
   "source": [
    "%%time\n",
    "cm = CoulombMatrix()\n",
    "data = cm.featurize_dataframe(data,'structure_obj')"
   ]
  },
  {
   "cell_type": "markdown",
   "metadata": {},
   "source": [
    "Process data to form vector descriptors using eigenvalue of CM matrix and append the descriptors to make them same size"
   ]
  },
  {
   "cell_type": "code",
   "execution_count": null,
   "metadata": {},
   "outputs": [],
   "source": [
    "X_cm = data['coulomb matrix']\n",
    "\n",
    "X_cm = pd.Series([np.sort(np.linalg.eigvals(s)) \\\n",
    "            for s in X_cm], X_cm.index)\n",
    "nt = max(X_cm.apply(len))\n",
    "\n",
    "XLIST = []\n",
    "for x in X_cm:\n",
    "    XLIST.append(np.append(x, np.zeros(nt - x.shape[0])))\n",
    "X_cm = np.array(XLIST)\n",
    "print (\"CM input data shape:\", X_cm.shape)"
   ]
  },
  {
   "cell_type": "markdown",
   "metadata": {},
   "source": [
    "Save Coulomb Matrix featurized data"
   ]
  },
  {
   "cell_type": "code",
   "execution_count": null,
   "metadata": {},
   "outputs": [],
   "source": [
    "pickle.dump(X_cm, open (\"X_faber.pkl\", \"wb\"), protocol=pickle.HIGHEST_PROTOCOL)"
   ]
  },
  {
   "cell_type": "markdown",
   "metadata": {},
   "source": [
    "### 2) Composition based features (Ward et al 2016) "
   ]
  },
  {
   "cell_type": "code",
   "execution_count": null,
   "metadata": {},
   "outputs": [],
   "source": [
    "ft = MultipleFeaturizer([Stoichiometry(), ElementProperty.from_preset(\"magpie\"),\n",
    "                         ValenceOrbital(props=['avg']), IonProperty(fast=True)])\n",
    "data = ft.featurize_many(data['composition_obj'], ignore_errors=True)"
   ]
  },
  {
   "cell_type": "markdown",
   "metadata": {},
   "source": [
    "Process data to remove NaN values"
   ]
  },
  {
   "cell_type": "code",
   "execution_count": null,
   "metadata": {},
   "outputs": [],
   "source": [
    "X_ward2016 = np.array(X_ward2016)\n",
    "X_ward2016 = np.nan_to_num(X_ward2016, copy=True)\n",
    "print (\"Voronoi tessellation input data shape:\", X_ward2016.shape)"
   ]
  },
  {
   "cell_type": "markdown",
   "metadata": {},
   "source": [
    "Save featurized data"
   ]
  },
  {
   "cell_type": "code",
   "execution_count": null,
   "metadata": {},
   "outputs": [],
   "source": [
    "pickle.dump(X_ward2016, open (\"X_ward2016.pkl\", \"wb\"), protocol=pickle.HIGHEST_PROTOCOL)"
   ]
  },
  {
   "cell_type": "markdown",
   "metadata": {},
   "source": [
    "### 3) Voronoi tessellation features (Ward et al 2017) "
   ]
  },
  {
   "cell_type": "code",
   "execution_count": null,
   "metadata": {},
   "outputs": [],
   "source": [
    "ward = MultipleFeaturizer([\n",
    "    SiteStatsFingerprint.from_preset(\"CoordinationNumber_ward-prb-2017\"),\n",
    "    StructuralHeterogeneity(),\n",
    "    ChemicalOrdering(),\n",
    "    MaximumPackingEfficiency(),\n",
    "    SiteStatsFingerprint.from_preset(\"LocalPropertyDifference_ward-prb-2017\"),\n",
    "    StructureComposition(Stoichiometry()),\n",
    "    StructureComposition(ElementProperty.from_preset(\"magpie\")),\n",
    "    StructureComposition(ValenceOrbital(props=['frac'])),\n",
    "    StructureComposition(IonProperty(fast=True))\n",
    "])"
   ]
  },
  {
   "cell_type": "code",
   "execution_count": null,
   "metadata": {},
   "outputs": [],
   "source": [
    "print (\"Total number of Ward features:\", len(ward.featurize(data['structure_obj'][0])))"
   ]
  },
  {
   "cell_type": "code",
   "execution_count": null,
   "metadata": {},
   "outputs": [],
   "source": [
    "%%time\n",
    "X_ward2017 = ward.featurize_many(data['structure_obj'], ignore_errors=True)"
   ]
  },
  {
   "cell_type": "markdown",
   "metadata": {},
   "source": [
    "Process data to remove NaN values"
   ]
  },
  {
   "cell_type": "code",
   "execution_count": null,
   "metadata": {},
   "outputs": [],
   "source": [
    "X_ward2017 = np.array(X_ward2017)\n",
    "X_ward2017 = np.nan_to_num(X_ward2017, copy=True)\n",
    "print (\"Voronoi tessellation input data shape:\", X_ward2017.shape)"
   ]
  },
  {
   "cell_type": "markdown",
   "metadata": {},
   "source": [
    "Save Voronoi tessellation featurized data"
   ]
  },
  {
   "cell_type": "code",
   "execution_count": null,
   "metadata": {},
   "outputs": [],
   "source": [
    "pickle.dump(X_ward, open (\"X_ward.pkl\", \"wb\"), protocol=pickle.HIGHEST_PROTOCOL)"
   ]
  },
  {
   "cell_type": "markdown",
   "metadata": {},
   "source": [
    "### 4) Deml-based features "
   ]
  },
  {
   "cell_type": "markdown",
   "metadata": {},
   "source": [
    "Compute ionic states"
   ]
  },
  {
   "cell_type": "code",
   "execution_count": null,
   "metadata": {},
   "outputs": [],
   "source": [
    "data['oxidation_states'] = composition_to_oxidcomposition(data['composition_obj'])"
   ]
  },
  {
   "cell_type": "code",
   "execution_count": null,
   "metadata": {},
   "outputs": [],
   "source": [
    "%%time\n",
    "ft = MultipleFeaturizer([ElementProperty.from_preset('deml'), \n",
    "                         TMetalFraction(),\n",
    "                         ValenceOrbital(),\n",
    "                         CationProperty.from_preset('deml'),\n",
    "                         OxidationStates.from_preset('deml'),\n",
    "                         ElectronAffinity(),\n",
    "                         ElectronegativityDiff()])\n",
    "data = ft.featurize_dataframe(data, col_id='oxidation_states', ignore_errors=True)"
   ]
  },
  {
   "cell_type": "markdown",
   "metadata": {},
   "source": [
    "Drop stats of f orbital valence electrons"
   ]
  },
  {
   "cell_type": "code",
   "execution_count": null,
   "metadata": {},
   "outputs": [],
   "source": [
    "data = data.drop(['frac f valence electrons', 'avg f valence electrons'], 1)"
   ]
  },
  {
   "cell_type": "markdown",
   "metadata": {},
   "source": [
    "Calculate number of atoms in a formula unit"
   ]
  },
  {
   "cell_type": "code",
   "execution_count": null,
   "metadata": {},
   "outputs": [],
   "source": [
    "data['num_atoms'] = data['composition_obj'].apply(lambda x: x.num_atoms)"
   ]
  },
  {
   "cell_type": "markdown",
   "metadata": {},
   "source": [
    "Fill in NaN values with zeros"
   ]
  },
  {
   "cell_type": "code",
   "execution_count": null,
   "metadata": {},
   "outputs": [],
   "source": [
    "data.fillna(value=0, inplace=True)"
   ]
  },
  {
   "cell_type": "markdown",
   "metadata": {},
   "source": [
    "Square root and inverse of each term"
   ]
  },
  {
   "cell_type": "code",
   "execution_count": null,
   "metadata": {},
   "outputs": [],
   "source": [
    "def inv(x):\n",
    "    try:\n",
    "        output = 1.0/x\n",
    "    except:\n",
    "        output = 0.0\n",
    "    return output"
   ]
  },
  {
   "cell_type": "code",
   "execution_count": null,
   "metadata": {},
   "outputs": [],
   "source": [
    "col = data.columns.drop(['composition', 'composition_obj', 'oxidation_states'])\n",
    "mean_col = []"
   ]
  },
  {
   "cell_type": "code",
   "execution_count": null,
   "metadata": {},
   "outputs": [],
   "source": [
    "for i in col:\n",
    "    data[\"inverse %s\"%i] = data[i].apply(lambda x: inv(x))\n",
    "    data[\"sqrt %s\"%i] = data[i].apply(lambda x: np.sqrt(x))\n",
    "    if \"mean\" in i:\n",
    "        mean_col.append(i)    "
   ]
  },
  {
   "cell_type": "markdown",
   "metadata": {},
   "source": [
    "Products of the primary (those without an asterisk) and stoichiometric weighted mean values."
   ]
  },
  {
   "cell_type": "code",
   "execution_count": null,
   "metadata": {},
   "outputs": [],
   "source": [
    "primary = ['num_atoms', 'transition metal fraction', 'avg anion electron affinity',\n",
    "           'avg s valence electrons', 'avg p valence electrons', \n",
    "           'avg d valence electrons', 'frac s valence electrons', \n",
    "           'frac p valence electrons','frac d valence electrons']"
   ]
  },
  {
   "cell_type": "code",
   "execution_count": null,
   "metadata": {},
   "outputs": [],
   "source": [
    "product = data[mean_col + primary]\n",
    "col = product.columns"
   ]
  },
  {
   "cell_type": "markdown",
   "metadata": {},
   "source": [
    "Use PolynomialFeatures with degree 2 from scikit-learn package"
   ]
  },
  {
   "cell_type": "code",
   "execution_count": null,
   "metadata": {},
   "outputs": [],
   "source": [
    "poly = PolynomialFeatures(degree=2, interaction_only=False, include_bias=True)\n",
    "product = pd.DataFrame(poly.fit_transform(product))\n",
    "product.columns = poly.get_feature_names(col)\n",
    "product = product.drop([\"1\"]+ mean_col+primary, 1)\n",
    "print (product.shape)"
   ]
  },
  {
   "cell_type": "markdown",
   "metadata": {},
   "source": [
    "Merge into original dataframe"
   ]
  },
  {
   "cell_type": "code",
   "execution_count": null,
   "metadata": {},
   "outputs": [],
   "source": [
    "data[product.columns] = product"
   ]
  },
  {
   "cell_type": "code",
   "execution_count": null,
   "metadata": {},
   "outputs": [],
   "source": [
    "print (\"Shape of featurized data: \", data.shape)"
   ]
  },
  {
   "cell_type": "code",
   "execution_count": null,
   "metadata": {},
   "outputs": [],
   "source": [
    "X_deml = data.drop(['index', 'band_gap', 'delta_e', 'magnetic_moment', 'path', 'stability',\n",
    "       'structure', 'total_energy', 'volume_pa', 'structure_obj',\n",
    "       'composition', 'is_ICSD', 'composition_obj', 'oxidation_states'], 1)"
   ]
  },
  {
   "cell_type": "markdown",
   "metadata": {},
   "source": [
    "Save into pickle file"
   ]
  },
  {
   "cell_type": "code",
   "execution_count": null,
   "metadata": {},
   "outputs": [],
   "source": [
    "pickle.dump(X_deml, open(\"X_deml.pkl\", \"wb\"), protocol=pickle.HIGHEST_PROTOCOL)"
   ]
  },
  {
   "cell_type": "markdown",
   "metadata": {},
   "source": [
    "### 5) PRDF features (Schutt et al 2014)"
   ]
  },
  {
   "cell_type": "code",
   "execution_count": null,
   "metadata": {},
   "outputs": [],
   "source": [
    "%%time\n",
    "prdf = PartialRadialDistributionFunction(cutoff=16.0, bin_size=3.0)\n",
    "prdf.fit(data['structure_obj'])\n",
    "X_schutt = prdf.featurize_many(data['structure_obj'], ignore_errors=True)"
   ]
  },
  {
   "cell_type": "markdown",
   "metadata": {},
   "source": [
    "Process data to remove NaN values"
   ]
  },
  {
   "cell_type": "code",
   "execution_count": null,
   "metadata": {},
   "outputs": [],
   "source": [
    "X_schutt = np.array(X_schutt)\n",
    "X_schutt = np.nan_to_num(X_schutt, copy=True)\n",
    "print (\"PRDF input data shape:\", X_schutt.shape)"
   ]
  },
  {
   "cell_type": "markdown",
   "metadata": {},
   "source": [
    "Save PRDF featurized data"
   ]
  },
  {
   "cell_type": "code",
   "execution_count": null,
   "metadata": {},
   "outputs": [],
   "source": [
    "pickle.dump(X_schutt, open (\"X_schutt.pkl\", \"wb\"), protocol=pickle.HIGHEST_PROTOCOL)"
   ]
  },
  {
   "cell_type": "markdown",
   "metadata": {},
   "source": [
    "### Formation enthalpy values as the predicted data\n",
    "\n",
    "Save formation enthalpy data as y input data."
   ]
  },
  {
   "cell_type": "code",
   "execution_count": null,
   "metadata": {},
   "outputs": [],
   "source": [
    "pickle.dump(data['delta_e'], open (\"y.pkl\", \"wb\"), protocol=pickle.HIGHEST_PROTOCOL)"
   ]
  },
  {
   "cell_type": "code",
   "execution_count": null,
   "metadata": {},
   "outputs": [],
   "source": []
  }
 ],
 "metadata": {
  "kernelspec": {
   "display_name": "Python 3",
   "language": "python",
   "name": "python3"
  },
  "language_info": {
   "codemirror_mode": {
    "name": "ipython",
    "version": 3
   },
   "file_extension": ".py",
   "mimetype": "text/x-python",
   "name": "python",
   "nbconvert_exporter": "python",
   "pygments_lexer": "ipython3",
   "version": "3.6.4"
  }
 },
 "nbformat": 4,
 "nbformat_minor": 2
}
