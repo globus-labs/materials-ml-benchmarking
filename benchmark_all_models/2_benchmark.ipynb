{
 "cells": [
  {
   "cell_type": "markdown",
   "metadata": {},
   "source": [
    "# Benchmarking more featurizations and ML methods in predicting formation enthalpies of compounds on OQMD dataset \n",
    "\n",
    "In this notebook, we'll compare performance of both featurizations and ML algorithms in [Ward (2016)](https://www.nature.com/articles/npjcompumats201628), [Ward (2017)](https://journals.aps.org/prb/abstract/10.1103/PhysRevB.96.024104), [Deml (2016)](https://journals.aps.org/prb/abstract/10.1103/PhysRevB.93.085142), [Faber (2016)](https://arxiv.org/abs/1503.07406) and [Schutt (2014)](https://journals.aps.org/prb/abstract/10.1103/PhysRevB.89.205118) in predicting formation enthalpies of compounds, $\\Delta H_f$.\n",
    "\n",
    "Note: Run `1_build-dataset.ipynb` before this notebook!\n",
    "\n",
    "This notebook takes around 3 CPU hours to run. "
   ]
  },
  {
   "cell_type": "code",
   "execution_count": 1,
   "metadata": {},
   "outputs": [
    {
     "name": "stderr",
     "output_type": "stream",
     "text": [
      "/home/amoffet2/anaconda3/lib/python3.6/importlib/_bootstrap.py:219: RuntimeWarning: numpy.dtype size changed, may indicate binary incompatibility. Expected 96, got 88\n",
      "  return f(*args, **kwds)\n",
      "/home/amoffet2/anaconda3/lib/python3.6/importlib/_bootstrap.py:219: RuntimeWarning:\n",
      "\n",
      "numpy.dtype size changed, may indicate binary incompatibility. Expected 96, got 88\n",
      "\n",
      "/home/amoffet2/anaconda3/lib/python3.6/importlib/_bootstrap.py:219: RuntimeWarning:\n",
      "\n",
      "numpy.dtype size changed, may indicate binary incompatibility. Expected 96, got 88\n",
      "\n",
      "/home/amoffet2/anaconda3/lib/python3.6/site-packages/sklearn/ensemble/weight_boosting.py:29: DeprecationWarning:\n",
      "\n",
      "numpy.core.umath_tests is an internal NumPy module and should not be imported. It will be removed in a future NumPy release.\n",
      "\n"
     ]
    }
   ],
   "source": [
    "%matplotlib inline\n",
    "import os\n",
    "import numpy as np\n",
    "import pandas as pd\n",
    "import pymatgen as pmg\n",
    "import matplotlib.pyplot as plt\n",
    "import pickle\n",
    "import time\n",
    "import warnings\n",
    "\n",
    "from matminer.featurizers.structure import SineCoulombMatrix\n",
    "from matminer.featurizers.base import MultipleFeaturizer\n",
    "from matminer.featurizers import composition as cf\n",
    "from matminer.utils.conversions import str_to_composition\n",
    "\n",
    "from sklearn.kernel_ridge import KernelRidge\n",
    "from sklearn.model_selection import GridSearchCV, KFold, train_test_split, cross_val_predict\n",
    "from sklearn import metrics\n",
    "from sklearn.ensemble import RandomForestRegressor\n",
    "from sklearn.pipeline import Pipeline\n",
    "from sklearn.preprocessing import Imputer\n",
    "from sklearn.linear_model import Lars"
   ]
  },
  {
   "cell_type": "markdown",
   "metadata": {},
   "source": [
    "Import OQMD_ICSD data"
   ]
  },
  {
   "cell_type": "code",
   "execution_count": 2,
   "metadata": {},
   "outputs": [],
   "source": [
    "y = pd.read_pickle('./y.pkl')"
   ]
  },
  {
   "cell_type": "code",
   "execution_count": 3,
   "metadata": {},
   "outputs": [
    {
     "name": "stdout",
     "output_type": "stream",
     "text": [
      "Length of data:  (31163,)\n"
     ]
    }
   ],
   "source": [
    "print (\"Length of data: \", y.shape)"
   ]
  },
  {
   "cell_type": "markdown",
   "metadata": {},
   "source": [
    "Initialize dictionary to store cv prediction data"
   ]
  },
  {
   "cell_type": "code",
   "execution_count": 4,
   "metadata": {},
   "outputs": [],
   "source": [
    "kernels = ['ward2016', 'ward2017', 'deml', 'faber', 'schutt']\n",
    "cv_test = dict.fromkeys(kernels)\n",
    "x_train, x_test, y_train, y_test = dict.fromkeys(kernels), dict.fromkeys(kernels), dict.fromkeys(kernels), dict.fromkeys(kernels)"
   ]
  },
  {
   "cell_type": "markdown",
   "metadata": {},
   "source": [
    "## 1) Faber et al (2016)\n",
    "Kernel Ridge Regression (KRR) on Sine Coulomb Matrix (SCM) featurization. Since we already have the Coulomb matrix featurized file saved in `01.ipynb`, we can directly load it here."
   ]
  },
  {
   "cell_type": "code",
   "execution_count": 5,
   "metadata": {},
   "outputs": [
    {
     "name": "stdout",
     "output_type": "stream",
     "text": [
      "CPU times: user 24 ms, sys: 106 ms, total: 130 ms\n",
      "Wall time: 593 ms\n"
     ]
    }
   ],
   "source": [
    "%%time\n",
    "X_faber = pickle.load(open(\"./X_faber.pkl\", \"rb\"))"
   ]
  },
  {
   "cell_type": "markdown",
   "metadata": {},
   "source": [
    "Partition into training and testing set (80% training and 20% testing)"
   ]
  },
  {
   "cell_type": "code",
   "execution_count": 6,
   "metadata": {},
   "outputs": [],
   "source": [
    "x_train['faber'], x_test['faber'], y_train['faber'], y_test['faber'] = train_test_split(X_faber, y, test_size=0.2, shuffle=True)"
   ]
  },
  {
   "cell_type": "markdown",
   "metadata": {},
   "source": [
    "#### Build ML model (Kernel Ridge Regression)"
   ]
  },
  {
   "cell_type": "code",
   "execution_count": 7,
   "metadata": {},
   "outputs": [],
   "source": [
    "faber = KernelRidge(kernel='laplacian', alpha=1e-05, gamma=5e-05)"
   ]
  },
  {
   "cell_type": "markdown",
   "metadata": {},
   "source": [
    "Train KRR model using training set data"
   ]
  },
  {
   "cell_type": "code",
   "execution_count": 8,
   "metadata": {},
   "outputs": [
    {
     "name": "stdout",
     "output_type": "stream",
     "text": [
      "CPU times: user 8min 41s, sys: 3min 51s, total: 12min 33s\n",
      "Wall time: 3min 3s\n"
     ]
    }
   ],
   "source": [
    "%%time\n",
    "import warnings\n",
    "with warnings.catch_warnings():\n",
    "    warnings.simplefilter(\"ignore\")\n",
    "    faber.fit(x_train['faber'], y_train['faber'])"
   ]
  },
  {
   "cell_type": "markdown",
   "metadata": {},
   "source": [
    "Prediction data"
   ]
  },
  {
   "cell_type": "code",
   "execution_count": 9,
   "metadata": {},
   "outputs": [],
   "source": [
    "import warnings\n",
    "with warnings.catch_warnings():\n",
    "    warnings.simplefilter(\"ignore\")\n",
    "    cv_test['faber'] = cross_val_predict(faber, x_test['faber'], y_test['faber'], cv=KFold(n_splits=5))"
   ]
  },
  {
   "cell_type": "markdown",
   "metadata": {},
   "source": [
    "## 2) Ward et al (2016)  \n",
    "RandomForestRegressor on \"general purpose\" attributes  "
   ]
  },
  {
   "cell_type": "code",
   "execution_count": 10,
   "metadata": {},
   "outputs": [],
   "source": [
    "X_ward2016 = pd.read_pickle(\"./X_ward2016.pkl\")"
   ]
  },
  {
   "cell_type": "code",
   "execution_count": 12,
   "metadata": {},
   "outputs": [],
   "source": [
    "x_train['ward2016'], x_test['ward2016'], y_train['ward2016'], y_test['ward2016'] = train_test_split(X_ward2016, y_ward2016, test_size=0.2, shuffle=True)"
   ]
  },
  {
   "cell_type": "markdown",
   "metadata": {},
   "source": [
    "#### Build ML model (Random Forest Regressor)"
   ]
  },
  {
   "cell_type": "code",
   "execution_count": 13,
   "metadata": {},
   "outputs": [],
   "source": [
    "param = dict(max_features=(np.linspace(0.1, 1, 10)).tolist())\n",
    "ward2016 = GridSearchCV(RandomForestRegressor(n_estimators=100),\n",
    "                        param_grid=param,\n",
    "                        scoring='neg_mean_squared_error',\n",
    "                        cv=KFold(5))"
   ]
  },
  {
   "cell_type": "markdown",
   "metadata": {},
   "source": [
    "Fit using training set"
   ]
  },
  {
   "cell_type": "code",
   "execution_count": 14,
   "metadata": {},
   "outputs": [
    {
     "name": "stdout",
     "output_type": "stream",
     "text": [
      "CPU times: user 30min, sys: 792 ms, total: 30min 1s\n",
      "Wall time: 30min\n"
     ]
    }
   ],
   "source": [
    "%%time\n",
    "ward2016 = ward2016.fit(x_train['ward2016'], y_train['ward2016'])"
   ]
  },
  {
   "cell_type": "markdown",
   "metadata": {},
   "source": [
    "Save the best model"
   ]
  },
  {
   "cell_type": "code",
   "execution_count": 15,
   "metadata": {},
   "outputs": [],
   "source": [
    "ward2016 = ward2016.best_estimator_"
   ]
  },
  {
   "cell_type": "markdown",
   "metadata": {},
   "source": [
    "Predict testing data using model"
   ]
  },
  {
   "cell_type": "code",
   "execution_count": 16,
   "metadata": {},
   "outputs": [],
   "source": [
    "cv_test['ward2016'] = cross_val_predict(ward2016, x_test['ward2016'], y_test['ward2016'], cv=KFold(n_splits=5))"
   ]
  },
  {
   "cell_type": "markdown",
   "metadata": {},
   "source": [
    "## 3) Ward et al (2017)\n",
    "\n",
    "Random Forest Regressor on Voronoi-tessellation-based crystal representation.\n",
    "\n",
    "Since the featurization takes a long time, we import the featurized pickle file ready for processing"
   ]
  },
  {
   "cell_type": "code",
   "execution_count": 17,
   "metadata": {},
   "outputs": [],
   "source": [
    "X_ward2017 = pd.read_pickle('./X_ward2017.pkl')"
   ]
  },
  {
   "cell_type": "markdown",
   "metadata": {},
   "source": [
    "Splitting dataset into training and testing data"
   ]
  },
  {
   "cell_type": "code",
   "execution_count": 18,
   "metadata": {},
   "outputs": [],
   "source": [
    "x_train['ward2017'], x_test['ward2017'], y_train['ward2017'], y_test['ward2017'] = train_test_split(X_ward2017, y, test_size=0.2, shuffle=True)"
   ]
  },
  {
   "cell_type": "markdown",
   "metadata": {},
   "source": [
    "#### Build ML model (Random Forest Regressor) "
   ]
  },
  {
   "cell_type": "code",
   "execution_count": 19,
   "metadata": {},
   "outputs": [],
   "source": [
    "param = dict(max_features=(np.linspace(0.1, 1, 10)).tolist())\n",
    "ward2017 = GridSearchCV(RandomForestRegressor(n_estimators=100),\n",
    "                        param_grid=param,\n",
    "                        scoring='neg_mean_squared_error',\n",
    "                        cv=KFold(5))"
   ]
  },
  {
   "cell_type": "code",
   "execution_count": 20,
   "metadata": {},
   "outputs": [
    {
     "name": "stdout",
     "output_type": "stream",
     "text": [
      "CPU times: user 2h 17min 43s, sys: 2.3 s, total: 2h 17min 45s\n",
      "Wall time: 2h 17min 42s\n"
     ]
    }
   ],
   "source": [
    "%%time \n",
    "ward2017 = ward2017.fit(x_train['ward2017'], y_train['ward2017'])"
   ]
  },
  {
   "cell_type": "code",
   "execution_count": 21,
   "metadata": {},
   "outputs": [],
   "source": [
    "cv_test['ward2017'] = cross_val_predict(ward2017, x_test['ward2017'], y_test['ward2017'], cv=KFold(n_splits=5))"
   ]
  },
  {
   "cell_type": "markdown",
   "metadata": {},
   "source": [
    "## 4) Deml et al\n",
    "Stepwise linear regression on composition featurized data. Since featurized data is already saved from running `featurize_deml_dataset.ipynb`, we can load data directly from that. "
   ]
  },
  {
   "cell_type": "code",
   "execution_count": 22,
   "metadata": {},
   "outputs": [],
   "source": [
    "df_deml = pd.read_pickle('./X_deml.pkl')"
   ]
  },
  {
   "cell_type": "markdown",
   "metadata": {},
   "source": [
    "Remove outliers"
   ]
  },
  {
   "cell_type": "code",
   "execution_count": 23,
   "metadata": {},
   "outputs": [
    {
     "name": "stdout",
     "output_type": "stream",
     "text": [
      "Removed 4/36047 entries\n"
     ]
    }
   ],
   "source": [
    "original_count = len(df_deml)\n",
    "df_deml = df_deml[np.logical_and(df_deml['delta_e'] >= -20, df_deml['delta_e'] <= 5)].reset_index(drop=True)\n",
    "print('Removed %d/%d entries'%(original_count - len(df_deml), original_count))"
   ]
  },
  {
   "cell_type": "markdown",
   "metadata": {},
   "source": [
    "Fill NaN with zero values"
   ]
  },
  {
   "cell_type": "code",
   "execution_count": 24,
   "metadata": {},
   "outputs": [],
   "source": [
    "df_deml.fillna(value=0, inplace=True)"
   ]
  },
  {
   "cell_type": "code",
   "execution_count": 25,
   "metadata": {},
   "outputs": [],
   "source": [
    "X_deml = df_deml.drop(['oxidation_states', 'total_energy', 'delta_e', 'composition', 'composition_obj'], 1)\n",
    "y_deml = df_deml['delta_e']"
   ]
  },
  {
   "cell_type": "markdown",
   "metadata": {},
   "source": [
    "Partition data into training and testing set"
   ]
  },
  {
   "cell_type": "code",
   "execution_count": 26,
   "metadata": {},
   "outputs": [],
   "source": [
    "x_train['deml'], x_test['deml'], y_train['deml'], y_test['deml'] = train_test_split(X_deml, y_deml, test_size=0.2, shuffle=True)"
   ]
  },
  {
   "cell_type": "markdown",
   "metadata": {},
   "source": [
    "#### Build ML model (Stepwise Linear Regression)"
   ]
  },
  {
   "cell_type": "code",
   "execution_count": 27,
   "metadata": {},
   "outputs": [],
   "source": [
    "deml = GridSearchCV(Lars(), \n",
    "                    param_grid=dict(n_nonzero_coefs=(range(10, X_deml.shape[1], 20))),\n",
    "                    cv=KFold(5))"
   ]
  },
  {
   "cell_type": "code",
   "execution_count": 28,
   "metadata": {},
   "outputs": [
    {
     "name": "stdout",
     "output_type": "stream",
     "text": [
      "CPU times: user 17min 56s, sys: 45min 27s, total: 1h 3min 23s\n",
      "Wall time: 4min 10s\n"
     ]
    }
   ],
   "source": [
    "%%time\n",
    "with warnings.catch_warnings():\n",
    "    warnings.simplefilter(\"ignore\")\n",
    "    deml = deml.fit(x_train['deml'], y_train['deml'])"
   ]
  },
  {
   "cell_type": "markdown",
   "metadata": {},
   "source": [
    "Save the best model"
   ]
  },
  {
   "cell_type": "code",
   "execution_count": 29,
   "metadata": {},
   "outputs": [],
   "source": [
    "deml = deml.best_estimator_"
   ]
  },
  {
   "cell_type": "markdown",
   "metadata": {},
   "source": [
    "Predict testing data"
   ]
  },
  {
   "cell_type": "code",
   "execution_count": 30,
   "metadata": {},
   "outputs": [],
   "source": [
    "with warnings.catch_warnings():\n",
    "    warnings.simplefilter(\"ignore\")\n",
    "    cv_test['deml'] = cross_val_predict(deml, x_test['deml'], y_test['deml'], cv=KFold(5))"
   ]
  },
  {
   "cell_type": "markdown",
   "metadata": {},
   "source": [
    "## 5) Schutt et al\n",
    "Kernel Ridge Regression on Partial Radial Distribution Function (PRDF) representation."
   ]
  },
  {
   "cell_type": "code",
   "execution_count": 31,
   "metadata": {},
   "outputs": [],
   "source": [
    "X_schutt = pd.read_pickle(\"./X_schutt.pkl\")"
   ]
  },
  {
   "cell_type": "markdown",
   "metadata": {},
   "source": [
    "Partition data into training and testing set"
   ]
  },
  {
   "cell_type": "code",
   "execution_count": 32,
   "metadata": {},
   "outputs": [],
   "source": [
    "x_train['schutt'], x_test['schutt'], y_train['schutt'], y_test['schutt'] = train_test_split(X_schutt, y, test_size=0.2, shuffle=True)"
   ]
  },
  {
   "cell_type": "markdown",
   "metadata": {},
   "source": [
    "#### Build ML model (Kernel Ridge Regression)"
   ]
  },
  {
   "cell_type": "code",
   "execution_count": 33,
   "metadata": {},
   "outputs": [],
   "source": [
    "schutt = KernelRidge(kernel='laplacian', alpha=0.001, gamma=5e-5)"
   ]
  },
  {
   "cell_type": "code",
   "execution_count": 34,
   "metadata": {},
   "outputs": [
    {
     "name": "stdout",
     "output_type": "stream",
     "text": [
      "CPU times: user 4h 25min 51s, sys: 5min 59s, total: 4h 31min 51s\n",
      "Wall time: 4h 24min 14s\n"
     ]
    }
   ],
   "source": [
    "%%time\n",
    "schutt = schutt.fit(x_train['schutt'], y_train['schutt'])"
   ]
  },
  {
   "cell_type": "markdown",
   "metadata": {},
   "source": [
    "Predict testing data"
   ]
  },
  {
   "cell_type": "code",
   "execution_count": 35,
   "metadata": {},
   "outputs": [],
   "source": [
    "cv_test['schutt'] = cross_val_predict(schutt, x_test['schutt'], y_test['schutt'], cv=KFold(5))"
   ]
  },
  {
   "cell_type": "markdown",
   "metadata": {},
   "source": [
    "## Now we compare these five models "
   ]
  },
  {
   "cell_type": "code",
   "execution_count": 36,
   "metadata": {},
   "outputs": [],
   "source": [
    "stats = dict.fromkeys(kernels)\n",
    "for kernel in stats:\n",
    "    stats[kernel] = dict.fromkeys(['r2_score', 'mean_absolute_error', 'mean_squared_error'], 0.0)"
   ]
  },
  {
   "cell_type": "code",
   "execution_count": 37,
   "metadata": {},
   "outputs": [],
   "source": [
    "for kernel in kernels:\n",
    "    for scorer in ['r2_score', 'mean_absolute_error', 'mean_squared_error']:\n",
    "        stats[kernel][scorer] = (getattr(metrics,scorer)(y_test[kernel], cv_test[kernel]))"
   ]
  },
  {
   "cell_type": "markdown",
   "metadata": {},
   "source": [
    "Plot predictions"
   ]
  },
  {
   "cell_type": "code",
   "execution_count": 38,
   "metadata": {},
   "outputs": [
    {
     "data": {
      "image/png": "[encoded data removed]",
      "text/plain": [
       "<matplotlib.figure.Figure at 0x2b6582f3a320>"
      ]
     },
     "metadata": {},
     "output_type": "display_data"
    }
   ],
   "source": [
    "fig, ax = plt.subplots(2, 3, sharey=True, sharex=True)\n",
    "\n",
    "ax[0,0].set_xlim([-5, 2])\n",
    "ax[0,0].set_ylim([-5, 2])\n",
    "\n",
    "ax[0,0].set_ylabel(\"Predicted $\\Delta H_{f, atom}$ (eV/atom)\", fontsize=14, y=0.0)\n",
    "ax[1,1].set_xlabel(\"Calculated $\\Delta H_{f, atom}$ (eV/atom)\", fontsize=14)\n",
    "\n",
    "ax[0,0].set_title(\"Faber2015\")\n",
    "ax[0,1].set_title(\"Deml2016\")\n",
    "ax[0,2].set_title(\"Schutt2014\")\n",
    "ax[1,0].set_title(\"Ward2016\")\n",
    "ax[1,1].set_title(\"Ward2017\")\n",
    "\n",
    "ax[0,0].scatter(y_test['faber'], cv_test['faber'], marker='.', color='r')\n",
    "ax[0,1].scatter(y_test['deml'], cv_test['deml'], marker='.', color='g')\n",
    "ax[0,2].scatter(y_test['schutt'], cv_test['schutt'], marker='.', color='b')\n",
    "ax[1,0].scatter(y_test['ward2016'], cv_test['ward2016'], marker='.', color='orange')\n",
    "ax[1,1].scatter(y_test['ward2017'], cv_test['ward2017'], marker='.', color='purple')\n",
    "\n",
    "for i in range(2):\n",
    "    for j in range(3):\n",
    "        if (i==1 and j==2):\n",
    "            pass\n",
    "        else:\n",
    "            ax[i,j].plot(ax[i,j].get_xlim(), ax[i,j].get_xlim(), 'k--')\n",
    "\n",
    "ax[0,0].text(0.45, 0.03, 'MAE: {:.3f} eV/atom\\nRMSE: {:.3f} eV/atom\\n R2: {:.3f}'.format(stats['faber']['mean_absolute_error'], np.sqrt(stats['faber']['mean_squared_error']), stats['faber']['r2_score']),\n",
    "        transform=ax[0,0].transAxes, fontsize=10,\n",
    "        bbox={'facecolor': 'w', 'edgecolor': 'k'})\n",
    "ax[0,1].text(0.45, 0.03, 'MAE: {:.3f} eV/atom\\nRMSE: {:.3f} eV/atom\\n R2: {:.3f}'.format(stats['deml']['mean_absolute_error'], np.sqrt(stats['deml']['mean_squared_error']), stats['deml']['r2_score']),\n",
    "        transform=ax[0,1].transAxes, fontsize=10,\n",
    "        bbox={'facecolor': 'w', 'edgecolor': 'k'})\n",
    "ax[0,2].text(0.45, 0.03, 'MAE: {:.3f} eV/atom\\nRMSE: {:.3f} eV/atom\\n R2: {:.3f}'.format(stats['schutt']['mean_absolute_error'], np.sqrt(stats['schutt']['mean_squared_error']), stats['schutt']['r2_score']),\n",
    "        transform=ax[0,2].transAxes, fontsize=10,\n",
    "        bbox={'facecolor': 'w', 'edgecolor': 'k'})\n",
    "ax[1,0].text(0.45, 0.03, 'MAE: {:.3f} eV/atom\\nRMSE: {:.3f} eV/atom\\n R2: {:.3f}'.format(stats['ward2016']['mean_absolute_error'], np.sqrt(stats['ward2016']['mean_squared_error']), stats['ward2016']['r2_score']),\n",
    "        transform=ax[1,0].transAxes, fontsize=10,\n",
    "        bbox={'facecolor': 'w', 'edgecolor': 'k'})\n",
    "ax[1,1].text(0.45, 0.03, 'MAE: {:.3f} eV/atom\\nRMSE: {:.3f} eV/atom\\n R2: {:.3f}'.format(stats['ward2017']['mean_absolute_error'], np.sqrt(stats['ward2017']['mean_squared_error']), stats['ward2017']['r2_score']),\n",
    "        transform=ax[1,1].transAxes, fontsize=10,\n",
    "        bbox={'facecolor': 'w', 'edgecolor': 'k'})\n",
    "\n",
    "fig.set_size_inches((12, 7))\n",
    "fig.subplots_adjust(wspace=0.05)"
   ]
  },
  {
   "cell_type": "markdown",
   "metadata": {},
   "source": [
    "Findings: Composition based features used in Ward 2016 paper seems to predict formation enthalpy best, and the training time is reasonably short as compared to Faber2015 and Schutt2014's methods. "
   ]
  },
  {
   "cell_type": "code",
   "execution_count": 39,
   "metadata": {},
   "outputs": [],
   "source": []
  }
 ],
 "metadata": {
  "kernelspec": {
   "display_name": "Python 3",
   "language": "python",
   "name": "python3"
  },
  "language_info": {
   "codemirror_mode": {
    "name": "ipython",
    "version": 3
   },
   "file_extension": ".py",
   "mimetype": "text/x-python",
   "name": "python",
   "nbconvert_exporter": "python",
   "pygments_lexer": "ipython3",
   "version": "3.6.4"
  }
 },
 "nbformat": 4,
 "nbformat_minor": 2
}
