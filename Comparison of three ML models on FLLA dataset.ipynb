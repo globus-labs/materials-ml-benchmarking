{
 "cells": [
  {
   "cell_type": "markdown",
   "metadata": {},
   "source": [
    "# Comparing three ML methods on flla dataset "
   ]
  },
  {
   "cell_type": "code",
   "execution_count": 150,
   "metadata": {},
   "outputs": [],
   "source": [
    "import os\n",
    "import numpy as np\n",
    "import pandas as pd\n",
    "import ast\n",
    "import pymatgen as pmg\n",
    "import matplotlib.pyplot as plt\n",
    "\n",
    "from matminer.datasets.dataframe_loader import load_flla\n",
    "from matminer.featurizers.structure import SineCoulombMatrix\n",
    "from matminer.featurizers.base import MultipleFeaturizer\n",
    "from matminer.featurizers import composition as cf\n",
    "from matminer.utils.conversions import str_to_composition\n",
    "\n",
    "from sklearn.kernel_ridge import KernelRidge\n",
    "from sklearn.model_selection import GridSearchCV, KFold, train_test_split, cross_val_predict\n",
    "from sklearn import metrics\n",
    "from sklearn.ensemble import RandomForestRegressor\n",
    "from sklearn.pipeline import Pipeline\n",
    "from sklearn.preprocessing import Imputer\n",
    "\n",
    "from pymatgen import MPRester"
   ]
  },
  {
   "cell_type": "markdown",
   "metadata": {},
   "source": [
    "Import flla data"
   ]
  },
  {
   "cell_type": "code",
   "execution_count": 79,
   "metadata": {},
   "outputs": [
    {
     "name": "stdout",
     "output_type": "stream",
     "text": [
      "Shape of data:  (3938, 7)\n"
     ]
    }
   ],
   "source": [
    "data = load_flla()\n",
    "print (\"Shape of data: \", data.shape)"
   ]
  },
  {
   "cell_type": "markdown",
   "metadata": {},
   "source": [
    "Convert string type `formula` for dict"
   ]
  },
  {
   "cell_type": "code",
   "execution_count": 80,
   "metadata": {},
   "outputs": [],
   "source": [
    "data['formula'] = data['formula'].apply(lambda x: ast.literal_eval(x))"
   ]
  },
  {
   "cell_type": "markdown",
   "metadata": {},
   "source": [
    "Obtain pymatgen composition object from dict type"
   ]
  },
  {
   "cell_type": "code",
   "execution_count": 81,
   "metadata": {},
   "outputs": [],
   "source": [
    "data['composition'] = data['formula'].apply(lambda x: pmg.Composition(x))"
   ]
  },
  {
   "cell_type": "markdown",
   "metadata": {},
   "source": [
    "## 1) Faber et al - Using Kernel Ridge Regression (KRR) on Sine Coulomb Matrix (SCM) featurization\n",
    "\n",
    "Add sine coulomb matrix featurizer"
   ]
  },
  {
   "cell_type": "code",
   "execution_count": 136,
   "metadata": {},
   "outputs": [],
   "source": [
    "scm = SineCoulombMatrix()\n",
    "df_krr = scm.featurize_dataframe(data, col_id='structure')"
   ]
  },
  {
   "cell_type": "markdown",
   "metadata": {},
   "source": [
    "Form vector descriptions using eigenvalues of SCMs"
   ]
  },
  {
   "cell_type": "code",
   "execution_count": 137,
   "metadata": {},
   "outputs": [],
   "source": [
    "df_krr['sine coulomb matrix'] = pd.Series([np.sort(np.linalg.eigvals(s))[::-1] \\\n",
    "    for s in df_krr['sine coulomb matrix']], df_krr.index)"
   ]
  },
  {
   "cell_type": "code",
   "execution_count": 138,
   "metadata": {},
   "outputs": [],
   "source": [
    "x = df_krr['sine coulomb matrix'].as_matrix()\n",
    "y = df_krr['formation_energy_per_atom'].as_matrix()"
   ]
  },
  {
   "cell_type": "markdown",
   "metadata": {},
   "source": [
    "Append each vector descriptor with zeros to make them all same size"
   ]
  },
  {
   "cell_type": "code",
   "execution_count": 139,
   "metadata": {},
   "outputs": [],
   "source": [
    "nt = max(df_krr['nsites'])\n",
    "XLIST = []\n",
    "for i in range(len(x)):\n",
    "    XLIST.append(np.append(x[i], np.zeros(nt - x[i].shape[0])))\n",
    "x = np.array(XLIST)"
   ]
  },
  {
   "cell_type": "markdown",
   "metadata": {},
   "source": [
    "Partition into training and testing set (80% training and 20% testing)"
   ]
  },
  {
   "cell_type": "code",
   "execution_count": 140,
   "metadata": {},
   "outputs": [],
   "source": [
    "x_train_krr, x_test_krr, y_train_krr, y_test_krr = train_test_split(x, y, test_size=0.2, shuffle=True)"
   ]
  },
  {
   "cell_type": "markdown",
   "metadata": {},
   "source": [
    "### Build ML model\n",
    "\n",
    "Set up Kernel Ridge Regression model and use GridSearchCV to find best hyperparameter."
   ]
  },
  {
   "cell_type": "code",
   "execution_count": 141,
   "metadata": {},
   "outputs": [],
   "source": [
    "class KrrScm(KernelRidge):\n",
    "    \"\"\"\n",
    "    Custom SCM KernelRidge estimator\n",
    "\n",
    "    This estimator ensures that scores are based on formation\n",
    "    energy per atom by dividing predicted and actual y values\n",
    "    by the number of nonzero items in each row of the X matrix.\n",
    "    This is equivalent to dividing by the number of sites in\n",
    "    the corresponding structure because each vector descriptor\n",
    "    is a list of eigenvalues of the SCM.  The SCM is positive\n",
    "    definite, so its eigenvalues are positive.  This class only\n",
    "    changes the results slightly, however, so the script can\n",
    "    be simplified by replacing the SCM estimator below with a\n",
    "    plain KernelRidge() instance.\n",
    "    \"\"\"\n",
    "\n",
    "    def __init__(self, alpha=1, kernel='linear', gamma=None,\n",
    "                 degree=3, coef0=1, kernel_params=None):\n",
    "        super(KrrScm, self).__init__(alpha, kernel, gamma,\n",
    "                                     degree, coef0, kernel_params)\n",
    "\n",
    "    def score(self, X, y):\n",
    "        sizes = np.array([self.length(row) for row in X])\n",
    "        y_pred = self.predict(X) / sizes\n",
    "        y_true = y / sizes\n",
    "        return sklearn.metrics.r2_score(y_true, y_pred)\n",
    "\n",
    "    def length(self, vec):\n",
    "        return vec[vec != 0].shape[0]"
   ]
  },
  {
   "cell_type": "code",
   "execution_count": 142,
   "metadata": {},
   "outputs": [],
   "source": [
    "krr = KrrScm()\n",
    "params = {}\n",
    "params['scm'] = [{'kernel' : ['rbf'], 'alpha' : [10**(-a) for a in range(2,6)],\n",
    "    'gamma': [1/2.0/s/s for s in (20000,40000,80000,160000,320000)]},\n",
    "    {'kernel' : ['laplacian'], 'alpha' : [10**(-a) for a in range(2,6)],\n",
    "    'gamma' : [1.0/s for s in (20000,40000,80000,160000,320000)]}]"
   ]
  },
  {
   "cell_type": "code",
   "execution_count": 144,
   "metadata": {},
   "outputs": [],
   "source": [
    "hpsel = GridSearchCV(krr, params['scm'], cv=KFold(5), refit=True)"
   ]
  },
  {
   "cell_type": "markdown",
   "metadata": {},
   "source": [
    "Train KRR model using training set data"
   ]
  },
  {
   "cell_type": "code",
   "execution_count": 146,
   "metadata": {},
   "outputs": [],
   "source": [
    "import warnings, sklearn\n",
    "with warnings.catch_warnings():\n",
    "    warnings.simplefilter(\"ignore\")\n",
    "    hpsel.fit(x_train_krr, y_train_krr)"
   ]
  },
  {
   "cell_type": "markdown",
   "metadata": {},
   "source": [
    "Assign best hyperparameters to model"
   ]
  },
  {
   "cell_type": "code",
   "execution_count": 147,
   "metadata": {},
   "outputs": [],
   "source": [
    "krr = hpsel.best_estimator_"
   ]
  },
  {
   "cell_type": "markdown",
   "metadata": {},
   "source": [
    "Prediction data"
   ]
  },
  {
   "cell_type": "code",
   "execution_count": 148,
   "metadata": {},
   "outputs": [],
   "source": [
    "import warnings\n",
    "with warnings.catch_warnings():\n",
    "    warnings.simplefilter(\"ignore\")\n",
    "    cv_test_krr = cross_val_predict(krr, x_test_krr, y_test_krr, cv=KFold(n_splits=5))"
   ]
  },
  {
   "cell_type": "markdown",
   "metadata": {},
   "source": [
    "## 2) Ward et al (2016) - RandomForestRegressor on \"general purpose\" attributes  "
   ]
  },
  {
   "cell_type": "markdown",
   "metadata": {},
   "source": [
    "Copy data into a new variable"
   ]
  },
  {
   "cell_type": "code",
   "execution_count": 82,
   "metadata": {},
   "outputs": [],
   "source": [
    "df_ward2016 = data.copy()"
   ]
  },
  {
   "cell_type": "markdown",
   "metadata": {},
   "source": [
    "Convert composition to pymatgen composition object "
   ]
  },
  {
   "cell_type": "code",
   "execution_count": 83,
   "metadata": {},
   "outputs": [],
   "source": [
    "df_ward2016['composition_obj'] = str_to_composition(df_ward2016['composition'])"
   ]
  },
  {
   "cell_type": "markdown",
   "metadata": {},
   "source": [
    "Compute the features"
   ]
  },
  {
   "cell_type": "code",
   "execution_count": 84,
   "metadata": {},
   "outputs": [
    {
     "name": "stderr",
     "output_type": "stream",
     "text": [
      "/Users/AikRui/anaconda3/lib/python3.6/site-packages/pymatgen/core/periodic_table.py:409: UserWarning:\n",
      "\n",
      "No electronegativity for Ne. Setting to NaN. This has no physical meaning, and is mainly done to avoid errors caused by the code expecting a float.\n",
      "\n",
      "/Users/AikRui/anaconda3/lib/python3.6/site-packages/pymatgen/core/periodic_table.py:409: UserWarning:\n",
      "\n",
      "No electronegativity for He. Setting to NaN. This has no physical meaning, and is mainly done to avoid errors caused by the code expecting a float.\n",
      "\n"
     ]
    }
   ],
   "source": [
    "ft = MultipleFeaturizer([cf.Stoichiometry(), cf.ElementProperty.from_preset(\"magpie\"),\n",
    "                         cf.ValenceOrbital(props=['avg']), cf.IonProperty(fast=True)])\n",
    "df_ward2016 = ft.featurize_dataframe(df_ward2016, col_id='composition_obj', ignore_errors=True)"
   ]
  },
  {
   "cell_type": "markdown",
   "metadata": {},
   "source": [
    "Remove entries with `NaN` or `infinite` features"
   ]
  },
  {
   "cell_type": "code",
   "execution_count": 85,
   "metadata": {},
   "outputs": [
    {
     "name": "stdout",
     "output_type": "stream",
     "text": [
      "Removed 2/3938 entries\n"
     ]
    }
   ],
   "source": [
    "original_count = len(df_ward2016)\n",
    "df_ward2016 = df_ward2016.dropna()\n",
    "print('Removed %d/%d entries'%(original_count - len(df_ward2016), original_count))"
   ]
  },
  {
   "cell_type": "code",
   "execution_count": 86,
   "metadata": {},
   "outputs": [
    {
     "name": "stdout",
     "output_type": "stream",
     "text": [
      "Shape of featurized data:  (3936, 154)\n"
     ]
    }
   ],
   "source": [
    "print (\"Shape of featurized data: \", df_ward2016.shape)"
   ]
  },
  {
   "cell_type": "markdown",
   "metadata": {},
   "source": [
    "#### Splitting dataset into training and testing dataset "
   ]
  },
  {
   "cell_type": "code",
   "execution_count": 88,
   "metadata": {},
   "outputs": [],
   "source": [
    "x = df_ward2016.drop(['material_id', 'e_above_hull', 'formula', 'nsites', 'structure', 'formation_energy', 'formation_energy_per_atom', 'composition', 'composition_obj'], 1)\n",
    "y = df_ward2016['formation_energy_per_atom']"
   ]
  },
  {
   "cell_type": "code",
   "execution_count": 89,
   "metadata": {},
   "outputs": [],
   "source": [
    "x_train_ward2016, x_test_ward2016, y_train_ward2016, y_test_ward2016 = train_test_split(x, y, test_size=0.2, shuffle=True)"
   ]
  },
  {
   "cell_type": "markdown",
   "metadata": {},
   "source": [
    "### Build ML model\n",
    "\n",
    "We will consider only Random Forest Regressor model. Here we fine tune the number of features used in each decision tree using GridSearchCV."
   ]
  },
  {
   "cell_type": "code",
   "execution_count": 113,
   "metadata": {},
   "outputs": [],
   "source": [
    "param = dict(max_features=(np.linspace(0.1, 1, 10)).tolist())\n",
    "ward2016 = GridSearchCV(RandomForestRegressor(n_estimators=100),\n",
    "                        param_grid=param,\n",
    "                        scoring='neg_mean_squared_error',\n",
    "                        cv=KFold(5))"
   ]
  },
  {
   "cell_type": "markdown",
   "metadata": {},
   "source": [
    "Fit using training set"
   ]
  },
  {
   "cell_type": "code",
   "execution_count": 115,
   "metadata": {},
   "outputs": [
    {
     "data": {
      "text/plain": [
       "GridSearchCV(cv=KFold(n_splits=5, random_state=None, shuffle=False),\n",
       "       error_score='raise',\n",
       "       estimator=RandomForestRegressor(bootstrap=True, criterion='mse', max_depth=None,\n",
       "           max_features='auto', max_leaf_nodes=None,\n",
       "           min_impurity_decrease=0.0, min_impurity_split=None,\n",
       "           min_samples_leaf=1, min_samples_split=2,\n",
       "           min_weight_fraction_leaf=0.0, n_estimators=100, n_jobs=1,\n",
       "           oob_score=False, random_state=None, verbose=0, warm_start=False),\n",
       "       fit_params=None, iid=True, n_jobs=1,\n",
       "       param_grid={'max_features': [0.1, 0.2, 0.30000000000000004, 0.4, 0.5, 0.6, 0.7000000000000001, 0.8, 0.9, 1.0]},\n",
       "       pre_dispatch='2*n_jobs', refit=True, return_train_score='warn',\n",
       "       scoring='neg_mean_squared_error', verbose=0)"
      ]
     },
     "execution_count": 115,
     "metadata": {},
     "output_type": "execute_result"
    }
   ],
   "source": [
    "%%time\n",
    "ward2016.fit(x_train_ward2016, y_train_ward2016)"
   ]
  },
  {
   "cell_type": "markdown",
   "metadata": {},
   "source": [
    "Save the best model"
   ]
  },
  {
   "cell_type": "code",
   "execution_count": 117,
   "metadata": {},
   "outputs": [],
   "source": [
    "ward2016 = ward2016.best_estimator_"
   ]
  },
  {
   "cell_type": "markdown",
   "metadata": {},
   "source": [
    "Predict testing data using model"
   ]
  },
  {
   "cell_type": "code",
   "execution_count": 118,
   "metadata": {},
   "outputs": [],
   "source": [
    "cv_test_ward2016 = cross_val_predict(ward2016, x_test_ward2016, y_test_ward2016, cv=KFold(n_splits=5))"
   ]
  },
  {
   "cell_type": "markdown",
   "metadata": {},
   "source": [
    "## 3) Ward et al (2017) - Voronoi-tessellation-based machine learning approach \n",
    "\n",
    "Since the featurization takes a long time, we import the featurized pickle file ready for processing"
   ]
  },
  {
   "cell_type": "code",
   "execution_count": 119,
   "metadata": {},
   "outputs": [],
   "source": [
    "df_ward2017 = pd.read_pickle('./ward2017_featurized_data.pkl')"
   ]
  },
  {
   "cell_type": "markdown",
   "metadata": {},
   "source": [
    "Splitting dataset into training and testing data"
   ]
  },
  {
   "cell_type": "code",
   "execution_count": 120,
   "metadata": {},
   "outputs": [],
   "source": [
    "x = df_ward2017.drop(['material_id', 'e_above_hull', 'formula', 'nsites', 'structure', 'formation_energy', 'formation_energy_per_atom'], 1)\n",
    "y = df_ward2017['formation_energy_per_atom']"
   ]
  },
  {
   "cell_type": "code",
   "execution_count": 124,
   "metadata": {},
   "outputs": [],
   "source": [
    "x_train_ward2017, x_test_ward2017, y_train_ward2017, y_test_ward2017 = train_test_split(x, y, test_size=0.2, shuffle=True)"
   ]
  },
  {
   "cell_type": "markdown",
   "metadata": {},
   "source": [
    "#### Train ML model (Random Forest Regressor) "
   ]
  },
  {
   "cell_type": "code",
   "execution_count": 123,
   "metadata": {},
   "outputs": [],
   "source": [
    "ward2017 = Pipeline([\n",
    "    ('imputer', Imputer()), # For the failed structures\n",
    "    ('model', RandomForestRegressor(n_estimators=100, n_jobs=-1))\n",
    "])"
   ]
  },
  {
   "cell_type": "code",
   "execution_count": 125,
   "metadata": {},
   "outputs": [
    {
     "name": "stdout",
     "output_type": "stream",
     "text": [
      "CPU times: user 46.3 s, sys: 333 ms, total: 46.6 s\n",
      "Wall time: 14.2 s\n"
     ]
    },
    {
     "data": {
      "text/plain": [
       "Pipeline(memory=None,\n",
       "     steps=[('imputer', Imputer(axis=0, copy=True, missing_values='NaN', strategy='mean', verbose=0)), ('model', RandomForestRegressor(bootstrap=True, criterion='mse', max_depth=None,\n",
       "           max_features='auto', max_leaf_nodes=None,\n",
       "           min_impurity_decrease=0.0, min_impurity_split=None,\n",
       "           min_samples_leaf=1, min_samples_split=2,\n",
       "           min_weight_fraction_leaf=0.0, n_estimators=100, n_jobs=-1,\n",
       "           oob_score=False, random_state=None, verbose=0, warm_start=False))])"
      ]
     },
     "execution_count": 125,
     "metadata": {},
     "output_type": "execute_result"
    }
   ],
   "source": [
    "%%time \n",
    "ward2017.fit(x_train_ward2017, y_train_ward2017)"
   ]
  },
  {
   "cell_type": "code",
   "execution_count": 126,
   "metadata": {},
   "outputs": [],
   "source": [
    "cv_test_ward2017 = cross_val_predict(ward2017, x_test_ward2017, y_test_ward2017, cv=KFold(n_splits=5))"
   ]
  },
  {
   "cell_type": "markdown",
   "metadata": {},
   "source": [
    "## Now we compare these three models "
   ]
  },
  {
   "cell_type": "code",
   "execution_count": 134,
   "metadata": {},
   "outputs": [],
   "source": [
    "KRR = {\"mean_absolute_error\": 0.0, \"mean_squared_error\": 0.0, \"r2_score\": 0.0}\n",
    "WARD2016 = {\"mean_absolute_error\": 0.0, \"mean_squared_error\": 0.0, \"r2_score\": 0.0}\n",
    "WARD2017 = {\"mean_absolute_error\": 0.0, \"mean_squared_error\": 0.0, \"r2_score\": 0.0}"
   ]
  },
  {
   "cell_type": "code",
   "execution_count": 149,
   "metadata": {},
   "outputs": [],
   "source": [
    "for scorer in ['r2_score', 'mean_absolute_error', 'mean_squared_error']:\n",
    "    KRR[scorer] = (getattr(metrics,scorer)(y_test_krr, cv_test_krr))\n",
    "    WARD2016[scorer] = (getattr(metrics,scorer)(y_test_ward2016, cv_test_ward2016))\n",
    "    WARD2017[scorer] = (getattr(metrics,scorer)(y_test_ward2017, cv_test_ward2017))"
   ]
  },
  {
   "cell_type": "markdown",
   "metadata": {},
   "source": [
    "Plot predictions"
   ]
  },
  {
   "cell_type": "code",
   "execution_count": 196,
   "metadata": {},
   "outputs": [
    {
     "data": {
      "image/png": "[encoded data removed]",
      "text/plain": [
       "<matplotlib.figure.Figure at 0x137670eb8>"
      ]
     },
     "metadata": {},
     "output_type": "display_data"
    }
   ],
   "source": [
    "fig, (ax1, ax2, ax3) = plt.subplots(1, 3, sharey=True, sharex=True)\n",
    "\n",
    "ax1.set_xlim([-5, 2])\n",
    "ax1.set_ylim([-5, 2])\n",
    "\n",
    "fig.suptitle(\"Formation Enthalpy Prediction\", fontsize=18, x=0.53, y=0.96, weight='bold')\n",
    "ax1.set_ylabel(\"Predicted $\\Delta H_{f, atom}$ (eV/atom)\", fontsize=14)\n",
    "ax2.set_xlabel(\"Calculated $\\Delta H_{f, atom}$ (eV/atom)\", fontsize=14)\n",
    "\n",
    "ax1.set_title(\"Faber2015\")\n",
    "ax1.scatter(y_test_krr, cv_test_krr, marker='.', color='r')\n",
    "ax1.plot(ax1.get_xlim(), ax1.get_xlim(), 'k--')\n",
    "\n",
    "ax2.set_title(\"Ward2016\")\n",
    "ax2.scatter(y_test_ward2016, cv_test_ward2016, marker='.', color='orange')\n",
    "ax2.plot(ax2.get_xlim(), ax2.get_xlim(), 'k--')\n",
    "\n",
    "ax3.set_title(\"Ward2017\")\n",
    "ax3.scatter(y_test_ward2017, cv_test_ward2017, marker='.')\n",
    "ax3.plot(ax3.get_xlim(), ax3.get_xlim(), 'k--')\n",
    "\n",
    "ax1.text(0.37, 0.02, 'MAE: {:.3f} eV/atom\\nRMSE: {:.3f} eV/atom\\n R2: {:.3f}'.format(KRR['mean_absolute_error'], np.sqrt(KRR['mean_squared_error']), KRR['r2_score']),\n",
    "        transform=ax1.transAxes,\n",
    "        bbox={'facecolor': 'w', 'edgecolor': 'k'})\n",
    "ax2.text(0.37, 0.02, 'MAE: {:.3f} eV/atom\\nRMSE: {:.3f} eV/atom\\n R2: {:.3f}'.format(WARD2016['mean_absolute_error'], np.sqrt(WARD2016['mean_squared_error']), WARD2016['r2_score']),\n",
    "        transform=ax2.transAxes,\n",
    "        bbox={'facecolor': 'w', 'edgecolor': 'k'})\n",
    "ax3.text(0.37, 0.02, 'MAE: {:.3f} eV/atom\\nRMSE: {:.3f} eV/atom\\n R2: {:.3f}'.format(WARD2017['mean_absolute_error'], np.sqrt(WARD2017['mean_squared_error']), WARD2017['r2_score']),\n",
    "        transform=ax3.transAxes,\n",
    "        bbox={'facecolor': 'w', 'edgecolor': 'k'})\n",
    "\n",
    "fig.set_size_inches((12, 7))\n",
    "fig.subplots_adjust(wspace=0.05)"
   ]
  },
  {
   "cell_type": "code",
   "execution_count": null,
   "metadata": {},
   "outputs": [],
   "source": []
  }
 ],
 "metadata": {
  "kernelspec": {
   "display_name": "Python 3",
   "language": "python",
   "name": "python3"
  },
  "language_info": {
   "codemirror_mode": {
    "name": "ipython",
    "version": 3
   },
   "file_extension": ".py",
   "mimetype": "text/x-python",
   "name": "python",
   "nbconvert_exporter": "python",
   "pygments_lexer": "ipython3",
   "version": "3.6.4"
  }
 },
 "nbformat": 4,
 "nbformat_minor": 2
}
