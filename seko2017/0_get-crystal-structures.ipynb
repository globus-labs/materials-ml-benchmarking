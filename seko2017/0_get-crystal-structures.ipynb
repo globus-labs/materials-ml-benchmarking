{
 "cells": [
  {
   "cell_type": "markdown",
   "metadata": {},
   "source": [
    "# Get the Crystal Structures\n",
    "Get the crystal structures associated with the melting temperature data of [Seko 2014](https://journals.aps.org/prb/abstract/10.1103/PhysRevB.89.054303)."
   ]
  },
  {
   "cell_type": "code",
   "execution_count": 1,
   "metadata": {
    "collapsed": true
   },
   "outputs": [],
   "source": [
    "from tqdm import tqdm_notebook as tqdm\n",
    "from pymatgen.io.vasp import Poscar\n",
    "from pymatgen.ext.matproj import MPRester\n",
    "import pandas as pd"
   ]
  },
  {
   "cell_type": "markdown",
   "metadata": {},
   "source": [
    "## Load in the Melting Temperature Data\n",
    "We've stored it in `melting_temperature.csv`"
   ]
  },
  {
   "cell_type": "code",
   "execution_count": 2,
   "metadata": {},
   "outputs": [
    {
     "name": "stdout",
     "output_type": "stream",
     "text": [
      "Loaded 248 entries\n"
     ]
    }
   ],
   "source": [
    "data = pd.read_csv('melting_temperature.csv', header=1)\n",
    "print('Loaded {} entries'.format(len(data)))"
   ]
  },
  {
   "cell_type": "markdown",
   "metadata": {},
   "source": [
    "## Get the Crystal Structures at Each Composition\n",
    "Following the procedure of [Seko 2017](http://link.aps.org/doi/10.1103/PhysRevB.95.144110), we get the lowest energy ICSD compound at each composition"
   ]
  },
  {
   "cell_type": "code",
   "execution_count": 3,
   "metadata": {
    "collapsed": true
   },
   "outputs": [],
   "source": [
    "rester = MPRester()"
   ]
  },
  {
   "cell_type": "code",
   "execution_count": 4,
   "metadata": {
    "collapsed": true
   },
   "outputs": [],
   "source": [
    "def get_material_id(composition):\n",
    "    \"\"\"Given the composition, get the lowest-energy ICSD structure\n",
    "    \n",
    "    Args:\n",
    "        composition (string): Composition to search\n",
    "    Return:\n",
    "        (string) materials_id of desired structure\n",
    "    \"\"\"\n",
    "    \n",
    "    # Get all structures at this composition\n",
    "    mids = rester.get_materials_ids(composition)\n",
    "    \n",
    "    # Get all structures\n",
    "    strcs = sum([rester.get_data(mid) for mid in mids], [])\n",
    "    \n",
    "    # Get only structures from the ICSD\n",
    "    strcs = [x for x in strcs if len(x['icsd_ids']) > 0]\n",
    "    \n",
    "    # Sort by energy\n",
    "    strcs = sorted(strcs, key=lambda x: x['energy'])\n",
    "    return strcs[0]['material_id']"
   ]
  },
  {
   "cell_type": "code",
   "execution_count": 5,
   "metadata": {},
   "outputs": [
    {
     "data": {
      "application/vnd.jupyter.widget-view+json": {
       "model_id": "6ce53369f8a442ccac16d25d9d497601",
       "version_major": 2,
       "version_minor": 0
      },
      "text/plain": [
       "A Jupyter Widget"
      ]
     },
     "metadata": {},
     "output_type": "display_data"
    },
    {
     "name": "stdout",
     "output_type": "stream",
     "text": [
      "\n"
     ]
    }
   ],
   "source": [
    "data['material_id'] = [get_material_id(x) for x in tqdm(data['composition'])]"
   ]
  },
  {
   "cell_type": "code",
   "execution_count": 7,
   "metadata": {},
   "outputs": [
    {
     "data": {
      "application/vnd.jupyter.widget-view+json": {
       "model_id": "71a0c14c8c014329a4445fa64943526a",
       "version_major": 2,
       "version_minor": 0
      },
      "text/plain": [
       "A Jupyter Widget"
      ]
     },
     "metadata": {},
     "output_type": "display_data"
    }
   ],
   "source": [
    "data['structure'] = [rester.get_structure_by_material_id(x) for x in tqdm(data['material_id'])]"
   ]
  },
  {
   "cell_type": "markdown",
   "metadata": {},
   "source": [
    "## Save the Data to Disk\n",
    "Save it as a CSV file with the structure in POSCAR format"
   ]
  },
  {
   "cell_type": "code",
   "execution_count": 8,
   "metadata": {},
   "outputs": [
    {
     "data": {
      "application/vnd.jupyter.widget-view+json": {
       "model_id": "886911dec7b94ffbaf6a974713b18239",
       "version_major": 2,
       "version_minor": 0
      },
      "text/plain": [
       "A Jupyter Widget"
      ]
     },
     "metadata": {},
     "output_type": "display_data"
    }
   ],
   "source": [
    "data['poscar'] = [Poscar(x).get_string() for x in tqdm(data['structure'])]"
   ]
  },
  {
   "cell_type": "code",
   "execution_count": 9,
   "metadata": {
    "collapsed": true
   },
   "outputs": [],
   "source": [
    "data.drop(['structure'], 'columns').to_csv('melting_temperature_with_structures.csv', index=False)"
   ]
  },
  {
   "cell_type": "code",
   "execution_count": null,
   "metadata": {
    "collapsed": true
   },
   "outputs": [],
   "source": []
  }
 ],
 "metadata": {
  "kernelspec": {
   "display_name": "Python 3",
   "language": "python",
   "name": "python3"
  },
  "language_info": {
   "codemirror_mode": {
    "name": "ipython",
    "version": 3
   },
   "file_extension": ".py",
   "mimetype": "text/x-python",
   "name": "python",
   "nbconvert_exporter": "python",
   "pygments_lexer": "ipython3",
   "version": "3.6.5"
  }
 },
 "nbformat": 4,
 "nbformat_minor": 2
}
