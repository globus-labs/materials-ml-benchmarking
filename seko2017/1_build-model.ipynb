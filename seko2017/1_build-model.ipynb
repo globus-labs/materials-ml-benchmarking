{
 "cells": [
  {
   "cell_type": "markdown",
   "metadata": {},
   "source": [
    "# Predict Melting Temperature Using the Representation of Seko et al. 2017\n",
    "Evaluates the performance of the crystal structure representation of [Seko et al. _PRB_ (2017)](https://doi.org/10.1088/1367-2630/aa57c2) for predicting the melting temperature."
   ]
  },
  {
   "cell_type": "code",
   "execution_count": 1,
   "metadata": {
    "collapsed": true
   },
   "outputs": [],
   "source": [
    "%matplotlib inline\n",
    "from matplotlib import pyplot as plt\n",
    "from matminer.featurizers.base import MultipleFeaturizer\n",
    "from matminer.featurizers.utils.grdf import Bessel, Cosine, Gaussian, Sine\n",
    "from matminer.featurizers.site import GeneralizedRadialDistributionFunction, BondOrientationalParameter, SiteElementalProperty, BondOrientationalParameter\n",
    "from matminer.featurizers.structure import SiteStatsFingerprint\n",
    "from pymatgen.io.vasp import Poscar\n",
    "from pymatgen.core import IStructure\n",
    "from scipy.optimize import minimize\n",
    "from sklearn.kernel_ridge import KernelRidge\n",
    "from sklearn.model_selection import ShuffleSplit, GridSearchCV, cross_val_score, KFold\n",
    "from sklearn.pipeline import Pipeline\n",
    "from sklearn.preprocessing import MinMaxScaler, StandardScaler, Imputer\n",
    "from sklearn import metrics\n",
    "from scipy import stats\n",
    "from tqdm import tqdm_notebook as tqdm\n",
    "import pandas as pd\n",
    "import numpy as np\n",
    "import itertools"
   ]
  },
  {
   "cell_type": "markdown",
   "metadata": {},
   "source": [
    "## Load in the Training Set\n",
    "Originally from [Seko 2014](https://journals.aps.org/prb/abstract/10.1103/PhysRevB.89.054303), we recreated it in an earlier notebook."
   ]
  },
  {
   "cell_type": "code",
   "execution_count": 2,
   "metadata": {},
   "outputs": [
    {
     "name": "stdout",
     "output_type": "stream",
     "text": [
      "Loaded 248 entries\n",
      "CPU times: user 11.5 ms, sys: 3.91 ms, total: 15.4 ms\n",
      "Wall time: 14 ms\n"
     ]
    }
   ],
   "source": [
    "%%time\n",
    "data = pd.read_csv('melting_temperature_with_structures.csv')\n",
    "print('Loaded {} entries'.format(len(data)))"
   ]
  },
  {
   "cell_type": "markdown",
   "metadata": {},
   "source": [
    "Convert the entries to Structure objects"
   ]
  },
  {
   "cell_type": "code",
   "execution_count": 3,
   "metadata": {
    "collapsed": true
   },
   "outputs": [],
   "source": [
    "data['structure'] = [Poscar.from_string(x).structure for x in data['poscar']]"
   ]
  },
  {
   "cell_type": "code",
   "execution_count": 4,
   "metadata": {
    "collapsed": true
   },
   "outputs": [],
   "source": [
    "data['structure'] = data['structure'].apply(IStructure.from_sites)"
   ]
  },
  {
   "cell_type": "markdown",
   "metadata": {},
   "source": [
    "Get a baseline score for the melting temperature: The standard deviation of the training set"
   ]
  },
  {
   "cell_type": "code",
   "execution_count": 5,
   "metadata": {},
   "outputs": [
    {
     "name": "stdout",
     "output_type": "stream",
     "text": [
      "Baseline score: 601.5 K\n"
     ]
    }
   ],
   "source": [
    "baseline = data['melting_temp'].std()\n",
    "print('Baseline score: {:.1f} K'.format(baseline))"
   ]
  },
  {
   "cell_type": "markdown",
   "metadata": {},
   "source": [
    "## Create the featurizers\n",
    "In Seko's original paper, he tests 12 different featurization methods (see Table III). These vary by which structural representations they use (if any) and whether they use the mean of the site properties, the mean and the standard deviation, or the mean, standard deviation and the covariance. We will test all of them"
   ]
  },
  {
   "cell_type": "markdown",
   "metadata": {},
   "source": [
    "First, we make all the component site featurizers"
   ]
  },
  {
   "cell_type": "code",
   "execution_count": 6,
   "metadata": {
    "collapsed": true
   },
   "outputs": [],
   "source": [
    "elem = SiteElementalProperty.from_preset('seko-prb-2017')\n",
    "a_range = np.arange(0.4, 4.01, 0.4)\n",
    "grdf = GeneralizedRadialDistributionFunction([Cosine(a) for a in a_range] + [Sine(a) for a in a_range], cutoff=6)\n",
    "bop = BondOrientationalParameter(max_l=10, compute_w=True)"
   ]
  },
  {
   "cell_type": "markdown",
   "metadata": {},
   "source": [
    "Now, we generate many experiments to be run"
   ]
  },
  {
   "cell_type": "code",
   "execution_count": 7,
   "metadata": {
    "collapsed": true
   },
   "outputs": [],
   "source": [
    "models = pd.DataFrame([{\n",
    "    'featurizer': SiteStatsFingerprint(MultipleFeaturizer([elem] + strc), stats=stats, covariance=co),\n",
    "    'covariance': co \n",
    "} for strc, stats, co \n",
    "    in itertools.product([[], [grdf], [bop], [grdf, bop]], [('mean',), ('mean', 'std_dev')], [True, False])])"
   ]
  },
  {
   "cell_type": "markdown",
   "metadata": {},
   "source": [
    "And trim the ones not in the paper"
   ]
  },
  {
   "cell_type": "code",
   "execution_count": 8,
   "metadata": {},
   "outputs": [
    {
     "name": "stdout",
     "output_type": "stream",
     "text": [
      "Number of tests: 12\n"
     ]
    }
   ],
   "source": [
    "models = models[np.logical_not([f.stats == ('mean',) and f.covariance for f in models['featurizer']])]\n",
    "models.reset_index(drop=True, inplace=True)\n",
    "print('Number of tests:', len(models))"
   ]
  },
  {
   "cell_type": "markdown",
   "metadata": {},
   "source": [
    "Make the dataframe easier to read"
   ]
  },
  {
   "cell_type": "code",
   "execution_count": 9,
   "metadata": {
    "collapsed": true
   },
   "outputs": [],
   "source": [
    "models['stats'] = [f.stats for f in models['featurizer']]"
   ]
  },
  {
   "cell_type": "code",
   "execution_count": 10,
   "metadata": {},
   "outputs": [],
   "source": [
    "models['features'] = [[s.__class__.__name__ for s in f.site_featurizer.featurizers] for f in models['featurizer']]"
   ]
  },
  {
   "cell_type": "code",
   "execution_count": 11,
   "metadata": {},
   "outputs": [],
   "source": [
    "models['n_features'] = [len(s.feature_labels()) for s in models['featurizer']]"
   ]
  },
  {
   "cell_type": "code",
   "execution_count": 12,
   "metadata": {},
   "outputs": [
    {
     "data": {
      "text/html": [
       "<div>\n",
       "<style scoped>\n",
       "    .dataframe tbody tr th:only-of-type {\n",
       "        vertical-align: middle;\n",
       "    }\n",
       "\n",
       "    .dataframe tbody tr th {\n",
       "        vertical-align: top;\n",
       "    }\n",
       "\n",
       "    .dataframe thead th {\n",
       "        text-align: right;\n",
       "    }\n",
       "</style>\n",
       "<table border=\"1\" class=\"dataframe\">\n",
       "  <thead>\n",
       "    <tr style=\"text-align: right;\">\n",
       "      <th></th>\n",
       "      <th>covariance</th>\n",
       "      <th>featurizer</th>\n",
       "      <th>stats</th>\n",
       "      <th>features</th>\n",
       "      <th>n_features</th>\n",
       "    </tr>\n",
       "  </thead>\n",
       "  <tbody>\n",
       "    <tr>\n",
       "      <th>0</th>\n",
       "      <td>False</td>\n",
       "      <td>SiteStatsFingerprint(covariance=False, max_oxi...</td>\n",
       "      <td>(mean,)</td>\n",
       "      <td>[SiteElementalProperty]</td>\n",
       "      <td>22</td>\n",
       "    </tr>\n",
       "    <tr>\n",
       "      <th>1</th>\n",
       "      <td>True</td>\n",
       "      <td>SiteStatsFingerprint(covariance=True, max_oxi=...</td>\n",
       "      <td>(mean, std_dev)</td>\n",
       "      <td>[SiteElementalProperty]</td>\n",
       "      <td>275</td>\n",
       "    </tr>\n",
       "    <tr>\n",
       "      <th>2</th>\n",
       "      <td>False</td>\n",
       "      <td>SiteStatsFingerprint(covariance=False, max_oxi...</td>\n",
       "      <td>(mean, std_dev)</td>\n",
       "      <td>[SiteElementalProperty]</td>\n",
       "      <td>44</td>\n",
       "    </tr>\n",
       "    <tr>\n",
       "      <th>3</th>\n",
       "      <td>False</td>\n",
       "      <td>SiteStatsFingerprint(covariance=False, max_oxi...</td>\n",
       "      <td>(mean,)</td>\n",
       "      <td>[SiteElementalProperty, GeneralizedRadialDistr...</td>\n",
       "      <td>42</td>\n",
       "    </tr>\n",
       "    <tr>\n",
       "      <th>4</th>\n",
       "      <td>True</td>\n",
       "      <td>SiteStatsFingerprint(covariance=True, max_oxi=...</td>\n",
       "      <td>(mean, std_dev)</td>\n",
       "      <td>[SiteElementalProperty, GeneralizedRadialDistr...</td>\n",
       "      <td>945</td>\n",
       "    </tr>\n",
       "    <tr>\n",
       "      <th>5</th>\n",
       "      <td>False</td>\n",
       "      <td>SiteStatsFingerprint(covariance=False, max_oxi...</td>\n",
       "      <td>(mean, std_dev)</td>\n",
       "      <td>[SiteElementalProperty, GeneralizedRadialDistr...</td>\n",
       "      <td>84</td>\n",
       "    </tr>\n",
       "    <tr>\n",
       "      <th>6</th>\n",
       "      <td>False</td>\n",
       "      <td>SiteStatsFingerprint(covariance=False, max_oxi...</td>\n",
       "      <td>(mean,)</td>\n",
       "      <td>[SiteElementalProperty, BondOrientationalParam...</td>\n",
       "      <td>42</td>\n",
       "    </tr>\n",
       "    <tr>\n",
       "      <th>7</th>\n",
       "      <td>True</td>\n",
       "      <td>SiteStatsFingerprint(covariance=True, max_oxi=...</td>\n",
       "      <td>(mean, std_dev)</td>\n",
       "      <td>[SiteElementalProperty, BondOrientationalParam...</td>\n",
       "      <td>945</td>\n",
       "    </tr>\n",
       "    <tr>\n",
       "      <th>8</th>\n",
       "      <td>False</td>\n",
       "      <td>SiteStatsFingerprint(covariance=False, max_oxi...</td>\n",
       "      <td>(mean, std_dev)</td>\n",
       "      <td>[SiteElementalProperty, BondOrientationalParam...</td>\n",
       "      <td>84</td>\n",
       "    </tr>\n",
       "    <tr>\n",
       "      <th>9</th>\n",
       "      <td>False</td>\n",
       "      <td>SiteStatsFingerprint(covariance=False, max_oxi...</td>\n",
       "      <td>(mean,)</td>\n",
       "      <td>[SiteElementalProperty, GeneralizedRadialDistr...</td>\n",
       "      <td>62</td>\n",
       "    </tr>\n",
       "    <tr>\n",
       "      <th>10</th>\n",
       "      <td>True</td>\n",
       "      <td>SiteStatsFingerprint(covariance=True, max_oxi=...</td>\n",
       "      <td>(mean, std_dev)</td>\n",
       "      <td>[SiteElementalProperty, GeneralizedRadialDistr...</td>\n",
       "      <td>2015</td>\n",
       "    </tr>\n",
       "    <tr>\n",
       "      <th>11</th>\n",
       "      <td>False</td>\n",
       "      <td>SiteStatsFingerprint(covariance=False, max_oxi...</td>\n",
       "      <td>(mean, std_dev)</td>\n",
       "      <td>[SiteElementalProperty, GeneralizedRadialDistr...</td>\n",
       "      <td>124</td>\n",
       "    </tr>\n",
       "  </tbody>\n",
       "</table>\n",
       "</div>"
      ],
      "text/plain": [
       "    covariance                                         featurizer  \\\n",
       "0        False  SiteStatsFingerprint(covariance=False, max_oxi...   \n",
       "1         True  SiteStatsFingerprint(covariance=True, max_oxi=...   \n",
       "2        False  SiteStatsFingerprint(covariance=False, max_oxi...   \n",
       "3        False  SiteStatsFingerprint(covariance=False, max_oxi...   \n",
       "4         True  SiteStatsFingerprint(covariance=True, max_oxi=...   \n",
       "5        False  SiteStatsFingerprint(covariance=False, max_oxi...   \n",
       "6        False  SiteStatsFingerprint(covariance=False, max_oxi...   \n",
       "7         True  SiteStatsFingerprint(covariance=True, max_oxi=...   \n",
       "8        False  SiteStatsFingerprint(covariance=False, max_oxi...   \n",
       "9        False  SiteStatsFingerprint(covariance=False, max_oxi...   \n",
       "10        True  SiteStatsFingerprint(covariance=True, max_oxi=...   \n",
       "11       False  SiteStatsFingerprint(covariance=False, max_oxi...   \n",
       "\n",
       "              stats                                           features  \\\n",
       "0           (mean,)                            [SiteElementalProperty]   \n",
       "1   (mean, std_dev)                            [SiteElementalProperty]   \n",
       "2   (mean, std_dev)                            [SiteElementalProperty]   \n",
       "3           (mean,)  [SiteElementalProperty, GeneralizedRadialDistr...   \n",
       "4   (mean, std_dev)  [SiteElementalProperty, GeneralizedRadialDistr...   \n",
       "5   (mean, std_dev)  [SiteElementalProperty, GeneralizedRadialDistr...   \n",
       "6           (mean,)  [SiteElementalProperty, BondOrientationalParam...   \n",
       "7   (mean, std_dev)  [SiteElementalProperty, BondOrientationalParam...   \n",
       "8   (mean, std_dev)  [SiteElementalProperty, BondOrientationalParam...   \n",
       "9           (mean,)  [SiteElementalProperty, GeneralizedRadialDistr...   \n",
       "10  (mean, std_dev)  [SiteElementalProperty, GeneralizedRadialDistr...   \n",
       "11  (mean, std_dev)  [SiteElementalProperty, GeneralizedRadialDistr...   \n",
       "\n",
       "    n_features  \n",
       "0           22  \n",
       "1          275  \n",
       "2           44  \n",
       "3           42  \n",
       "4          945  \n",
       "5           84  \n",
       "6           42  \n",
       "7          945  \n",
       "8           84  \n",
       "9           62  \n",
       "10        2015  \n",
       "11         124  "
      ]
     },
     "execution_count": 12,
     "metadata": {},
     "output_type": "execute_result"
    }
   ],
   "source": [
    "models"
   ]
  },
  {
   "cell_type": "markdown",
   "metadata": {},
   "source": [
    "## Create a Tool for Training a KRR Model\n",
    "Seko uses a KRR model. To get this to work, we need to first normalize the features and then find an appropriate set of hyperparameters for the KRR model. We do that using the Pipeline and GridSearchCV tools from sklearn. To make this happen, we need a simple function for optimizing the data for different feature types"
   ]
  },
  {
   "cell_type": "markdown",
   "metadata": {},
   "source": [
    "### Build one model to show our method works\n",
    "Walk through the process to show we are doing it sanely"
   ]
  },
  {
   "cell_type": "markdown",
   "metadata": {},
   "source": [
    "#### Make a test dataset\n",
    "We'll use just the first featurizer"
   ]
  },
  {
   "cell_type": "code",
   "execution_count": 13,
   "metadata": {},
   "outputs": [
    {
     "name": "stderr",
     "output_type": "stream",
     "text": [
      "SiteStatsFingerprint: 100%|██████████| 248/248 [00:00<00:00, 272.53it/s]\n"
     ]
    },
    {
     "name": "stdout",
     "output_type": "stream",
     "text": [
      "CPU times: user 119 ms, sys: 128 ms, total: 247 ms\n",
      "Wall time: 1.44 s\n"
     ]
    }
   ],
   "source": [
    "%%time\n",
    "X = models['featurizer'][3].featurize_many(data['structure'].tolist())"
   ]
  },
  {
   "cell_type": "code",
   "execution_count": 14,
   "metadata": {},
   "outputs": [
    {
     "name": "stdout",
     "output_type": "stream",
     "text": [
      "Training data shape: (248, 42)\n"
     ]
    }
   ],
   "source": [
    "X = np.array(X)\n",
    "print('Training data shape:', X.shape)"
   ]
  },
  {
   "cell_type": "markdown",
   "metadata": {},
   "source": [
    "### Create the general model\n",
    "Just set up the basic model template: KRR where we first scale the inputs to all be on the same range. We also need to eliminate missing values, which we do via imputation."
   ]
  },
  {
   "cell_type": "code",
   "execution_count": 15,
   "metadata": {
    "collapsed": true
   },
   "outputs": [],
   "source": [
    "model = Pipeline([\n",
    "    ('imputer', Imputer()), # For compounds that contain elements were we lack elemental properties\n",
    "    ('scaler', MinMaxScaler()), \n",
    "    ('model', KernelRidge(kernel='rbf'))\n",
    "])"
   ]
  },
  {
   "cell_type": "markdown",
   "metadata": {},
   "source": [
    "### Optimize the Model\n",
    "We need to set the $\\gamma$ and $\\alpha$ parameters of the ML model. Note that we need to specifically define that the cross-validation technique shuffles the data, as our dataset is ordered by composition"
   ]
  },
  {
   "cell_type": "code",
   "execution_count": 16,
   "metadata": {
    "collapsed": true
   },
   "outputs": [],
   "source": [
    "cv=ShuffleSplit(test_size=0.1, n_splits=200, random_state=1)"
   ]
  },
  {
   "cell_type": "markdown",
   "metadata": {},
   "source": [
    "Start off by optimizing $\\gamma$"
   ]
  },
  {
   "cell_type": "code",
   "execution_count": 17,
   "metadata": {
    "collapsed": true
   },
   "outputs": [],
   "source": [
    "cv_model=GridSearchCV(model, {'model__gamma': np.logspace(-4,2,16)},\n",
    "                     scoring='neg_mean_squared_error', cv=cv).fit(X, data['melting_temp'])"
   ]
  },
  {
   "cell_type": "code",
   "execution_count": 18,
   "metadata": {},
   "outputs": [
    {
     "data": {
      "text/plain": [
       "{'model__gamma': 0.3981071705534973}"
      ]
     },
     "execution_count": 18,
     "metadata": {},
     "output_type": "execute_result"
    }
   ],
   "source": [
    "cv_model.best_params_"
   ]
  },
  {
   "cell_type": "code",
   "execution_count": 19,
   "metadata": {},
   "outputs": [
    {
     "data": {
      "image/png": "[encoded data removed]",
      "text/plain": [
       "<Figure size 252x144 with 1 Axes>"
      ]
     },
     "metadata": {},
     "output_type": "display_data"
    }
   ],
   "source": [
    "fig, ax = plt.subplots()\n",
    "\n",
    "ax.semilogx(cv_model.cv_results_['param_model__gamma'], np.sqrt(-1 * cv_model.cv_results_['mean_test_score']))\n",
    "\n",
    "ax.set_ylabel('RMSE (K)')\n",
    "ax.set_xlabel('$\\\\gamma$')\n",
    "\n",
    "fig.set_size_inches(3.5, 2)"
   ]
  },
  {
   "cell_type": "code",
   "execution_count": 20,
   "metadata": {
    "collapsed": true
   },
   "outputs": [],
   "source": [
    "model = cv_model.best_estimator_"
   ]
  },
  {
   "cell_type": "code",
   "execution_count": 21,
   "metadata": {},
   "outputs": [
    {
     "name": "stdout",
     "output_type": "stream",
     "text": [
      "Best RMSE: 404.61 K\n"
     ]
    }
   ],
   "source": [
    "print('Best RMSE: {:.2f} K'.format(np.sqrt(-1 * cv_model.best_score_)))"
   ]
  },
  {
   "cell_type": "markdown",
   "metadata": {},
   "source": [
    "Now do $\\alpha$"
   ]
  },
  {
   "cell_type": "code",
   "execution_count": 22,
   "metadata": {
    "collapsed": true
   },
   "outputs": [],
   "source": [
    "cv_model=GridSearchCV(model, {'model__alpha': np.logspace(-4,0,16)},\n",
    "                     scoring='neg_mean_squared_error', cv=cv).fit(X, data['melting_temp'])"
   ]
  },
  {
   "cell_type": "code",
   "execution_count": 23,
   "metadata": {},
   "outputs": [
    {
     "data": {
      "text/plain": [
       "{'model__alpha': 0.046415888336127774}"
      ]
     },
     "execution_count": 23,
     "metadata": {},
     "output_type": "execute_result"
    }
   ],
   "source": [
    "cv_model.best_params_"
   ]
  },
  {
   "cell_type": "code",
   "execution_count": 24,
   "metadata": {},
   "outputs": [
    {
     "data": {
      "image/png": "[encoded data removed]",
      "text/plain": [
       "<Figure size 252x144 with 1 Axes>"
      ]
     },
     "metadata": {},
     "output_type": "display_data"
    }
   ],
   "source": [
    "fig, ax = plt.subplots()\n",
    "\n",
    "ax.semilogx(cv_model.cv_results_['param_model__alpha'], np.sqrt(-1 * cv_model.cv_results_['mean_test_score']))\n",
    "\n",
    "ax.set_ylabel('RMSE (eV/atom)')\n",
    "ax.set_xlabel('$\\\\alpha$')\n",
    "\n",
    "fig.set_size_inches(3.5, 2)"
   ]
  },
  {
   "cell_type": "code",
   "execution_count": 25,
   "metadata": {
    "collapsed": true
   },
   "outputs": [],
   "source": [
    "model = cv_model.best_estimator_"
   ]
  },
  {
   "cell_type": "code",
   "execution_count": 26,
   "metadata": {},
   "outputs": [
    {
     "name": "stdout",
     "output_type": "stream",
     "text": [
      "Best RMSE: 340.54 K\n"
     ]
    }
   ],
   "source": [
    "print('Best RMSE: {:.2f} K'.format(np.sqrt(-1 * cv_model.best_score_)))"
   ]
  },
  {
   "cell_type": "markdown",
   "metadata": {},
   "source": [
    "Note that the best parameter is in the center of the chart for both $\\gamma$ and $\\alpha$. This means we guessed appropriate ranges for both parameters."
   ]
  },
  {
   "cell_type": "markdown",
   "metadata": {},
   "source": [
    "Now optimize both concurrently"
   ]
  },
  {
   "cell_type": "code",
   "execution_count": 27,
   "metadata": {
    "collapsed": true
   },
   "outputs": [],
   "source": [
    "best_gamma = model.steps[-1][1].gamma\n",
    "best_alpha = model.steps[-1][1].alpha"
   ]
  },
  {
   "cell_type": "code",
   "execution_count": 28,
   "metadata": {},
   "outputs": [
    {
     "name": "stdout",
     "output_type": "stream",
     "text": [
      "CPU times: user 2h 1min 18s, sys: 6min 38s, total: 2h 7min 57s\n",
      "Wall time: 12min 52s\n"
     ]
    }
   ],
   "source": [
    "%%time\n",
    "cv_model = GridSearchCV(model, {\n",
    "    'model__gamma': np.logspace(np.log10(best_gamma)-2, np.log10(best_gamma)+2, 25),\n",
    "    'model__alpha': np.logspace(np.log10(best_alpha)-2, np.log10(best_alpha)+2, 25),\n",
    "}, scoring='neg_mean_squared_error', cv=cv).fit(X, data['melting_temp'])"
   ]
  },
  {
   "cell_type": "code",
   "execution_count": 29,
   "metadata": {},
   "outputs": [
    {
     "name": "stdout",
     "output_type": "stream",
     "text": [
      "Best RMSE: 326.45 K\n"
     ]
    }
   ],
   "source": [
    "print('Best RMSE: {:.2f} K'.format(np.sqrt(-1 * cv_model.best_score_)))"
   ]
  },
  {
   "cell_type": "code",
   "execution_count": 30,
   "metadata": {},
   "outputs": [
    {
     "data": {
      "image/png": "[encoded data removed]",
      "text/plain": [
       "<Figure size 216x216 with 2 Axes>"
      ]
     },
     "metadata": {},
     "output_type": "display_data"
    }
   ],
   "source": [
    "fig, ax = plt.subplots()\n",
    "\n",
    "ax.set_xscale('log')\n",
    "ax.set_yscale('log')\n",
    "\n",
    "cb_data = ax.scatter(cv_model.cv_results_['param_model__alpha'], cv_model.cv_results_['param_model__gamma'],\n",
    "                     c=np.sqrt(-1 * cv_model.cv_results_['mean_test_score']), s=60)\n",
    "\n",
    "ax.scatter(cv_model.best_params_['model__alpha'], cv_model.best_params_['model__gamma'], color='red')\n",
    "\n",
    "fig.colorbar(cb_data, label='RMSE (K)')\n",
    "\n",
    "ax.set_ylabel('$\\\\gamma$')\n",
    "ax.set_xlabel('$\\\\alpha$')\n",
    "\n",
    "fig.set_size_inches(3, 3)"
   ]
  },
  {
   "cell_type": "markdown",
   "metadata": {},
   "source": [
    "The red point marks our best model, which is squarely within the bounds of parameters we optimized"
   ]
  },
  {
   "cell_type": "markdown",
   "metadata": {},
   "source": [
    "## Make an Automated Tool for Fitting $\\gamma$ and $\\alpha$\n",
    "Values for $\\gamma$ and $\\alpha$ could be very different for different featurizers. So, we cannot rely on the grid search produced for the above model to fit the hyper parameters. Rather, we propose to use gradient decent"
   ]
  },
  {
   "cell_type": "code",
   "execution_count": 31,
   "metadata": {},
   "outputs": [
    {
     "name": "stdout",
     "output_type": "stream",
     "text": [
      "Optimized RMSE: 320.8 K\n",
      "CPU times: user 20min 56s, sys: 1min 9s, total: 22min 5s\n",
      "Wall time: 2min 12s\n"
     ]
    }
   ],
   "source": [
    "%%time\n",
    "def fit_params(model, cv, X, y):\n",
    "    \"\"\"Fit the parameters of a KRR model using gradient decent.\n",
    "    \n",
    "    Args:\n",
    "        model (Pipeline): Model to be fit. Last step is a KernelRidge and named \"model\"\n",
    "        cv (BaseCrossValidator): Tool used to measure CV accuracy\n",
    "        X (ndarray): Input data\n",
    "        y (ndarray): Output data\n",
    "    Return:\n",
    "        - (Pipeline) Tuned model\n",
    "        - (float) Optimized RMSE\n",
    "    \"\"\"\n",
    "    \n",
    "    # Make the scoring function\n",
    "    def score(x):\n",
    "        model.set_params(model__gamma=np.exp(x[0]), \n",
    "                         model__alpha=np.exp(x[1]))\n",
    "        return np.sqrt(-1 * cross_val_score(model, X, y, cv=cv, scoring='neg_mean_squared_error')).mean()\n",
    "    \n",
    "    # Use alpha and gamma of 1 as a starting point\n",
    "    x0 = [0, 0]\n",
    "    \n",
    "    # Run the optimization\n",
    "    res = minimize(score, x0, method='Nelder-Mead', options={'disp': False})\n",
    "    \n",
    "    # Set the model parameters\n",
    "    rmse = score(res.x)\n",
    "    \n",
    "    return model, rmse\n",
    "model, rmse = fit_params(model, cv, X, data['melting_temp'])\n",
    "print('Optimized RMSE: {:.1f} K'.format(rmse))"
   ]
  },
  {
   "cell_type": "markdown",
   "metadata": {},
   "source": [
    "Plot the parameters "
   ]
  },
  {
   "cell_type": "code",
   "execution_count": 32,
   "metadata": {},
   "outputs": [
    {
     "data": {
      "image/png": "[encoded data removed]",
      "text/plain": [
       "<Figure size 216x216 with 2 Axes>"
      ]
     },
     "metadata": {},
     "output_type": "display_data"
    }
   ],
   "source": [
    "fig, ax = plt.subplots()\n",
    "\n",
    "ax.set_xscale('log')\n",
    "ax.set_yscale('log')\n",
    "\n",
    "cb_data = ax.scatter(cv_model.cv_results_['param_model__alpha'], cv_model.cv_results_['param_model__gamma'],\n",
    "                     c=np.sqrt(-1 * cv_model.cv_results_['mean_test_score']), s=60)\n",
    "\n",
    "ax.scatter(cv_model.best_params_['model__alpha'], cv_model.best_params_['model__gamma'], color='red')\n",
    "ax.scatter(model.get_params()['model__alpha'], model.get_params()['model__gamma'], color='blue')\n",
    "\n",
    "fig.colorbar(cb_data, label='RMSE (K)')\n",
    "\n",
    "ax.set_ylabel('$\\\\gamma$')\n",
    "ax.set_xlabel('$\\\\alpha$')\n",
    "\n",
    "fig.set_size_inches(3, 3)"
   ]
  },
  {
   "cell_type": "markdown",
   "metadata": {},
   "source": [
    "The blue point is the metaparameters found by the minimization routine, which we note are very similar to the GridSearchCV result (red)."
   ]
  },
  {
   "cell_type": "markdown",
   "metadata": {},
   "source": [
    "## Evaluate the models\n",
    "Use 90/10 shuffle split cross-validation, as in the original paper"
   ]
  },
  {
   "cell_type": "code",
   "execution_count": 33,
   "metadata": {},
   "outputs": [
    {
     "data": {
      "text/plain": [
       "(309.1309082145619, 4.894823882871389)"
      ]
     },
     "execution_count": 33,
     "metadata": {},
     "output_type": "execute_result"
    }
   ],
   "source": [
    "def test_model(featurizer, model=model):\n",
    "    \"\"\"Train a machine learning model with a certain featurizer\n",
    "    \n",
    "    Args:\n",
    "        featurizer (BaseFeaturizer): Tool to compute features of crystal structures\n",
    "        model (Pipeline): Pipeline with last step a KernelRidge named \"model\"\n",
    "    Returns:\n",
    "        (float) average RMSE\n",
    "        (float) error in measurement\n",
    "    \"\"\"\n",
    "    \n",
    "    # Compute features\n",
    "    X = featurizer.featurize_many(data['structure'].tolist(), pbar=False)\n",
    "    y = data['melting_temp']\n",
    "    \n",
    "    # Fit the hyperparameters on the whole dataset\n",
    "    fit_params(model, cv, X, y)\n",
    "    \n",
    "    # Run the cross-validation test\n",
    "    mses = cross_val_score(model, X, data['melting_temp'], \n",
    "                           cv=ShuffleSplit(test_size=0.1, n_splits=200, random_state=10),\n",
    "                           scoring='neg_mean_squared_error')\n",
    "    rmses = np.sqrt(-1 * mses)\n",
    "    return rmses.mean(), stats.sem(rmses)\n",
    "test_model(models['featurizer'][3])"
   ]
  },
  {
   "cell_type": "markdown",
   "metadata": {},
   "source": [
    "Run all of the tests"
   ]
  },
  {
   "cell_type": "code",
   "execution_count": 34,
   "metadata": {},
   "outputs": [],
   "source": [
    "models = models.assign(**dict(zip(['rmse', 'rmse_err'],\n",
    "                                  zip(*[test_model(x) for x in models['featurizer']]))))"
   ]
  },
  {
   "cell_type": "markdown",
   "metadata": {},
   "source": [
    "Display the results. We want to recreate Table V from the paper."
   ]
  },
  {
   "cell_type": "code",
   "execution_count": 35,
   "metadata": {},
   "outputs": [],
   "source": [
    "models['BOP'] = models['features'].apply(lambda x: 'BondOrientationalParameter' in x)"
   ]
  },
  {
   "cell_type": "code",
   "execution_count": 36,
   "metadata": {
    "collapsed": true
   },
   "outputs": [],
   "source": [
    "models['GRDF'] = models['features'].apply(lambda x: 'GeneralizedRadialDistributionFunction' in x)"
   ]
  },
  {
   "cell_type": "code",
   "execution_count": 37,
   "metadata": {},
   "outputs": [],
   "source": [
    "models['STD'] = models['featurizer'].apply(lambda x: 'std_dev' in x.stats)"
   ]
  },
  {
   "cell_type": "code",
   "execution_count": 38,
   "metadata": {},
   "outputs": [],
   "source": [
    "models.sort_values(['STD', 'covariance', 'BOP', 'GRDF'], inplace=True)"
   ]
  },
  {
   "cell_type": "code",
   "execution_count": 39,
   "metadata": {},
   "outputs": [],
   "source": [
    "models['seko_rmse'] = [278, 302, 264, 293, 273, 277, 238, 278, 236, 301, 286, 307]"
   ]
  },
  {
   "cell_type": "code",
   "execution_count": 40,
   "metadata": {},
   "outputs": [
    {
     "data": {
      "text/html": [
       "<div>\n",
       "<style scoped>\n",
       "    .dataframe tbody tr th:only-of-type {\n",
       "        vertical-align: middle;\n",
       "    }\n",
       "\n",
       "    .dataframe tbody tr th {\n",
       "        vertical-align: top;\n",
       "    }\n",
       "\n",
       "    .dataframe thead th {\n",
       "        text-align: right;\n",
       "    }\n",
       "</style>\n",
       "<table border=\"1\" class=\"dataframe\">\n",
       "  <thead>\n",
       "    <tr style=\"text-align: right;\">\n",
       "      <th></th>\n",
       "      <th>STD</th>\n",
       "      <th>GRDF</th>\n",
       "      <th>BOP</th>\n",
       "      <th>covariance</th>\n",
       "      <th>stats</th>\n",
       "      <th>rmse</th>\n",
       "      <th>rmse_err</th>\n",
       "      <th>seko_rmse</th>\n",
       "    </tr>\n",
       "  </thead>\n",
       "  <tbody>\n",
       "    <tr>\n",
       "      <th>0</th>\n",
       "      <td>False</td>\n",
       "      <td>False</td>\n",
       "      <td>False</td>\n",
       "      <td>False</td>\n",
       "      <td>(mean,)</td>\n",
       "      <td>252.119300</td>\n",
       "      <td>4.177777</td>\n",
       "      <td>278</td>\n",
       "    </tr>\n",
       "    <tr>\n",
       "      <th>3</th>\n",
       "      <td>False</td>\n",
       "      <td>True</td>\n",
       "      <td>False</td>\n",
       "      <td>False</td>\n",
       "      <td>(mean,)</td>\n",
       "      <td>309.130908</td>\n",
       "      <td>4.894824</td>\n",
       "      <td>302</td>\n",
       "    </tr>\n",
       "    <tr>\n",
       "      <th>6</th>\n",
       "      <td>False</td>\n",
       "      <td>False</td>\n",
       "      <td>True</td>\n",
       "      <td>False</td>\n",
       "      <td>(mean,)</td>\n",
       "      <td>269.585122</td>\n",
       "      <td>4.811314</td>\n",
       "      <td>264</td>\n",
       "    </tr>\n",
       "    <tr>\n",
       "      <th>9</th>\n",
       "      <td>False</td>\n",
       "      <td>True</td>\n",
       "      <td>True</td>\n",
       "      <td>False</td>\n",
       "      <td>(mean,)</td>\n",
       "      <td>308.464639</td>\n",
       "      <td>4.854660</td>\n",
       "      <td>293</td>\n",
       "    </tr>\n",
       "    <tr>\n",
       "      <th>2</th>\n",
       "      <td>True</td>\n",
       "      <td>False</td>\n",
       "      <td>False</td>\n",
       "      <td>False</td>\n",
       "      <td>(mean, std_dev)</td>\n",
       "      <td>242.591291</td>\n",
       "      <td>3.520922</td>\n",
       "      <td>273</td>\n",
       "    </tr>\n",
       "    <tr>\n",
       "      <th>5</th>\n",
       "      <td>True</td>\n",
       "      <td>True</td>\n",
       "      <td>False</td>\n",
       "      <td>False</td>\n",
       "      <td>(mean, std_dev)</td>\n",
       "      <td>283.399491</td>\n",
       "      <td>4.903443</td>\n",
       "      <td>277</td>\n",
       "    </tr>\n",
       "    <tr>\n",
       "      <th>8</th>\n",
       "      <td>True</td>\n",
       "      <td>False</td>\n",
       "      <td>True</td>\n",
       "      <td>False</td>\n",
       "      <td>(mean, std_dev)</td>\n",
       "      <td>254.964272</td>\n",
       "      <td>3.656172</td>\n",
       "      <td>238</td>\n",
       "    </tr>\n",
       "    <tr>\n",
       "      <th>11</th>\n",
       "      <td>True</td>\n",
       "      <td>True</td>\n",
       "      <td>True</td>\n",
       "      <td>False</td>\n",
       "      <td>(mean, std_dev)</td>\n",
       "      <td>281.761222</td>\n",
       "      <td>4.084424</td>\n",
       "      <td>278</td>\n",
       "    </tr>\n",
       "    <tr>\n",
       "      <th>1</th>\n",
       "      <td>True</td>\n",
       "      <td>False</td>\n",
       "      <td>False</td>\n",
       "      <td>True</td>\n",
       "      <td>(mean, std_dev)</td>\n",
       "      <td>232.349966</td>\n",
       "      <td>2.926844</td>\n",
       "      <td>236</td>\n",
       "    </tr>\n",
       "    <tr>\n",
       "      <th>4</th>\n",
       "      <td>True</td>\n",
       "      <td>True</td>\n",
       "      <td>False</td>\n",
       "      <td>True</td>\n",
       "      <td>(mean, std_dev)</td>\n",
       "      <td>307.261182</td>\n",
       "      <td>4.537505</td>\n",
       "      <td>301</td>\n",
       "    </tr>\n",
       "    <tr>\n",
       "      <th>7</th>\n",
       "      <td>True</td>\n",
       "      <td>False</td>\n",
       "      <td>True</td>\n",
       "      <td>True</td>\n",
       "      <td>(mean, std_dev)</td>\n",
       "      <td>272.143999</td>\n",
       "      <td>6.478518</td>\n",
       "      <td>286</td>\n",
       "    </tr>\n",
       "    <tr>\n",
       "      <th>10</th>\n",
       "      <td>True</td>\n",
       "      <td>True</td>\n",
       "      <td>True</td>\n",
       "      <td>True</td>\n",
       "      <td>(mean, std_dev)</td>\n",
       "      <td>321.371319</td>\n",
       "      <td>6.678898</td>\n",
       "      <td>307</td>\n",
       "    </tr>\n",
       "  </tbody>\n",
       "</table>\n",
       "</div>"
      ],
      "text/plain": [
       "      STD   GRDF    BOP  covariance            stats        rmse  rmse_err  \\\n",
       "0   False  False  False       False          (mean,)  252.119300  4.177777   \n",
       "3   False   True  False       False          (mean,)  309.130908  4.894824   \n",
       "6   False  False   True       False          (mean,)  269.585122  4.811314   \n",
       "9   False   True   True       False          (mean,)  308.464639  4.854660   \n",
       "2    True  False  False       False  (mean, std_dev)  242.591291  3.520922   \n",
       "5    True   True  False       False  (mean, std_dev)  283.399491  4.903443   \n",
       "8    True  False   True       False  (mean, std_dev)  254.964272  3.656172   \n",
       "11   True   True   True       False  (mean, std_dev)  281.761222  4.084424   \n",
       "1    True  False  False        True  (mean, std_dev)  232.349966  2.926844   \n",
       "4    True   True  False        True  (mean, std_dev)  307.261182  4.537505   \n",
       "7    True  False   True        True  (mean, std_dev)  272.143999  6.478518   \n",
       "10   True   True   True        True  (mean, std_dev)  321.371319  6.678898   \n",
       "\n",
       "    seko_rmse  \n",
       "0         278  \n",
       "3         302  \n",
       "6         264  \n",
       "9         293  \n",
       "2         273  \n",
       "5         277  \n",
       "8         238  \n",
       "11        278  \n",
       "1         236  \n",
       "4         301  \n",
       "7         286  \n",
       "10        307  "
      ]
     },
     "execution_count": 40,
     "metadata": {},
     "output_type": "execute_result"
    }
   ],
   "source": [
    "models[['STD', 'GRDF', 'BOP', 'covariance', 'stats', 'rmse', 'rmse_err', 'seko_rmse']]"
   ]
  },
  {
   "cell_type": "markdown",
   "metadata": {},
   "source": [
    "Plot our results vs Seko's "
   ]
  },
  {
   "cell_type": "code",
   "execution_count": 41,
   "metadata": {},
   "outputs": [
    {
     "data": {
      "image/png": "[encoded data removed]",
      "text/plain": [
       "<Figure size 216x216 with 1 Axes>"
      ]
     },
     "metadata": {},
     "output_type": "display_data"
    }
   ],
   "source": [
    "fig, ax = plt.subplots()\n",
    "\n",
    "ax.errorbar(models['rmse'], models['seko_rmse'], fmt='o', xerr=models['rmse_err'])\n",
    "\n",
    "ax.set_xlim(ax.get_xlim())\n",
    "ax.set_ylim(ax.get_ylim())\n",
    "\n",
    "ax.plot(ax.get_xlim(), ax.get_xlim(), 'k--')\n",
    "\n",
    "ax.set_xlabel('RMSE (K)')\n",
    "ax.set_ylabel('RMSE, Seko et al. (K)')\n",
    "\n",
    "fig.set_size_inches(3, 3)"
   ]
  },
  {
   "cell_type": "markdown",
   "metadata": {},
   "source": [
    "*Finding*: If our results perfectly agreed with Seko's, all the blue dots would be on the black dashed line. The points, generally, are close to the this line. So, we conclude our models are a good representation of the Seko results."
   ]
  },
  {
   "cell_type": "markdown",
   "metadata": {},
   "source": [
    "Find the best models"
   ]
  },
  {
   "cell_type": "code",
   "execution_count": 42,
   "metadata": {},
   "outputs": [],
   "source": [
    "models['seko_rank'] = stats.rankdata(models['seko_rmse'])"
   ]
  },
  {
   "cell_type": "code",
   "execution_count": 43,
   "metadata": {},
   "outputs": [],
   "source": [
    "models['rank'] = stats.rankdata(models['rmse'])"
   ]
  },
  {
   "cell_type": "code",
   "execution_count": 44,
   "metadata": {},
   "outputs": [
    {
     "data": {
      "text/html": [
       "<div>\n",
       "<style scoped>\n",
       "    .dataframe tbody tr th:only-of-type {\n",
       "        vertical-align: middle;\n",
       "    }\n",
       "\n",
       "    .dataframe tbody tr th {\n",
       "        vertical-align: top;\n",
       "    }\n",
       "\n",
       "    .dataframe thead th {\n",
       "        text-align: right;\n",
       "    }\n",
       "</style>\n",
       "<table border=\"1\" class=\"dataframe\">\n",
       "  <thead>\n",
       "    <tr style=\"text-align: right;\">\n",
       "      <th></th>\n",
       "      <th>covariance</th>\n",
       "      <th>featurizer</th>\n",
       "      <th>stats</th>\n",
       "      <th>features</th>\n",
       "      <th>n_features</th>\n",
       "      <th>rmse</th>\n",
       "      <th>rmse_err</th>\n",
       "      <th>BOP</th>\n",
       "      <th>GRDF</th>\n",
       "      <th>STD</th>\n",
       "      <th>seko_rmse</th>\n",
       "      <th>seko_rank</th>\n",
       "      <th>rank</th>\n",
       "    </tr>\n",
       "  </thead>\n",
       "  <tbody>\n",
       "    <tr>\n",
       "      <th>1</th>\n",
       "      <td>True</td>\n",
       "      <td>SiteStatsFingerprint(covariance=True, max_oxi=...</td>\n",
       "      <td>(mean, std_dev)</td>\n",
       "      <td>[SiteElementalProperty]</td>\n",
       "      <td>275</td>\n",
       "      <td>232.349966</td>\n",
       "      <td>2.926844</td>\n",
       "      <td>False</td>\n",
       "      <td>False</td>\n",
       "      <td>True</td>\n",
       "      <td>236</td>\n",
       "      <td>1.0</td>\n",
       "      <td>1.0</td>\n",
       "    </tr>\n",
       "    <tr>\n",
       "      <th>2</th>\n",
       "      <td>False</td>\n",
       "      <td>SiteStatsFingerprint(covariance=False, max_oxi...</td>\n",
       "      <td>(mean, std_dev)</td>\n",
       "      <td>[SiteElementalProperty]</td>\n",
       "      <td>44</td>\n",
       "      <td>242.591291</td>\n",
       "      <td>3.520922</td>\n",
       "      <td>False</td>\n",
       "      <td>False</td>\n",
       "      <td>True</td>\n",
       "      <td>273</td>\n",
       "      <td>4.0</td>\n",
       "      <td>2.0</td>\n",
       "    </tr>\n",
       "    <tr>\n",
       "      <th>0</th>\n",
       "      <td>False</td>\n",
       "      <td>SiteStatsFingerprint(covariance=False, max_oxi...</td>\n",
       "      <td>(mean,)</td>\n",
       "      <td>[SiteElementalProperty]</td>\n",
       "      <td>22</td>\n",
       "      <td>252.119300</td>\n",
       "      <td>4.177777</td>\n",
       "      <td>False</td>\n",
       "      <td>False</td>\n",
       "      <td>False</td>\n",
       "      <td>278</td>\n",
       "      <td>6.5</td>\n",
       "      <td>3.0</td>\n",
       "    </tr>\n",
       "    <tr>\n",
       "      <th>8</th>\n",
       "      <td>False</td>\n",
       "      <td>SiteStatsFingerprint(covariance=False, max_oxi...</td>\n",
       "      <td>(mean, std_dev)</td>\n",
       "      <td>[SiteElementalProperty, BondOrientationalParam...</td>\n",
       "      <td>84</td>\n",
       "      <td>254.964272</td>\n",
       "      <td>3.656172</td>\n",
       "      <td>True</td>\n",
       "      <td>False</td>\n",
       "      <td>True</td>\n",
       "      <td>238</td>\n",
       "      <td>2.0</td>\n",
       "      <td>4.0</td>\n",
       "    </tr>\n",
       "  </tbody>\n",
       "</table>\n",
       "</div>"
      ],
      "text/plain": [
       "   covariance                                         featurizer  \\\n",
       "1        True  SiteStatsFingerprint(covariance=True, max_oxi=...   \n",
       "2       False  SiteStatsFingerprint(covariance=False, max_oxi...   \n",
       "0       False  SiteStatsFingerprint(covariance=False, max_oxi...   \n",
       "8       False  SiteStatsFingerprint(covariance=False, max_oxi...   \n",
       "\n",
       "             stats                                           features  \\\n",
       "1  (mean, std_dev)                            [SiteElementalProperty]   \n",
       "2  (mean, std_dev)                            [SiteElementalProperty]   \n",
       "0          (mean,)                            [SiteElementalProperty]   \n",
       "8  (mean, std_dev)  [SiteElementalProperty, BondOrientationalParam...   \n",
       "\n",
       "   n_features        rmse  rmse_err    BOP   GRDF    STD  seko_rmse  \\\n",
       "1         275  232.349966  2.926844  False  False   True        236   \n",
       "2          44  242.591291  3.520922  False  False   True        273   \n",
       "0          22  252.119300  4.177777  False  False  False        278   \n",
       "8          84  254.964272  3.656172   True  False   True        238   \n",
       "\n",
       "   seko_rank  rank  \n",
       "1        1.0   1.0  \n",
       "2        4.0   2.0  \n",
       "0        6.5   3.0  \n",
       "8        2.0   4.0  "
      ]
     },
     "execution_count": 44,
     "metadata": {},
     "output_type": "execute_result"
    }
   ],
   "source": [
    "models.sort_values('rmse', ascending=True).head(4)"
   ]
  },
  {
   "cell_type": "markdown",
   "metadata": {},
   "source": [
    "*Finding*: Our best model agrees with that of Seko, though we do disagree for the second-best model. We do at least capture the correct order between the 3 \"structure invariant\" models"
   ]
  },
  {
   "cell_type": "markdown",
   "metadata": {},
   "source": [
    "Save the data for later use"
   ]
  },
  {
   "cell_type": "code",
   "execution_count": 45,
   "metadata": {},
   "outputs": [],
   "source": [
    "models.to_pickle('models.pkl')"
   ]
  },
  {
   "cell_type": "code",
   "execution_count": null,
   "metadata": {},
   "outputs": [],
   "source": []
  }
 ],
 "metadata": {
  "kernelspec": {
   "display_name": "Python 3",
   "language": "python",
   "name": "python3"
  },
  "language_info": {
   "codemirror_mode": {
    "name": "ipython",
    "version": 3
   },
   "file_extension": ".py",
   "mimetype": "text/x-python",
   "name": "python",
   "nbconvert_exporter": "python",
   "pygments_lexer": "ipython3",
   "version": "3.6.5"
  }
 },
 "nbformat": 4,
 "nbformat_minor": 2
}
