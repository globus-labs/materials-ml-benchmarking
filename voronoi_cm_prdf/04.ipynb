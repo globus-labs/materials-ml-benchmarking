{
 "cells": [
  {
   "cell_type": "markdown",
   "metadata": {},
   "source": [
    "# Benchmarking more featurizations and ML methods in predicting formation enthalpies of compounds on OQMD dataset \n",
    "\n",
    "In this notebook, we'll compare performance of both featurizations and ML algorithms in [Ward (2016)](https://www.nature.com/articles/npjcompumats201628), [Ward (2017)](https://journals.aps.org/prb/abstract/10.1103/PhysRevB.96.024104), [Deml (2016)](https://journals.aps.org/prb/abstract/10.1103/PhysRevB.93.085142), [Faber (2016)](https://arxiv.org/abs/1503.07406) and [Schutt (2014)](https://journals.aps.org/prb/abstract/10.1103/PhysRevB.89.205118) in predicting formation enthalpies of compounds, $\\Delta H_f$.\n",
    "\n",
    "Note: Run `01.ipynb`, `featurize_ward2016_dataset.ipynb` and `featurize_deml_dataset.ipynb` before this notebook!!"
   ]
  },
  {
   "cell_type": "code",
   "execution_count": 1,
   "metadata": {},
   "outputs": [],
   "source": [
    "import os\n",
    "import numpy as np\n",
    "import pandas as pd\n",
    "import pymatgen as pmg\n",
    "import matplotlib.pyplot as plt\n",
    "import pickle\n",
    "import time\n",
    "\n",
    "from matminer.featurizers.structure import SineCoulombMatrix\n",
    "from matminer.featurizers.base import MultipleFeaturizer\n",
    "from matminer.featurizers import composition as cf\n",
    "from matminer.utils.conversions import str_to_composition\n",
    "\n",
    "from sklearn.kernel_ridge import KernelRidge\n",
    "from sklearn.model_selection import GridSearchCV, KFold, train_test_split, cross_val_predict\n",
    "from sklearn import metrics\n",
    "from sklearn.ensemble import RandomForestRegressor\n",
    "from sklearn.pipeline import Pipeline\n",
    "from sklearn.preprocessing import Imputer\n",
    "from sklearn.linear_model import Lars"
   ]
  },
  {
   "cell_type": "markdown",
   "metadata": {},
   "source": [
    "Import OQMD_ICSD data"
   ]
  },
  {
   "cell_type": "code",
   "execution_count": 3,
   "metadata": {},
   "outputs": [],
   "source": [
    "cv_test_deml = pickle.load(open('./04_data/cv_test_deml.pkl', 'rb'))\n",
    "cv_test_faber = pickle.load(open('./04_data/cv_test_faber.pkl', 'rb'))\n",
    "cv_test_schutt = pickle.load(open('./04_data/cv_test_schutt.pkl', 'rb'))\n",
    "cv_test_ward2016 = pickle.load(open('./04_data/cv_test_ward2016.pkl', 'rb'))\n",
    "cv_test_ward2017 = pickle.load(open('./04_data/cv_test_ward2017.pkl', 'rb'))\n",
    "\n",
    "y_test_deml = pickle.load(open('./04_data/y_test_deml.pkl', 'rb'))\n",
    "y_test_faber = pickle.load(open('./04_data/y_test_faber.pkl', 'rb'))\n",
    "y_test_schutt = pickle.load(open('./04_data/y_test_schutt.pkl', 'rb'))\n",
    "y_test_ward2016 = pickle.load(open('./04_data/y_test_ward2016.pkl', 'rb'))\n",
    "y_test_ward2017 = pickle.load(open('./04_data/y_test_ward2017.pkl', 'rb'))\n",
    "\n",
    "cv_test = {'deml': cv_test_deml,\n",
    "           'faber': cv_test_faber, \n",
    "           'schutt': cv_test_schutt, \n",
    "           'ward2016': cv_test_ward2016, \n",
    "           'ward2017': cv_test_ward2017}\n",
    "y_test = {'deml': y_test_deml,\n",
    "            'faber': y_test_faber, \n",
    "            'schutt': y_test_schutt, \n",
    "            'ward2016': y_test_ward2016, \n",
    "            'ward2017': y_test_ward2017}"
   ]
  },
  {
   "cell_type": "code",
   "execution_count": null,
   "metadata": {},
   "outputs": [],
   "source": [
    "y = pd.read_pickle('./y.pkl')"
   ]
  },
  {
   "cell_type": "code",
   "execution_count": null,
   "metadata": {},
   "outputs": [],
   "source": [
    "print (\"Length of data: \", y.shape)"
   ]
  },
  {
   "cell_type": "markdown",
   "metadata": {},
   "source": [
    "Initialize dictionary to store cv prediction data"
   ]
  },
  {
   "cell_type": "code",
   "execution_count": 2,
   "metadata": {},
   "outputs": [],
   "source": [
    "kernels = ['ward2016', 'ward2017', 'deml', 'faber', 'schutt']\n",
    "cv_test = dict.fromkeys(kernels)\n",
    "x_train, x_test, y_train, y_test = dict.fromkeys(kernels), dict.fromkeys(kernels), dict.fromkeys(kernels), dict.fromkeys(kernels)"
   ]
  },
  {
   "cell_type": "markdown",
   "metadata": {},
   "source": [
    "## 1) Faber et al (2016)\n",
    "Kernel Ridge Regression (KRR) on Sine Coulomb Matrix (SCM) featurization. Since we already have the Coulomb matrix featurized file saved in `01.ipynb`, we can directly load it here."
   ]
  },
  {
   "cell_type": "code",
   "execution_count": null,
   "metadata": {},
   "outputs": [],
   "source": [
    "%%time\n",
    "X_faber = pickle.load(open(\"./X_cm.pkl\", \"rb\"))"
   ]
  },
  {
   "cell_type": "markdown",
   "metadata": {},
   "source": [
    "Partition into training and testing set (80% training and 20% testing)"
   ]
  },
  {
   "cell_type": "code",
   "execution_count": null,
   "metadata": {},
   "outputs": [],
   "source": [
    "x_train['faber'], x_test['faber'], y_train['faber'], y_test['faber'] = train_test_split(X_faber, y, test_size=0.2, shuffle=True)"
   ]
  },
  {
   "cell_type": "markdown",
   "metadata": {},
   "source": [
    "#### Build ML model (Kernel Ridge Regression)"
   ]
  },
  {
   "cell_type": "code",
   "execution_count": null,
   "metadata": {},
   "outputs": [],
   "source": [
    "krr = KernelRidge()\n",
    "params = {}\n",
    "params['scm'] = [{'kernel' : ['rbf'], 'alpha' : [10**(-a) for a in range(2,6)],\n",
    "    'gamma': [1/2.0/s/s for s in (20000,40000,80000,160000,320000)]},\n",
    "    {'kernel' : ['laplacian'], 'alpha' : [10**(-a) for a in range(2,6)],\n",
    "    'gamma' : [1.0/s for s in (20000,40000,80000,160000,320000)]}]"
   ]
  },
  {
   "cell_type": "code",
   "execution_count": null,
   "metadata": {},
   "outputs": [],
   "source": [
    "hpsel = GridSearchCV(krr, params['scm'], cv=KFold(5), refit=True)"
   ]
  },
  {
   "cell_type": "markdown",
   "metadata": {},
   "source": [
    "Train KRR model using training set data"
   ]
  },
  {
   "cell_type": "code",
   "execution_count": null,
   "metadata": {},
   "outputs": [],
   "source": [
    "import warnings\n",
    "with warnings.catch_warnings():\n",
    "    warnings.simplefilter(\"ignore\")\n",
    "    hpsel.fit(x_train['faber'], y_train['faber'])"
   ]
  },
  {
   "cell_type": "markdown",
   "metadata": {},
   "source": [
    "Assign best hyperparameters to model"
   ]
  },
  {
   "cell_type": "code",
   "execution_count": null,
   "metadata": {},
   "outputs": [],
   "source": [
    "faber = hpsel.best_estimator_"
   ]
  },
  {
   "cell_type": "markdown",
   "metadata": {},
   "source": [
    "Prediction data"
   ]
  },
  {
   "cell_type": "code",
   "execution_count": null,
   "metadata": {},
   "outputs": [],
   "source": [
    "import warnings\n",
    "with warnings.catch_warnings():\n",
    "    warnings.simplefilter(\"ignore\")\n",
    "    cv_test['faber'] = cross_val_predict(faber, x_test['faber'], y_test['faber'], cv=KFold(n_splits=5))"
   ]
  },
  {
   "cell_type": "markdown",
   "metadata": {},
   "source": [
    "## 2) Ward et al (2016)  \n",
    "RandomForestRegressor on \"general purpose\" attributes  "
   ]
  },
  {
   "cell_type": "code",
   "execution_count": null,
   "metadata": {},
   "outputs": [],
   "source": [
    "df_ward2016 = pd.read_pickle(\"./ward2016_featurized_data.pkl\")"
   ]
  },
  {
   "cell_type": "markdown",
   "metadata": {},
   "source": [
    "Splitting dataset into training and testing dataset "
   ]
  },
  {
   "cell_type": "code",
   "execution_count": null,
   "metadata": {},
   "outputs": [],
   "source": [
    "X_ward2016 = df_ward2016.drop(['index', 'band_gap', 'delta_e', 'magnetic_moment', 'path', 'stability',\n",
    "       'structure', 'total_energy', 'volume_pa', 'structure_obj',\n",
    "       'composition', 'is_ICSD', 'composition_obj'], 1)\n",
    "y_ward2016 = df_ward2016['delta_e']"
   ]
  },
  {
   "cell_type": "code",
   "execution_count": null,
   "metadata": {},
   "outputs": [],
   "source": [
    "x_train['ward2016'], x_test['ward2016'], y_train['ward2016'], y_test['ward2016'] = train_test_split(X_ward2016, y_ward2016, test_size=0.2, shuffle=True)"
   ]
  },
  {
   "cell_type": "markdown",
   "metadata": {},
   "source": [
    "#### Build ML model (Random Forest Regressor)"
   ]
  },
  {
   "cell_type": "code",
   "execution_count": null,
   "metadata": {},
   "outputs": [],
   "source": [
    "param = dict(max_features=(np.linspace(0.1, 1, 10)).tolist())\n",
    "ward2016 = GridSearchCV(RandomForestRegressor(n_estimators=100),\n",
    "                        param_grid=param,\n",
    "                        scoring='neg_mean_squared_error',\n",
    "                        cv=KFold(5))"
   ]
  },
  {
   "cell_type": "markdown",
   "metadata": {},
   "source": [
    "Fit using training set"
   ]
  },
  {
   "cell_type": "code",
   "execution_count": null,
   "metadata": {},
   "outputs": [],
   "source": [
    "%%time\n",
    "ward2016 = ward2016.fit(x_train['ward2016'], y_train['ward2016'])"
   ]
  },
  {
   "cell_type": "markdown",
   "metadata": {},
   "source": [
    "Save the best model"
   ]
  },
  {
   "cell_type": "code",
   "execution_count": null,
   "metadata": {},
   "outputs": [],
   "source": [
    "ward2016 = ward2016.best_estimator_"
   ]
  },
  {
   "cell_type": "markdown",
   "metadata": {},
   "source": [
    "Predict testing data using model"
   ]
  },
  {
   "cell_type": "code",
   "execution_count": null,
   "metadata": {},
   "outputs": [],
   "source": [
    "cv_test['ward2016'] = cross_val_predict(ward2016, x_test['ward2016'], y_test['ward2016'], cv=KFold(n_splits=5))"
   ]
  },
  {
   "cell_type": "markdown",
   "metadata": {},
   "source": [
    "## 3) Ward et al (2017)\n",
    "\n",
    "Random Forest Regressor on Voronoi-tessellation-based crystal representation.\n",
    "\n",
    "Since the featurization takes a long time, we import the featurized pickle file ready for processing"
   ]
  },
  {
   "cell_type": "code",
   "execution_count": null,
   "metadata": {},
   "outputs": [],
   "source": [
    "X_ward2017 = pd.read_pickle('./X_ward.pkl')"
   ]
  },
  {
   "cell_type": "markdown",
   "metadata": {},
   "source": [
    "Splitting dataset into training and testing data"
   ]
  },
  {
   "cell_type": "code",
   "execution_count": null,
   "metadata": {},
   "outputs": [],
   "source": [
    "x_train['ward2017'], x_test['ward2017'], y_train['ward2017'], y_test['ward2017'] = train_test_split(X_ward2017, y, test_size=0.2, shuffle=True)"
   ]
  },
  {
   "cell_type": "markdown",
   "metadata": {},
   "source": [
    "#### Build ML model (Random Forest Regressor) "
   ]
  },
  {
   "cell_type": "code",
   "execution_count": null,
   "metadata": {},
   "outputs": [],
   "source": [
    "ward2017 = Pipeline([\n",
    "    ('imputer', Imputer()), # For the failed structures\n",
    "    ('model', RandomForestRegressor(n_estimators=100, n_jobs=-1))\n",
    "])"
   ]
  },
  {
   "cell_type": "code",
   "execution_count": null,
   "metadata": {},
   "outputs": [],
   "source": [
    "%%time \n",
    "ward2017 = ward2017.fit(x_train['ward2017'], y_train['ward2017'])"
   ]
  },
  {
   "cell_type": "code",
   "execution_count": null,
   "metadata": {},
   "outputs": [],
   "source": [
    "cv_test['ward2017'] = cross_val_predict(ward2017, x_test['ward2017'], y_test['ward2017'], cv=KFold(n_splits=5))"
   ]
  },
  {
   "cell_type": "markdown",
   "metadata": {},
   "source": [
    "## 4) Deml et al\n",
    "Stepwise linear regression on composition featurized data. Since featurized data is already saved from running `featurize_deml_dataset.ipynb`, we can load data directly from that. "
   ]
  },
  {
   "cell_type": "code",
   "execution_count": null,
   "metadata": {},
   "outputs": [],
   "source": [
    "df_deml = pd.read_pickle('./deml_featurized_data.pkl')"
   ]
  },
  {
   "cell_type": "markdown",
   "metadata": {},
   "source": [
    "Remove outliers"
   ]
  },
  {
   "cell_type": "code",
   "execution_count": null,
   "metadata": {},
   "outputs": [],
   "source": [
    "original_count = len(df_deml)\n",
    "df_deml = df_deml[np.logical_and(df_deml['delta_e'] >= -20, df_deml['delta_e'] <= 5)].reset_index(drop=True)\n",
    "print('Removed %d/%d entries'%(original_count - len(df_deml), original_count))"
   ]
  },
  {
   "cell_type": "markdown",
   "metadata": {},
   "source": [
    "Fill NaN with zero values"
   ]
  },
  {
   "cell_type": "code",
   "execution_count": null,
   "metadata": {},
   "outputs": [],
   "source": [
    "df_deml.fillna(value=0, inplace=True)"
   ]
  },
  {
   "cell_type": "code",
   "execution_count": null,
   "metadata": {},
   "outputs": [],
   "source": [
    "X_deml = df_deml.drop(['oxidation_states', 'total_energy', 'delta_e', 'composition', 'composition_obj'], 1)\n",
    "y_deml = df_deml['delta_e']"
   ]
  },
  {
   "cell_type": "markdown",
   "metadata": {},
   "source": [
    "Partition data into training and testing set"
   ]
  },
  {
   "cell_type": "code",
   "execution_count": null,
   "metadata": {},
   "outputs": [],
   "source": [
    "x_train['deml'], x_test['deml'], y_train['deml'], y_test['deml'] = train_test_split(X_deml, y_deml, test_size=0.2, shuffle=Tru"
   ]
  },
  {
   "cell_type": "markdown",
   "metadata": {},
   "source": [
    "#### Build ML model (Stepwise Linear Regression)"
   ]
  },
  {
   "cell_type": "code",
   "execution_count": null,
   "metadata": {},
   "outputs": [],
   "source": [
    "deml = GridSearchCV(Lars(), \n",
    "                    param_grid=dict(n_nonzero_coefs=(range(10, X_deml.shape[1], 20).tolist())),\n",
    "                    cv=KFold(5))"
   ]
  },
  {
   "cell_type": "code",
   "execution_count": null,
   "metadata": {},
   "outputs": [],
   "source": [
    "deml = deml.fit(x_train['deml'], y_train['deml'])"
   ]
  },
  {
   "cell_type": "markdown",
   "metadata": {},
   "source": [
    "Save the best model"
   ]
  },
  {
   "cell_type": "code",
   "execution_count": null,
   "metadata": {},
   "outputs": [],
   "source": [
    "deml = deml.best_estimator_"
   ]
  },
  {
   "cell_type": "markdown",
   "metadata": {},
   "source": [
    "Predict testing data"
   ]
  },
  {
   "cell_type": "code",
   "execution_count": null,
   "metadata": {},
   "outputs": [],
   "source": [
    "cv_test['deml'] = cross_val_predict(deml, x_test['deml'], y_test['deml'], cv=KFold(5))"
   ]
  },
  {
   "cell_type": "markdown",
   "metadata": {},
   "source": [
    "## 5) Schutt et al\n",
    "Kernel Ridge Regression on Partial Radial Distribution Function (PRDF) representation."
   ]
  },
  {
   "cell_type": "code",
   "execution_count": null,
   "metadata": {},
   "outputs": [],
   "source": [
    "X_schutt = pd.read_pickle(\"./X_prdf.pkl\")"
   ]
  },
  {
   "cell_type": "markdown",
   "metadata": {},
   "source": [
    "Partition data into training and testing set"
   ]
  },
  {
   "cell_type": "code",
   "execution_count": null,
   "metadata": {},
   "outputs": [],
   "source": [
    "x_train['schutt'], x_test['schutt'], y_train['schutt'], y_test['schutt'] = train_test_split(X_schutt, y, test_size=0.2, shuffle=Tru"
   ]
  },
  {
   "cell_type": "markdown",
   "metadata": {},
   "source": [
    "#### Build ML model (Kernel Ridge Regression)"
   ]
  },
  {
   "cell_type": "code",
   "execution_count": null,
   "metadata": {},
   "outputs": [],
   "source": [
    "schutt = KernelRidge(kernel='laplacian', alpha=0.001, gamma=5e-5)"
   ]
  },
  {
   "cell_type": "code",
   "execution_count": null,
   "metadata": {},
   "outputs": [],
   "source": [
    "schutt = schutt.fit(x_train['schutt'], y_train['schutt'])"
   ]
  },
  {
   "cell_type": "markdown",
   "metadata": {},
   "source": [
    "Predict testing data"
   ]
  },
  {
   "cell_type": "code",
   "execution_count": null,
   "metadata": {},
   "outputs": [],
   "source": [
    "cv_test['schutt'] = cross_val_predict(schutt, x_test['schutt'], y_test['schutt'], cv=KFold(5))"
   ]
  },
  {
   "cell_type": "markdown",
   "metadata": {},
   "source": [
    "## Now we compare these three models "
   ]
  },
  {
   "cell_type": "code",
   "execution_count": 4,
   "metadata": {},
   "outputs": [],
   "source": [
    "stats = dict.fromkeys(kernels)\n",
    "for kernel in stats:\n",
    "    stats[kernel] = dict.fromkeys(['r2_score', 'mean_absolute_error', 'mean_squared_error'], 0.0)"
   ]
  },
  {
   "cell_type": "code",
   "execution_count": 5,
   "metadata": {},
   "outputs": [],
   "source": [
    "for kernel in kernels:\n",
    "    for scorer in ['r2_score', 'mean_absolute_error', 'mean_squared_error']:\n",
    "        stats[kernel][scorer] = (getattr(metrics,scorer)(y_test[kernel], cv_test[kernel]))"
   ]
  },
  {
   "cell_type": "markdown",
   "metadata": {},
   "source": [
    "Plot predictions"
   ]
  },
  {
   "cell_type": "code",
   "execution_count": 6,
   "metadata": {},
   "outputs": [
    {
     "data": {
      "image/png": "[encoded data removed]",
      "text/plain": [
       "<matplotlib.figure.Figure at 0x1162954a8>"
      ]
     },
     "metadata": {},
     "output_type": "display_data"
    }
   ],
   "source": [
    "fig, ax = plt.subplots(2, 3, sharey=True, sharex=True)\n",
    "\n",
    "ax[0,0].set_xlim([-5, 2])\n",
    "ax[0,0].set_ylim([-5, 2])\n",
    "\n",
    "ax[0,0].set_ylabel(\"Predicted $\\Delta H_{f, atom}$ (eV/atom)\", fontsize=14, y=0.0)\n",
    "ax[1,1].set_xlabel(\"Calculated $\\Delta H_{f, atom}$ (eV/atom)\", fontsize=14)\n",
    "\n",
    "ax[0,0].set_title(\"Faber2015\")\n",
    "ax[0,1].set_title(\"Deml2016\")\n",
    "ax[0,2].set_title(\"Schutt2014\")\n",
    "ax[1,0].set_title(\"Ward2016\")\n",
    "ax[1,1].set_title(\"Ward2017\")\n",
    "\n",
    "ax[0,0].scatter(y_test['faber'], cv_test['faber'], marker='.', color='r')\n",
    "ax[0,1].scatter(y_test['deml'], cv_test['deml'], marker='.', color='g')\n",
    "ax[0,2].scatter(y_test['schutt'], cv_test['schutt'], marker='.', color='b')\n",
    "ax[1,0].scatter(y_test['ward2016'], cv_test['ward2016'], marker='.', color='orange')\n",
    "ax[1,1].scatter(y_test['ward2017'], cv_test['ward2017'], marker='.', color='purple')\n",
    "\n",
    "for i in range(2):\n",
    "    for j in range(3):\n",
    "        if (i==1 and j==2):\n",
    "            pass\n",
    "        else:\n",
    "            ax[i,j].plot(ax[i,j].get_xlim(), ax[i,j].get_xlim(), 'k--')\n",
    "\n",
    "ax[0,0].text(0.45, 0.03, 'MAE: {:.3f} eV/atom\\nRMSE: {:.3f} eV/atom\\n R2: {:.3f}'.format(stats['faber']['mean_absolute_error'], np.sqrt(stats['faber']['mean_squared_error']), stats['faber']['r2_score']),\n",
    "        transform=ax[0,0].transAxes, fontsize=10,\n",
    "        bbox={'facecolor': 'w', 'edgecolor': 'k'})\n",
    "ax[0,1].text(0.45, 0.03, 'MAE: {:.3f} eV/atom\\nRMSE: {:.3f} eV/atom\\n R2: {:.3f}'.format(stats['deml']['mean_absolute_error'], np.sqrt(stats['deml']['mean_squared_error']), stats['deml']['r2_score']),\n",
    "        transform=ax[0,1].transAxes, fontsize=10,\n",
    "        bbox={'facecolor': 'w', 'edgecolor': 'k'})\n",
    "ax[0,2].text(0.45, 0.03, 'MAE: {:.3f} eV/atom\\nRMSE: {:.3f} eV/atom\\n R2: {:.3f}'.format(stats['schutt']['mean_absolute_error'], np.sqrt(stats['schutt']['mean_squared_error']), stats['schutt']['r2_score']),\n",
    "        transform=ax[0,2].transAxes, fontsize=10,\n",
    "        bbox={'facecolor': 'w', 'edgecolor': 'k'})\n",
    "ax[1,0].text(0.45, 0.03, 'MAE: {:.3f} eV/atom\\nRMSE: {:.3f} eV/atom\\n R2: {:.3f}'.format(stats['ward2016']['mean_absolute_error'], np.sqrt(stats['ward2016']['mean_squared_error']), stats['ward2016']['r2_score']),\n",
    "        transform=ax[1,0].transAxes, fontsize=10,\n",
    "        bbox={'facecolor': 'w', 'edgecolor': 'k'})\n",
    "ax[1,1].text(0.45, 0.03, 'MAE: {:.3f} eV/atom\\nRMSE: {:.3f} eV/atom\\n R2: {:.3f}'.format(stats['ward2017']['mean_absolute_error'], np.sqrt(stats['ward2017']['mean_squared_error']), stats['ward2017']['r2_score']),\n",
    "        transform=ax[1,1].transAxes, fontsize=10,\n",
    "        bbox={'facecolor': 'w', 'edgecolor': 'k'})\n",
    "\n",
    "fig.set_size_inches((12, 7))\n",
    "fig.subplots_adjust(wspace=0.05)"
   ]
  },
  {
   "cell_type": "code",
   "execution_count": null,
   "metadata": {},
   "outputs": [],
   "source": []
  }
 ],
 "metadata": {
  "kernelspec": {
   "display_name": "Python 3",
   "language": "python",
   "name": "python3"
  },
  "language_info": {
   "codemirror_mode": {
    "name": "ipython",
    "version": 3
   },
   "file_extension": ".py",
   "mimetype": "text/x-python",
   "name": "python",
   "nbconvert_exporter": "python",
   "pygments_lexer": "ipython3",
   "version": "3.6.4"
  }
 },
 "nbformat": 4,
 "nbformat_minor": 2
}
